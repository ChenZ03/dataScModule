{
 "cells": [
  {
   "cell_type": "markdown",
   "metadata": {
    "scrolled": true
   },
   "source": [
    "## Sets\n",
    "\n",
    "Python comes with an implementation of the mathematical set. Initially this implementation had to be imported from the standard module set, but with Python 2.6 the types set and frozenset became built-in types. A set is an unordered collection of objects, unlike sequence objects such as lists and tuples, in which each element is indexed. Sets cannot have duplicate members - a given object appears in a set 0 or 1 times. All members of a set have to be hashable, just like dictionary keys. Integers, floating point numbers, tuples, and strings are hashable; dictionaries, lists, and other sets (except frozensets) are not."
   ]
  },
  {
   "cell_type": "markdown",
   "metadata": {},
   "source": [
    "Sets in Python at a glance:"
   ]
  },
  {
   "cell_type": "code",
   "execution_count": 1,
   "metadata": {},
   "outputs": [
    {
     "name": "stdout",
     "output_type": "stream",
     "text": [
      "{'dog', 'doe', 'horse', 'mouse'}\n"
     ]
    }
   ],
   "source": [
    "set1 = set()                   # A new empty set\n",
    "set1.add(\"cat\")                # Add a single member\n",
    "set1.update([\"dog\", \"mouse\"])  # Add several members, like list's extend\n",
    "set1 |= set([\"doe\", \"horse\"])  # Add several members 2, like list's extend\n",
    "if \"cat\" in set1:              # Membership test\n",
    "    set1.remove(\"cat\")\n",
    "#set1.remove(\"elephant\") - throws an error\n",
    "set1.discard(\"elephant\")       # No error thrown\n",
    "print (set1)"
   ]
  },
  {
   "cell_type": "markdown",
   "metadata": {},
   "source": [
    "## Hints\n",
    "\n",
    "|= performs an in-place+ operation between pairs of objects. In particular, between:\n",
    "\n",
    "sets: a union operation\n",
    "dicts: an update operation\n",
    "counters: a union (of multisets) operation\n",
    "numbers: a bitwise OR, binary operation\n",
    "\n",
    "Reference: https://stackoverflow.com/questions/3929278/what-does-ior-do-in-python\n",
    "\n",
    "## Sets\n",
    "\n",
    "Reference: https://medium.com/better-programming/mathematical-set-operations-in-python-e065aac07413#:~:text=Python's%20set%20is%20an%20unordered,don't%20support%20set%20operations."
   ]
  },
  {
   "cell_type": "code",
   "execution_count": 2,
   "metadata": {},
   "outputs": [
    {
     "name": "stdout",
     "output_type": "stream",
     "text": [
      "dog\n",
      "doe\n",
      "horse\n",
      "mouse\n",
      "Item count: 4\n",
      "dog\n",
      "{'dog', 'cat'} {'dog', 'mouse'} {'dog'} {'dog', 'cat', 'mouse'} {'cat'} {'cat', 'mouse'} set() set() {1, 3, 5, 7, 9} True True\n"
     ]
    }
   ],
   "source": [
    "for item in set1:              # Iteration AKA for each element\n",
    "    print (item)\n",
    "print (\"Item count:\", len(set1)) # Length AKA size AKA item count\n",
    "#1stitem = set1[0]             # Error: no indexing for sets\n",
    "isempty = len(set1) == 0       # Test for emptiness\n",
    "set1 = {\"cat\", \"dog\"}          # Initialize set using braces; since Python 2.7\n",
    "#set1 = {}                     # No way; this is a dict\n",
    "set1 = set([\"cat\", \"dog\"])     # Initialize set from a list\n",
    "set2 = set([\"dog\", \"mouse\"])\n",
    "set3 = set1 & set2             # Intersection\n",
    "set4 = set1 | set2             # Union\n",
    "set5 = set1 - set3             # Set difference\n",
    "set6 = set1 ^ set2             # Symmetric difference\n",
    "issubset = set3 <= set1       # Subset test\n",
    "issuperset = set1 >= set3      # Superset test\n",
    "set7 = set1.copy()             # A shallow copy\n",
    "set7.remove(\"cat\")\n",
    "print (set7.pop())               # Remove an arbitrary element\n",
    "set8 = set1.copy()\n",
    "set8.clear()                   # Clear AKA empty AKA erase\n",
    "set9 = {x for x in range(10) if x % 2} # Set comprehension\n",
    "print(set1, set2, set3, set4, set5, set6, set7, set8, set9, issubset, issuperset)"
   ]
  },
  {
   "cell_type": "markdown",
   "metadata": {},
   "source": [
    "### Constructing Sets\n",
    "One way to construct sets is by passing any sequential object to the \"set\" constructor."
   ]
  },
  {
   "cell_type": "code",
   "execution_count": 3,
   "metadata": {},
   "outputs": [
    {
     "name": "stdout",
     "output_type": "stream",
     "text": [
      "{0, 1, 2, 3}\n",
      "{'e', 'o', 'b', 't', 'u', 's'}\n"
     ]
    }
   ],
   "source": [
    "set10 = set([0, 1, 2, 3])\n",
    "print(set10)\n",
    "\n",
    "set11 = set(\"obtuse\")\n",
    "print(set11)"
   ]
  },
  {
   "cell_type": "markdown",
   "metadata": {},
   "source": [
    "We can also add elements to sets one by one, using the \"add\" function."
   ]
  },
  {
   "cell_type": "code",
   "execution_count": 4,
   "metadata": {},
   "outputs": [
    {
     "data": {
      "text/plain": [
       "{12, 26, 32, 54}"
      ]
     },
     "execution_count": 4,
     "metadata": {},
     "output_type": "execute_result"
    }
   ],
   "source": [
    "s = set([12, 26, 54])\n",
    "s.add(32)\n",
    "s"
   ]
  },
  {
   "cell_type": "markdown",
   "metadata": {},
   "source": [
    "Note that since a set does not contain duplicate elements, if we add one of the members of s to s again, the add function will have no effect. This same behavior occurs in the \"update\" function, which adds a group of elements to a set."
   ]
  },
  {
   "cell_type": "code",
   "execution_count": 5,
   "metadata": {},
   "outputs": [
    {
     "data": {
      "text/plain": [
       "{9, 12, 14, 26, 32, 54}"
      ]
     },
     "execution_count": 5,
     "metadata": {},
     "output_type": "execute_result"
    }
   ],
   "source": [
    "s.update([26, 12, 9, 14])\n",
    "s"
   ]
  },
  {
   "cell_type": "markdown",
   "metadata": {},
   "source": [
    "Note that you can give any type of sequential structure, or even another set, to the update function, regardless of what structure was used to initialize the set.\n",
    "\n",
    "The set function also provides a copy constructor. However, remember that the copy constructor will copy the set, but not the individual elements."
   ]
  },
  {
   "cell_type": "code",
   "execution_count": 6,
   "metadata": {},
   "outputs": [
    {
     "data": {
      "text/plain": [
       "{9, 12, 14, 26, 32, 54}"
      ]
     },
     "execution_count": 6,
     "metadata": {},
     "output_type": "execute_result"
    }
   ],
   "source": [
    "s2 = s.copy()\n",
    "s2"
   ]
  },
  {
   "cell_type": "code",
   "execution_count": 7,
   "metadata": {},
   "outputs": [
    {
     "data": {
      "text/plain": [
       "True"
      ]
     },
     "execution_count": 7,
     "metadata": {},
     "output_type": "execute_result"
    }
   ],
   "source": [
    "s2 == s"
   ]
  },
  {
   "cell_type": "markdown",
   "metadata": {},
   "source": [
    "### Membership Testing\n",
    "We can check if an object is in the set using the same \"in\" operator as with sequential data types."
   ]
  },
  {
   "cell_type": "code",
   "execution_count": 8,
   "metadata": {},
   "outputs": [
    {
     "name": "stdout",
     "output_type": "stream",
     "text": [
      "True\n",
      "False\n"
     ]
    },
    {
     "data": {
      "text/plain": [
       "True"
      ]
     },
     "execution_count": 8,
     "metadata": {},
     "output_type": "execute_result"
    }
   ],
   "source": [
    "print(32 in s)\n",
    "\n",
    "print(6 in s)\n",
    "\n",
    "(6 not in s)\n"
   ]
  },
  {
   "cell_type": "markdown",
   "metadata": {},
   "source": [
    "We can also test the membership of entire sets. Given two sets $S_{1}$ and $S_{2}$, we check if $S_{1}$ is a subset or a superset of $S_{2}$."
   ]
  },
  {
   "cell_type": "code",
   "execution_count": 9,
   "metadata": {},
   "outputs": [
    {
     "name": "stdout",
     "output_type": "stream",
     "text": [
      "True\n",
      "True\n"
     ]
    }
   ],
   "source": [
    "print(s.issubset(set([32, 8, 9, 12, 14, -4, 54, 26, 19])))\n",
    "\n",
    "print(s.issuperset(set([9, 12])))\n"
   ]
  },
  {
   "cell_type": "markdown",
   "metadata": {},
   "source": [
    "Note that \"issubset\" and \"issuperset\" can also accept sequential data types as arguments\n",
    "\n",
    "Reference: https://www.programiz.com/python-programming/methods/set/issuperset\n",
    "\n",
    "Reference: https://www.programiz.com/python-programming/methods/set/issubset"
   ]
  },
  {
   "cell_type": "code",
   "execution_count": 10,
   "metadata": {},
   "outputs": [
    {
     "data": {
      "text/plain": [
       "True"
      ]
     },
     "execution_count": 10,
     "metadata": {},
     "output_type": "execute_result"
    }
   ],
   "source": [
    "(s.issuperset([32, 9]))"
   ]
  },
  {
   "cell_type": "markdown",
   "metadata": {},
   "source": [
    "Note that the <= and >= operators also express the issubset and issuperset functions respectively."
   ]
  },
  {
   "cell_type": "code",
   "execution_count": 11,
   "metadata": {},
   "outputs": [
    {
     "name": "stdout",
     "output_type": "stream",
     "text": [
      "True\n",
      "True\n"
     ]
    }
   ],
   "source": [
    "print(set([4, 5, 7]) <= set([4, 5, 7, 9]))\n",
    "\n",
    "print(set([9, 12, 15]) >= set([9, 12]))"
   ]
  },
  {
   "cell_type": "markdown",
   "metadata": {},
   "source": [
    "Like lists, tuples, and string, we can use the \"len\" function to find the number of items in a set."
   ]
  },
  {
   "cell_type": "markdown",
   "metadata": {},
   "source": [
    "### Removing Items\n",
    "There are three functions which remove individual items from a set, called pop, remove, and discard. The first, pop, simply removes an item from the set. Note that there is no defined behavior as to which element it chooses to remove."
   ]
  },
  {
   "cell_type": "code",
   "execution_count": 12,
   "metadata": {},
   "outputs": [
    {
     "data": {
      "text/plain": [
       "{2, 3, 4, 5, 6}"
      ]
     },
     "execution_count": 12,
     "metadata": {},
     "output_type": "execute_result"
    }
   ],
   "source": [
    "s = set([1,2,3,4,5,6])\n",
    "s.pop()\n",
    "s"
   ]
  },
  {
   "cell_type": "markdown",
   "metadata": {},
   "source": [
    "We also have the \"remove\" function to remove a specified element."
   ]
  },
  {
   "cell_type": "code",
   "execution_count": 13,
   "metadata": {},
   "outputs": [
    {
     "data": {
      "text/plain": [
       "{2, 4, 5, 6}"
      ]
     },
     "execution_count": 13,
     "metadata": {},
     "output_type": "execute_result"
    }
   ],
   "source": [
    "s.remove(3)\n",
    "s"
   ]
  },
  {
   "cell_type": "markdown",
   "metadata": {},
   "source": [
    "However, removing a item which isn't in the set causes an error."
   ]
  },
  {
   "cell_type": "code",
   "execution_count": 14,
   "metadata": {},
   "outputs": [
    {
     "ename": "KeyError",
     "evalue": "9",
     "output_type": "error",
     "traceback": [
      "\u001b[1;31m---------------------------------------------------------------------------\u001b[0m",
      "\u001b[1;31mKeyError\u001b[0m                                  Traceback (most recent call last)",
      "\u001b[1;32m<ipython-input-14-d6996fc5cb16>\u001b[0m in \u001b[0;36m<module>\u001b[1;34m\u001b[0m\n\u001b[1;32m----> 1\u001b[1;33m \u001b[0ms\u001b[0m\u001b[1;33m.\u001b[0m\u001b[0mremove\u001b[0m\u001b[1;33m(\u001b[0m\u001b[1;36m9\u001b[0m\u001b[1;33m)\u001b[0m\u001b[1;33m\u001b[0m\u001b[1;33m\u001b[0m\u001b[0m\n\u001b[0m",
      "\u001b[1;31mKeyError\u001b[0m: 9"
     ]
    }
   ],
   "source": [
    "s.remove(9)"
   ]
  },
  {
   "cell_type": "markdown",
   "metadata": {},
   "source": [
    "If you wish to avoid this error, use \"discard.\" It has the same functionality as remove, but will simply do nothing if the element isn't in the set\n",
    "\n",
    "We also have another operation for removing elements from a set, clear, which simply removes all elements from the set."
   ]
  },
  {
   "cell_type": "code",
   "execution_count": 15,
   "metadata": {},
   "outputs": [
    {
     "data": {
      "text/plain": [
       "set()"
      ]
     },
     "execution_count": 15,
     "metadata": {},
     "output_type": "execute_result"
    }
   ],
   "source": [
    "s.clear()\n",
    "s"
   ]
  },
  {
   "cell_type": "markdown",
   "metadata": {},
   "source": [
    "### Iteration Over Sets\n",
    "We can also have a loop move over each of the items in a set. However, since sets are unordered, it is undefined which order the iteration will follow."
   ]
  },
  {
   "cell_type": "code",
   "execution_count": 21,
   "metadata": {},
   "outputs": [
    {
     "name": "stdout",
     "output_type": "stream",
     "text": [
      "e\n",
      "r\n",
      "b\n",
      "l\n",
      "g\n"
     ]
    }
   ],
   "source": [
    "s = set(\"blerg\")\n",
    "for n in s:\n",
    "    print (n)"
   ]
  },
  {
   "cell_type": "markdown",
   "metadata": {},
   "source": [
    "### Set Operations\n",
    "Python allows us to perform all the standard mathematical set operations, using members of set. Note that each of these set operations has several forms. One of these forms, `s1.function(s2)` will return another set which is created by \"function\" applied to $S_{1}$ and $S_{2}$. The other form, `s1.function_update(s2)`, will change $S_{1}$ to be the set created by \"function\" of $S_{1}$ and $S_{2}$. Finally, some functions have equivalent special operators. For example, $s1$ & $s2$ is equivalent to `s1.intersection(s2)`."
   ]
  },
  {
   "cell_type": "markdown",
   "metadata": {},
   "source": [
    "### Intersection\n",
    "Any element which is in both $S_{1}$ and $S_{2}$ will appear in their intersection."
   ]
  },
  {
   "cell_type": "code",
   "execution_count": 22,
   "metadata": {},
   "outputs": [
    {
     "name": "stdout",
     "output_type": "stream",
     "text": [
      "{6}\n",
      "{6}\n",
      "{6}\n"
     ]
    }
   ],
   "source": [
    "s1 = set([4, 6, 9])\n",
    "s2 = set([1, 6, 8])\n",
    "print(s1.intersection(s2))\n",
    "\n",
    "print(s1 & s2)\n",
    "\n",
    "s1.intersection_update(s2)\n",
    "print(s1)\n"
   ]
  },
  {
   "cell_type": "markdown",
   "metadata": {},
   "source": [
    "Union\n",
    "The union is the merger of two sets. Any element in $S_{1}$ or $S_{2}$ will appear in their union."
   ]
  },
  {
   "cell_type": "code",
   "execution_count": 25,
   "metadata": {},
   "outputs": [
    {
     "name": "stdout",
     "output_type": "stream",
     "text": [
      "{1, 4, 6, 8, 9}\n",
      "{1, 4, 6, 8, 9}\n"
     ]
    }
   ],
   "source": [
    "s1 = set([4, 6, 9])\n",
    "s2 = set([1, 6, 8])\n",
    "print(s1.union(s2))\n",
    "\n",
    "print(s1 | s2)"
   ]
  },
  {
   "cell_type": "markdown",
   "metadata": {},
   "source": [
    "### Symmetric Difference\n",
    "The symmetric difference of two sets is the set of elements which are in one of either set, but not in both."
   ]
  },
  {
   "cell_type": "code",
   "execution_count": 26,
   "metadata": {},
   "outputs": [
    {
     "name": "stdout",
     "output_type": "stream",
     "text": [
      "{1, 4, 8, 9}\n",
      "{1, 4, 8, 9}\n",
      "{1, 4, 8, 9}\n"
     ]
    }
   ],
   "source": [
    "s1 = set([4, 6, 9])\n",
    "s2 = set([1, 6, 8])\n",
    "print(s1.symmetric_difference(s2))\n",
    "\n",
    "set([8, 1, 4, 9])\n",
    "print(s1 ^ s2)\n",
    "\n",
    "set([8, 1, 4, 9])\n",
    "s1.symmetric_difference_update(s2)\n",
    "print(s1)"
   ]
  },
  {
   "cell_type": "markdown",
   "metadata": {},
   "source": [
    "### Set Difference\n",
    "Python can also find the set difference of $S_{1}$ and $S_{2}$, which is the elements that are in $S_{1}$ but not in $S_{2}$."
   ]
  },
  {
   "cell_type": "code",
   "execution_count": 27,
   "metadata": {},
   "outputs": [
    {
     "name": "stdout",
     "output_type": "stream",
     "text": [
      "{9, 4}\n",
      "{9, 4}\n",
      "{9, 4}\n"
     ]
    }
   ],
   "source": [
    "s1 = set([4, 6, 9])\n",
    "s2 = set([1, 6, 8])\n",
    "print(s1.difference(s2))\n",
    "\n",
    "set([9, 4])\n",
    "print (s1 - s2)\n",
    "\n",
    "set([9, 4])\n",
    "s1.difference_update(s2)\n",
    "print(s1)"
   ]
  },
  {
   "cell_type": "markdown",
   "metadata": {},
   "source": [
    "### Multiple sets\n",
    "\"union\", \"intersection\", and \"difference\" can work with multiple input by using the set constructor. For example, using \"set.intersection()\":"
   ]
  },
  {
   "cell_type": "code",
   "execution_count": null,
   "metadata": {},
   "outputs": [],
   "source": [
    "s1 = set([3, 6, 7, 9])\n",
    "s2 = set([6, 7, 9, 10])\n",
    "s3 = set([7, 9, 10, 11])\n",
    "set.intersection(s1, s2, s3)"
   ]
  },
  {
   "cell_type": "markdown",
   "metadata": {},
   "source": [
    "### frozenset\n",
    "A frozenset is basically the same as a set, except that it is immutable - once it is created, its members cannot be changed. Since they are immutable, they are also hashable, which means that frozensets can be used as members in other sets and as dictionary keys. frozensets have the same functions as normal sets, except none of the functions that change the contents (update, remove, pop, etc.) are available."
   ]
  },
  {
   "cell_type": "code",
   "execution_count": 28,
   "metadata": {},
   "outputs": [
    {
     "name": "stdout",
     "output_type": "stream",
     "text": [
      "{frozenset({2, 3, 4}), 4, 5, 6}\n",
      "frozenset({4})\n"
     ]
    },
    {
     "ename": "AttributeError",
     "evalue": "'frozenset' object has no attribute 'add'",
     "output_type": "error",
     "traceback": [
      "\u001b[1;31m---------------------------------------------------------------------------\u001b[0m",
      "\u001b[1;31mAttributeError\u001b[0m                            Traceback (most recent call last)",
      "\u001b[1;32m<ipython-input-28-b3a8064e39bd>\u001b[0m in \u001b[0;36m<module>\u001b[1;34m\u001b[0m\n\u001b[0;32m      6\u001b[0m \u001b[0mprint\u001b[0m\u001b[1;33m(\u001b[0m\u001b[0mfs\u001b[0m\u001b[1;33m.\u001b[0m\u001b[0mintersection\u001b[0m\u001b[1;33m(\u001b[0m\u001b[0ms1\u001b[0m\u001b[1;33m)\u001b[0m\u001b[1;33m)\u001b[0m\u001b[1;33m\u001b[0m\u001b[1;33m\u001b[0m\u001b[0m\n\u001b[0;32m      7\u001b[0m \u001b[1;33m\u001b[0m\u001b[0m\n\u001b[1;32m----> 8\u001b[1;33m \u001b[0mfs\u001b[0m\u001b[1;33m.\u001b[0m\u001b[0madd\u001b[0m\u001b[1;33m(\u001b[0m\u001b[1;36m6\u001b[0m\u001b[1;33m)\u001b[0m\u001b[1;33m\u001b[0m\u001b[1;33m\u001b[0m\u001b[0m\n\u001b[0m",
      "\u001b[1;31mAttributeError\u001b[0m: 'frozenset' object has no attribute 'add'"
     ]
    }
   ],
   "source": [
    "fs = frozenset([2, 3, 4])\n",
    "s1 = set([fs, 4, 5, 6])\n",
    "print(s1)\n",
    "\n",
    "set([4, frozenset([2, 3, 4]), 6, 5])\n",
    "print(fs.intersection(s1))\n",
    "\n",
    "fs.add(6)"
   ]
  },
  {
   "cell_type": "markdown",
   "metadata": {},
   "source": [
    "## Mathematical Operators\n",
    "Here are some commonly used mathematical operators\n",
    "\n",
    "| Syntax |  Math  | Operation Name |\n",
    "|------|------|------|\n",
    "| a+b  | a+b | addition|\n",
    "| a-b  | a-b |subtraction |\n",
    "| a*b\t| a $\\times$ b | multiplication|  \n",
    "| a/b | a $\\div$ b | division |\n",
    "| a//b | \\[ a $\\div$ b \\] | floor division (e.g. 5//2=2) |\n",
    "| a%b | a $mod$ b | modulo|\n",
    "| -a | -a | negation | \t\n",
    "| abs(a) | \\[a\\] | absolute value |\t\n",
    "| `a**b` | $a^{b}$ | exponent |\n",
    "| math.sqrt(a) | $\\sqrt {a}$   | square root |\n",
    "\n",
    "Note:\n",
    "In order to use the math.sqrt() function, you must explicitly tell Python that you want it to load the math module. To do that, write\n",
    "\n",
    "```python\n",
    "import math\n",
    "```\n",
    "\n",
    "at the top of your file. For other functions made available by this statement, see [here](https://docs.python.org/3/library/math.html)."
   ]
  },
  {
   "cell_type": "markdown",
   "metadata": {},
   "source": [
    "### Order of Operations\n",
    "Python uses the standard order of operations as taught in Algebra and Geometry classes at high school or secondary school. That is, mathematical expressions are evaluated in the following order (memorized by many as PEMDAS), which is also applied to parentheticals.\n",
    "\n",
    "(Note that operations which share a table row are performed from left to right. That is, a division to the left of a multiplication, with no parentheses between them, is performed before the multiplication simply because it is to the left.)\n",
    "\n",
    "\n",
    "| Name\t|Syntax|\tDescription|\tPEMDAS Mnemonic|\n",
    "|------|------|------|------|\n",
    "| Parentheses\t| ( ... )\t} |Before operating on anything else, Python must evaluate all parentheticals starting at the innermost level. (This includes functions.)\t|**P**lease|\n",
    "|Exponents\t|**\t|As an exponent is simply short multiplication or division, it should be evaluated before them.\t|**E**xcuse|\n",
    "|Multiplication and Division| * / // % |\tAgain, multiplication is rapid addition and must, therefore, happen first.|\t**M**y Dear|\n",
    "|Addition and Subtraction| + - | |**A**unt Sally|"
   ]
  },
  {
   "cell_type": "markdown",
   "metadata": {},
   "source": [
    "## Randomness and reproducibility\n",
    "\n",
    "In Python, we refer to randomness as the ability to generate data, strings, or, more generally, numbers at random.\n",
    "\n",
    "However, when conducting analysis it is important to consider reproducibility. If we are creating random data, how can we enable reproducible analysis?\n",
    "\n",
    "We do this by utilizing pseudo-random number generators (PRNGs). PRNGs start with a random number, known as the seed, and then use an algorithm to generate a psuedo-random sequence based on it.\n",
    "\n",
    "This means that we can replicate the output of a random number generator in python simply by knowing which seed was used.\n",
    "\n",
    "We can showcase this by using the functions in the python library random."
   ]
  },
  {
   "cell_type": "code",
   "execution_count": 32,
   "metadata": {},
   "outputs": [],
   "source": [
    "import numpy as np\n",
    "import pandas as pd\n",
    "import matplotlib.pyplot as plt\n",
    "import seaborn as sns"
   ]
  },
  {
   "cell_type": "code",
   "execution_count": 34,
   "metadata": {},
   "outputs": [
    {
     "name": "stderr",
     "output_type": "stream",
     "text": [
      "ERROR: Could not find a version that satisfies the requirement random\n",
      "ERROR: No matching distribution found for random\n"
     ]
    }
   ],
   "source": [
    "\n"
   ]
  },
  {
   "cell_type": "code",
   "execution_count": 35,
   "metadata": {},
   "outputs": [],
   "source": [
    "import random"
   ]
  },
  {
   "cell_type": "code",
   "execution_count": 41,
   "metadata": {},
   "outputs": [
    {
     "data": {
      "text/plain": [
       "0.9664535356921388"
      ]
     },
     "execution_count": 41,
     "metadata": {},
     "output_type": "execute_result"
    }
   ],
   "source": [
    "random.seed(1234)\n",
    "random.random()"
   ]
  },
  {
   "cell_type": "markdown",
   "metadata": {},
   "source": [
    "The random library includes standard distributions that may come in handy"
   ]
  },
  {
   "cell_type": "code",
   "execution_count": 67,
   "metadata": {},
   "outputs": [
    {
     "data": {
      "text/plain": [
       "47.7743990612281"
      ]
     },
     "execution_count": 67,
     "metadata": {},
     "output_type": "execute_result"
    }
   ],
   "source": [
    "# Uniform distribution\n",
    "random.uniform(25,50)"
   ]
  },
  {
   "cell_type": "code",
   "execution_count": 74,
   "metadata": {},
   "outputs": [
    {
     "data": {
      "text/plain": [
       "-1.6223818032579733"
      ]
     },
     "execution_count": 74,
     "metadata": {},
     "output_type": "execute_result"
    }
   ],
   "source": [
    "mu = 0\n",
    "\n",
    "sigma = 1\n",
    "\n",
    "random.normalvariate(mu, sigma)"
   ]
  },
  {
   "cell_type": "markdown",
   "metadata": {},
   "source": [
    "# Lists vs. numpy arrays"
   ]
  },
  {
   "cell_type": "markdown",
   "metadata": {},
   "source": [
    "Lists can have multiple datatypes. For example one element can be a string and another can be and int and another a float. Lists are defined by using the square brackets: \\[ \\], with elements separated by commas, ','.\n",
    "Ex:\n",
    "```\n",
    "my_list = [1, 'Colorado', 4.7, 'rain']\n",
    "```\n",
    "Lists are indexed by position. Remember, in Python, the index starts at 0 and ends at length(list)-1. So to retrieve the first element of the list you call:\n",
    "```\n",
    "my_list[0]\n",
    "```\n",
    "\n",
    "Numpy arrays  np.arrays differ from lists is that the contain only 1 datatype. For example all the elements might be ints or strings or floats or objects. It is defined by np.array(object), where the input 'object' can be for example a list or a tuple.    \n",
    "Ex:\n",
    "```\n",
    "my_array = np.array([1, 4, 5, 2])\n",
    "```\n",
    "or \n",
    "```\n",
    "my_array = np.array((1, 4, 5, 2))\n",
    "```\n",
    "\n",
    "Lists and numpy arrays differ in their **speed** and **memory efficiency**. An intuitive reason for this is that python lists have to store the value of each element and also the type of each element (since the types can differ). Whereas numpy arrays only need to store the type once because it is the same for all the elements in the array. \n",
    "\n",
    "You can do calculations with numpy arrays that can't be done on lists.  \n",
    "Ex:\n",
    "```\n",
    "my_array/3\n",
    "```\n",
    "will return a numpy array, with each of the elements divided by 3. Whereas:\n",
    "```\n",
    "my_list/3\n",
    "```\n",
    "Will throw an error.\n",
    "\n",
    "You can appened items to the end of lists and numpy arrays, though they have slightly different commands. It is almost of note that lists can append an item 'in place', but numpy arrays cannot.\n",
    "\n",
    "```\n",
    "my_list.append('new item')\n",
    "np.append(my_array, 5) # new element must be of the same type as all other elements\n",
    "```\n",
    "\n",
    "Links to python docs:  \n",
    "[Lists](https://docs.python.org/3/tutorial/datastructures.html), [arrays](https://docs.scipy.org/doc/numpy-1.15.1/reference/generated/numpy.array.html), [more on arrays](https://docs.scipy.org/doc/numpy-1.15.0/user/basics.creation.html)"
   ]
  },
  {
   "cell_type": "code",
   "execution_count": 75,
   "metadata": {},
   "outputs": [],
   "source": [
    "my_list = [1, 2, 3]\n",
    "my_array = np.array([1, 2, 3])"
   ]
  },
  {
   "cell_type": "code",
   "execution_count": 76,
   "metadata": {},
   "outputs": [
    {
     "data": {
      "text/plain": [
       "1"
      ]
     },
     "execution_count": 76,
     "metadata": {},
     "output_type": "execute_result"
    }
   ],
   "source": [
    "# Both indexed by position\n",
    "my_list[0]"
   ]
  },
  {
   "cell_type": "code",
   "execution_count": 77,
   "metadata": {},
   "outputs": [
    {
     "data": {
      "text/plain": [
       "1"
      ]
     },
     "execution_count": 77,
     "metadata": {},
     "output_type": "execute_result"
    }
   ],
   "source": [
    "my_array[0]"
   ]
  },
  {
   "cell_type": "code",
   "execution_count": 78,
   "metadata": {},
   "outputs": [
    {
     "data": {
      "text/plain": [
       "array([0.33333333, 0.66666667, 1.        ])"
      ]
     },
     "execution_count": 78,
     "metadata": {},
     "output_type": "execute_result"
    }
   ],
   "source": [
    "my_array/3"
   ]
  },
  {
   "cell_type": "code",
   "execution_count": 79,
   "metadata": {},
   "outputs": [
    {
     "ename": "TypeError",
     "evalue": "unsupported operand type(s) for /: 'list' and 'int'",
     "output_type": "error",
     "traceback": [
      "\u001b[1;31m---------------------------------------------------------------------------\u001b[0m",
      "\u001b[1;31mTypeError\u001b[0m                                 Traceback (most recent call last)",
      "\u001b[1;32m<ipython-input-79-344e5631acd2>\u001b[0m in \u001b[0;36m<module>\u001b[1;34m\u001b[0m\n\u001b[1;32m----> 1\u001b[1;33m \u001b[0mmy_list\u001b[0m\u001b[1;33m/\u001b[0m\u001b[1;36m3\u001b[0m\u001b[1;33m\u001b[0m\u001b[1;33m\u001b[0m\u001b[0m\n\u001b[0m",
      "\u001b[1;31mTypeError\u001b[0m: unsupported operand type(s) for /: 'list' and 'int'"
     ]
    }
   ],
   "source": [
    "my_list/3"
   ]
  },
  {
   "cell_type": "code",
   "execution_count": 80,
   "metadata": {},
   "outputs": [
    {
     "data": {
      "text/plain": [
       "[1, 2, 3, 5]"
      ]
     },
     "execution_count": 80,
     "metadata": {},
     "output_type": "execute_result"
    }
   ],
   "source": [
    "my_list.append(5) # inplace\n",
    "my_list"
   ]
  },
  {
   "cell_type": "code",
   "execution_count": 81,
   "metadata": {},
   "outputs": [
    {
     "data": {
      "text/plain": [
       "array([1, 2, 3, 5])"
      ]
     },
     "execution_count": 81,
     "metadata": {},
     "output_type": "execute_result"
    }
   ],
   "source": [
    "my_array = np.append(my_array, 5) # cannot do inplace because not always contiguous memory\n",
    "my_array"
   ]
  },
  {
   "cell_type": "code",
   "execution_count": 82,
   "metadata": {},
   "outputs": [
    {
     "data": {
      "text/plain": [
       "7"
      ]
     },
     "execution_count": 82,
     "metadata": {},
     "output_type": "execute_result"
    }
   ],
   "source": [
    "lst = [1, 7, 3, 5]\n",
    "def get_element(lst):\n",
    "  new_lst = []\n",
    "  for i in lst:\n",
    "    new_lst.append(i**2)\n",
    "    return lst[1]\n",
    "get_element(lst)"
   ]
  },
  {
   "cell_type": "markdown",
   "metadata": {},
   "source": [
    "### Exercise: Sets\n",
    "\n",
    "1. Join these two sets: `set1 = {\"a\", \"b\" , \"c\"}` and `set2 = {1, 2, 3}`\n",
    "2. Check if \"apple\" is present in `fruits = {\"apple\", \"banana\", \"cherry\"}`\n",
    "3. Insert set 2 into set 1. `set1 = {\"a\", \"b\" , \"c\"}` `set2 = {1, 2, 3}`\n",
    "4. Show the values that appear in both Set A and Set B. `A = {1, 2, 3, 4, 5}` `B = {4, 5, 6, 7, 8}`\n",
    "5. Show all the values in A and B. `A = {2, 4, 6}` `B = {1, 3, 5}`\n",
    "6. Show only values that appear in A and not B. `A = {1, 2, 3, 4, 5}` `B = {4, 5, 6, 7, 8}`\n",
    "7. Show values of A and B without the intersection. `A = {10, 11, 12, 13, 14, 15}` `B = {14, 15, 16, 17, 18}`\n",
    "8. Extract and print out all the values in Days. `Days=\"Mon\",\"Tue\",\"Wed\",\"Thu\",\"Fri\",\"Sat\",\"Sun\"`\n",
    "9. Compare whether DaysA is a subset of DaysB. `DaysA = \"Mon\",\"Tue\",\"Wed\"` `DaysB = \"Mon\",\"Tue\",\"Wed\",\"Thu\",\"Fri\",\"Sat\",\"Sun\"]`\n",
    "10. Find out whether DaysB is a superset of DaysA."
   ]
  },
  {
   "cell_type": "code",
   "execution_count": 83,
   "metadata": {},
   "outputs": [
    {
     "data": {
      "text/plain": [
       "{1, 2, 3, 'a', 'b', 'c'}"
      ]
     },
     "execution_count": 83,
     "metadata": {},
     "output_type": "execute_result"
    }
   ],
   "source": [
    "##Q1\n",
    "set1 = {\"a\", \"b\" , \"c\"}\n",
    "set2 = {1, 2, 3}\n",
    "set3 = set1.union(set2)\n",
    "set3\n"
   ]
  },
  {
   "cell_type": "code",
   "execution_count": 86,
   "metadata": {},
   "outputs": [
    {
     "data": {
      "text/plain": [
       "True"
      ]
     },
     "execution_count": 86,
     "metadata": {},
     "output_type": "execute_result"
    }
   ],
   "source": [
    "##Q2\n",
    "fruits = {\"apple\", \"banana\", \"cherry\"}\n",
    "print(\"apple\" in fruits)"
   ]
  },
  {
   "cell_type": "code",
   "execution_count": 93,
   "metadata": {},
   "outputs": [
    {
     "data": {
      "text/plain": [
       "{1, 2, 3, 'a', 'b', 'c'}"
      ]
     },
     "execution_count": 93,
     "metadata": {},
     "output_type": "execute_result"
    }
   ],
   "source": [
    "##Q3\n",
    "set1 = {\"a\", \"b\" , \"c\"}\n",
    "set2 = {1, 2, 3}\n",
    "set1 = set1.union(set2)\n",
    "set1"
   ]
  },
  {
   "cell_type": "code",
   "execution_count": 95,
   "metadata": {},
   "outputs": [
    {
     "name": "stdout",
     "output_type": "stream",
     "text": [
      "{4, 5}\n"
     ]
    }
   ],
   "source": [
    "##Q4\n",
    "A = {1, 2, 3, 4, 5} \n",
    "B = {4, 5, 6, 7, 8}\n",
    "print(A.intersection(B))"
   ]
  },
  {
   "cell_type": "code",
   "execution_count": 96,
   "metadata": {},
   "outputs": [
    {
     "name": "stdout",
     "output_type": "stream",
     "text": [
      "{1, 2, 3, 4, 5, 6}\n"
     ]
    }
   ],
   "source": [
    "##Q5\n",
    "A = {2, 4, 6} \n",
    "B = {1, 3, 5}\n",
    "print(A | B)"
   ]
  },
  {
   "cell_type": "code",
   "execution_count": 98,
   "metadata": {},
   "outputs": [
    {
     "name": "stdout",
     "output_type": "stream",
     "text": [
      "{1, 2, 3}\n"
     ]
    }
   ],
   "source": [
    "##Q6\n",
    "A = {1, 2, 3, 4, 5} \n",
    "B = {4, 5, 6, 7, 8}\n",
    "print(A - B)"
   ]
  },
  {
   "cell_type": "code",
   "execution_count": 99,
   "metadata": {},
   "outputs": [
    {
     "name": "stdout",
     "output_type": "stream",
     "text": [
      "{10, 11, 12, 13, 16, 17, 18}\n"
     ]
    }
   ],
   "source": [
    "##Q7\n",
    "A = {10, 11, 12, 13, 14, 15} \n",
    "B = {14, 15, 16, 17, 18}\n",
    "print(A ^ B)"
   ]
  },
  {
   "cell_type": "code",
   "execution_count": 101,
   "metadata": {},
   "outputs": [
    {
     "name": "stdout",
     "output_type": "stream",
     "text": [
      "Fri\n",
      "Wed\n",
      "Mon\n",
      "Thu\n",
      "Tue\n",
      "Sun\n",
      "Sat\n"
     ]
    }
   ],
   "source": [
    "##Q8\n",
    "Days={\"Mon\",\"Tue\",\"Wed\",\"Thu\",\"Fri\",\"Sat\",\"Sun\"}\n",
    "for each in Days:\n",
    "    print(each)"
   ]
  },
  {
   "cell_type": "code",
   "execution_count": 103,
   "metadata": {},
   "outputs": [
    {
     "name": "stdout",
     "output_type": "stream",
     "text": [
      "True\n"
     ]
    }
   ],
   "source": [
    "##Q9\n",
    "DaysA = {\"Mon\",\"Tue\",\"Wed\"} \n",
    "DaysB = {\"Mon\",\"Tue\",\"Wed\",\"Thu\",\"Fri\",\"Sat\",\"Sun\"}\n",
    "print(DaysA.issubset(DaysB))"
   ]
  },
  {
   "cell_type": "code",
   "execution_count": 104,
   "metadata": {},
   "outputs": [
    {
     "name": "stdout",
     "output_type": "stream",
     "text": [
      "True\n"
     ]
    }
   ],
   "source": [
    "##Q10\n",
    "DaysA = {\"Mon\",\"Tue\",\"Wed\"} \n",
    "DaysB = {\"Mon\",\"Tue\",\"Wed\",\"Thu\",\"Fri\",\"Sat\",\"Sun\"}\n",
    "print(DaysB.issuperset(DaysA))"
   ]
  },
  {
   "cell_type": "markdown",
   "metadata": {},
   "source": [
    "### Exercise: Maths\n",
    "\n",
    "1. $c=\\frac{3+a}{1-n}$, where a=1 and n=10, solve c\n",
    "2. Find the factorial of 12, $12!$\n",
    "3. $CI = mean\\pm 1.96*\\sqrt{\\frac{p(1-p)}{n}}$, where mean=45.6, p = 0.54 and n= 1118. Solve CI.\n",
    "4. Pythagoras Theorem: $c = \\sqrt{a^2+b^2}$ where a = 3 and b=4, solve C\n",
    "5. Generate 1000 random normal distribution numbers with mean=50, sd=1 and plot a histogram. Use `seed=1234`\n",
    "6. Generate 100 random normal distribution numbers with mean=0, sd=1 and plot a qqplot. Use `seed=1234`. Use the `statsmodel.api` library. Interpret the plot.\n",
    "7. Generate five trials of 10 observations of a uniform random variable on `[0,1)`.  Use `seed=1234`. Plot a boxplot. Interpret the plot.\n",
    "8. Calculate the standard deviation for A. `A = [11,15,17,18,19]`. Standard Deviation, $std = \\sqrt{\\frac{1}{N} \\sum_{i=1}^N (x_i - \\overline{x})^2}$\n",
    "9. Solve the following equations using `Sympy library`:\n",
    "$$2x^2+y+z=1$$\n",
    "$$x+2y+z=c_1$$\n",
    "$$-2x+y=-z$$\n",
    "10. Generate 100 equal distance numbers from the range of 0 to 1 as store into A. Random sampling 50 numbers from A and plot the distribution. Use `seed=1234`."
   ]
  },
  {
   "cell_type": "code",
   "execution_count": 105,
   "metadata": {},
   "outputs": [
    {
     "name": "stdout",
     "output_type": "stream",
     "text": [
      "4.0\n"
     ]
    }
   ],
   "source": [
    "##Q1\n",
    "a = 1\n",
    "n = 0\n",
    "c = (3+a) / (1-n)\n",
    "print(c)\n"
   ]
  },
  {
   "cell_type": "code",
   "execution_count": 112,
   "metadata": {},
   "outputs": [
    {
     "data": {
      "text/plain": [
       "479001600"
      ]
     },
     "execution_count": 112,
     "metadata": {},
     "output_type": "execute_result"
    }
   ],
   "source": [
    "##Q2\n",
    "n=12\n",
    "for i in range(1,12):\n",
    "    n *= (12-i)\n",
    "n"
   ]
  },
  {
   "cell_type": "code",
   "execution_count": 2,
   "metadata": {},
   "outputs": [
    {
     "name": "stdout",
     "output_type": "stream",
     "text": [
      "45.62921534137633 45.57078465862367\n"
     ]
    }
   ],
   "source": [
    "##Q3\n",
    "import math\n",
    "mean=45.6\n",
    "p = 0.54\n",
    "n= 1118\n",
    "Cl1 = mean + (1.96* math.sqrt((p-p*p)/n))\n",
    "Cl2 = mean - (1.96* math.sqrt((p-p*p)/n))\n",
    "print(Cl1,Cl2)"
   ]
  },
  {
   "cell_type": "code",
   "execution_count": 113,
   "metadata": {},
   "outputs": [
    {
     "data": {
      "text/plain": [
       "5.0"
      ]
     },
     "execution_count": 113,
     "metadata": {},
     "output_type": "execute_result"
    }
   ],
   "source": [
    "##Q4\n",
    "import math\n",
    "a = 3\n",
    "b = 4\n",
    "c = math.sqrt(a*a + b*b)\n",
    "c\n"
   ]
  },
  {
   "cell_type": "code",
   "execution_count": 1,
   "metadata": {},
   "outputs": [
    {
     "data": {
      "text/plain": [
       "(array([  1.,   8.,  39.,  88., 190., 265., 223., 117.,  59.,  10.]),\n",
       " array([46.43648334, 47.06921941, 47.70195549, 48.33469156, 48.96742764,\n",
       "        49.60016371, 50.23289978, 50.86563586, 51.49837193, 52.13110801,\n",
       "        52.76384408]),\n",
       " <BarContainer object of 10 artists>)"
      ]
     },
     "execution_count": 1,
     "metadata": {},
     "output_type": "execute_result"
    },
    {
     "data": {
      "image/png": "[encoded data removed]",
      "text/plain": [
       "<Figure size 432x288 with 1 Axes>"
      ]
     },
     "metadata": {
      "needs_background": "light"
     },
     "output_type": "display_data"
    }
   ],
   "source": [
    "##Q5\n",
    "import matplotlib.pyplot as plt\n",
    "import numpy as np\n",
    "import random\n",
    "mean=50 \n",
    "sd=1\n",
    "np.random.seed(1234)\n",
    "s = np.random.normal(mean,sd, 1000)\n",
    "plt.hist(s)"
   ]
  },
  {
   "cell_type": "code",
   "execution_count": 30,
   "metadata": {},
   "outputs": [
    {
     "name": "stdout",
     "output_type": "stream",
     "text": [
      "Requirement already satisfied: statsmodels in c:\\users\\windows 10\\anaconda3\\envs\\python-dscourse\\lib\\site-packages (0.12.2)\n",
      "Requirement already satisfied: pandas>=0.21 in c:\\users\\windows 10\\anaconda3\\envs\\python-dscourse\\lib\\site-packages (from statsmodels) (1.2.3)\n",
      "Requirement already satisfied: numpy>=1.15 in c:\\users\\windows 10\\anaconda3\\envs\\python-dscourse\\lib\\site-packages (from statsmodels) (1.20.2)\n",
      "Requirement already satisfied: scipy>=1.1 in c:\\users\\windows 10\\appdata\\roaming\\python\\python38\\site-packages (from statsmodels) (1.4.1)\n",
      "Requirement already satisfied: patsy>=0.5 in c:\\users\\windows 10\\anaconda3\\envs\\python-dscourse\\lib\\site-packages (from statsmodels) (0.5.1)\n",
      "Requirement already satisfied: pytz>=2017.3 in c:\\users\\windows 10\\anaconda3\\envs\\python-dscourse\\lib\\site-packages (from pandas>=0.21->statsmodels) (2021.1)\n",
      "Requirement already satisfied: python-dateutil>=2.7.3 in c:\\users\\windows 10\\anaconda3\\envs\\python-dscourse\\lib\\site-packages (from pandas>=0.21->statsmodels) (2.8.1)\n",
      "Requirement already satisfied: six in c:\\users\\windows 10\\anaconda3\\envs\\python-dscourse\\lib\\site-packages (from patsy>=0.5->statsmodels) (1.15.0)\n"
     ]
    },
    {
     "name": "stderr",
     "output_type": "stream",
     "text": [
      "ERROR: Could not find a version that satisfies the requirement pylab\n",
      "ERROR: No matching distribution found for pylab\n"
     ]
    }
   ],
   "source": [
    "!pip install statsmodels"
   ]
  },
  {
   "cell_type": "code",
   "execution_count": 2,
   "metadata": {},
   "outputs": [
    {
     "data": {
      "image/png": "[encoded data removed]",
      "text/plain": [
       "<Figure size 432x288 with 1 Axes>"
      ]
     },
     "metadata": {
      "needs_background": "light"
     },
     "output_type": "display_data"
    }
   ],
   "source": [
    "##Q6\n",
    "import random\n",
    "import numpy as np\n",
    "import matplotlib.pyplot as plt\n",
    "import statsmodels.api as sm\n",
    "mean=0\n",
    "sd=1\n",
    "np.random.seed(1234)\n",
    "s = np.random.normal(mean,sd, 100)\n",
    "sm.qqplot(s, line='45')\n",
    "plt.show()\n"
   ]
  },
  {
   "cell_type": "code",
   "execution_count": 9,
   "metadata": {},
   "outputs": [
    {
     "data": {
      "image/png": "[encoded data removed]",
      "text/plain": [
       "<Figure size 432x288 with 1 Axes>"
      ]
     },
     "metadata": {
      "needs_background": "light"
     },
     "output_type": "display_data"
    }
   ],
   "source": [
    "##Q7\n",
    "import numpy as np\n",
    "import matplotlib.pyplot as plt\n",
    "np.random.seed(1234)\n",
    "a = np.random.uniform(0,1,10)\n",
    "b = np.random.uniform(0,1,10)\n",
    "c = np.random.uniform(0,1,10)\n",
    "d = np.random.uniform(0,1,10)\n",
    "e = np.random.uniform(0,1,10)\n",
    "arr = [a,b,c,d,e]\n",
    "plt.boxplot(arr)\n",
    "plt.show()\n"
   ]
  },
  {
   "cell_type": "code",
   "execution_count": 8,
   "metadata": {},
   "outputs": [
    {
     "data": {
      "text/plain": [
       "2.8284271247461903"
      ]
     },
     "execution_count": 8,
     "metadata": {},
     "output_type": "execute_result"
    }
   ],
   "source": [
    "##Q8\n",
    "import math\n",
    "a = [11,15,17,18,19]\n",
    "As = [x*x for x in A]\n",
    "mean = (sum(A) / len(A)) * (sum(A) / len(A))\n",
    "std = math.sqrt(sum(As)/len(As) - mean)\n",
    "std"
   ]
  },
  {
   "cell_type": "code",
   "execution_count": 10,
   "metadata": {
    "scrolled": true
   },
   "outputs": [
    {
     "name": "stdout",
     "output_type": "stream",
     "text": [
      "Collecting sympy\n",
      "  Downloading sympy-1.8-py3-none-any.whl (6.1 MB)\n",
      "Collecting mpmath>=0.19\n",
      "  Downloading mpmath-1.2.1-py3-none-any.whl (532 kB)\n",
      "Installing collected packages: mpmath, sympy\n",
      "Successfully installed mpmath-1.2.1 sympy-1.8\n"
     ]
    }
   ],
   "source": [
    "!pip install sympy"
   ]
  },
  {
   "cell_type": "code",
   "execution_count": 1,
   "metadata": {},
   "outputs": [
    {
     "name": "stdout",
     "output_type": "stream",
     "text": [
      "[(-1/2 + sqrt(3)/2, c1 - 3*sqrt(3)/2 + 3/2, -c1 - 5/2 + 5*sqrt(3)/2), (-sqrt(3)/2 - 1/2, c1 + 3/2 + 3*sqrt(3)/2, -c1 - 5*sqrt(3)/2 - 5/2)]\n"
     ]
    }
   ],
   "source": [
    "##Q9\n",
    "import sympy as sym\n",
    "x,y,z = sym.symbols('x,y,z')\n",
    "c1 = sym.Symbol('c1')\n",
    "eq1 = sym.Eq(2*x**2+y+z,1)\n",
    "eq2 = sym.Eq(x+2*y+z,c1)\n",
    "eq3 = sym.Eq(-2*x+y,-z)\n",
    "result = sym.solve([eq1,eq2,eq3],(x,y,z))\n",
    "print(result)\n"
   ]
  },
  {
   "cell_type": "code",
   "execution_count": 13,
   "metadata": {},
   "outputs": [
    {
     "data": {
      "text/plain": [
       "(array([3., 7., 5., 7., 4., 3., 4., 8., 5., 4.]),\n",
       " array([0.        , 0.0969697 , 0.19393939, 0.29090909, 0.38787879,\n",
       "        0.48484848, 0.58181818, 0.67878788, 0.77575758, 0.87272727,\n",
       "        0.96969697]),\n",
       " <BarContainer object of 10 artists>)"
      ]
     },
     "execution_count": 13,
     "metadata": {},
     "output_type": "execute_result"
    },
    {
     "data": {
      "image/png": "[encoded data removed]",
      "text/plain": [
       "<Figure size 432x288 with 1 Axes>"
      ]
     },
     "metadata": {
      "needs_background": "light"
     },
     "output_type": "display_data"
    }
   ],
   "source": [
    "##Q10\n",
    "import numpy as np\n",
    "import matplotlib.pyplot as plt\n",
    "A = np.linspace(0,1,100)\n",
    "np.random.seed(1234)\n",
    "plt.hist(np.random.choice(A,50))"
   ]
  }
 ],
 "metadata": {
  "kernelspec": {
   "display_name": "Python 3",
   "language": "python",
   "name": "python3"
  },
  "language_info": {
   "codemirror_mode": {
    "name": "ipython",
    "version": 3
   },
   "file_extension": ".py",
   "mimetype": "text/x-python",
   "name": "python",
   "nbconvert_exporter": "python",
   "pygments_lexer": "ipython3",
   "version": "3.8.8"
  }
 },
 "nbformat": 4,
 "nbformat_minor": 4
}
