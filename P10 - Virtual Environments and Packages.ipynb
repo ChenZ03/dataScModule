{
 "cells": [
  {
   "cell_type": "markdown",
   "metadata": {},
   "source": [
    "# Module P11 - Virtual Environments and Packages"
   ]
  },
  {
   "cell_type": "markdown",
   "metadata": {},
   "source": [
    "## Introduction"
   ]
  },
  {
   "cell_type": "markdown",
   "metadata": {},
   "source": [
    "Python applications will often use packages and modules that don’t come as part of the standard library. \n",
    "\n",
    "As a popular open source development project, Python has an active supporting community of contributors and users that also make their software available for other Python developers to use under open source license terms.\n",
    "\n",
    "\n",
    "This section will cover:\n",
    "1. How to search/install/uninstall third part librairies using **pip**\n",
    "1. How to use **virtual environments**\n",
    "\n",
    "Read more https://docs.python.org/3.7/tutorial/venv.html\n"
   ]
  },
  {
   "cell_type": "markdown",
   "metadata": {},
   "source": [
    "## Managing Packages with pip"
   ]
  },
  {
   "cell_type": "markdown",
   "metadata": {},
   "source": [
    "You can install, upgrade, and remove packages using a program called pip. By default pip will install packages from the Python Package Index, <https://pypi.python.org/pypi>. You can browse the Python Package Index by going to it in your web browser, or you can use pip‘s limited search feature:"
   ]
  },
  {
   "cell_type": "markdown",
   "metadata": {},
   "source": [
    "You can try any search\n",
    "\n",
    "```\n",
    "$ pip search wrangling\n",
    "```"
   ]
  },
  {
   "cell_type": "markdown",
   "metadata": {},
   "source": [
    "pip has a number of subcommands: “search”, “install”, “uninstall”, “freeze”, etc."
   ]
  },
  {
   "cell_type": "raw",
   "metadata": {},
   "source": [
    "$ pip install requests"
   ]
  },
  {
   "cell_type": "markdown",
   "metadata": {},
   "source": [
    "To install a third part library, you need root priviledges. "
   ]
  },
  {
   "cell_type": "markdown",
   "metadata": {},
   "source": [
    "Indeed, third part libraries are installed in site-packages folder. On my macbook it is here:\n",
    "```\n",
    "/opt/local/Library/Frameworks/Python.framework/Versions/3.5/lib/python3.5/site-packages/\n",
    "```"
   ]
  },
  {
   "cell_type": "markdown",
   "metadata": {},
   "source": [
    "On your Ubuntu, it will be in\n",
    "```\n",
    "/usr/local/lib/pythonX.Y/site-packages/\n",
    "```"
   ]
  },
  {
   "cell_type": "markdown",
   "metadata": {},
   "source": [
    "Check running\n",
    "```\n",
    "$ python -m site\n",
    "```"
   ]
  },
  {
   "cell_type": "markdown",
   "metadata": {},
   "source": [
    "It is possible to install packages (modules, third part librairies) without any priviledges thanks to virtual environments. Let's dive into **virtual environments**, we will come back to pip after"
   ]
  },
  {
   "cell_type": "markdown",
   "metadata": {},
   "source": [
    "pip is the preferred installer program. Starting with Python 3.4, it is included by default with the Python binary installers."
   ]
  },
  {
   "cell_type": "markdown",
   "metadata": {},
   "source": [
    "## Virtual Environments"
   ]
  },
  {
   "cell_type": "markdown",
   "metadata": {},
   "source": [
    "### Motivations"
   ]
  },
  {
   "cell_type": "markdown",
   "metadata": {},
   "source": [
    "The main motivation for virtual environments:\n",
    "- **To allow multiple Python projects that have different requirements, to coexist on the same computer.**\n",
    "\n",
    "Example: application A runs with version 1. of the *request* package.\n",
    "Project for a new application B also needs *request* but with a feature introduced in version 2.2. Then upgrading request will upgrade for all applications on the machine. This will eventually cause a bug in application A if the new feature has no backward compatibility. So, it is important to test a project with different Python versions and packages' versions, hence the need for different \"virtual\" environments that are independent and do not overlap. "
   ]
  },
  {
   "cell_type": "markdown",
   "metadata": {},
   "source": [
    "## Creating Virtual Environments"
   ]
  },
  {
   "cell_type": "markdown",
   "metadata": {},
   "source": [
    "### 1. venv\n",
    "\n",
    "The module used to create and manage virtual environments is called [venv](https://docs.python.org/3.6/library/venv.html#module-venv)."
   ]
  },
  {
   "cell_type": "markdown",
   "metadata": {},
   "source": [
    "A virtual environment is a self-contained directory tree that contains a Python installation for a particular version of Python, plus a number of additional packages."
   ]
  },
  {
   "cell_type": "markdown",
   "metadata": {},
   "source": [
    "NOTE: *venv* is part of Python since Python 3.3. It is the standard tool for creating virtual environments. *[virtualenv](https://virtualenv.pypa.io)* is a third party alternative (and predecessor) to venv. It allows virtual environments to be used on versions of Python prior to 3.4."
   ]
  },
  {
   "cell_type": "markdown",
   "metadata": {},
   "source": [
    "To create a virtual environment, open your command-line window and run:"
   ]
  },
  {
   "cell_type": "raw",
   "metadata": {},
   "source": [
    "$ python3 -m venv path/to/your/virtual/environment"
   ]
  },
  {
   "cell_type": "markdown",
   "metadata": {},
   "source": [
    "If you are a Windows user, just open your command prompt, and type:"
   ]
  },
  {
   "cell_type": "raw",
   "metadata": {},
   "source": [
    "> python -m venv your_virtual_env_name"
   ]
  },
  {
   "cell_type": "markdown",
   "metadata": {},
   "source": [
    "You can specify absolute or relative paths for your virtual environment. Notice that we use `python` instead of `python3` in Windows."
   ]
  },
  {
   "cell_type": "markdown",
   "metadata": {},
   "source": [
    "### The python -m module trick"
   ]
  },
  {
   "cell_type": "markdown",
   "metadata": {},
   "source": [
    "```\n",
    "python -m <module-name>\n",
    "```\n",
    "Search sys.path for the named module and execute its contents as the __main__ module"
   ]
  },
  {
   "cell_type": "markdown",
   "metadata": {},
   "source": [
    "Useful examples:\n",
    "- ```python -m http.server```\n",
    "\n",
    "launches a web service that serves the content of the current directory\n",
    "- ```python -m json.tool file.json```\n",
    "\n",
    "pretty prints (indent) the content of a json file\n",
    "- ```python -m venv```\n",
    "\n",
    "creates a virtual environment\n",
    "- ```python -m pip```\n",
    "\n",
    "same as pip, we will come back to this one\n"
   ]
  },
  {
   "cell_type": "markdown",
   "metadata": {},
   "source": [
    "### Create a virtual environment"
   ]
  },
  {
   "cell_type": "raw",
   "metadata": {},
   "source": [
    "$ python3 -m venv dw"
   ]
  },
  {
   "cell_type": "markdown",
   "metadata": {},
   "source": [
    "(This is valid in Windows as well, but use `python` instead of `python3`"
   ]
  },
  {
   "cell_type": "raw",
   "metadata": {},
   "source": [
    "> python -m venv dw"
   ]
  },
  {
   "cell_type": "markdown",
   "metadata": {},
   "source": [
    "#### What happened?"
   ]
  },
  {
   "cell_type": "markdown",
   "metadata": {},
   "source": [
    "Browse ```dw``` directory and figure out what happened"
   ]
  },
  {
   "cell_type": "markdown",
   "metadata": {},
   "source": [
    "A directory tree has been created. \n",
    "\n",
    "bin/ contains a copy of binaries python and pip\n",
    "\n",
    "lib/ contains a directory pythonX.Y/site-packages where packages will be installed"
   ]
  },
  {
   "cell_type": "markdown",
   "metadata": {},
   "source": [
    "#### Use the new environment"
   ]
  },
  {
   "cell_type": "raw",
   "metadata": {},
   "source": [
    "$ source dw/bin/activate\n",
    "(dw) $"
   ]
  },
  {
   "cell_type": "markdown",
   "metadata": {},
   "source": [
    "In Windows, navigate to the newly created virtual environment and type: "
   ]
  },
  {
   "cell_type": "raw",
   "metadata": {},
   "source": [
    "> activate\n",
    "(dw) > "
   ]
  },
  {
   "cell_type": "markdown",
   "metadata": {},
   "source": [
    "**Note**: If you are using Anaconda Prompt, you might want to deactivate the default loaded base environment, which was loaded by conda. Then, proceed to activate your new environment."
   ]
  },
  {
   "cell_type": "raw",
   "metadata": {},
   "source": [
    "(base) > conda deactivate\n",
    "> activate\n",
    "(dw) >"
   ]
  },
  {
   "cell_type": "markdown",
   "metadata": {},
   "source": [
    "A prefix with the name of the virtual environment appears before the prompt. In this case, you will see a `(dw)` in front of the prompt."
   ]
  },
  {
   "cell_type": "raw",
   "metadata": {},
   "source": [
    "# to leave the virtual env\n",
    "$ deactivate"
   ]
  },
  {
   "cell_type": "raw",
   "metadata": {},
   "source": [
    "# to delete virtual env, simply remove directory. In Windows, you can just remove the entire directory without any issue.\n",
    "$ rm -rf path/to/your/virtual/environment"
   ]
  },
  {
   "cell_type": "markdown",
   "metadata": {},
   "source": [
    "### 2. conda\n",
    "\n",
    "Conda is an interface for managing installations of various packages, a.k.a. a package manager. Conda also allows creation of new virtual environments with a pre-installed set of packages.\n",
    "\n",
    "To list down all existing environments in Anaconda:"
   ]
  },
  {
   "cell_type": "raw",
   "metadata": {},
   "source": [
    "> conda info --envs"
   ]
  },
  {
   "cell_type": "markdown",
   "metadata": {},
   "source": [
    "The environment marked with an asterisk (\\*) indicates the current loaded environment.\n",
    "\n",
    "To create a new environment named `saturn`:"
   ]
  },
  {
   "cell_type": "raw",
   "metadata": {},
   "source": [
    "> conda create --name saturn"
   ]
  },
  {
   "cell_type": "markdown",
   "metadata": {},
   "source": [
    "This creates a new environment with some basic packages (and the same Python version as the base). \n",
    "\n",
    "Sometimes we want more control over which version of Python or which packages we want to be in the environment when created. So, we can use other options, such as creating an environment with a specific package:"
   ]
  },
  {
   "cell_type": "raw",
   "metadata": {},
   "source": [
    "> conda create --name neptune scipy matplotlib"
   ]
  },
  {
   "cell_type": "markdown",
   "metadata": {},
   "source": [
    "Sometimes we want an environment with Python 2 along with other specific versions of other packages. This can be done:"
   ]
  },
  {
   "cell_type": "raw",
   "metadata": {},
   "source": [
    "> conda create --name neptune_py2 python=2.7 scipy=0.15"
   ]
  },
  {
   "cell_type": "markdown",
   "metadata": {},
   "source": [
    "After you have created these environments, to use them, you need to activate an environment of your choice:"
   ]
  },
  {
   "cell_type": "raw",
   "metadata": {},
   "source": [
    "> conda activate neptune"
   ]
  },
  {
   "cell_type": "markdown",
   "metadata": {},
   "source": [
    "Now, to verify if the packages in this environment are correct as to what you have specified, examine the packages installed by:"
   ]
  },
  {
   "cell_type": "raw",
   "metadata": {},
   "source": [
    "> conda list"
   ]
  },
  {
   "cell_type": "markdown",
   "metadata": {},
   "source": [
    "To deactivate the environment,"
   ]
  },
  {
   "cell_type": "raw",
   "metadata": {},
   "source": [
    "> conda deactivate"
   ]
  },
  {
   "cell_type": "markdown",
   "metadata": {},
   "source": [
    "Conda will fall back on the base environment when you do this.\n",
    "\n",
    "If you wish to clone an existing environment to a new one (for practical reasons sometimes), you can do this:"
   ]
  },
  {
   "cell_type": "raw",
   "metadata": {},
   "source": [
    "> conda create --name neptune_clone --clone neptune"
   ]
  },
  {
   "cell_type": "markdown",
   "metadata": {},
   "source": [
    "You can go to [https://conda.io/docs/user-guide/tasks/manage-environments.html](https://conda.io/docs/user-guide/tasks/manage-environments.html) for the full guide on how to use `conda` to manage your virtual environments within Anaconda."
   ]
  },
  {
   "cell_type": "markdown",
   "metadata": {},
   "source": [
    "### 3. virtualenv\n",
    "\n",
    "There's another way of creating virtual environments for Python, that is to use the virtualenv package:"
   ]
  },
  {
   "cell_type": "raw",
   "metadata": {},
   "source": [
    "> pip install virtualenv"
   ]
  },
  {
   "cell_type": "markdown",
   "metadata": {},
   "source": [
    "To test your installation:"
   ]
  },
  {
   "cell_type": "markdown",
   "metadata": {},
   "source": [
    "virtualenv --version"
   ]
  },
  {
   "cell_type": "markdown",
   "metadata": {},
   "source": [
    "and you should see the version number for the virtualenv package.\n",
    "\n",
    "Let's create a project folder:"
   ]
  },
  {
   "cell_type": "raw",
   "metadata": {},
   "source": [
    "> virtualenv my_project_folder"
   ]
  },
  {
   "cell_type": "markdown",
   "metadata": {},
   "source": [
    "This will create a folder in the current directory which will contain the Python executable files, and a copy of the pip library which you can use to install other packages. The name of the virtual environment (in this case, it was `my_project_folder`) can be anything; without providing any specific directory path will place the files in the current directory instead.\n",
    "\n",
    "*For more info, look at http://docs.python-guide.org/en/latest/dev/virtualenvs/*\n",
    "\n",
    "You can also use the Python interpreter of your choice (like python2.7). For example,"
   ]
  },
  {
   "cell_type": "raw",
   "metadata": {},
   "source": [
    "virtualenv -p C:\\Python\\bin\\python_27 my_project"
   ]
  },
  {
   "cell_type": "markdown",
   "metadata": {},
   "source": [
    "But this is not possible if you had installed Anaconda based on a specific Python version, say 3.6. Then you do not have a copy of Python 2.7 in your machine. \n",
    "\n",
    "Hence, this brings us to the third way of creating virtual environments (particularly suitable if you are using the full Anaconda suite), that is using `conda`."
   ]
  },
  {
   "cell_type": "markdown",
   "metadata": {},
   "source": [
    "## Installing packages with conda and pip"
   ]
  },
  {
   "cell_type": "markdown",
   "metadata": {},
   "source": [
    "As a popular open source development project, Python has an active supporting community of contributors and users that also make their software available for other Python developers to use under open source license terms.\n",
    "\n",
    "This allows Python users to share and collaborate effectively, benefiting from the solutions others have already created to common (and sometimes even rare!) problems, as well as potentially contributing their own solutions to the common pool.\n",
    "\n"
   ]
  },
  {
   "cell_type": "markdown",
   "metadata": {},
   "source": [
    "**pip** and **conda** are the preferred package installer programs. **pip** started with Python 3.4 and Python 2.7.9, and it is included by default with most Python binary installers. As for **conda**, it is definitely available when Anaconda is installed, but not necessarily in other distributions."
   ]
  },
  {
   "cell_type": "markdown",
   "metadata": {},
   "source": [
    "> NOTE: For older **python versions only**, a script is available at https://bootstrap.pypa.io/get-pip.py\n",
    "```\n",
    "$ wget https://bootstrap.pypa.io/get-pip.py\n",
    "$ python get-pip.py```"
   ]
  },
  {
   "cell_type": "markdown",
   "metadata": {},
   "source": [
    "** PyPI - the Python Package Index ** The Python Package Index is a repository of software for the Python programming language.\n",
    "https://pypi.python.org/pypi PyPI is the default Package Index for the Python community. It is open to all Python developers to consume and distribute their distributions.\n",
    "\n",
    "**```pip```** searches and installs packages from this repository by default."
   ]
  },
  {
   "cell_type": "markdown",
   "metadata": {},
   "source": [
    "To run pip, you can simply call **```pip```** command or **```python -m pip```**. "
   ]
  },
  {
   "cell_type": "raw",
   "metadata": {},
   "source": [
    "> pip install beautifulsoup4"
   ]
  },
  {
   "cell_type": "markdown",
   "metadata": {},
   "source": [
    "In conda, you can also even search for packages (whether they exist or not, or if you forgot part of the name):"
   ]
  },
  {
   "cell_type": "raw",
   "metadata": {},
   "source": [
    "> conda search scipy"
   ]
  },
  {
   "cell_type": "markdown",
   "metadata": {},
   "source": [
    "...and proceed to install them:"
   ]
  },
  {
   "cell_type": "raw",
   "metadata": {},
   "source": [
    "> conda install scipy"
   ]
  },
  {
   "cell_type": "markdown",
   "metadata": {},
   "source": [
    "You will notice that conda tells you explicitly and transparently, which packages will be installed, and if they are overwriting a previous version, what versions are those. It also traces back all the necessary dependencies (other packages) and gets them installed and upgraded if needed. Very convenient!\n",
    "\n",
    "Note: **`pip`** also does this actually. But it outputs very verbosely you usually miss it. \n",
    "\n",
    "To update packages,"
   ]
  },
  {
   "cell_type": "raw",
   "metadata": {},
   "source": [
    "> conda update scipy\n",
    "> conda update conda      "
   ]
  },
  {
   "cell_type": "markdown",
   "metadata": {},
   "source": [
    "or to update all..."
   ]
  },
  {
   "cell_type": "raw",
   "metadata": {},
   "source": [
    "> conda update all"
   ]
  },
  {
   "cell_type": "markdown",
   "metadata": {},
   "source": [
    "Use the above with utmost caution, especially if you are already in the middle of a project. This is best done at the beginning or after you have created a new environment. The chances of your existing code failing or running into errors is quite high."
   ]
  },
  {
   "cell_type": "markdown",
   "metadata": {},
   "source": [
    "Likewise, to upgrade packages with pip:"
   ]
  },
  {
   "cell_type": "raw",
   "metadata": {},
   "source": [
    "> pip install numpy --upgrade"
   ]
  }
 ],
 "metadata": {
  "kernelspec": {
   "display_name": "Python 3",
   "language": "python",
   "name": "python3"
  },
  "language_info": {
   "codemirror_mode": {
    "name": "ipython",
    "version": 3
   },
   "file_extension": ".py",
   "mimetype": "text/x-python",
   "name": "python",
   "nbconvert_exporter": "python",
   "pygments_lexer": "ipython3",
   "version": "3.8.5"
  }
 },
 "nbformat": 4,
 "nbformat_minor": 2
}
