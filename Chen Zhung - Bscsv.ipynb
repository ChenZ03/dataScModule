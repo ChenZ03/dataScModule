{
 "cells": [
  {
   "cell_type": "markdown",
   "metadata": {},
   "source": [
    "# 2. BeautifulSoup"
   ]
  },
  {
   "cell_type": "markdown",
   "metadata": {},
   "source": [
    "**BeautifulSoup** is a library for **parsing HTML and XML documents**.\n",
    "\n",
    "**Requests** with **BeautifulSoup** (a parsing library) are the best package tools for **small and quick web scraping**.\n"
   ]
  },
  {
   "cell_type": "markdown",
   "metadata": {},
   "source": [
    "https://www.crummy.com/software/BeautifulSoup/\n",
    "\n",
    "https://www.crummy.com/software/BeautifulSoup/bs4/doc/\n"
   ]
  },
  {
   "cell_type": "markdown",
   "metadata": {},
   "source": [
    "### Installation\n",
    "\n",
    "pip3 install bs4\n",
    "\n",
    "conda install -c anaconda beautifulsoup4"
   ]
  },
  {
   "cell_type": "markdown",
   "metadata": {},
   "source": [
    "### Methods\n",
    "\n",
    "Find_All\n",
    "\n",
    "Find"
   ]
  },
  {
   "cell_type": "code",
   "execution_count": 1,
   "metadata": {},
   "outputs": [],
   "source": [
    "from bs4 import BeautifulSoup\n",
    "import requests"
   ]
  },
  {
   "cell_type": "code",
   "execution_count": 2,
   "metadata": {},
   "outputs": [
    {
     "data": {
      "text/plain": [
       "200"
      ]
     },
     "execution_count": 2,
     "metadata": {},
     "output_type": "execute_result"
    }
   ],
   "source": [
    "#page = requests.get(\"https://www.ebay.com.my/sch/Car-Truck-Parts/6030/i.html?_from=R40&LH_BIN=1&_nkw=Proton&rt=nc&LH_FS=1&LH_PayPal=1\")\n",
    "page = requests.get(\"https://www.ebay.com.my/sch/Car-Truck-Parts/6030/i.html?LH_PayPal=1&_from=R40&_nkw=Proton&rt=nc&_pppn=r1&LH_FS=1&_trksid=p2045573.m1684\")\n",
    "page.status_code\n",
    "\n"
   ]
  },
  {
   "cell_type": "code",
   "execution_count": null,
   "metadata": {},
   "outputs": [],
   "source": [
    "page.content"
   ]
  },
  {
   "cell_type": "code",
   "execution_count": 3,
   "metadata": {},
   "outputs": [
    {
     "data": {
      "text/plain": [
       "omVI:false, isLazyLoadOnLoad:false, isHideTopAd:false, isTrackTopAd:false});\n",
       "\t\t\n",
       "\t\n",
       "\t\tvar RRD = raptor.require(\"search.resultSet.ResultSetRd\");\n",
       "\t\tnew RRD({elem:'e1-10',galleryPlusBaseUrl:'https://galleryplus.ebayimg.com/ws/web', img1: 'https://ir.ebaystatic.com/pictures/aw/pics/globalAssets/imgLoading_30x30.gif',\n",
       "\t\timg2: 'https://ir.ebaystatic.com/pictures/aw/pics/cmp/icn/iconImgNA_96x96.gif', img3: 'https://ir.ebaystatic.com/pictures/aw/pics/cmp/icn/iconImgNA_32x32.gif', stockPhoto: 'https://ir.ebaystatic.com/pictures/aw/pics/stockimage1.jpg',\n",
       "\t\ttrackingId:'p2045573.m1686',message1:\"This item is suitable for the vehicle shown. Please check the compatibility section in the item description for more details.\",message2:\"This item is suitable for this specification. Please see the item description for more details.\",message3:\"This item is suitable for multiple vehicles. Please check the compatibility section in the item description for more details.\",message4:\"This item is suitable for multiple vehicles. Please check the compatibility section in the item description for more details.\", 'thImg': 'https://ir.ebaystatic.com/pictures/aw/pics/globalAssets/imgLoading_30x30.gif', 'sgif':'https://ir.ebaystatic.com/pictures/aw/pics/s.gif', 'cols':3,\n",
       "\t\t'model':{\"322459673397\":{\"photoCount\":8,\"imageSize\":225,\"isWinningVariant\":false},\"303102023592\":{\"photoCount\":1,\"imageSize\":225,\"isWinningVariant\":false},\"303102023556\":{\"photoCount\":2,\"imageSize\":225,\"isWinningVariant\":false},\"322459651652\":{\"photoCount\":9,\"imageSize\":225,\"isWinningVariant\":false},\"303625039301\":{\"photoCount\":2,\"imageSize\":225,\"isWinningVariant\":false},\"142868289246\":{\"photoCount\":7,\"imageSize\":225,\"isWinningVariant\":false},\"303102025374\":{\"photoCount\":2,\"imageSize\":225,\"isWinningVariant\":false},\"333899954603\":{\"photoCount\":1,\"imageSize\":225,\"isWinningVariant\":false},\"174551340734\":{\"photoCount\":7,\"imageSize\":225,\"isWinningVariant\":false},\"322459678595\":{\"photoCount\":7,\"imageSize\":225,\"isWinningVariant\":false},\"132458501815\":{\"photoCount\":2,\"imageSize\":225,\"isWinningVariant\":false},\"274392645447\":{\"photoCount\":3,\"imageSize\":225,\"isWinningVariant\":false},\"112599534727\":{\"photoCount\":2,\"imageSize\":225,\"isWinningVariant\":false},\"113676748360\":{\"photoCount\":4,\"imageSize\":225,\"isWinningVariant\":false},\"143046332002\":{\"photoCount\":3,\"imageSize\":225,\"isWinningVariant\":false}},'miEnable':false, 'lazyLoad':false,\n",
       "\t\t'multiImgFlip':false,'multiImgMsku':false, 'autoImageChange':false, \n",
       "\t\t'showPhotoCount':true, 'arrowsByDefault':false, 'PCntTxt':'Photos'});\n",
       "\t \n",
       "\t\tvar DP = raptor.require('search.date.DateReplacement');\n",
       "\t\tvar o = new DP({baseFormOnly: false, dateAttr:\"timeMs\", dateElemSelector:\"span.timeMs\", secondsTerm:[\"##1##s left\",\"##1##s left\"], minutesTerm:[\"##1##m left\",\"##1##m left\"], hoursTerm:[\"##1##h left\",\"##1##h left\"], daysTerm:[\"##1##d left\",\"##1##d left\"], daysHoursTerm:[\"##1##d ##2##h left\",\"##1##d ##2##h left\"], endedTerm:\"Ended\", endsTomorrowTerm:\"Tomorrow\", todayTerm:\"Today\", days:[\"Sunday\", \"Monday\",\"Tuesday\",\"Wednesday\",\"Thursday\",\"Friday\",\"Saturday\"], AM:\"AM\", PM:\"PM\", serverTime:\"1617762021953\", endingTime:\"Ending time\", is24HR:true, islt60minInRedEnabled:true,isShowRelativeTime:true, PBOsecondsTerm:[\"\",\"##1##s\"], PBOminutesTerm:[\"##1##m\",\"##1##m\"], PBOhoursTerm:[\"##1##h\",\"##1##h\"], PBOdaysTerm:[\"##1##d\",\"##1##d\"], PBOdaysHoursTerm:[\"##1##d ##2##h\",\"##1##d ##2##h\"]});\n",
       "\t\to.startLoop(1000);\n",
       "\t\n",
       "\traptor.require(\"search.layers.TopRatedPlus\").init();\n",
       "\n",
       "\traptor.require(\"search.prefetchVI.UnregisterServiceWorker\").init();\n",
       "\n",
       "\t\tvar imagePreFetcher = raptor.require(\"search.resultSet.PrefetchPaginationImages\");\n",
       "\t\timagePreFetcher.init({imgUrls : []});\n",
       "\n",
       "\tvar C = raptor.require(\"search.leftnav.Categories\");\n",
       "\tnew C().initCategories({elem:'e1-11', \n",
       "\tmoreText:\"More\",\n",
       "\tfewerText:\"Fewer\", \n",
       "\tshowMoreTextUVCC:\"Show more\", \n",
       "\tshowLessTextUVCC:\"Show less\", \n",
       "\tshowMoreCategoriesTrackingId:'p2045573.m1685.l6772', \n",
       "\tshowAdditionalCats: 'Show more categories', \n",
       "\thideAdditionalCats: 'Show fewer categories',\n",
       "\tautoAppliedCategoryPath:[\n",
       "\t\t\n",
       "\t]\n",
       "\t});\n",
       "\n",
       "\t\tvar c = {\"title\":null,\"grouping\":\",\",\"children\":[{\"selectedAspectCount\":1,\"seeMoreLinkIndex\":null,\"count\":0,\"param\":null,\"children\":[{\"selectedAspectCount\":0,\"seeMoreLinkIndex\":null,\"count\":0,\"param\":null,\"suppressDistanceModel\":false,\"showCount\":false,\"display\":\"RADIO_BUTTONS\",\"itemLocationRedesignEnabled\":false,\"paramValue\":null,\"type\":\"BooleanAspectModel\",\"eid\":\"e1-20\",\"clear\":\"https://www.ebay.com.my/sch/Car-Truck-Parts/6030/i.html?LH_PayPal=1&_from=R40&LH_FS=1&_fosrp=1&_nkw=Proton&rt=nc\",\"title\":\"All Listings\",\"selected\":true,\"values\":[],\"excluded\":[],\"hidden\":false,\"hideInChooseMore\":false,\"name\":\"LH_AllListings\",\"action\":\"https://www.ebay.com.my/sch/Car-Truck-Parts/6030/i.html?LH_PayPal=1&_from=R40&LH_FS=1&_fosrp=1&_nkw=Proton&rt=nc\",\"closed\":false,\"included\":[],\"paramName\":null,\"countString\":\"0\",\"disabled\":false},{\"selectedAspectCount\":0,\"seeMoreLinkIndex\":null,\"count\":0,\"param\":\"1\",\"suppressDistanceModel\":false,\"showCount\":false,\"display\":\"RADIO_BUTTONS\",\"itemLocationRedesignEnabled\":false,\"paramValue\":\"1\",\"type\":\"BooleanAspectModel\",\"eid\":\"e1-22\",\"clear\":null,\"title\":\"Auction\",\"selected\":false,\"values\":[],\"excluded\":[],\"hidden\":false,\"hideInChooseMore\":false,\"name\":\"LH_Auction\",\"action\":\"https://www.ebay.com.my/sch/Car-Truck-Parts/6030/i.html?LH_PayPal=1&_from=R40&LH_FS=1&_fosrp=1&_nkw=Proton&rt=nc&LH_Auction=1\",\"closed\":false,\"included\":[],\"paramName\":\"LH_Auction\",\"countString\":\"0\",\"disabled\":false},{\"selectedAspectCount\":0,\"seeMoreLinkIndex\":null,\"count\":0,\"param\":\"1\",\"suppressDistanceModel\":false,\"showCount\":false,\"display\":\"TEXT\",\"itemLocationRedesignEnabled\":false,\"paramValue\":\"1\",\"type\":\"BooleanAspectModel\",\"eid\":\"e1-24\",\"clear\":null,\"title\":\"Buy It Now\",\"selected\":false,\"values\":[],\"excluded\":[],\"hidden\":false,\"hideInChooseMore\":false,\"name\":\"LH_BIN\",\"action\":\"https://www.ebay.com.my/sch/Car-Truck-Parts/6030/i.html?LH_PayPal=1&_from=R40&LH_FS=1&_fosrp=1&_nkw=Proton&rt=nc&LH_BIN=1\",\"closed\":false,\"included\":[],\"paramName\":\"LH_BIN\",\"countString\":\"0\",\"disabled\":false}],\"suppressDistanceModel\":false,\"showCount\":false,\"display\":\"RADIO_BUTTONS\",\"itemLocationRedesignEnabled\":false,\"paramValue\":null,\"type\":\"GroupAspectModel\",\"eid\":\"e1-18\",\"clear\":null,\"title\":\"Format\",\"selected\":false,\"hidden\":false,\"hideInChooseMore\":false,\"name\":\"LH_BuyingFormats\",\"action\":\"https://www.ebay.com.my/sch/Car-Truck-Parts/6030/i.html?LH_PayPal=1&_from=R40&LH_FS=1&_fosrp=1&_nkw=Proton&rt=nc&_pppn=r1&_ssan=LH_BuyingFormats\",\"closed\":false,\"paramName\":null,\"countString\":\"0\",\"disabled\":false},{\"selectedAspectCount\":0,\"seeMoreLinkIndex\":null,\"count\":0,\"param\":null,\"suppressDistanceModel\":false,\"showCount\":true,\"display\":\"TEXT\",\"itemLocationRedesignEnabled\":false,\"paramValue\":null,\"type\":\"ItemConditionAspectModel\",\"eid\":\"e1-25\",\"info\":null,\"clear\":\"https://www.ebay.com.my/sch/Car-Truck-Parts/6030/i.html?LH_PayPal=1&_from=R40&LH_FS=1&_fosrp=1&_nkw=Proton\",\"title\":\"Condition\",\"selected\":false,\"values\":[{\"selected\":false,\"title\":\"New\",\"count\":14,\"param\":\"1000\",\"discription\":\"New\",\"hrRefTitle\":null,\"eid\":\"e1-26\",\"countString\":\"14\",\"url\":\"https://www.ebay.com.my/sch/Car-Truck-Parts/6030/i.html?LH_PayPal=1&_from=R40&LH_FS=1&_fosrp=1&_nkw=Proton&=&rt=nc&LH_ItemCondition=1000\",\"disabled\":false},{\"selected\":false,\"title\":\"Used\",\"count\":1,\"param\":\"3000\",\"discription\":\"Used\",\"hrRefTitle\":null,\"eid\":\"e1-28\",\"countString\":\"1\",\"url\":\"https://www.ebay.com.my/sch/Car-Truck-Parts/6030/i.html?LH_PayPal=1&_from=R40&LH_FS=1&_fosrp=1&_nkw=Proton&=&rt=nc&LH_ItemCondition=3000\",\"disabled\":false}],\"hidden\":false,\"hideInChooseMore\":false,\"name\":\"LH_ItemCondition\",\"action\":\"https://www.ebay.com.my/sch/Car-Truck-Parts/6030/i.html?LH_PayPal=1&_from=R40&LH_FS=1&_fosrp=1&_nkw=Proton&rt=nc&_pppn=r1&=&_ssan=LH_ItemCondition\",\"closed\":false,\"paramName\":\"LH_ItemCondition\",\"countString\":\"0\",\"disabled\":false},{\"selectedAspectCount\":226498,\"seeMoreLinkIndex\":null,\"count\":0,\"param\":null,\"children\":[{\"lowerBound\":\"\",\"count\":0,\"param\":null,\"showCount\":false,\"itemLocationRedesignEnabled\":false,\"type\":\"PriceAspectModelDash\",\"priceLabelKey\":\"PRICE\",\"defaultParam\":\"LH_Price\",\"clear\":null,\"baseUrl\":\"https://www.ebay.com.my/sch/Car-Truck-Parts/6030/i.html?LH_PayPal=1&_from=R40&LH_FS=1&_fosrp=1&_nkw=Proton&_mPrRngCbx=1\",\"shipping\":{\"selected\":false,\"param\":\"_ssc\",\"url\":\"https://www.ebay.com.my/sch/Car-Truck-Parts/6030/i.html?LH_PayPal=1&_from=R40&LH_FS=1&_fosrp=1&_nkw=Proton&=&_ssc=1\"},\"selected\":false,\"title\":\"Price\",\"grouping\":\",\",\"minimumLimit\":\"0\",\"name\":\"LH_Price\",\"action\":\"https://www.ebay.com.my/sch/Car-Truck-Parts/6030/i.html?LH_PayPal=1&_from=R40&LH_FS=1&_fosrp=1&_nkw=Proton&rt=nc&_ssan=LH_Price\",\"closed\":false,\"upperBound\":\"\",\"lowerBoundParam\":\"_udlo\",\"selectedAspectCount\":0,\"seeMoreLinkIndex\":null,\"symbol\":\"RM\",\"Maximum\":\"<label class='g-hdn' for='e1-13'>Enter maximum price</label><input class='price' pattern='\\\\d*' type='text' size='6' maxlength='13' name='_udhi' id='e1-13' value=\\\"\\\"  />\",\"MinimumPrice\":\"<label class='g-hdn' for='e1-14'>Enter minimum price</label><input class='pricehr' pattern='\\\\d*' type='text' size='6' maxlength='13' name='_udlo' id='e1-14' value=\\\"\\\"  />\",\"maximumLimit\":\"0\",\"suppressDistanceModel\":false,\"display\":\"RANGE\",\"paramValue\":null,\"lowPrice\":null,\"decimal\":\".\",\"upperBoundParam\":\"_udhi\",\"PriceRange\":\"\",\"pattern\":\"Sen\",\"Symbol\":\"RM\",\"hidden\":false,\"hideInChooseMore\":false,\"Minimum\":\"<label class='g-hdn' for='e1-12'>Enter minimum price</label><input class='price' pattern='\\\\d*' type='text' size='6' maxlength='13' name='_udlo' id='e1-12' value=\\\"\\\"  />\",\"MaximumPrice\":\"<label class='g-hdn' for='e1-15'>Enter maximum price</label><input class='pricehr' pattern='\\\\d*' type='text' size='6' maxlength='13' name='_udhi' id='e1-15' value=\\\"\\\"  /><input id=\\\"e1-16\\\"  title=\\\"Submit price range\\\" class=\\\"hide-text sprBtnSRP1 submit\\\" type=\\\"button\\\" />\",\"highPrice\":null,\"countString\":\"0\",\"paramName\":null,\"disabled\":false},{\"selectedAspectCount\":0,\"seeMoreLinkIndex\":null,\"count\":0,\"param\":\"1\",\"suppressDistanceModel\":false,\"showCount\":false,\"display\":\"TEXT\",\"itemLocationRedesignEnabled\":false,\"paramValue\":\"1\",\"type\":\"BooleanAspectModel\",\"clear\":\"https://www.ebay.com.my/sch/Car-Truck-Parts/6030/i.html?LH_PayPal=1&_from=R40&_fosrp=1&_nkw=Proton\",\"title\":\"Free postage\",\"selected\":true,\"values\":[],\"excluded\":[],\"hidden\":true,\"hideInChooseMore\":false,\"name\":\"LH_FS\",\"action\":\"https://www.ebay.com.my/sch/Car-Truck-Parts/6030/i.html?LH_PayPal=1&_from=R40&_fosrp=1&_nkw=Proton&rt=nc\",\"closed\":false,\"included\":[],\"paramName\":\"LH_FS\",\"countString\":\"0\",\"disabled\":false}],\"suppressDistanceModel\":false,\"showCount\":false,\"display\":\"CUSTOM\",\"itemLocationRedesignEnabled\":false,\"paramValue\":null,\"type\":\"PricePlusShippingAspectModel\",\"clear\":null,\"title\":\"Price\",\"selected\":false,\"hidden\":true,\"hideInChooseMore\":false,\"name\":\"LH_Price\",\"action\":null,\"closed\":false,\"paramName\":null,\"countString\":\"0\",\"disabled\":false},{\"selectedAspectCount\":0,\"seeMoreLinkIndex\":null,\"count\":0,\"param\":null,\"suppressDistanceModel\":false,\"showCount\":false,\"display\":\"SLIDER\",\"itemLocationRedesignEnabled\":false,\"paramValue\":null,\"type\":\"LocationAspectModelDash\",\"eid\":\"e1-31\",\"clear\":null,\"title\":\"Item Location\",\"selected\":false,\"values\":[{\"selected\":true,\"title\":\"All items listed on eBay.com.my\",\"count\":0,\"param\":\"0\",\"hrRefTitle\":\"All items listed on eBay.com.my\",\"eid\":\"e1-32\",\"countString\":\"0\",\"url\":\"https://www.ebay.com.my/sch/Car-Truck-Parts/6030/i.html?LH_PayPal=1&_from=R40&LH_FS=1&_fosrp=1&_nkw=Proton&rt=nc&LH_PrefLoc=0\",\"disabled\":false},{\"selected\":false,\"title\":\"Malaysia Only\",\"count\":0,\"param\":\"1\",\"hrRefTitle\":\"Malaysia Only\",\"eid\":\"e1-34\",\"countString\":\"0\",\"url\":\"https://www.ebay.com.my/sch/Car-Truck-Parts/6030/i.html?LH_PayPal=1&_from=R40&LH_FS=1&_fosrp=1&_nkw=Proton&rt=nc&LH_PrefLoc=1\",\"disabled\":false},{\"selected\":false,\"title\":\"Asia\",\"count\":0,\"param\":\"3\",\"hrRefTitle\":\"Asia\",\"eid\":\"e1-36\",\"countString\":\"0\",\"url\":\"https://www.ebay.com.my/sch/Car-Truck-Parts/6030/i.html?LH_PayPal=1&_from=R40&LH_FS=1&_fosrp=1&_nkw=Proton&rt=nc&LH_PrefLoc=3\",\"disabled\":false},{\"selected\":false,\"title\":\"Worldwide\",\"count\":0,\"param\":\"2\",\"hrRefTitle\":\"Worldwide\",\"eid\":\"e1-38\",\"countString\":\"0\",\"url\":\"https://www.ebay.com.my/sch/Car-Truck-Parts/6030/i.html?LH_PayPal=1&_from=R40&LH_FS=1&_fosrp=1&_nkw=Proton&rt=nc&LH_PrefLoc=2\",\"disabled\":false}],\"hidden\":false,\"hideInChooseMore\":false,\"name\":\"LH_PrefLoc\",\"action\":\"https://www.ebay.com.my/sch/Car-Truck-Parts/6030/i.html?LH_PayPal=1&_from=R40&LH_FS=1&_fosrp=1&_nkw=Proton&rt=nc&_pppn=r1&=&_ssan=LH_PrefLoc\",\"closed\":false,\"paramName\":null,\"countString\":\"0\",\"disabled\":false},{\"count\":0,\"param\":null,\"children\":[{\"selectedAspectCount\":0,\"seeMoreLinkIndex\":null,\"count\":0,\"param\":\"1\",\"suppressDistanceModel\":false,\"showCount\":false,\"display\":\"TEXT\",\"itemLocationRedesignEnabled\":false,\"paramValue\":\"1\",\"type\":\"BooleanAspectModel\",\"clear\":null,\"title\":\"eBay Top-rated sellers\",\"selected\":false,\"values\":[],\"excluded\":[],\"hidden\":false,\"hideInChooseMore\":false,\"name\":\"LH_TopRatedSellers\",\"action\":\"https://www.ebay.com.my/sch/Car-Truck-Parts/6030/i.html?LH_PayPal=1&_from=R40&LH_FS=1&_fosrp=1&_nkw=Proton&=&LH_TopRatedSellers=1\",\"closed\":false,\"included\":[],\"paramName\":\"LH_TopRatedSellers\",\"countString\":\"0\",\"disabled\":false}],\"showCount\":false,\"itemLocationRedesignEnabled\":false,\"type\":\"SellerAspectModel\",\"eid\":\"e1-40\",\"clear\":null,\"followEnabled\":true,\"selected\":false,\"title\":\"Seller\",\"name\":\"LH_FromSellers\",\"action\":\"https://www.ebay.com.my/sch/Car-Truck-Parts/6030/i.html?LH_PayPal=1&_from=R40&LH_FS=1&_fosrp=1&_nkw=Proton&rt=nc&_pppn=r1&=&_ssan=LH_FromSellers\",\"closed\":true,\"sellerTypeModel\":null,\"selectedAspectCount\":0,\"seeMoreLinkIndex\":null,\"suppressDistanceModel\":false,\"display\":\"TEXT\",\"paramValue\":null,\"showTRS\":true,\"hidden\":true,\"hideInChooseMore\":false,\"countString\":\"0\",\"paramName\":\"LH_FromSellers\",\"disabled\":false},{\"selectedAspectCount\":1,\"seeMoreLinkIndex\":null,\"count\":0,\"param\":null,\"children\":[{\"selectedAspectCount\":0,\"seeMoreLinkIndex\":null,\"count\":0,\"param\":\"1\",\"suppressDistanceModel\":false,\"showCount\":false,\"display\":\"CHECK_BOX\",\"itemLocationRedesignEnabled\":false,\"paramValue\":\"1\",\"type\":\"BooleanAspectModel\",\"eid\":\"e1-43\",\"clear\":\"https://www.ebay.com.my/sch/Car-Truck-Parts/6030/i.html?LH_PayPal=1&_from=R40&_fosrp=1&_nkw=Proton\",\"title\":\"Free postage\",\"selected\":true,\"values\":[],\"excluded\":[],\"hidden\":false,\"hideInChooseMore\":false,\"name\":\"LH_FS\",\"action\":\"https://www.ebay.com.my/sch/Car-Truck-Parts/6030/i.html?LH_PayPal=1&_from=R40&_fosrp=1&_nkw=Proton&rt=nc\",\"closed\":false,\"included\":[],\"paramName\":\"LH_FS\",\"countString\":\"0\",\"disabled\":false},{\"selectedAspectCount\":0,\"seeMoreLinkIndex\":null,\"count\":0,\"param\":\"1\",\"suppressDistanceModel\":false,\"showCount\":false,\"display\":\"CHECK_BOX\",\"itemLocationRedesignEnabled\":false,\"paramValue\":\"1\",\"type\":\"BooleanAspectModel\",\"eid\":\"e1-45\",\"clear\":null,\"title\":\"Completed listings\",\"selected\":false,\"values\":[],\"excluded\":[],\"hidden\":false,\"hideInChooseMore\":false,\"name\":\"LH_Complete\",\"action\":\"https://www.ebay.com.my/sch/Car-Truck-Parts/6030/i.html?LH_PayPal=1&_from=R40&LH_FS=1&_fosrp=1&_nkw=Proton&LH_Complete=1&rt=nc\",\"closed\":false,\"included\":[],\"paramName\":\"LH_Complete\",\"countString\":\"0\",\"disabled\":false},{\"selectedAspectCount\":0,\"seeMoreLinkIndex\":null,\"count\":0,\"param\":\"1\",\"suppressDistanceModel\":false,\"showCount\":false,\"display\":\"CHECK_BOX\",\"itemLocationRedesignEnabled\":false,\"paramValue\":\"1\",\"type\":\"BooleanAspectModel\",\"eid\":\"e1-47\",\"clear\":null,\"title\":\"Sold listings\",\"selected\":false,\"values\":[],\"excluded\":[],\"hidden\":false,\"hideInChooseMore\":false,\"name\":\"LH_Sold\",\"action\":\"https://www.ebay.com.my/sch/Car-Truck-Parts/6030/i.html?LH_PayPal=1&_from=R40&LH_FS=1&_fosrp=1&_nkw=Proton&LH_Complete=1&LH_Sold=1&rt=nc\",\"closed\":false,\"included\":[],\"paramName\":\"LH_Sold\",\"countString\":\"0\",\"disabled\":false}],\"suppressDistanceModel\":false,\"showCount\":false,\"display\":\"TEXT\",\"itemLocationRedesignEnabled\":false,\"paramValue\":null,\"type\":\"GroupAspectModel\",\"eid\":\"e1-41\",\"clear\":\"https://www.ebay.com.my/sch/Car-Truck-Parts/6030/i.html?LH_PayPal=1&_from=R40&_fosrp=1&_nkw=Proton&rt=nc\",\"title\":\"Show only\",\"selected\":true,\"hidden\":false,\"hideInChooseMore\":false,\"name\":\"LH_ShowOnly\",\"action\":\"https://www.ebay.com.my/sch/Car-Truck-Parts/6030/i.html?LH_PayPal=1&_from=R40&LH_FS=1&_fosrp=1&_nkw=Proton&rt=nc&_pppn=r1&_ssan=LH_ShowOnly&_ssav=LH_EXPEDITED%3D1\",\"closed\":false,\"paramName\":null,\"countString\":\"0\",\"disabled\":false}],\"eid\":\"e1-17\",\"decimal\":\".\",\"href\":\"https://www.ebay.com.my/sch/Car-Truck-Parts/6030/i.html?LH_PayPal=1&_from=R40&LH_FS=1&_fosrp=1&_nkw=Proton&=&rt=nc\"};\n",
       "\t\t\n",
       "\t\t// Add content to config\n",
       "\t\tc.content = {};\n",
       "\t\tc.content.options = 'options';\n",
       "\t\t\n",
       "\t\t\n",
       "\t\tvar A = raptor.require('panels.left.aspects.AspectPanel'); c.closeTxt = 'Close'; c.cancelTxt = 'Cancel<span class=\"hdnAcc\">and close dialog</span>'; c.goTxt = \"Go\"; c.ApplyTxt = \"Apply\"; c.FiltersAppliedTxt=\"Filters selected\"; c.FromTxt=\"From\"; c.NoFiltersTxt=\"No Filters Available\", c.RemoveSelectedTxt = \"Remove selected filter\";c.seeMoreAspectsText = \"See More\"; c.seeLessAspectsText = \"See Less\"; c.showAdditionalAspects = \"See additional aspects\"; c.hideAdditionalAspects = \"Hide additional aspects\";\n",
       "\t\twindow.setTimeout(function(){new A(c);},0);\n",
       "\t\t\n",
       "\t$(\"#e1-48, #e1-49\").click(function(e){\n",
       "\t\te.preventDefault();\n",
       "\t\traptor.require('search.utils.Popup').open($(this).attr('href'),800,800,$(this).attr('title'),'');\n",
       "\t\t$(this).blur(); \n",
       "\t\treturn false;\n",
       "\t});\n",
       "\n",
       "\traptor.require(\"sitespeed.SrpProfiler\").init({saasTime:'421', customImageTimers:'true',cassiniTime:'357',cassiniCategoryTime:'34',cassiniAspectTime:'0',fisngTime:'357',fisngCategoryTime:'34',fisngAspectTime:'0'});\n",
       "$rwidgets(['search.resultSet.ResultSet','w1-1',{\"img2\":\"https:\\u002F\\u002Fir.ebaystatic.com\\u002Fpictures\\u002Faw\\u002Fpics\\u002Fcmp\\u002Ficn\\u002FiconImgNA_96x96.gif\",\"elem\":\"e1-10\",\"img1\":\"https:\\u002F\\u002Fir.ebaystatic.com\\u002Fpictures\\u002Faw\\u002Fpics\\u002FglobalAssets\\u002FimgLoading_30x30.gif\",\"galleryPlusBaseUrl\":\"https:\\u002F\\u002Fgalleryplus.ebayimg.com\\u002Fws\\u002Fweb\",\"isLazyLoadOnLoad\":false,\"stockPhoto\":\"https:\\u002F\\u002Fir.ebaystatic.com\\u002Fpictures\\u002Faw\\u002Fpics\\u002Fstockimage1.jpg\",\"useHistoryBackFromVI\":false,\"trackingId\":\"p2045573.m1686\",\"isTrackTopAd\":false,\"isHideTopAd\":false,\"msg\":\",message1:\\\"This item is suitable for the vehicle shown. Please check the compatibility section in the item description for more details.\\\",message2:\\\"This item is suitable for this specification. Please see the item description for more details.\\\",message3:\\\"This item is suitable for multiple vehicles. Please check the compatibility section in the item description for more details.\\\",message4:\\\"This item is suitable for multiple vehicles. Please check the compatibility section in the item description for more details.\\\"\",\"img3\":\"https:\\u002F\\u002Fir.ebaystatic.com\\u002Fpictures\\u002Faw\\u002Fpics\\u002Fcmp\\u002Ficn\\u002FiconImgNA_32x32.gif\"}]);new (raptor.require('raptor.tracking.core.Tracker'))({\"psi\":\"AIXAiCyw*\",\"rover\":{\"imp\":\"/roverimp/0/0/9\",\"clk\":\"/roverclk/0/0/9\",\"uri\":\"https://rover.ebay.com.my\"},\"pid\":\"p2045573\"});raptor.require('raptor.tracking.idmap.IdMap').roverService(\"https://rover.ebay.com.my/idmap/0?footer\");})();</script>\n",
       "<!-- RcmdId SearchResultPageRaptor,RlogId t6pwslg%60%3C%3Dpietqpmcf%28%7C0a%7F3*w%60ut3522-178aa217025-0x158 -->\n",
       "<!-- SiteId: 207, Environment: production, AppName: srpraptor, PageId: 2045573 -->\n",
       "</div><script>window.MutationObserver&&(new MutationObserver(function(c){c.forEach(function(b){\"attributes\"===b.type&&\"style\"===b.attributeName&&document.querySelectorAll(\"iframe\").forEach(function(a){if(-1<a.src.indexOf(\"pbjikboenpfhbbejgkoklgkhjpfogcam\")||-1<a.src.indexOf(\"amazon\"))a.parentNode.removeChild(a),document.getElementsByTagName(\"html\")[0].style.marginTop=0,$(document).trigger(\"rover\",{ex1:46118})})})})).observe(document.getElementsByTagName(\"html\")[0],{attributes:!0});</script>\n",
       "</body>\n",
       "</html>\n",
       "<!--production-->"
      ]
     },
     "execution_count": 3,
     "metadata": {},
     "output_type": "execute_result"
    }
   ],
   "source": [
    "soup = BeautifulSoup(page.content,'html.parser')\n",
    "soup"
   ]
  },
  {
   "cell_type": "markdown",
   "metadata": {},
   "source": [
    "Observe that the downloaded page"
   ]
  },
  {
   "cell_type": "code",
   "execution_count": 4,
   "metadata": {
    "tags": [
     "outputPrepend"
    ]
   },
   "outputs": [
    {
     "name": "stdout",
     "output_type": "stream",
     "text": [
      "oad:false, isHideTopAd:false, isTrackTopAd:false});\n",
      "\t\t\n",
      "\t\n",
      "\t\tvar RRD = raptor.require(\"search.resultSet.ResultSetRd\");\n",
      "\t\tnew RRD({elem:'e1-10',galleryPlusBaseUrl:'https://galleryplus.ebayimg.com/ws/web', img1: 'https://ir.ebaystatic.com/pictures/aw/pics/globalAssets/imgLoading_30x30.gif',\n",
      "\t\timg2: 'https://ir.ebaystatic.com/pictures/aw/pics/cmp/icn/iconImgNA_96x96.gif', img3: 'https://ir.ebaystatic.com/pictures/aw/pics/cmp/icn/iconImgNA_32x32.gif', stockPhoto: 'https://ir.ebaystatic.com/pictures/aw/pics/stockimage1.jpg',\n",
      "\t\ttrackingId:'p2045573.m1686',message1:\"This item is suitable for the vehicle shown. Please check the compatibility section in the item description for more details.\",message2:\"This item is suitable for this specification. Please see the item description for more details.\",message3:\"This item is suitable for multiple vehicles. Please check the compatibility section in the item description for more details.\",message4:\"This item is suitable for multiple vehicles. Please check the compatibility section in the item description for more details.\", 'thImg': 'https://ir.ebaystatic.com/pictures/aw/pics/globalAssets/imgLoading_30x30.gif', 'sgif':'https://ir.ebaystatic.com/pictures/aw/pics/s.gif', 'cols':3,\n",
      "\t\t'model':{\"322459673397\":{\"photoCount\":8,\"imageSize\":225,\"isWinningVariant\":false},\"303102023592\":{\"photoCount\":1,\"imageSize\":225,\"isWinningVariant\":false},\"303102023556\":{\"photoCount\":2,\"imageSize\":225,\"isWinningVariant\":false},\"322459651652\":{\"photoCount\":9,\"imageSize\":225,\"isWinningVariant\":false},\"303625039301\":{\"photoCount\":2,\"imageSize\":225,\"isWinningVariant\":false},\"142868289246\":{\"photoCount\":7,\"imageSize\":225,\"isWinningVariant\":false},\"303102025374\":{\"photoCount\":2,\"imageSize\":225,\"isWinningVariant\":false},\"333899954603\":{\"photoCount\":1,\"imageSize\":225,\"isWinningVariant\":false},\"174551340734\":{\"photoCount\":7,\"imageSize\":225,\"isWinningVariant\":false},\"322459678595\":{\"photoCount\":7,\"imageSize\":225,\"isWinningVariant\":false},\"132458501815\":{\"photoCount\":2,\"imageSize\":225,\"isWinningVariant\":false},\"274392645447\":{\"photoCount\":3,\"imageSize\":225,\"isWinningVariant\":false},\"112599534727\":{\"photoCount\":2,\"imageSize\":225,\"isWinningVariant\":false},\"113676748360\":{\"photoCount\":4,\"imageSize\":225,\"isWinningVariant\":false},\"143046332002\":{\"photoCount\":3,\"imageSize\":225,\"isWinningVariant\":false}},'miEnable':false, 'lazyLoad':false,\n",
      "\t\t'multiImgFlip':false,'multiImgMsku':false, 'autoImageChange':false, \n",
      "\t\t'showPhotoCount':true, 'arrowsByDefault':false, 'PCntTxt':'Photos'});\n",
      "\t \n",
      "\t\tvar DP = raptor.require('search.date.DateReplacement');\n",
      "\t\tvar o = new DP({baseFormOnly: false, dateAttr:\"timeMs\", dateElemSelector:\"span.timeMs\", secondsTerm:[\"##1##s left\",\"##1##s left\"], minutesTerm:[\"##1##m left\",\"##1##m left\"], hoursTerm:[\"##1##h left\",\"##1##h left\"], daysTerm:[\"##1##d left\",\"##1##d left\"], daysHoursTerm:[\"##1##d ##2##h left\",\"##1##d ##2##h left\"], endedTerm:\"Ended\", endsTomorrowTerm:\"Tomorrow\", todayTerm:\"Today\", days:[\"Sunday\", \"Monday\",\"Tuesday\",\"Wednesday\",\"Thursday\",\"Friday\",\"Saturday\"], AM:\"AM\", PM:\"PM\", serverTime:\"1617762021953\", endingTime:\"Ending time\", is24HR:true, islt60minInRedEnabled:true,isShowRelativeTime:true, PBOsecondsTerm:[\"\",\"##1##s\"], PBOminutesTerm:[\"##1##m\",\"##1##m\"], PBOhoursTerm:[\"##1##h\",\"##1##h\"], PBOdaysTerm:[\"##1##d\",\"##1##d\"], PBOdaysHoursTerm:[\"##1##d ##2##h\",\"##1##d ##2##h\"]});\n",
      "\t\to.startLoop(1000);\n",
      "\t\n",
      "\traptor.require(\"search.layers.TopRatedPlus\").init();\n",
      "\n",
      "\traptor.require(\"search.prefetchVI.UnregisterServiceWorker\").init();\n",
      "\n",
      "\t\tvar imagePreFetcher = raptor.require(\"search.resultSet.PrefetchPaginationImages\");\n",
      "\t\timagePreFetcher.init({imgUrls : []});\n",
      "\n",
      "\tvar C = raptor.require(\"search.leftnav.Categories\");\n",
      "\tnew C().initCategories({elem:'e1-11', \n",
      "\tmoreText:\"More\",\n",
      "\tfewerText:\"Fewer\", \n",
      "\tshowMoreTextUVCC:\"Show more\", \n",
      "\tshowLessTextUVCC:\"Show less\", \n",
      "\tshowMoreCategoriesTrackingId:'p2045573.m1685.l6772', \n",
      "\tshowAdditionalCats: 'Show more categories', \n",
      "\thideAdditionalCats: 'Show fewer categories',\n",
      "\tautoAppliedCategoryPath:[\n",
      "\t\t\n",
      "\t]\n",
      "\t});\n",
      "\n",
      "\t\tvar c = {\"title\":null,\"grouping\":\",\",\"children\":[{\"selectedAspectCount\":1,\"seeMoreLinkIndex\":null,\"count\":0,\"param\":null,\"children\":[{\"selectedAspectCount\":0,\"seeMoreLinkIndex\":null,\"count\":0,\"param\":null,\"suppressDistanceModel\":false,\"showCount\":false,\"display\":\"RADIO_BUTTONS\",\"itemLocationRedesignEnabled\":false,\"paramValue\":null,\"type\":\"BooleanAspectModel\",\"eid\":\"e1-20\",\"clear\":\"https://www.ebay.com.my/sch/Car-Truck-Parts/6030/i.html?LH_PayPal=1&_from=R40&LH_FS=1&_fosrp=1&_nkw=Proton&rt=nc\",\"title\":\"All Listings\",\"selected\":true,\"values\":[],\"excluded\":[],\"hidden\":false,\"hideInChooseMore\":false,\"name\":\"LH_AllListings\",\"action\":\"https://www.ebay.com.my/sch/Car-Truck-Parts/6030/i.html?LH_PayPal=1&_from=R40&LH_FS=1&_fosrp=1&_nkw=Proton&rt=nc\",\"closed\":false,\"included\":[],\"paramName\":null,\"countString\":\"0\",\"disabled\":false},{\"selectedAspectCount\":0,\"seeMoreLinkIndex\":null,\"count\":0,\"param\":\"1\",\"suppressDistanceModel\":false,\"showCount\":false,\"display\":\"RADIO_BUTTONS\",\"itemLocationRedesignEnabled\":false,\"paramValue\":\"1\",\"type\":\"BooleanAspectModel\",\"eid\":\"e1-22\",\"clear\":null,\"title\":\"Auction\",\"selected\":false,\"values\":[],\"excluded\":[],\"hidden\":false,\"hideInChooseMore\":false,\"name\":\"LH_Auction\",\"action\":\"https://www.ebay.com.my/sch/Car-Truck-Parts/6030/i.html?LH_PayPal=1&_from=R40&LH_FS=1&_fosrp=1&_nkw=Proton&rt=nc&LH_Auction=1\",\"closed\":false,\"included\":[],\"paramName\":\"LH_Auction\",\"countString\":\"0\",\"disabled\":false},{\"selectedAspectCount\":0,\"seeMoreLinkIndex\":null,\"count\":0,\"param\":\"1\",\"suppressDistanceModel\":false,\"showCount\":false,\"display\":\"TEXT\",\"itemLocationRedesignEnabled\":false,\"paramValue\":\"1\",\"type\":\"BooleanAspectModel\",\"eid\":\"e1-24\",\"clear\":null,\"title\":\"Buy It Now\",\"selected\":false,\"values\":[],\"excluded\":[],\"hidden\":false,\"hideInChooseMore\":false,\"name\":\"LH_BIN\",\"action\":\"https://www.ebay.com.my/sch/Car-Truck-Parts/6030/i.html?LH_PayPal=1&_from=R40&LH_FS=1&_fosrp=1&_nkw=Proton&rt=nc&LH_BIN=1\",\"closed\":false,\"included\":[],\"paramName\":\"LH_BIN\",\"countString\":\"0\",\"disabled\":false}],\"suppressDistanceModel\":false,\"showCount\":false,\"display\":\"RADIO_BUTTONS\",\"itemLocationRedesignEnabled\":false,\"paramValue\":null,\"type\":\"GroupAspectModel\",\"eid\":\"e1-18\",\"clear\":null,\"title\":\"Format\",\"selected\":false,\"hidden\":false,\"hideInChooseMore\":false,\"name\":\"LH_BuyingFormats\",\"action\":\"https://www.ebay.com.my/sch/Car-Truck-Parts/6030/i.html?LH_PayPal=1&_from=R40&LH_FS=1&_fosrp=1&_nkw=Proton&rt=nc&_pppn=r1&_ssan=LH_BuyingFormats\",\"closed\":false,\"paramName\":null,\"countString\":\"0\",\"disabled\":false},{\"selectedAspectCount\":0,\"seeMoreLinkIndex\":null,\"count\":0,\"param\":null,\"suppressDistanceModel\":false,\"showCount\":true,\"display\":\"TEXT\",\"itemLocationRedesignEnabled\":false,\"paramValue\":null,\"type\":\"ItemConditionAspectModel\",\"eid\":\"e1-25\",\"info\":null,\"clear\":\"https://www.ebay.com.my/sch/Car-Truck-Parts/6030/i.html?LH_PayPal=1&_from=R40&LH_FS=1&_fosrp=1&_nkw=Proton\",\"title\":\"Condition\",\"selected\":false,\"values\":[{\"selected\":false,\"title\":\"New\",\"count\":14,\"param\":\"1000\",\"discription\":\"New\",\"hrRefTitle\":null,\"eid\":\"e1-26\",\"countString\":\"14\",\"url\":\"https://www.ebay.com.my/sch/Car-Truck-Parts/6030/i.html?LH_PayPal=1&_from=R40&LH_FS=1&_fosrp=1&_nkw=Proton&=&rt=nc&LH_ItemCondition=1000\",\"disabled\":false},{\"selected\":false,\"title\":\"Used\",\"count\":1,\"param\":\"3000\",\"discription\":\"Used\",\"hrRefTitle\":null,\"eid\":\"e1-28\",\"countString\":\"1\",\"url\":\"https://www.ebay.com.my/sch/Car-Truck-Parts/6030/i.html?LH_PayPal=1&_from=R40&LH_FS=1&_fosrp=1&_nkw=Proton&=&rt=nc&LH_ItemCondition=3000\",\"disabled\":false}],\"hidden\":false,\"hideInChooseMore\":false,\"name\":\"LH_ItemCondition\",\"action\":\"https://www.ebay.com.my/sch/Car-Truck-Parts/6030/i.html?LH_PayPal=1&_from=R40&LH_FS=1&_fosrp=1&_nkw=Proton&rt=nc&_pppn=r1&=&_ssan=LH_ItemCondition\",\"closed\":false,\"paramName\":\"LH_ItemCondition\",\"countString\":\"0\",\"disabled\":false},{\"selectedAspectCount\":226498,\"seeMoreLinkIndex\":null,\"count\":0,\"param\":null,\"children\":[{\"lowerBound\":\"\",\"count\":0,\"param\":null,\"showCount\":false,\"itemLocationRedesignEnabled\":false,\"type\":\"PriceAspectModelDash\",\"priceLabelKey\":\"PRICE\",\"defaultParam\":\"LH_Price\",\"clear\":null,\"baseUrl\":\"https://www.ebay.com.my/sch/Car-Truck-Parts/6030/i.html?LH_PayPal=1&_from=R40&LH_FS=1&_fosrp=1&_nkw=Proton&_mPrRngCbx=1\",\"shipping\":{\"selected\":false,\"param\":\"_ssc\",\"url\":\"https://www.ebay.com.my/sch/Car-Truck-Parts/6030/i.html?LH_PayPal=1&_from=R40&LH_FS=1&_fosrp=1&_nkw=Proton&=&_ssc=1\"},\"selected\":false,\"title\":\"Price\",\"grouping\":\",\",\"minimumLimit\":\"0\",\"name\":\"LH_Price\",\"action\":\"https://www.ebay.com.my/sch/Car-Truck-Parts/6030/i.html?LH_PayPal=1&_from=R40&LH_FS=1&_fosrp=1&_nkw=Proton&rt=nc&_ssan=LH_Price\",\"closed\":false,\"upperBound\":\"\",\"lowerBoundParam\":\"_udlo\",\"selectedAspectCount\":0,\"seeMoreLinkIndex\":null,\"symbol\":\"RM\",\"Maximum\":\"<label class='g-hdn' for='e1-13'>Enter maximum price</label><input class='price' pattern='\\\\d*' type='text' size='6' maxlength='13' name='_udhi' id='e1-13' value=\\\"\\\"  />\",\"MinimumPrice\":\"<label class='g-hdn' for='e1-14'>Enter minimum price</label><input class='pricehr' pattern='\\\\d*' type='text' size='6' maxlength='13' name='_udlo' id='e1-14' value=\\\"\\\"  />\",\"maximumLimit\":\"0\",\"suppressDistanceModel\":false,\"display\":\"RANGE\",\"paramValue\":null,\"lowPrice\":null,\"decimal\":\".\",\"upperBoundParam\":\"_udhi\",\"PriceRange\":\"\",\"pattern\":\"Sen\",\"Symbol\":\"RM\",\"hidden\":false,\"hideInChooseMore\":false,\"Minimum\":\"<label class='g-hdn' for='e1-12'>Enter minimum price</label><input class='price' pattern='\\\\d*' type='text' size='6' maxlength='13' name='_udlo' id='e1-12' value=\\\"\\\"  />\",\"MaximumPrice\":\"<label class='g-hdn' for='e1-15'>Enter maximum price</label><input class='pricehr' pattern='\\\\d*' type='text' size='6' maxlength='13' name='_udhi' id='e1-15' value=\\\"\\\"  /><input id=\\\"e1-16\\\"  title=\\\"Submit price range\\\" class=\\\"hide-text sprBtnSRP1 submit\\\" type=\\\"button\\\" />\",\"highPrice\":null,\"countString\":\"0\",\"paramName\":null,\"disabled\":false},{\"selectedAspectCount\":0,\"seeMoreLinkIndex\":null,\"count\":0,\"param\":\"1\",\"suppressDistanceModel\":false,\"showCount\":false,\"display\":\"TEXT\",\"itemLocationRedesignEnabled\":false,\"paramValue\":\"1\",\"type\":\"BooleanAspectModel\",\"clear\":\"https://www.ebay.com.my/sch/Car-Truck-Parts/6030/i.html?LH_PayPal=1&_from=R40&_fosrp=1&_nkw=Proton\",\"title\":\"Free postage\",\"selected\":true,\"values\":[],\"excluded\":[],\"hidden\":true,\"hideInChooseMore\":false,\"name\":\"LH_FS\",\"action\":\"https://www.ebay.com.my/sch/Car-Truck-Parts/6030/i.html?LH_PayPal=1&_from=R40&_fosrp=1&_nkw=Proton&rt=nc\",\"closed\":false,\"included\":[],\"paramName\":\"LH_FS\",\"countString\":\"0\",\"disabled\":false}],\"suppressDistanceModel\":false,\"showCount\":false,\"display\":\"CUSTOM\",\"itemLocationRedesignEnabled\":false,\"paramValue\":null,\"type\":\"PricePlusShippingAspectModel\",\"clear\":null,\"title\":\"Price\",\"selected\":false,\"hidden\":true,\"hideInChooseMore\":false,\"name\":\"LH_Price\",\"action\":null,\"closed\":false,\"paramName\":null,\"countString\":\"0\",\"disabled\":false},{\"selectedAspectCount\":0,\"seeMoreLinkIndex\":null,\"count\":0,\"param\":null,\"suppressDistanceModel\":false,\"showCount\":false,\"display\":\"SLIDER\",\"itemLocationRedesignEnabled\":false,\"paramValue\":null,\"type\":\"LocationAspectModelDash\",\"eid\":\"e1-31\",\"clear\":null,\"title\":\"Item Location\",\"selected\":false,\"values\":[{\"selected\":true,\"title\":\"All items listed on eBay.com.my\",\"count\":0,\"param\":\"0\",\"hrRefTitle\":\"All items listed on eBay.com.my\",\"eid\":\"e1-32\",\"countString\":\"0\",\"url\":\"https://www.ebay.com.my/sch/Car-Truck-Parts/6030/i.html?LH_PayPal=1&_from=R40&LH_FS=1&_fosrp=1&_nkw=Proton&rt=nc&LH_PrefLoc=0\",\"disabled\":false},{\"selected\":false,\"title\":\"Malaysia Only\",\"count\":0,\"param\":\"1\",\"hrRefTitle\":\"Malaysia Only\",\"eid\":\"e1-34\",\"countString\":\"0\",\"url\":\"https://www.ebay.com.my/sch/Car-Truck-Parts/6030/i.html?LH_PayPal=1&_from=R40&LH_FS=1&_fosrp=1&_nkw=Proton&rt=nc&LH_PrefLoc=1\",\"disabled\":false},{\"selected\":false,\"title\":\"Asia\",\"count\":0,\"param\":\"3\",\"hrRefTitle\":\"Asia\",\"eid\":\"e1-36\",\"countString\":\"0\",\"url\":\"https://www.ebay.com.my/sch/Car-Truck-Parts/6030/i.html?LH_PayPal=1&_from=R40&LH_FS=1&_fosrp=1&_nkw=Proton&rt=nc&LH_PrefLoc=3\",\"disabled\":false},{\"selected\":false,\"title\":\"Worldwide\",\"count\":0,\"param\":\"2\",\"hrRefTitle\":\"Worldwide\",\"eid\":\"e1-38\",\"countString\":\"0\",\"url\":\"https://www.ebay.com.my/sch/Car-Truck-Parts/6030/i.html?LH_PayPal=1&_from=R40&LH_FS=1&_fosrp=1&_nkw=Proton&rt=nc&LH_PrefLoc=2\",\"disabled\":false}],\"hidden\":false,\"hideInChooseMore\":false,\"name\":\"LH_PrefLoc\",\"action\":\"https://www.ebay.com.my/sch/Car-Truck-Parts/6030/i.html?LH_PayPal=1&_from=R40&LH_FS=1&_fosrp=1&_nkw=Proton&rt=nc&_pppn=r1&=&_ssan=LH_PrefLoc\",\"closed\":false,\"paramName\":null,\"countString\":\"0\",\"disabled\":false},{\"count\":0,\"param\":null,\"children\":[{\"selectedAspectCount\":0,\"seeMoreLinkIndex\":null,\"count\":0,\"param\":\"1\",\"suppressDistanceModel\":false,\"showCount\":false,\"display\":\"TEXT\",\"itemLocationRedesignEnabled\":false,\"paramValue\":\"1\",\"type\":\"BooleanAspectModel\",\"clear\":null,\"title\":\"eBay Top-rated sellers\",\"selected\":false,\"values\":[],\"excluded\":[],\"hidden\":false,\"hideInChooseMore\":false,\"name\":\"LH_TopRatedSellers\",\"action\":\"https://www.ebay.com.my/sch/Car-Truck-Parts/6030/i.html?LH_PayPal=1&_from=R40&LH_FS=1&_fosrp=1&_nkw=Proton&=&LH_TopRatedSellers=1\",\"closed\":false,\"included\":[],\"paramName\":\"LH_TopRatedSellers\",\"countString\":\"0\",\"disabled\":false}],\"showCount\":false,\"itemLocationRedesignEnabled\":false,\"type\":\"SellerAspectModel\",\"eid\":\"e1-40\",\"clear\":null,\"followEnabled\":true,\"selected\":false,\"title\":\"Seller\",\"name\":\"LH_FromSellers\",\"action\":\"https://www.ebay.com.my/sch/Car-Truck-Parts/6030/i.html?LH_PayPal=1&_from=R40&LH_FS=1&_fosrp=1&_nkw=Proton&rt=nc&_pppn=r1&=&_ssan=LH_FromSellers\",\"closed\":true,\"sellerTypeModel\":null,\"selectedAspectCount\":0,\"seeMoreLinkIndex\":null,\"suppressDistanceModel\":false,\"display\":\"TEXT\",\"paramValue\":null,\"showTRS\":true,\"hidden\":true,\"hideInChooseMore\":false,\"countString\":\"0\",\"paramName\":\"LH_FromSellers\",\"disabled\":false},{\"selectedAspectCount\":1,\"seeMoreLinkIndex\":null,\"count\":0,\"param\":null,\"children\":[{\"selectedAspectCount\":0,\"seeMoreLinkIndex\":null,\"count\":0,\"param\":\"1\",\"suppressDistanceModel\":false,\"showCount\":false,\"display\":\"CHECK_BOX\",\"itemLocationRedesignEnabled\":false,\"paramValue\":\"1\",\"type\":\"BooleanAspectModel\",\"eid\":\"e1-43\",\"clear\":\"https://www.ebay.com.my/sch/Car-Truck-Parts/6030/i.html?LH_PayPal=1&_from=R40&_fosrp=1&_nkw=Proton\",\"title\":\"Free postage\",\"selected\":true,\"values\":[],\"excluded\":[],\"hidden\":false,\"hideInChooseMore\":false,\"name\":\"LH_FS\",\"action\":\"https://www.ebay.com.my/sch/Car-Truck-Parts/6030/i.html?LH_PayPal=1&_from=R40&_fosrp=1&_nkw=Proton&rt=nc\",\"closed\":false,\"included\":[],\"paramName\":\"LH_FS\",\"countString\":\"0\",\"disabled\":false},{\"selectedAspectCount\":0,\"seeMoreLinkIndex\":null,\"count\":0,\"param\":\"1\",\"suppressDistanceModel\":false,\"showCount\":false,\"display\":\"CHECK_BOX\",\"itemLocationRedesignEnabled\":false,\"paramValue\":\"1\",\"type\":\"BooleanAspectModel\",\"eid\":\"e1-45\",\"clear\":null,\"title\":\"Completed listings\",\"selected\":false,\"values\":[],\"excluded\":[],\"hidden\":false,\"hideInChooseMore\":false,\"name\":\"LH_Complete\",\"action\":\"https://www.ebay.com.my/sch/Car-Truck-Parts/6030/i.html?LH_PayPal=1&_from=R40&LH_FS=1&_fosrp=1&_nkw=Proton&LH_Complete=1&rt=nc\",\"closed\":false,\"included\":[],\"paramName\":\"LH_Complete\",\"countString\":\"0\",\"disabled\":false},{\"selectedAspectCount\":0,\"seeMoreLinkIndex\":null,\"count\":0,\"param\":\"1\",\"suppressDistanceModel\":false,\"showCount\":false,\"display\":\"CHECK_BOX\",\"itemLocationRedesignEnabled\":false,\"paramValue\":\"1\",\"type\":\"BooleanAspectModel\",\"eid\":\"e1-47\",\"clear\":null,\"title\":\"Sold listings\",\"selected\":false,\"values\":[],\"excluded\":[],\"hidden\":false,\"hideInChooseMore\":false,\"name\":\"LH_Sold\",\"action\":\"https://www.ebay.com.my/sch/Car-Truck-Parts/6030/i.html?LH_PayPal=1&_from=R40&LH_FS=1&_fosrp=1&_nkw=Proton&LH_Complete=1&LH_Sold=1&rt=nc\",\"closed\":false,\"included\":[],\"paramName\":\"LH_Sold\",\"countString\":\"0\",\"disabled\":false}],\"suppressDistanceModel\":false,\"showCount\":false,\"display\":\"TEXT\",\"itemLocationRedesignEnabled\":false,\"paramValue\":null,\"type\":\"GroupAspectModel\",\"eid\":\"e1-41\",\"clear\":\"https://www.ebay.com.my/sch/Car-Truck-Parts/6030/i.html?LH_PayPal=1&_from=R40&_fosrp=1&_nkw=Proton&rt=nc\",\"title\":\"Show only\",\"selected\":true,\"hidden\":false,\"hideInChooseMore\":false,\"name\":\"LH_ShowOnly\",\"action\":\"https://www.ebay.com.my/sch/Car-Truck-Parts/6030/i.html?LH_PayPal=1&_from=R40&LH_FS=1&_fosrp=1&_nkw=Proton&rt=nc&_pppn=r1&_ssan=LH_ShowOnly&_ssav=LH_EXPEDITED%3D1\",\"closed\":false,\"paramName\":null,\"countString\":\"0\",\"disabled\":false}],\"eid\":\"e1-17\",\"decimal\":\".\",\"href\":\"https://www.ebay.com.my/sch/Car-Truck-Parts/6030/i.html?LH_PayPal=1&_from=R40&LH_FS=1&_fosrp=1&_nkw=Proton&=&rt=nc\"};\n",
      "\t\t\n",
      "\t\t// Add content to config\n",
      "\t\tc.content = {};\n",
      "\t\tc.content.options = 'options';\n",
      "\t\t\n",
      "\t\t\n",
      "\t\tvar A = raptor.require('panels.left.aspects.AspectPanel'); c.closeTxt = 'Close'; c.cancelTxt = 'Cancel<span class=\"hdnAcc\">and close dialog</span>'; c.goTxt = \"Go\"; c.ApplyTxt = \"Apply\"; c.FiltersAppliedTxt=\"Filters selected\"; c.FromTxt=\"From\"; c.NoFiltersTxt=\"No Filters Available\", c.RemoveSelectedTxt = \"Remove selected filter\";c.seeMoreAspectsText = \"See More\"; c.seeLessAspectsText = \"See Less\"; c.showAdditionalAspects = \"See additional aspects\"; c.hideAdditionalAspects = \"Hide additional aspects\";\n",
      "\t\twindow.setTimeout(function(){new A(c);},0);\n",
      "\t\t\n",
      "\t$(\"#e1-48, #e1-49\").click(function(e){\n",
      "\t\te.preventDefault();\n",
      "\t\traptor.require('search.utils.Popup').open($(this).attr('href'),800,800,$(this).attr('title'),'');\n",
      "\t\t$(this).blur(); \n",
      "\t\treturn false;\n",
      "\t});\n",
      "\n",
      "\traptor.require(\"sitespeed.SrpProfiler\").init({saasTime:'421', customImageTimers:'true',cassiniTime:'357',cassiniCategoryTime:'34',cassiniAspectTime:'0',fisngTime:'357',fisngCategoryTime:'34',fisngAspectTime:'0'});\n",
      "$rwidgets(['search.resultSet.ResultSet','w1-1',{\"img2\":\"https:\\u002F\\u002Fir.ebaystatic.com\\u002Fpictures\\u002Faw\\u002Fpics\\u002Fcmp\\u002Ficn\\u002FiconImgNA_96x96.gif\",\"elem\":\"e1-10\",\"img1\":\"https:\\u002F\\u002Fir.ebaystatic.com\\u002Fpictures\\u002Faw\\u002Fpics\\u002FglobalAssets\\u002FimgLoading_30x30.gif\",\"galleryPlusBaseUrl\":\"https:\\u002F\\u002Fgalleryplus.ebayimg.com\\u002Fws\\u002Fweb\",\"isLazyLoadOnLoad\":false,\"stockPhoto\":\"https:\\u002F\\u002Fir.ebaystatic.com\\u002Fpictures\\u002Faw\\u002Fpics\\u002Fstockimage1.jpg\",\"useHistoryBackFromVI\":false,\"trackingId\":\"p2045573.m1686\",\"isTrackTopAd\":false,\"isHideTopAd\":false,\"msg\":\",message1:\\\"This item is suitable for the vehicle shown. Please check the compatibility section in the item description for more details.\\\",message2:\\\"This item is suitable for this specification. Please see the item description for more details.\\\",message3:\\\"This item is suitable for multiple vehicles. Please check the compatibility section in the item description for more details.\\\",message4:\\\"This item is suitable for multiple vehicles. Please check the compatibility section in the item description for more details.\\\"\",\"img3\":\"https:\\u002F\\u002Fir.ebaystatic.com\\u002Fpictures\\u002Faw\\u002Fpics\\u002Fcmp\\u002Ficn\\u002FiconImgNA_32x32.gif\"}]);new (raptor.require('raptor.tracking.core.Tracker'))({\"psi\":\"AIXAiCyw*\",\"rover\":{\"imp\":\"/roverimp/0/0/9\",\"clk\":\"/roverclk/0/0/9\",\"uri\":\"https://rover.ebay.com.my\"},\"pid\":\"p2045573\"});raptor.require('raptor.tracking.idmap.IdMap').roverService(\"https://rover.ebay.com.my/idmap/0?footer\");})();\n",
      "   </script>\n",
      "   <!-- RcmdId SearchResultPageRaptor,RlogId t6pwslg%60%3C%3Dpietqpmcf%28%7C0a%7F3*w%60ut3522-178aa217025-0x158 -->\n",
      "   <!-- SiteId: 207, Environment: production, AppName: srpraptor, PageId: 2045573 -->\n",
      "  </div>\n",
      "  <script>\n",
      "   window.MutationObserver&&(new MutationObserver(function(c){c.forEach(function(b){\"attributes\"===b.type&&\"style\"===b.attributeName&&document.querySelectorAll(\"iframe\").forEach(function(a){if(-1<a.src.indexOf(\"pbjikboenpfhbbejgkoklgkhjpfogcam\")||-1<a.src.indexOf(\"amazon\"))a.parentNode.removeChild(a),document.getElementsByTagName(\"html\")[0].style.marginTop=0,$(document).trigger(\"rover\",{ex1:46118})})})})).observe(document.getElementsByTagName(\"html\")[0],{attributes:!0});\n",
      "  </script>\n",
      " </body>\n",
      "</html>\n",
      "<!--production-->\n",
      "\n"
     ]
    }
   ],
   "source": [
    "print(soup.prettify())"
   ]
  },
  {
   "cell_type": "markdown",
   "metadata": {},
   "source": [
    "Observe that the HTML doc is now a human readable document"
   ]
  },
  {
   "cell_type": "code",
   "execution_count": 7,
   "metadata": {},
   "outputs": [
    {
     "data": {
      "text/plain": [
       "se});\n",
       " \t\t\n",
       " \t\n",
       " \t\tvar RRD = raptor.require(\"search.resultSet.ResultSetRd\");\n",
       " \t\tnew RRD({elem:'e1-10',galleryPlusBaseUrl:'https://galleryplus.ebayimg.com/ws/web', img1: 'https://ir.ebaystatic.com/pictures/aw/pics/globalAssets/imgLoading_30x30.gif',\n",
       " \t\timg2: 'https://ir.ebaystatic.com/pictures/aw/pics/cmp/icn/iconImgNA_96x96.gif', img3: 'https://ir.ebaystatic.com/pictures/aw/pics/cmp/icn/iconImgNA_32x32.gif', stockPhoto: 'https://ir.ebaystatic.com/pictures/aw/pics/stockimage1.jpg',\n",
       " \t\ttrackingId:'p2045573.m1686',message1:\"This item is suitable for the vehicle shown. Please check the compatibility section in the item description for more details.\",message2:\"This item is suitable for this specification. Please see the item description for more details.\",message3:\"This item is suitable for multiple vehicles. Please check the compatibility section in the item description for more details.\",message4:\"This item is suitable for multiple vehicles. Please check the compatibility section in the item description for more details.\", 'thImg': 'https://ir.ebaystatic.com/pictures/aw/pics/globalAssets/imgLoading_30x30.gif', 'sgif':'https://ir.ebaystatic.com/pictures/aw/pics/s.gif', 'cols':3,\n",
       " \t\t'model':{\"322459673397\":{\"photoCount\":8,\"imageSize\":225,\"isWinningVariant\":false},\"303102023592\":{\"photoCount\":1,\"imageSize\":225,\"isWinningVariant\":false},\"303102023556\":{\"photoCount\":2,\"imageSize\":225,\"isWinningVariant\":false},\"322459651652\":{\"photoCount\":9,\"imageSize\":225,\"isWinningVariant\":false},\"303625039301\":{\"photoCount\":2,\"imageSize\":225,\"isWinningVariant\":false},\"142868289246\":{\"photoCount\":7,\"imageSize\":225,\"isWinningVariant\":false},\"303102025374\":{\"photoCount\":2,\"imageSize\":225,\"isWinningVariant\":false},\"333899954603\":{\"photoCount\":1,\"imageSize\":225,\"isWinningVariant\":false},\"174551340734\":{\"photoCount\":7,\"imageSize\":225,\"isWinningVariant\":false},\"322459678595\":{\"photoCount\":7,\"imageSize\":225,\"isWinningVariant\":false},\"132458501815\":{\"photoCount\":2,\"imageSize\":225,\"isWinningVariant\":false},\"274392645447\":{\"photoCount\":3,\"imageSize\":225,\"isWinningVariant\":false},\"112599534727\":{\"photoCount\":2,\"imageSize\":225,\"isWinningVariant\":false},\"113676748360\":{\"photoCount\":4,\"imageSize\":225,\"isWinningVariant\":false},\"143046332002\":{\"photoCount\":3,\"imageSize\":225,\"isWinningVariant\":false}},'miEnable':false, 'lazyLoad':false,\n",
       " \t\t'multiImgFlip':false,'multiImgMsku':false, 'autoImageChange':false, \n",
       " \t\t'showPhotoCount':true, 'arrowsByDefault':false, 'PCntTxt':'Photos'});\n",
       " \t \n",
       " \t\tvar DP = raptor.require('search.date.DateReplacement');\n",
       " \t\tvar o = new DP({baseFormOnly: false, dateAttr:\"timeMs\", dateElemSelector:\"span.timeMs\", secondsTerm:[\"##1##s left\",\"##1##s left\"], minutesTerm:[\"##1##m left\",\"##1##m left\"], hoursTerm:[\"##1##h left\",\"##1##h left\"], daysTerm:[\"##1##d left\",\"##1##d left\"], daysHoursTerm:[\"##1##d ##2##h left\",\"##1##d ##2##h left\"], endedTerm:\"Ended\", endsTomorrowTerm:\"Tomorrow\", todayTerm:\"Today\", days:[\"Sunday\", \"Monday\",\"Tuesday\",\"Wednesday\",\"Thursday\",\"Friday\",\"Saturday\"], AM:\"AM\", PM:\"PM\", serverTime:\"1617762021953\", endingTime:\"Ending time\", is24HR:true, islt60minInRedEnabled:true,isShowRelativeTime:true, PBOsecondsTerm:[\"\",\"##1##s\"], PBOminutesTerm:[\"##1##m\",\"##1##m\"], PBOhoursTerm:[\"##1##h\",\"##1##h\"], PBOdaysTerm:[\"##1##d\",\"##1##d\"], PBOdaysHoursTerm:[\"##1##d ##2##h\",\"##1##d ##2##h\"]});\n",
       " \t\to.startLoop(1000);\n",
       " \t\n",
       " \traptor.require(\"search.layers.TopRatedPlus\").init();\n",
       " \n",
       " \traptor.require(\"search.prefetchVI.UnregisterServiceWorker\").init();\n",
       " \n",
       " \t\tvar imagePreFetcher = raptor.require(\"search.resultSet.PrefetchPaginationImages\");\n",
       " \t\timagePreFetcher.init({imgUrls : []});\n",
       " \n",
       " \tvar C = raptor.require(\"search.leftnav.Categories\");\n",
       " \tnew C().initCategories({elem:'e1-11', \n",
       " \tmoreText:\"More\",\n",
       " \tfewerText:\"Fewer\", \n",
       " \tshowMoreTextUVCC:\"Show more\", \n",
       " \tshowLessTextUVCC:\"Show less\", \n",
       " \tshowMoreCategoriesTrackingId:'p2045573.m1685.l6772', \n",
       " \tshowAdditionalCats: 'Show more categories', \n",
       " \thideAdditionalCats: 'Show fewer categories',\n",
       " \tautoAppliedCategoryPath:[\n",
       " \t\t\n",
       " \t]\n",
       " \t});\n",
       " \n",
       " \t\tvar c = {\"title\":null,\"grouping\":\",\",\"children\":[{\"selectedAspectCount\":1,\"seeMoreLinkIndex\":null,\"count\":0,\"param\":null,\"children\":[{\"selectedAspectCount\":0,\"seeMoreLinkIndex\":null,\"count\":0,\"param\":null,\"suppressDistanceModel\":false,\"showCount\":false,\"display\":\"RADIO_BUTTONS\",\"itemLocationRedesignEnabled\":false,\"paramValue\":null,\"type\":\"BooleanAspectModel\",\"eid\":\"e1-20\",\"clear\":\"https://www.ebay.com.my/sch/Car-Truck-Parts/6030/i.html?LH_PayPal=1&_from=R40&LH_FS=1&_fosrp=1&_nkw=Proton&rt=nc\",\"title\":\"All Listings\",\"selected\":true,\"values\":[],\"excluded\":[],\"hidden\":false,\"hideInChooseMore\":false,\"name\":\"LH_AllListings\",\"action\":\"https://www.ebay.com.my/sch/Car-Truck-Parts/6030/i.html?LH_PayPal=1&_from=R40&LH_FS=1&_fosrp=1&_nkw=Proton&rt=nc\",\"closed\":false,\"included\":[],\"paramName\":null,\"countString\":\"0\",\"disabled\":false},{\"selectedAspectCount\":0,\"seeMoreLinkIndex\":null,\"count\":0,\"param\":\"1\",\"suppressDistanceModel\":false,\"showCount\":false,\"display\":\"RADIO_BUTTONS\",\"itemLocationRedesignEnabled\":false,\"paramValue\":\"1\",\"type\":\"BooleanAspectModel\",\"eid\":\"e1-22\",\"clear\":null,\"title\":\"Auction\",\"selected\":false,\"values\":[],\"excluded\":[],\"hidden\":false,\"hideInChooseMore\":false,\"name\":\"LH_Auction\",\"action\":\"https://www.ebay.com.my/sch/Car-Truck-Parts/6030/i.html?LH_PayPal=1&_from=R40&LH_FS=1&_fosrp=1&_nkw=Proton&rt=nc&LH_Auction=1\",\"closed\":false,\"included\":[],\"paramName\":\"LH_Auction\",\"countString\":\"0\",\"disabled\":false},{\"selectedAspectCount\":0,\"seeMoreLinkIndex\":null,\"count\":0,\"param\":\"1\",\"suppressDistanceModel\":false,\"showCount\":false,\"display\":\"TEXT\",\"itemLocationRedesignEnabled\":false,\"paramValue\":\"1\",\"type\":\"BooleanAspectModel\",\"eid\":\"e1-24\",\"clear\":null,\"title\":\"Buy It Now\",\"selected\":false,\"values\":[],\"excluded\":[],\"hidden\":false,\"hideInChooseMore\":false,\"name\":\"LH_BIN\",\"action\":\"https://www.ebay.com.my/sch/Car-Truck-Parts/6030/i.html?LH_PayPal=1&_from=R40&LH_FS=1&_fosrp=1&_nkw=Proton&rt=nc&LH_BIN=1\",\"closed\":false,\"included\":[],\"paramName\":\"LH_BIN\",\"countString\":\"0\",\"disabled\":false}],\"suppressDistanceModel\":false,\"showCount\":false,\"display\":\"RADIO_BUTTONS\",\"itemLocationRedesignEnabled\":false,\"paramValue\":null,\"type\":\"GroupAspectModel\",\"eid\":\"e1-18\",\"clear\":null,\"title\":\"Format\",\"selected\":false,\"hidden\":false,\"hideInChooseMore\":false,\"name\":\"LH_BuyingFormats\",\"action\":\"https://www.ebay.com.my/sch/Car-Truck-Parts/6030/i.html?LH_PayPal=1&_from=R40&LH_FS=1&_fosrp=1&_nkw=Proton&rt=nc&_pppn=r1&_ssan=LH_BuyingFormats\",\"closed\":false,\"paramName\":null,\"countString\":\"0\",\"disabled\":false},{\"selectedAspectCount\":0,\"seeMoreLinkIndex\":null,\"count\":0,\"param\":null,\"suppressDistanceModel\":false,\"showCount\":true,\"display\":\"TEXT\",\"itemLocationRedesignEnabled\":false,\"paramValue\":null,\"type\":\"ItemConditionAspectModel\",\"eid\":\"e1-25\",\"info\":null,\"clear\":\"https://www.ebay.com.my/sch/Car-Truck-Parts/6030/i.html?LH_PayPal=1&_from=R40&LH_FS=1&_fosrp=1&_nkw=Proton\",\"title\":\"Condition\",\"selected\":false,\"values\":[{\"selected\":false,\"title\":\"New\",\"count\":14,\"param\":\"1000\",\"discription\":\"New\",\"hrRefTitle\":null,\"eid\":\"e1-26\",\"countString\":\"14\",\"url\":\"https://www.ebay.com.my/sch/Car-Truck-Parts/6030/i.html?LH_PayPal=1&_from=R40&LH_FS=1&_fosrp=1&_nkw=Proton&=&rt=nc&LH_ItemCondition=1000\",\"disabled\":false},{\"selected\":false,\"title\":\"Used\",\"count\":1,\"param\":\"3000\",\"discription\":\"Used\",\"hrRefTitle\":null,\"eid\":\"e1-28\",\"countString\":\"1\",\"url\":\"https://www.ebay.com.my/sch/Car-Truck-Parts/6030/i.html?LH_PayPal=1&_from=R40&LH_FS=1&_fosrp=1&_nkw=Proton&=&rt=nc&LH_ItemCondition=3000\",\"disabled\":false}],\"hidden\":false,\"hideInChooseMore\":false,\"name\":\"LH_ItemCondition\",\"action\":\"https://www.ebay.com.my/sch/Car-Truck-Parts/6030/i.html?LH_PayPal=1&_from=R40&LH_FS=1&_fosrp=1&_nkw=Proton&rt=nc&_pppn=r1&=&_ssan=LH_ItemCondition\",\"closed\":false,\"paramName\":\"LH_ItemCondition\",\"countString\":\"0\",\"disabled\":false},{\"selectedAspectCount\":226498,\"seeMoreLinkIndex\":null,\"count\":0,\"param\":null,\"children\":[{\"lowerBound\":\"\",\"count\":0,\"param\":null,\"showCount\":false,\"itemLocationRedesignEnabled\":false,\"type\":\"PriceAspectModelDash\",\"priceLabelKey\":\"PRICE\",\"defaultParam\":\"LH_Price\",\"clear\":null,\"baseUrl\":\"https://www.ebay.com.my/sch/Car-Truck-Parts/6030/i.html?LH_PayPal=1&_from=R40&LH_FS=1&_fosrp=1&_nkw=Proton&_mPrRngCbx=1\",\"shipping\":{\"selected\":false,\"param\":\"_ssc\",\"url\":\"https://www.ebay.com.my/sch/Car-Truck-Parts/6030/i.html?LH_PayPal=1&_from=R40&LH_FS=1&_fosrp=1&_nkw=Proton&=&_ssc=1\"},\"selected\":false,\"title\":\"Price\",\"grouping\":\",\",\"minimumLimit\":\"0\",\"name\":\"LH_Price\",\"action\":\"https://www.ebay.com.my/sch/Car-Truck-Parts/6030/i.html?LH_PayPal=1&_from=R40&LH_FS=1&_fosrp=1&_nkw=Proton&rt=nc&_ssan=LH_Price\",\"closed\":false,\"upperBound\":\"\",\"lowerBoundParam\":\"_udlo\",\"selectedAspectCount\":0,\"seeMoreLinkIndex\":null,\"symbol\":\"RM\",\"Maximum\":\"<label class='g-hdn' for='e1-13'>Enter maximum price</label><input class='price' pattern='\\\\d*' type='text' size='6' maxlength='13' name='_udhi' id='e1-13' value=\\\"\\\"  />\",\"MinimumPrice\":\"<label class='g-hdn' for='e1-14'>Enter minimum price</label><input class='pricehr' pattern='\\\\d*' type='text' size='6' maxlength='13' name='_udlo' id='e1-14' value=\\\"\\\"  />\",\"maximumLimit\":\"0\",\"suppressDistanceModel\":false,\"display\":\"RANGE\",\"paramValue\":null,\"lowPrice\":null,\"decimal\":\".\",\"upperBoundParam\":\"_udhi\",\"PriceRange\":\"\",\"pattern\":\"Sen\",\"Symbol\":\"RM\",\"hidden\":false,\"hideInChooseMore\":false,\"Minimum\":\"<label class='g-hdn' for='e1-12'>Enter minimum price</label><input class='price' pattern='\\\\d*' type='text' size='6' maxlength='13' name='_udlo' id='e1-12' value=\\\"\\\"  />\",\"MaximumPrice\":\"<label class='g-hdn' for='e1-15'>Enter maximum price</label><input class='pricehr' pattern='\\\\d*' type='text' size='6' maxlength='13' name='_udhi' id='e1-15' value=\\\"\\\"  /><input id=\\\"e1-16\\\"  title=\\\"Submit price range\\\" class=\\\"hide-text sprBtnSRP1 submit\\\" type=\\\"button\\\" />\",\"highPrice\":null,\"countString\":\"0\",\"paramName\":null,\"disabled\":false},{\"selectedAspectCount\":0,\"seeMoreLinkIndex\":null,\"count\":0,\"param\":\"1\",\"suppressDistanceModel\":false,\"showCount\":false,\"display\":\"TEXT\",\"itemLocationRedesignEnabled\":false,\"paramValue\":\"1\",\"type\":\"BooleanAspectModel\",\"clear\":\"https://www.ebay.com.my/sch/Car-Truck-Parts/6030/i.html?LH_PayPal=1&_from=R40&_fosrp=1&_nkw=Proton\",\"title\":\"Free postage\",\"selected\":true,\"values\":[],\"excluded\":[],\"hidden\":true,\"hideInChooseMore\":false,\"name\":\"LH_FS\",\"action\":\"https://www.ebay.com.my/sch/Car-Truck-Parts/6030/i.html?LH_PayPal=1&_from=R40&_fosrp=1&_nkw=Proton&rt=nc\",\"closed\":false,\"included\":[],\"paramName\":\"LH_FS\",\"countString\":\"0\",\"disabled\":false}],\"suppressDistanceModel\":false,\"showCount\":false,\"display\":\"CUSTOM\",\"itemLocationRedesignEnabled\":false,\"paramValue\":null,\"type\":\"PricePlusShippingAspectModel\",\"clear\":null,\"title\":\"Price\",\"selected\":false,\"hidden\":true,\"hideInChooseMore\":false,\"name\":\"LH_Price\",\"action\":null,\"closed\":false,\"paramName\":null,\"countString\":\"0\",\"disabled\":false},{\"selectedAspectCount\":0,\"seeMoreLinkIndex\":null,\"count\":0,\"param\":null,\"suppressDistanceModel\":false,\"showCount\":false,\"display\":\"SLIDER\",\"itemLocationRedesignEnabled\":false,\"paramValue\":null,\"type\":\"LocationAspectModelDash\",\"eid\":\"e1-31\",\"clear\":null,\"title\":\"Item Location\",\"selected\":false,\"values\":[{\"selected\":true,\"title\":\"All items listed on eBay.com.my\",\"count\":0,\"param\":\"0\",\"hrRefTitle\":\"All items listed on eBay.com.my\",\"eid\":\"e1-32\",\"countString\":\"0\",\"url\":\"https://www.ebay.com.my/sch/Car-Truck-Parts/6030/i.html?LH_PayPal=1&_from=R40&LH_FS=1&_fosrp=1&_nkw=Proton&rt=nc&LH_PrefLoc=0\",\"disabled\":false},{\"selected\":false,\"title\":\"Malaysia Only\",\"count\":0,\"param\":\"1\",\"hrRefTitle\":\"Malaysia Only\",\"eid\":\"e1-34\",\"countString\":\"0\",\"url\":\"https://www.ebay.com.my/sch/Car-Truck-Parts/6030/i.html?LH_PayPal=1&_from=R40&LH_FS=1&_fosrp=1&_nkw=Proton&rt=nc&LH_PrefLoc=1\",\"disabled\":false},{\"selected\":false,\"title\":\"Asia\",\"count\":0,\"param\":\"3\",\"hrRefTitle\":\"Asia\",\"eid\":\"e1-36\",\"countString\":\"0\",\"url\":\"https://www.ebay.com.my/sch/Car-Truck-Parts/6030/i.html?LH_PayPal=1&_from=R40&LH_FS=1&_fosrp=1&_nkw=Proton&rt=nc&LH_PrefLoc=3\",\"disabled\":false},{\"selected\":false,\"title\":\"Worldwide\",\"count\":0,\"param\":\"2\",\"hrRefTitle\":\"Worldwide\",\"eid\":\"e1-38\",\"countString\":\"0\",\"url\":\"https://www.ebay.com.my/sch/Car-Truck-Parts/6030/i.html?LH_PayPal=1&_from=R40&LH_FS=1&_fosrp=1&_nkw=Proton&rt=nc&LH_PrefLoc=2\",\"disabled\":false}],\"hidden\":false,\"hideInChooseMore\":false,\"name\":\"LH_PrefLoc\",\"action\":\"https://www.ebay.com.my/sch/Car-Truck-Parts/6030/i.html?LH_PayPal=1&_from=R40&LH_FS=1&_fosrp=1&_nkw=Proton&rt=nc&_pppn=r1&=&_ssan=LH_PrefLoc\",\"closed\":false,\"paramName\":null,\"countString\":\"0\",\"disabled\":false},{\"count\":0,\"param\":null,\"children\":[{\"selectedAspectCount\":0,\"seeMoreLinkIndex\":null,\"count\":0,\"param\":\"1\",\"suppressDistanceModel\":false,\"showCount\":false,\"display\":\"TEXT\",\"itemLocationRedesignEnabled\":false,\"paramValue\":\"1\",\"type\":\"BooleanAspectModel\",\"clear\":null,\"title\":\"eBay Top-rated sellers\",\"selected\":false,\"values\":[],\"excluded\":[],\"hidden\":false,\"hideInChooseMore\":false,\"name\":\"LH_TopRatedSellers\",\"action\":\"https://www.ebay.com.my/sch/Car-Truck-Parts/6030/i.html?LH_PayPal=1&_from=R40&LH_FS=1&_fosrp=1&_nkw=Proton&=&LH_TopRatedSellers=1\",\"closed\":false,\"included\":[],\"paramName\":\"LH_TopRatedSellers\",\"countString\":\"0\",\"disabled\":false}],\"showCount\":false,\"itemLocationRedesignEnabled\":false,\"type\":\"SellerAspectModel\",\"eid\":\"e1-40\",\"clear\":null,\"followEnabled\":true,\"selected\":false,\"title\":\"Seller\",\"name\":\"LH_FromSellers\",\"action\":\"https://www.ebay.com.my/sch/Car-Truck-Parts/6030/i.html?LH_PayPal=1&_from=R40&LH_FS=1&_fosrp=1&_nkw=Proton&rt=nc&_pppn=r1&=&_ssan=LH_FromSellers\",\"closed\":true,\"sellerTypeModel\":null,\"selectedAspectCount\":0,\"seeMoreLinkIndex\":null,\"suppressDistanceModel\":false,\"display\":\"TEXT\",\"paramValue\":null,\"showTRS\":true,\"hidden\":true,\"hideInChooseMore\":false,\"countString\":\"0\",\"paramName\":\"LH_FromSellers\",\"disabled\":false},{\"selectedAspectCount\":1,\"seeMoreLinkIndex\":null,\"count\":0,\"param\":null,\"children\":[{\"selectedAspectCount\":0,\"seeMoreLinkIndex\":null,\"count\":0,\"param\":\"1\",\"suppressDistanceModel\":false,\"showCount\":false,\"display\":\"CHECK_BOX\",\"itemLocationRedesignEnabled\":false,\"paramValue\":\"1\",\"type\":\"BooleanAspectModel\",\"eid\":\"e1-43\",\"clear\":\"https://www.ebay.com.my/sch/Car-Truck-Parts/6030/i.html?LH_PayPal=1&_from=R40&_fosrp=1&_nkw=Proton\",\"title\":\"Free postage\",\"selected\":true,\"values\":[],\"excluded\":[],\"hidden\":false,\"hideInChooseMore\":false,\"name\":\"LH_FS\",\"action\":\"https://www.ebay.com.my/sch/Car-Truck-Parts/6030/i.html?LH_PayPal=1&_from=R40&_fosrp=1&_nkw=Proton&rt=nc\",\"closed\":false,\"included\":[],\"paramName\":\"LH_FS\",\"countString\":\"0\",\"disabled\":false},{\"selectedAspectCount\":0,\"seeMoreLinkIndex\":null,\"count\":0,\"param\":\"1\",\"suppressDistanceModel\":false,\"showCount\":false,\"display\":\"CHECK_BOX\",\"itemLocationRedesignEnabled\":false,\"paramValue\":\"1\",\"type\":\"BooleanAspectModel\",\"eid\":\"e1-45\",\"clear\":null,\"title\":\"Completed listings\",\"selected\":false,\"values\":[],\"excluded\":[],\"hidden\":false,\"hideInChooseMore\":false,\"name\":\"LH_Complete\",\"action\":\"https://www.ebay.com.my/sch/Car-Truck-Parts/6030/i.html?LH_PayPal=1&_from=R40&LH_FS=1&_fosrp=1&_nkw=Proton&LH_Complete=1&rt=nc\",\"closed\":false,\"included\":[],\"paramName\":\"LH_Complete\",\"countString\":\"0\",\"disabled\":false},{\"selectedAspectCount\":0,\"seeMoreLinkIndex\":null,\"count\":0,\"param\":\"1\",\"suppressDistanceModel\":false,\"showCount\":false,\"display\":\"CHECK_BOX\",\"itemLocationRedesignEnabled\":false,\"paramValue\":\"1\",\"type\":\"BooleanAspectModel\",\"eid\":\"e1-47\",\"clear\":null,\"title\":\"Sold listings\",\"selected\":false,\"values\":[],\"excluded\":[],\"hidden\":false,\"hideInChooseMore\":false,\"name\":\"LH_Sold\",\"action\":\"https://www.ebay.com.my/sch/Car-Truck-Parts/6030/i.html?LH_PayPal=1&_from=R40&LH_FS=1&_fosrp=1&_nkw=Proton&LH_Complete=1&LH_Sold=1&rt=nc\",\"closed\":false,\"included\":[],\"paramName\":\"LH_Sold\",\"countString\":\"0\",\"disabled\":false}],\"suppressDistanceModel\":false,\"showCount\":false,\"display\":\"TEXT\",\"itemLocationRedesignEnabled\":false,\"paramValue\":null,\"type\":\"GroupAspectModel\",\"eid\":\"e1-41\",\"clear\":\"https://www.ebay.com.my/sch/Car-Truck-Parts/6030/i.html?LH_PayPal=1&_from=R40&_fosrp=1&_nkw=Proton&rt=nc\",\"title\":\"Show only\",\"selected\":true,\"hidden\":false,\"hideInChooseMore\":false,\"name\":\"LH_ShowOnly\",\"action\":\"https://www.ebay.com.my/sch/Car-Truck-Parts/6030/i.html?LH_PayPal=1&_from=R40&LH_FS=1&_fosrp=1&_nkw=Proton&rt=nc&_pppn=r1&_ssan=LH_ShowOnly&_ssav=LH_EXPEDITED%3D1\",\"closed\":false,\"paramName\":null,\"countString\":\"0\",\"disabled\":false}],\"eid\":\"e1-17\",\"decimal\":\".\",\"href\":\"https://www.ebay.com.my/sch/Car-Truck-Parts/6030/i.html?LH_PayPal=1&_from=R40&LH_FS=1&_fosrp=1&_nkw=Proton&=&rt=nc\"};\n",
       " \t\t\n",
       " \t\t// Add content to config\n",
       " \t\tc.content = {};\n",
       " \t\tc.content.options = 'options';\n",
       " \t\t\n",
       " \t\t\n",
       " \t\tvar A = raptor.require('panels.left.aspects.AspectPanel'); c.closeTxt = 'Close'; c.cancelTxt = 'Cancel<span class=\"hdnAcc\">and close dialog</span>'; c.goTxt = \"Go\"; c.ApplyTxt = \"Apply\"; c.FiltersAppliedTxt=\"Filters selected\"; c.FromTxt=\"From\"; c.NoFiltersTxt=\"No Filters Available\", c.RemoveSelectedTxt = \"Remove selected filter\";c.seeMoreAspectsText = \"See More\"; c.seeLessAspectsText = \"See Less\"; c.showAdditionalAspects = \"See additional aspects\"; c.hideAdditionalAspects = \"Hide additional aspects\";\n",
       " \t\twindow.setTimeout(function(){new A(c);},0);\n",
       " \t\t\n",
       " \t$(\"#e1-48, #e1-49\").click(function(e){\n",
       " \t\te.preventDefault();\n",
       " \t\traptor.require('search.utils.Popup').open($(this).attr('href'),800,800,$(this).attr('title'),'');\n",
       " \t\t$(this).blur(); \n",
       " \t\treturn false;\n",
       " \t});\n",
       " \n",
       " \traptor.require(\"sitespeed.SrpProfiler\").init({saasTime:'421', customImageTimers:'true',cassiniTime:'357',cassiniCategoryTime:'34',cassiniAspectTime:'0',fisngTime:'357',fisngCategoryTime:'34',fisngAspectTime:'0'});\n",
       " $rwidgets(['search.resultSet.ResultSet','w1-1',{\"img2\":\"https:\\u002F\\u002Fir.ebaystatic.com\\u002Fpictures\\u002Faw\\u002Fpics\\u002Fcmp\\u002Ficn\\u002FiconImgNA_96x96.gif\",\"elem\":\"e1-10\",\"img1\":\"https:\\u002F\\u002Fir.ebaystatic.com\\u002Fpictures\\u002Faw\\u002Fpics\\u002FglobalAssets\\u002FimgLoading_30x30.gif\",\"galleryPlusBaseUrl\":\"https:\\u002F\\u002Fgalleryplus.ebayimg.com\\u002Fws\\u002Fweb\",\"isLazyLoadOnLoad\":false,\"stockPhoto\":\"https:\\u002F\\u002Fir.ebaystatic.com\\u002Fpictures\\u002Faw\\u002Fpics\\u002Fstockimage1.jpg\",\"useHistoryBackFromVI\":false,\"trackingId\":\"p2045573.m1686\",\"isTrackTopAd\":false,\"isHideTopAd\":false,\"msg\":\",message1:\\\"This item is suitable for the vehicle shown. Please check the compatibility section in the item description for more details.\\\",message2:\\\"This item is suitable for this specification. Please see the item description for more details.\\\",message3:\\\"This item is suitable for multiple vehicles. Please check the compatibility section in the item description for more details.\\\",message4:\\\"This item is suitable for multiple vehicles. Please check the compatibility section in the item description for more details.\\\"\",\"img3\":\"https:\\u002F\\u002Fir.ebaystatic.com\\u002Fpictures\\u002Faw\\u002Fpics\\u002Fcmp\\u002Ficn\\u002FiconImgNA_32x32.gif\"}]);new (raptor.require('raptor.tracking.core.Tracker'))({\"psi\":\"AIXAiCyw*\",\"rover\":{\"imp\":\"/roverimp/0/0/9\",\"clk\":\"/roverclk/0/0/9\",\"uri\":\"https://rover.ebay.com.my\"},\"pid\":\"p2045573\"});raptor.require('raptor.tracking.idmap.IdMap').roverService(\"https://rover.ebay.com.my/idmap/0?footer\");})();</script>\n",
       " <!-- RcmdId SearchResultPageRaptor,RlogId t6pwslg%60%3C%3Dpietqpmcf%28%7C0a%7F3*w%60ut3522-178aa217025-0x158 -->\n",
       " <!-- SiteId: 207, Environment: production, AppName: srpraptor, PageId: 2045573 -->\n",
       " </div><script>window.MutationObserver&&(new MutationObserver(function(c){c.forEach(function(b){\"attributes\"===b.type&&\"style\"===b.attributeName&&document.querySelectorAll(\"iframe\").forEach(function(a){if(-1<a.src.indexOf(\"pbjikboenpfhbbejgkoklgkhjpfogcam\")||-1<a.src.indexOf(\"amazon\"))a.parentNode.removeChild(a),document.getElementsByTagName(\"html\")[0].style.marginTop=0,$(document).trigger(\"rover\",{ex1:46118})})})})).observe(document.getElementsByTagName(\"html\")[0],{attributes:!0});</script>\n",
       " </body>\n",
       " </html>,\n",
       " '\\n',\n",
       " 'production',\n",
       " '\\n']"
      ]
     },
     "execution_count": 7,
     "metadata": {},
     "output_type": "execute_result"
    }
   ],
   "source": [
    "list(soup.children)"
   ]
  },
  {
   "cell_type": "markdown",
   "metadata": {},
   "source": [
    "Now go back to Ebay Page and observe the listing for repeatable items\n",
    "\n",
    "Observe the listed items and corresponding HTML tags\n",
    "\n",
    "We want to grab all the product listed on the page"
   ]
  },
  {
   "cell_type": "code",
   "execution_count": 16,
   "metadata": {},
   "outputs": [
    {
     "data": {
      "text/plain": [
       "<li _sp=\"p2045573.m1686.l9\" class=\"sresult lvresult clearfix li shic\" id=\"item1ed72456b7\" listingid=\"132458501815\" r=\"11\">\n",
       "<div class=\"lvpic pic img left\" iid=\"132458501815\">\n",
       "<div class=\"lvpicinner full-width picW\">\n",
       "<a class=\"img imgWr2\" href=\"https://www.ebay.com.my/itm/4D68-For-MITSUBISHI-GALANT-OR-PROTON-PERSONA-400-Engine-Rebuild-Kits-Auto-Engine/132458501815?hash=item1ed72456b7:g:JFgAAOSwMGVaT63B\">\n",
       "<img alt=\"4D68 For MITSUBISHI GALANT OR PROTON PERSONA 400 Engine Rebuild Kits Auto Engine\" class=\"img\" src=\"https://i.ebayimg.com/thumbs/images/g/JFgAAOSwMGVaT63B/s-l225.jpg\"/>\n",
       "</a>\n",
       "</div></div>\n",
       "<h3 class=\"lvtitle\"><a class=\"vip\" href=\"https://www.ebay.com.my/itm/4D68-For-MITSUBISHI-GALANT-OR-PROTON-PERSONA-400-Engine-Rebuild-Kits-Auto-Engine/132458501815?hash=item1ed72456b7:g:JFgAAOSwMGVaT63B\" title=\"Click this link to access 4D68 For MITSUBISHI GALANT OR PROTON PERSONA 400 Engine Rebuild Kits Auto Engine\">4D68 For MITSUBISHI GALANT OR PROTON PERSONA 400 Engine Rebuild Kits Auto Engine</a>\n",
       "</h3>\n",
       "<ul _sp=\"p2045573.m1686.l9\" class=\"lvprices left space-zero conprices\">\n",
       "<li class=\"lvprice prc\">\n",
       "<span class=\"bold\">\n",
       "<b>RM</b> 364.54</span>\n",
       "</li>\n",
       "<li class=\"lvformat\">\n",
       "<span>\n",
       "<span class=\"logoBin\" title=\"Buy It Now\"></span>\n",
       "</span>\n",
       "</li>\n",
       "<li class=\"lvshipping\">\n",
       "<span class=\"ship\">\n",
       "<span>\n",
       "<span class=\"bfsp\">Free postage</span></span>\n",
       "</span></li>\n",
       "<li _sp=\"p2045573.m1686.l9\" class=\"lvextras\">\n",
       "<div class=\"hotness bold\">\n",
       "<div class=\"hotness-signal red\">\n",
       "\t\t\t\t\t9 Watching</div>\n",
       "</div>\n",
       "</li>\n",
       "</ul>\n",
       "<ul class=\"lvdetails left space-zero full-width\">\n",
       "<li>\n",
       "\t\t\t\t\tFrom China</li>\n",
       "</ul></li>"
      ]
     },
     "execution_count": 16,
     "metadata": {},
     "output_type": "execute_result"
    }
   ],
   "source": [
    "soup_list = soup.findAll(\"li\", attrs={\"class\":\"sresult lvresult clearfix li shic\"})\n",
    "soup_list\n"
   ]
  },
  {
   "cell_type": "code",
   "execution_count": 9,
   "metadata": {},
   "outputs": [
    {
     "name": "stdout",
     "output_type": "stream",
     "text": [
      "0\n",
      "1\n",
      "2\n",
      "3\n",
      "4\n",
      "5\n",
      "6\n",
      "7\n",
      "8\n",
      "9\n",
      "10\n",
      "11\n",
      "12\n",
      "13\n",
      "14\n",
      "15\n",
      "16\n",
      "17\n",
      "18\n",
      "19\n",
      "20\n",
      "21\n",
      "22\n",
      "23\n",
      "24\n"
     ]
    }
   ],
   "source": [
    "for items in range(len(soup_list)):\n",
    "    print(items)\n"
   ]
  },
  {
   "cell_type": "code",
   "execution_count": 20,
   "metadata": {},
   "outputs": [
    {
     "data": {
      "text/plain": [
       "<li _sp=\"p2045573.m1686.l13\" class=\"sresult lvresult clearfix li shic\" id=\"item4b1417ce44\" listingid=\"322459651652\" r=\"1\">\n",
       "<div class=\"lvpic pic img left\" iid=\"322459651652\">\n",
       "<div class=\"lvpicinner full-width picW\">\n",
       "<div class=\"triangle\"></div>\n",
       "<div class=\"urgency\"></div>\n",
       "<a class=\"img imgWr2\" href=\"https://www.ebay.com.my/itm/PROTON-SAGA-ISWARA-D7-JAPAN-ADJUSTABLE-COILOVER-HIGH-LOW-SOFT-HARD/322459651652?hash=item4b1417ce44:g:9UoAAOSw4A5Y0ggL\">\n",
       "<img alt=\"PROTON SAGA ISWARA D7 JAPAN ADJUSTABLE COILOVER HIGH LOW SOFT HARD\" class=\"img\" src=\"https://i.ebayimg.com/thumbs/images/g/9UoAAOSw4A5Y0ggL/s-l225.jpg\">\n",
       "</img></a>\n",
       "</div></div>\n",
       "<h3 class=\"lvtitle\"><a class=\"vip\" href=\"https://www.ebay.com.my/itm/PROTON-SAGA-ISWARA-D7-JAPAN-ADJUSTABLE-COILOVER-HIGH-LOW-SOFT-HARD/322459651652?hash=item4b1417ce44:g:9UoAAOSw4A5Y0ggL\" title=\"Click this link to access PROTON SAGA ISWARA D7 JAPAN ADJUSTABLE COILOVER HIGH LOW SOFT HARD\">PROTON SAGA ISWARA D7 JAPAN ADJUSTABLE COILOVER HIGH LOW SOFT HARD</a>\n",
       "</h3>\n",
       "<ul _sp=\"p2045573.m1686.l13\" class=\"lvprices left space-zero\">\n",
       "<li class=\"lvprice prc\">\n",
       "<span class=\"bold\">\n",
       "<b>RM</b> 1,300.00</span>\n",
       "</li>\n",
       "<li class=\"lvformat\">\n",
       "<span>\n",
       "<span class=\"logoBin\" title=\"Buy It Now\"></span>\n",
       "</span>\n",
       "</li>\n",
       "<li class=\"lvshipping\">\n",
       "<span class=\"ship\">\n",
       "\tPick up only: Free</span></li>\n",
       "<li _sp=\"p2045573.m1686.l13\" class=\"lvextras\">\n",
       "<div class=\"hotness bold\">\n",
       "<div class=\"hotness-signal red\">\n",
       "\t\t\t\t\tOnly 1 left!</div>\n",
       "<div class=\"hotness-signal black\">\n",
       "\t\t\t\t\t4 Watching</div>\n",
       "</div>\n",
       "</li>\n",
       "</ul>\n",
       "<ul class=\"lvdetails left space-zero full-width\">\n",
       "</ul></li>"
      ]
     },
     "execution_count": 20,
     "metadata": {},
     "output_type": "execute_result"
    }
   ],
   "source": [
    "#show only 1\n",
    "\n",
    "soup_list = soup.find(\"li\", attrs={\"class\":\"sresult lvresult clearfix li shic\"})\n",
    "soup_list"
   ]
  },
  {
   "cell_type": "code",
   "execution_count": 21,
   "metadata": {},
   "outputs": [
    {
     "data": {
      "text/plain": [
       "<li _sp=\"p2045573.m1686.l9\" class=\"sresult lvresult clearfix li shic\" id=\"item4b14183783\" listingid=\"322459678595\" r=\"2\">\n",
       "<div class=\"lvpic pic img left\" iid=\"322459678595\">\n",
       "<div class=\"lvpicinner full-width picW\">\n",
       "<a class=\"img imgWr2\" href=\"https://www.ebay.com.my/itm/PROTON-SATRIA-NEO-D7-JAPAN-ADJUSTABLE-COILOVER-HIGH-LOW-BODY-SHIFT/322459678595?hash=item4b14183783:g:XlYAAOSwsW9Y0hjp\">\n",
       "<img alt=\"PROTON SATRIA NEO D7 JAPAN ADJUSTABLE COILOVER HIGH LOW BODY SHIFT\" class=\"img\" src=\"https://i.ebayimg.com/thumbs/images/g/XlYAAOSwsW9Y0hjp/s-l225.jpg\"/>\n",
       "</a>\n",
       "</div></div>\n",
       "<h3 class=\"lvtitle\"><a class=\"vip\" href=\"https://www.ebay.com.my/itm/PROTON-SATRIA-NEO-D7-JAPAN-ADJUSTABLE-COILOVER-HIGH-LOW-BODY-SHIFT/322459678595?hash=item4b14183783:g:XlYAAOSwsW9Y0hjp\" title=\"Click this link to access PROTON SATRIA NEO D7 JAPAN ADJUSTABLE COILOVER HIGH LOW BODY SHIFT\">PROTON SATRIA NEO D7 JAPAN ADJUSTABLE COILOVER HIGH LOW BODY SHIFT</a>\n",
       "</h3>\n",
       "<ul _sp=\"p2045573.m1686.l9\" class=\"lvprices left space-zero\">\n",
       "<li class=\"lvprice prc\">\n",
       "<span class=\"bold\">\n",
       "<b>RM</b> 1,100.00</span>\n",
       "</li>\n",
       "<li class=\"lvformat\">\n",
       "<span>\n",
       "<span class=\"logoBin\" title=\"Buy It Now\"></span>\n",
       "</span>\n",
       "</li>\n",
       "<li class=\"lvshipping\">\n",
       "<span class=\"ship\">\n",
       "\tPick up only: Free</span></li>\n",
       "<li _sp=\"p2045573.m1686.l9\" class=\"lvextras\">\n",
       "<div class=\"hotness bold\">\n",
       "<div class=\"hotness-signal red\">\n",
       "\t\t\t\t\t4 Watching</div>\n",
       "</div>\n",
       "</li>\n",
       "</ul>\n",
       "<ul class=\"lvdetails left space-zero full-width\">\n",
       "</ul></li>"
      ]
     },
     "execution_count": 21,
     "metadata": {},
     "output_type": "execute_result"
    }
   ],
   "source": [
    "# FindAdll but get the Nth item from the Match\n",
    "soup_list = soup.findAll(\"li\", attrs={\"class\":\"sresult lvresult clearfix li shic\"})[1]\n",
    "soup_list"
   ]
  },
  {
   "cell_type": "code",
   "execution_count": 22,
   "metadata": {},
   "outputs": [
    {
     "name": "stdout",
     "output_type": "stream",
     "text": [
      "<h3 class=\"lvtitle\"><a class=\"vip\" href=\"https://www.ebay.com.my/itm/PROTON-SAGA-ISWARA-D7-JAPAN-ADJUSTABLE-COILOVER-HIGH-LOW-SOFT-HARD/322459651652?hash=item4b1417ce44:g:9UoAAOSw4A5Y0ggL\" title=\"Click this link to access PROTON SAGA ISWARA D7 JAPAN ADJUSTABLE COILOVER HIGH LOW SOFT HARD\">PROTON SAGA ISWARA D7 JAPAN ADJUSTABLE COILOVER HIGH LOW SOFT HARD</a>\n",
      "</h3>\n",
      "<h3 class=\"lvtitle\"><a class=\"vip\" href=\"https://www.ebay.com.my/itm/PROTON-SATRIA-NEO-D7-JAPAN-ADJUSTABLE-COILOVER-HIGH-LOW-BODY-SHIFT/322459678595?hash=item4b14183783:g:XlYAAOSwsW9Y0hjp\" title=\"Click this link to access PROTON SATRIA NEO D7 JAPAN ADJUSTABLE COILOVER HIGH LOW BODY SHIFT\">PROTON SATRIA NEO D7 JAPAN ADJUSTABLE COILOVER HIGH LOW BODY SHIFT</a>\n",
      "</h3>\n",
      "<h3 class=\"lvtitle\"><a class=\"vip\" href=\"https://www.ebay.com.my/itm/PROTON-GEN2-IGNITION-DOOR-KEY-SET/303102023556?hash=item469249d784:g:vYQAAOSwEeFU9e44\" title=\"Click this link to access PROTON GEN2 - IGNITION / DOOR KEY SET\">PROTON GEN2 - IGNITION / DOOR KEY SET</a>\n",
      "</h3>\n",
      "<h3 class=\"lvtitle\"><a class=\"vip\" href=\"https://www.ebay.com.my/itm/4D68-For-MITSUBISHI-GALANT-OR-PROTON-PERSONA-400-Engine-Rebuild-Kits-Auto-Engine/132458501815?hash=item1ed72456b7:g:JFgAAOSwMGVaT63B\" title=\"Click this link to access 4D68 For MITSUBISHI GALANT OR PROTON PERSONA 400 Engine Rebuild Kits Auto Engine\">4D68 For MITSUBISHI GALANT OR PROTON PERSONA 400 Engine Rebuild Kits Auto Engine</a>\n",
      "</h3>\n",
      "<h3 class=\"lvtitle\"><a class=\"vip\" href=\"https://www.ebay.com.my/itm/V-Belt-Tensioner-Pulley-For-Proton-Gen-2-Persona-Satria-Neo-Waja-OEM-PW811826/113676748360?hash=item1a77a98648:g:sFEAAOSwjVhdAl-o\" title=\"Click this link to access  V- Belt Tensioner Pulley For Proton Gen-2 Persona Satria Neo Waja OEM:PW811826\"> V- Belt Tensioner Pulley For Proton Gen-2 Persona Satria Neo Waja OEM:PW811826</a>\n",
      "</h3>\n",
      "<h3 class=\"lvtitle\"><a class=\"vip\" href=\"https://www.ebay.com.my/itm/PROTON-PERDANA-OR-MITSUBISHI-GALANT-6A12-Engine-Rebuilding-Kits-Full-gasket-Set/132458439184?hash=item1ed7236210:g:p4EAAOSwfpBaT6CH\" title=\"Click this link to access PROTON PERDANA OR MITSUBISHI GALANT 6A12 Engine Rebuilding Kits Full gasket Set\">PROTON PERDANA OR MITSUBISHI GALANT 6A12 Engine Rebuilding Kits Full gasket Set</a>\n",
      "</h3>\n",
      "<h3 class=\"lvtitle\"><a class=\"vip\" href=\"https://www.ebay.com.my/itm/S4PH-Engine-Full-gasket-set-kit-for-Proton-Gen-2-Waja-Satria-Neo-Persona-1-6L-15/132443107564?hash=item1ed63970ec:g:toAAAOSwdJ9aPTi8\" title=\"Click this link to access S4PH Engine Full gasket set kit for Proton Gen-2/Waja/Satria Neo/Persona 1.6L 15\">S4PH Engine Full gasket set kit for Proton Gen-2/Waja/Sat<wbr/>ria Neo/Persona 1.6L 15</a>\n",
      "</h3>\n",
      "<h3 class=\"lvtitle\"><a class=\"vip\" href=\"https://www.ebay.com.my/itm/Ralliart-Crossmember-Mount-Proton-Satria-GTI-Jumbuck-Lancer-CA4A-CB5A-91-95/252865869365?hash=item3adffaf635:g:AXMAAOSwDrNZU2w2\" title=\"Click this link to access Ralliart Crossmember Mount Proton Satria GTI Jumbuck Lancer CA4A CB5A 91-95\">Ralliart Crossmember Mount Proton Satria GTI Jumbuck Lancer CA4A CB5A 91-95</a>\n",
      "</h3>\n",
      "<h3 class=\"lvtitle\"><a class=\"vip\" href=\"https://www.ebay.com.my/itm/Hydraulic-Lifter-3mm-Lancer-4G91-4G93-4G93T-Turbo-GSR-Proton-GTI-Dohc/252865869006?hash=item3adffaf4ce:g:L3gAAOSwheFavLyc\" title=\"Click this link to access Hydraulic Lifter 3mm Lancer 4G91 4G93 4G93T Turbo GSR Proton GTI Dohc\">Hydraulic Lifter 3mm Lancer 4G91 4G93 4G93T Turbo GSR Proton GTI Dohc</a>\n",
      "</h3>\n",
      "<h3 class=\"lvtitle\"><a class=\"vip\" href=\"https://www.ebay.com.my/itm/Exhaust-extractor-header-Tri-Y-4G92-4G93-Mivec-Mirage-Cyborg-Proton-Satria-GTI/262936909764?hash=item3d3842d7c4:g:0TgAAOSw~fpZi0u4\" title=\"Click this link to access Exhaust extractor header Tri-Y 4G92 4G93 Mivec Mirage Cyborg Proton Satria GTI\">Exhaust extractor header Tri-Y 4G92 4G93 Mivec Mirage Cyborg Proton Satria GTI</a>\n",
      "</h3>\n",
      "<h3 class=\"lvtitle\"><a class=\"vip\" href=\"https://www.ebay.com.my/itm/High-Quality-New-REAR-subframe-reinforcement-brace-for-Proton-for-Mitsubishi/291939567206?hash=item43f8f44666:g:-DUAAOSwiYFXIY6Y\" title=\"Click this link to access High Quality New REAR subframe reinforcement brace for Proton for Mitsubishi\">High Quality New REAR subframe reinforcement brace for Proton for Mitsubishi</a>\n",
      "</h3>\n",
      "<h3 class=\"lvtitle\"><a class=\"vip\" href=\"https://www.ebay.com.my/itm/ARP-Stud-Nut-Kit-Mitsubishi-4G91-4G92-4G93-4G93T-Mivec-CA-CK-Lancer-Proton-GTI/263605156010?hash=item3d601778aa:g:VoMAAOSwvAda0H6M\" title=\"Click this link to access ARP Stud Nut Kit Mitsubishi 4G91 4G92 4G93 4G93T Mivec CA CK Lancer Proton GTI\">ARP Stud Nut Kit Mitsubishi 4G91 4G92 4G93 4G93T Mivec CA CK Lancer Proton GTI</a>\n",
      "</h3>\n",
      "<h3 class=\"lvtitle\"><a class=\"vip\" href=\"https://www.ebay.com.my/itm/B-Exhaust-Extractor-Header-4-2-1-Mitsubishi-4G91-4G92-4G93-Mivec-CA4A-Proton-GTI/252865869495?hash=item3adffaf6b7:g:M-kAAOSwP2ZepAPq\" title=\"Click this link to access B Exhaust Extractor Header 4-2-1 Mitsubishi 4G91 4G92 4G93 Mivec CA4A Proton GTI\">B Exhaust Extractor Header 4-2-1 Mitsubishi 4G91 4G92 4G93 Mivec CA4A Proton GTI</a>\n",
      "</h3>\n",
      "<h3 class=\"lvtitle\"><a class=\"vip\" href=\"https://www.ebay.com.my/itm/OBX-Cam-Gear-Mitsubishi-4G13-4G15-Sohc-Lancer-Mirage-Colt-Proton-Jumbuck/262936909922?hash=item3d3842d862:g:kGQAAOSwZQRYV~bx\" title=\"Click this link to access OBX Cam Gear Mitsubishi 4G13 4G15 Sohc Lancer Mirage Colt Proton Jumbuck\">OBX Cam Gear Mitsubishi 4G13 4G15 Sohc Lancer Mirage Colt Proton Jumbuck</a>\n",
      "</h3>\n",
      "<h3 class=\"lvtitle\"><a class=\"vip\" href=\"https://www.ebay.com.my/itm/AROSPEED-LIGHTWEIGHT-CRANK-PULLY-PROTON-WIRA-1-3-1-5-MITSUBISHI-12V-4G13-4G15/264621681074?hash=item3d9cae69b2:g:FjEAAOSwD5ZZweX9\" title=\"Click this link to access AROSPEED LIGHTWEIGHT CRANK PULLY PROTON WIRA 1.3/1.5 MITSUBISHI 12V (4G13/ 4G15)\">AROSPEED LIGHTWEIGHT CRANK PULLY PROTON WIRA 1.3/1.5 MITSUBISHI 12V (4G13/ 4G15)</a>\n",
      "</h3>\n",
      "<h3 class=\"lvtitle\"><a class=\"vip\" href=\"https://www.ebay.com.my/itm/Gearbox-Final-Drive-4-8-Ratio-4G92-4G93-Mivec-Mirage-Cyborg-Proton-Satria-GTI/262936909995?hash=item3d3842d8ab:g:zQkAAOSwq~tZUT4n\" title=\"Click this link to access Gearbox Final Drive 4.8 Ratio 4G92 4G93 Mivec Mirage Cyborg Proton Satria GTI\">Gearbox Final Drive 4.8 Ratio 4G92 4G93 Mivec Mirage Cyborg Proton Satria GTI</a>\n",
      "</h3>\n",
      "<h3 class=\"lvtitle\"><a class=\"vip\" href=\"https://www.ebay.com.my/itm/Jasma-Valve-Spring-Titanium-Retainer-Proton-Jumbuck-Lancer-4G13-4G15-12V-Sohc/252865868989?hash=item3adffaf4bd:g:-7cAAOSwJdZZbOyB\" title=\"Click this link to access Jasma Valve Spring Titanium Retainer Proton Jumbuck Lancer 4G13 4G15 12V Sohc\">Jasma Valve Spring Titanium Retainer Proton Jumbuck Lancer 4G13 4G15 12V Sohc</a>\n",
      "</h3>\n",
      "<h3 class=\"lvtitle\"><a class=\"vip\" href=\"https://www.ebay.com.my/itm/Race-Sport-Valve-Spring-Proton-Jumbuck-Satria-Lancer-Mirage-4G13-4G15-12V-SOHC/262936909828?hash=item3d3842d804:g:2SAAAOSwoJBf8ZbO\" title=\"Click this link to access Race Sport Valve Spring Proton Jumbuck Satria Lancer Mirage 4G13 4G15 12V SOHC\">Race Sport Valve Spring Proton Jumbuck Satria Lancer Mirage 4G13 4G15 12V SOHC</a>\n",
      "</h3>\n",
      "<h3 class=\"lvtitle\"><a class=\"vip\" href=\"https://www.ebay.com.my/itm/Jasma-Racing-Camshaft-Cam-Gear-4G92-4G93-4G93T-Proton-GTI-Dohc/262936909672?hash=item3d3842d768:g:DHQAAOSwLnBXVDNc\" title=\"Click this link to access Jasma Racing Camshaft Cam Gear 4G92 4G93 4G93T Proton GTI Dohc\">Jasma Racing Camshaft Cam Gear 4G92 4G93 4G93T Proton GTI Dohc</a>\n",
      "</h3>\n",
      "<h3 class=\"lvtitle\"><a class=\"vip\" href=\"https://www.ebay.com.my/itm/E-Exhaust-extractor-header-4-2-1-4G91-4G92-4G93-Mirage-Cyborg-Proton-Satria-GTI/252865869088?hash=item3adffaf520:g:ibgAAOSwIcdZcNoA\" title=\"Click this link to access E Exhaust extractor header 4-2-1 4G91 4G92 4G93 Mirage Cyborg Proton Satria GTI\">E Exhaust extractor header 4-2-1 4G91 4G92 4G93 Mirage Cyborg Proton Satria GTI</a>\n",
      "</h3>\n",
      "<h3 class=\"lvtitle\"><a class=\"vip\" href=\"https://www.ebay.com.my/itm/Race-Sport-Oil-Pump-Gear-4G92-4G93-4G93T-Turbo-GSR-Mivec-Mirage-Colt-Proton-GTI/262936909770?hash=item3d3842d7ca:g:Db8AAOSwal5YJ0tO\" title=\"Click this link to access Race Sport Oil Pump Gear 4G92 4G93 4G93T Turbo GSR Mivec Mirage Colt Proton GTI\">Race Sport Oil Pump Gear 4G92 4G93 4G93T Turbo GSR Mivec Mirage Colt Proton GTI</a>\n",
      "</h3>\n",
      "<h3 class=\"lvtitle\"><a class=\"vip\" href=\"https://www.ebay.com.my/itm/Extractor-Header-4-1-Mitsubishi-4G91-4G92-4G93-Mivec-CA4A-Proton-GTI/262936909833?hash=item3d3842d809:g:-VEAAOSwJ7RYTRTY\" title=\"Click this link to access Extractor Header 4-1 Mitsubishi 4G91 4G92 4G93 Mivec CA4A Proton GTI\">Extractor Header 4-1 Mitsubishi 4G91 4G92 4G93 Mivec CA4A Proton GTI</a>\n",
      "</h3>\n",
      "<h3 class=\"lvtitle\"><a class=\"vip\" href=\"https://www.ebay.com.my/itm/PERDANA-V6-D7-JAPAN-Adjustable-Coilover-High-Low-Body-Shift/322384781311?hash=item4b0fa15fff:g:QFQAAOSw9GhYgaOj\" title=\"Click this link to access PERDANA V6 D7 JAPAN Adjustable Coilover High Low  + Body Shift\">PERDANA V6 D7 JAPAN Adjustable Coilover High Low  + Body Shift</a>\n",
      "</h3>\n",
      "<h3 class=\"lvtitle\"><a class=\"vip\" href=\"https://www.ebay.com.my/itm/BLM-FLX-D7-JAPAN-Adjustable-Coilever-Hi-Low-Sprig-Soft-Hard/322403649033?hash=item4b10c14609:g:V18AAOSw9GhYiqDR\" title=\"Click this link to access BLM FLX D7 JAPAN Adjustable Coilever Hi-Low Sprig Soft-Hard\">BLM FLX D7 JAPAN Adjustable Coilever Hi-Low Sprig Soft-Hard</a>\n",
      "</h3>\n",
      "<h3 class=\"lvtitle\"><a class=\"vip\" href=\"https://www.ebay.com.my/itm/Chrome-12V-Antique-Vintage-Style-110DB-Air-Horn-Klaxon-Siren-Air-Horn-Car-Truck/282621781663?hash=item41cd92269f:g:BqMAAOSwB3tZnV6J\" title=\"Click this link to access Chrome 12V Antique Vintage  Style 110DB Air Horn Klaxon Siren Air Horn Car Truck\">Chrome 12V Antique Vintage  Style 110DB Air Horn Klaxon Siren Air Horn Car Truck</a>\n",
      "</h3>\n"
     ]
    }
   ],
   "source": [
    "soup_list = soup.findAll(\"li\", attrs={\"class\":\"sresult lvresult clearfix li shic\"})\n",
    "for items in range(len(soup_list)):\n",
    "    print(soup_list[items].find(\"h3\", attrs={\"class\":\"lvtitle\"}))\n"
   ]
  },
  {
   "cell_type": "code",
   "execution_count": 27,
   "metadata": {},
   "outputs": [
    {
     "name": "stdout",
     "output_type": "stream",
     "text": [
      "PROTON SAGA ISWARA D7 JAPAN ADJUSTABLE COILOVER HIGH LOW SOFT HARD\n",
      "\n",
      "PROTON SATRIA NEO D7 JAPAN ADJUSTABLE COILOVER HIGH LOW BODY SHIFT\n",
      "\n",
      "PROTON GEN2 - IGNITION / DOOR KEY SET\n",
      "\n",
      "4D68 For MITSUBISHI GALANT OR PROTON PERSONA 400 Engine Rebuild Kits Auto Engine\n",
      "\n",
      " V- Belt Tensioner Pulley For Proton Gen-2 Persona Satria Neo Waja OEM:PW811826\n",
      "\n",
      "PROTON PERDANA OR MITSUBISHI GALANT 6A12 Engine Rebuilding Kits Full gasket Set\n",
      "\n",
      "S4PH Engine Full gasket set kit for Proton Gen-2/Waja/Satria Neo/Persona 1.6L 15\n",
      "\n",
      "Ralliart Crossmember Mount Proton Satria GTI Jumbuck Lancer CA4A CB5A 91-95\n",
      "\n",
      "Hydraulic Lifter 3mm Lancer 4G91 4G93 4G93T Turbo GSR Proton GTI Dohc\n",
      "\n",
      "Exhaust extractor header Tri-Y 4G92 4G93 Mivec Mirage Cyborg Proton Satria GTI\n",
      "\n",
      "High Quality New REAR subframe reinforcement brace for Proton for Mitsubishi\n",
      "\n",
      "ARP Stud Nut Kit Mitsubishi 4G91 4G92 4G93 4G93T Mivec CA CK Lancer Proton GTI\n",
      "\n",
      "B Exhaust Extractor Header 4-2-1 Mitsubishi 4G91 4G92 4G93 Mivec CA4A Proton GTI\n",
      "\n",
      "OBX Cam Gear Mitsubishi 4G13 4G15 Sohc Lancer Mirage Colt Proton Jumbuck\n",
      "\n",
      "AROSPEED LIGHTWEIGHT CRANK PULLY PROTON WIRA 1.3/1.5 MITSUBISHI 12V (4G13/ 4G15)\n",
      "\n",
      "Gearbox Final Drive 4.8 Ratio 4G92 4G93 Mivec Mirage Cyborg Proton Satria GTI\n",
      "\n",
      "Jasma Valve Spring Titanium Retainer Proton Jumbuck Lancer 4G13 4G15 12V Sohc\n",
      "\n",
      "Race Sport Valve Spring Proton Jumbuck Satria Lancer Mirage 4G13 4G15 12V SOHC\n",
      "\n",
      "Jasma Racing Camshaft Cam Gear 4G92 4G93 4G93T Proton GTI Dohc\n",
      "\n",
      "E Exhaust extractor header 4-2-1 4G91 4G92 4G93 Mirage Cyborg Proton Satria GTI\n",
      "\n",
      "Race Sport Oil Pump Gear 4G92 4G93 4G93T Turbo GSR Mivec Mirage Colt Proton GTI\n",
      "\n",
      "Extractor Header 4-1 Mitsubishi 4G91 4G92 4G93 Mivec CA4A Proton GTI\n",
      "\n",
      "PERDANA V6 D7 JAPAN Adjustable Coilover High Low  + Body Shift\n",
      "\n",
      "BLM FLX D7 JAPAN Adjustable Coilever Hi-Low Sprig Soft-Hard\n",
      "\n",
      "Chrome 12V Antique Vintage  Style 110DB Air Horn Klaxon Siren Air Horn Car Truck\n",
      "\n"
     ]
    }
   ],
   "source": [
    "soup_list = soup.findAll(\"li\", attrs={\"class\":\"sresult lvresult clearfix li shic\"})\n",
    "for items in range(len(soup_list)):\n",
    "    print(soup_list[items].find(\"h3\", attrs={\"class\":\"lvtitle\"}).text)"
   ]
  },
  {
   "cell_type": "code",
   "execution_count": 28,
   "metadata": {},
   "outputs": [
    {
     "name": "stdout",
     "output_type": "stream",
     "text": [
      "\n",
      "RM 1,300.00\n",
      "\n",
      "RM 1,100.00\n",
      "\n",
      "RM 108.00\n",
      "\n",
      "RM 364.54\n",
      "\n",
      "RM 212.47\n",
      "\n",
      "RM 364.54\n",
      "\n",
      "RM 318.97\n",
      "\n",
      "RM 352.11\n",
      "\n",
      "RM 724.94\n",
      "\n",
      "RM 1,367.03\n",
      "\n",
      "RM 281.69\n",
      "\n",
      "RM 1,284.18\n",
      "\n",
      "RM 1,449.88\n",
      "\n",
      "RM 410.11\n",
      "\n",
      "RM 468.06\n",
      "\n",
      "RM 2,858.33\n",
      "\n",
      "RM 824.36\n",
      "\n",
      "RM 824.36\n",
      "\n",
      "RM 1,615.58\n",
      "\n",
      "RM 2,232.81\n",
      "\n",
      "RM 1,014.91\n",
      "\n",
      "RM 1,901.41\n",
      "\n",
      "RM 900.00\n",
      "\n",
      "RM 900.00\n",
      "\n",
      "RM 134.92\n"
     ]
    }
   ],
   "source": [
    "soup_list = soup.findAll(\"li\", attrs={\"class\":\"sresult lvresult clearfix li shic\"})\n",
    "for items in range(len(soup_list)):\n",
    "    print(soup_list[items].find(\"span\", attrs={\"class\":\"bold\"}).text)"
   ]
  },
  {
   "cell_type": "code",
   "execution_count": 42,
   "metadata": {},
   "outputs": [
    {
     "name": "stdout",
     "output_type": "stream",
     "text": [
      "Cheapest Item is: \n",
      "RM 1,014.91\n"
     ]
    }
   ],
   "source": [
    "# Exercise\n",
    "# Find the Cheapest Item\n",
    "\n",
    "soup_list = soup.findAll(\"li\", attrs={\"class\":\"sresult lvresult clearfix li shic\"})\n",
    "\n",
    "cheapest = []\n",
    "\n",
    "for items in range(len(soup_list)):\n",
    "   a = soup_list[items].find(\"span\", attrs={\"class\":\"bold\"}).text\n",
    "   cheapest.append(a)\n",
    "\n",
    "print(\"Cheapest Item is:\", min(cheapest))\n",
    "\n",
    "# Should not work, why?"
   ]
  },
  {
   "cell_type": "code",
   "execution_count": 43,
   "metadata": {},
   "outputs": [
    {
     "name": "stdout",
     "output_type": "stream",
     "text": [
      "1,000.00\n"
     ]
    }
   ],
   "source": [
    "import re\n",
    "\n",
    "input_value=\"RM 1,000.00\"\n",
    "\n",
    "result = re.sub(r\"RM \",\"\",input_value)\n",
    "\n",
    "print(result)"
   ]
  },
  {
   "cell_type": "code",
   "execution_count": null,
   "metadata": {},
   "outputs": [],
   "source": [
    "import re\n",
    "\n",
    "input_value=\"RM 1,000.00\"\n",
    "\n",
    "result = re.sub(r'[^0-9]', '', input_value)\n",
    "\n",
    "print(result)\n"
   ]
  },
  {
   "cell_type": "code",
   "execution_count": null,
   "metadata": {},
   "outputs": [],
   "source": [
    "import re\n",
    "\n",
    "input_value=\"RM 1,000.00\"\n",
    "\n",
    "result = re.sub(r'[^0-9.]', '', input_value)\n",
    "\n",
    "print(result)\n"
   ]
  },
  {
   "cell_type": "code",
   "execution_count": 48,
   "metadata": {},
   "outputs": [
    {
     "name": "stdout",
     "output_type": "stream",
     "text": [
      "[1000.0, 1000.0, 1080.0, 3644.0, 2127.0, 3644.0, 3187.0, 3521.0, 7244.0, 1673.0, 2819.0, 1848.0, 1498.0, 4101.0, 4686.0, 2583.0, 8246.0, 8246.0, 1158.0, 2321.0, 1141.0, 1011.0, 9000.0, 9000.0, 1342.0]\n",
      "The Cheapest is:  1000.0\n"
     ]
    }
   ],
   "source": [
    "# Exercise\n",
    "# Find the Cheapest Item\n",
    "# Use regex to remove the RM Suffix\n",
    "import re\n",
    "\n",
    "soup_list = soup.findAll(\"li\", attrs={\"class\":\"sresult lvresult clearfix li shic\"})\n",
    "\n",
    "cheapest = []\n",
    "\n",
    "for items in range(len(soup_list)):\n",
    "    cheapest.append(float(re.sub(r\"[^0-9].\",\"\",soup_list[items].find(\"span\", attrs={\"class\":\"bold\"}).text)))\n",
    "\n",
    "print(cheapest)\n",
    "\n",
    "print(\"The Cheapest is: \", min(cheapest))\n"
   ]
  },
  {
   "cell_type": "code",
   "execution_count": 49,
   "metadata": {},
   "outputs": [
    {
     "data": {
      "text/plain": [
       "1"
      ]
     },
     "execution_count": 49,
     "metadata": {},
     "output_type": "execute_result"
    }
   ],
   "source": [
    "cheapest = [1,2,3,4,5]\n",
    "min(cheapest)"
   ]
  },
  {
   "cell_type": "code",
   "execution_count": 2,
   "metadata": {},
   "outputs": [
    {
     "ename": "NameError",
     "evalue": "name 'soup' is not defined",
     "output_type": "error",
     "traceback": [
      "\u001b[1;31m---------------------------------------------------------------------------\u001b[0m",
      "\u001b[1;31mNameError\u001b[0m                                 Traceback (most recent call last)",
      "\u001b[1;32m<ipython-input-2-39dfffa92f5a>\u001b[0m in \u001b[0;36m<module>\u001b[1;34m\u001b[0m\n\u001b[1;32m----> 1\u001b[1;33m \u001b[0msoup_list\u001b[0m \u001b[1;33m=\u001b[0m \u001b[0msoup\u001b[0m\u001b[1;33m.\u001b[0m\u001b[0mfindAll\u001b[0m\u001b[1;33m(\u001b[0m\u001b[1;34m\"li\"\u001b[0m\u001b[1;33m,\u001b[0m \u001b[0mattrs\u001b[0m\u001b[1;33m=\u001b[0m\u001b[1;33m{\u001b[0m\u001b[1;34m\"class\"\u001b[0m\u001b[1;33m:\u001b[0m\u001b[1;34m\"sresult lvresult clearfix li\"\u001b[0m\u001b[1;33m}\u001b[0m\u001b[1;33m)\u001b[0m\u001b[1;33m\u001b[0m\u001b[1;33m\u001b[0m\u001b[0m\n\u001b[0m\u001b[0;32m      2\u001b[0m \u001b[1;32mfor\u001b[0m \u001b[0mitems\u001b[0m \u001b[1;32min\u001b[0m \u001b[0mrange\u001b[0m\u001b[1;33m(\u001b[0m\u001b[0mlen\u001b[0m\u001b[1;33m(\u001b[0m\u001b[0msoup_list\u001b[0m\u001b[1;33m)\u001b[0m\u001b[1;33m)\u001b[0m\u001b[1;33m:\u001b[0m\u001b[1;33m\u001b[0m\u001b[1;33m\u001b[0m\u001b[0m\n\u001b[0;32m      3\u001b[0m     \u001b[0mprint\u001b[0m\u001b[1;33m(\u001b[0m\u001b[0msoup_list\u001b[0m\u001b[1;33m[\u001b[0m\u001b[0mitems\u001b[0m\u001b[1;33m]\u001b[0m\u001b[1;33m.\u001b[0m\u001b[0mfind\u001b[0m\u001b[1;33m(\u001b[0m\u001b[1;34m\"h3\"\u001b[0m\u001b[1;33m,\u001b[0m \u001b[0mattrs\u001b[0m\u001b[1;33m=\u001b[0m\u001b[1;33m{\u001b[0m\u001b[1;34m\"class\"\u001b[0m\u001b[1;33m:\u001b[0m\u001b[1;34m\"lvtitle\"\u001b[0m\u001b[1;33m}\u001b[0m\u001b[1;33m)\u001b[0m\u001b[1;33m.\u001b[0m\u001b[0mtext\u001b[0m\u001b[1;33m)\u001b[0m\u001b[1;33m\u001b[0m\u001b[1;33m\u001b[0m\u001b[0m\n",
      "\u001b[1;31mNameError\u001b[0m: name 'soup' is not defined"
     ]
    }
   ],
   "source": [
    "soup_list = soup.findAll(\"li\", attrs={\"class\":\"sresult lvresult clearfix li\"})\n",
    "for items in range(len(soup_list)):\n",
    "    print(soup_list[items].find(\"h3\", attrs={\"class\":\"lvtitle\"}).text)"
   ]
  },
  {
   "cell_type": "code",
   "execution_count": 51,
   "metadata": {},
   "outputs": [
    {
     "name": "stdout",
     "output_type": "stream",
     "text": [
      "DOORVISOR PROTON WIRA SEDAN OR AEROBACK\n",
      "\n",
      "\n",
      "RM 455.00\n",
      "\n",
      "PROTON EXORA D7 JAPAN ADJUSTABLE COILOVER HIGH LOW BODY SHIFT\n",
      "\n",
      "\n",
      "RM 1,200.00\n",
      "\n",
      "NEW Front Grill Grille Mask For Proton Wira Satria Persona Jumbuck M21 Putra OEM\n",
      "\n",
      "\n",
      "RM 23.00\n",
      "\n",
      "PROTON PERDANA 4 CYLINDER - WATER PUMP ASSEMBLY- GMB\n",
      "\n",
      "\n",
      "RM 108.00\n",
      "\n",
      "PROTON PERSONA / GEN2 - IGNITION / DOOR KEY SET\n",
      "\n",
      "\n",
      "RM 128.00\n",
      "\n",
      "PROTON PERSONA IGNITION/DOOR/BOOT KEY SET\n",
      "\n",
      "\n",
      "RM 130.00\n",
      "\n",
      "Proton Iswara Saga Front Bonnet Damper SARD RACING\n",
      "\n",
      "\n",
      "RM 89.99\n",
      "\n",
      "Proton Cvt Tcu\n",
      "\n",
      "\n",
      "RM 600.00\n",
      "\n",
      "[Proton Waja MMC 1.6] Driveshaft set (long & short, re-conditioned)\n",
      "\n",
      "\n",
      "RM 298.00\n",
      "\n",
      "PROTON WAJA IMPIAN 4G18 MANUAL ECU MR514093\n",
      "\n",
      "\n",
      "RM 2,200.00\n",
      "\n",
      "PROTON PERSONA 2.0 WIRA 2.0 DT DIESEL 1996 >ON NEW TIMING CAM BELT\n",
      "\n",
      "\n",
      "RM 336.68\n",
      "\n",
      "VECO REAR BRAKE PADS VA780 FOR MITSUBITSHI PROTON SMART VOLVO\n",
      "\n",
      "\n",
      "RM 361.74\n",
      "\n",
      "\n",
      "\t\tCar Battery & Alternator Tester for Proton. 12v DC Voltage Check\n",
      "\n",
      "\n",
      "RM 98.95\n",
      "\n",
      "Proton Gen-2/Waja/Satria Neo/Persona 1.6L 1598cc 2004-2009 S4PH Metal Full Set A\n",
      "\n",
      "\n",
      "RM 318.97\n",
      "\n",
      "AVS Racing Cam Gear Timing Belt 4G93 4G93T GSR Proton GTI Dohc\n",
      "\n",
      "\n",
      "RM 741.51\n",
      "\n",
      "BRAKE HOSE FOR MITSUBISHI PROTON NK 853011\n",
      "\n",
      "\n",
      "RM 126.04\n",
      "\n",
      "D Exhaust extractor header 4G92 4G93 Mivec Mirage Cyborg Proton Satria GTI\n",
      "\n",
      "\n",
      "RM 1,574.15\n",
      "\n",
      "VR Fuel Rail Kit Mitsubishi / Proton 4G18 SOHC - BLUE\n",
      "\n",
      "\n",
      "RM 426.64\n",
      "\n",
      "Control Valve, fuel pressure for ABARTH ALFA ROMEO CITROËN BOSCH 0 280 160 562\n",
      "\n",
      "\n",
      "RM 184.11\n",
      "\n",
      "NEW SPARK PLUG FOR FORD PROTON FORD USA MAZDA FIESTA III GFJ TLB BERU BY DRIV\n",
      "\n",
      "\n",
      "RM 76.43\n",
      "\n",
      "Racing Sport Rally Camshaft Cam Gear 272/272 Proton Satria Neo Gen2 Campro S4PH\n",
      "\n",
      "\n",
      "RM 1,615.58\n",
      "\n",
      "AROSPEED ADJUSTABLE ALUMINUM ENGINE TORQUE DAMPER PROTON SATRIA NEO\n",
      "\n",
      "\n",
      "RM 414.21\n",
      "\n",
      "SAGA ISWARA D7 JAPAN Adjustable Coilover High Low + body shift\n",
      "\n",
      "\n",
      "RM 800.00\n",
      "\n",
      "PERDANA D7 JAPAN Adjustable Coilover High Low +  Body Shift\n",
      "\n",
      "\n",
      "RM 900.00\n",
      "\n",
      "ISWARA MMC D7 JAPAN Adjustable Coilover High Low + Body shift\n",
      "\n",
      "\n",
      "RM 800.00\n",
      "\n",
      "Side Mirror Autoflip 5 Wire Evo123\n",
      "\n",
      "\n",
      "RM 450.00\n",
      "\n"
     ]
    }
   ],
   "source": [
    "soup_list = soup.findAll(\"li\", attrs={\"class\":\"sresult lvresult clearfix li\"})\n",
    "\n",
    "for items in range(len(soup_list)):\n",
    "    print(soup_list[items].find(\"h3\", attrs={\"class\":\"lvtitle\"}).text)\n",
    "    print(soup_list[items].find(\"span\", attrs={\"class\":\"bold\"}).text)\n",
    "    print()\n",
    "    "
   ]
  },
  {
   "cell_type": "markdown",
   "metadata": {},
   "source": [
    "### Exercise\n",
    "\n",
    "Store the results obtained into a Dataframe and save it as CSV file"
   ]
  },
  {
   "cell_type": "code",
   "execution_count": 6,
   "metadata": {},
   "outputs": [],
   "source": [
    "import csv\n",
    "import requests\n",
    "from bs4 import BeautifulSoup\n",
    "import re\n",
    "page = requests.get(\"https://www.ebay.com.my/sch/Car-Truck-Parts/6030/i.html?LH_PayPal=1&_from=R40&_nkw=Proton&rt=nc&_pppn=r1&LH_FS=1&_trksid=p2045573.m1684\")\n",
    "soup = BeautifulSoup(page.content,'html.parser')\n",
    "soup_list = soup.findAll(\"li\", attrs={\"class\":\"sresult lvresult clearfix li\"})\n",
    "car= []\n",
    "price = []\n",
    "for i in range(len(soup_list)):\n",
    "    car.append(soup_list[i].find(\"h3\", attrs={\"class\":\"lvtitle\"}).text)\n",
    "    price.append(float(re.sub(r\"[^0-9].\",\"\",soup_list[i].find(\"span\", attrs={\"class\":\"bold\"}).text)))\n",
    "\n",
    "x = \"carprice.csv\"\n",
    "with open(x, 'w', newline='') as file:\n",
    "    writer = csv.writer(file)\n",
    "    writer.writerow([\"Index\", \"Car\", \"Price\"])\n",
    "    for i in range(len(car)):\n",
    "        writer.writerow([i+1, car[i], price[i]])\n",
    "\n",
    "\n",
    "\n",
    "\n",
    "    "
   ]
  }
 ],
 "metadata": {
  "kernelspec": {
   "display_name": "Python 3",
   "language": "python",
   "name": "python3"
  },
  "language_info": {
   "codemirror_mode": {
    "name": "ipython",
    "version": 3
   },
   "file_extension": ".py",
   "mimetype": "text/x-python",
   "name": "python",
   "nbconvert_exporter": "python",
   "pygments_lexer": "ipython3",
   "version": "3.8.8"
  }
 },
 "nbformat": 4,
 "nbformat_minor": 4
}
