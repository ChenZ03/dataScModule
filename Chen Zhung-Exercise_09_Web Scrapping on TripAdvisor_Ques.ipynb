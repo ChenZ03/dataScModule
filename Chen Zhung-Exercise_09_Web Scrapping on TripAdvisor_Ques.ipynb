{
 "cells": [
  {
   "cell_type": "code",
   "execution_count": 3,
   "metadata": {},
   "outputs": [],
   "source": [
    "from selenium import webdriver\n",
    "from bs4 import BeautifulSoup\n",
    "\n",
    "driver = webdriver.Chrome('chromeDriver')"
   ]
  },
  {
   "cell_type": "code",
   "execution_count": 4,
   "metadata": {},
   "outputs": [],
   "source": [
    "import time\n",
    "\n",
    "driver.get(\"https://www.tripadvisor.com/Airline_Review-d8729157-Reviews-Spirit-Airlines#REVIEWS\")\n"
   ]
  },
  {
   "cell_type": "code",
   "execution_count": 5,
   "metadata": {},
   "outputs": [
    {
     "name": "stdout",
     "output_type": "stream",
     "text": [
      "1\n",
      "my flight was supposed to leave at 4:10 pm, they got the plane loaded and made us wait an hour just to make us get off the plane due to no Pilots to fly. At 6:45 we get back on the plane by 7:15 we were told to get back off the plane, no crew to run the plane. Finally they canceled the flight,  we were told to return to the ticket counter at that time there were no flights for 3 days. I will never book with Spirit airlines again…\n",
      "2\n",
      "I have flown with this airline twice now and neither time have they even come close to actually flying on time. The first time, I was flying back from Florida and the flight was delayed over three hours and I got back to my airport at 3:30am! I am booked for a flight tomorrow and somehow we already have a seven hour flight delay. That is not a misprint, 7 HOURS! You can’t get in to customer service. I am convinced they don’t exist and they just have a hold music loop and hope people hang up. Pay the extra money and fly elsewhere. …\n",
      "3\n",
      "They canceled our flight from Phoenix Arizona to Minneapolis Minnesota an hour before boarding time issued no refunds no travel vouchers no hotel or food vouchers had to pay another 114 dollars to fly home in 2 days had to find my own flight home had to find emergency childcare so my husband could go to work had to move all my kids appointments and had to find a place to stay costing me even more money. Manager didn't care and said all he could do was give me a 56 dollar credit when I paid 150 for my flight. Will never use them again!…\n",
      "4\n",
      "We recently flew to Cancun from Las Vegas with a stop both coming and going in Texas. First of all they charge for everything. You can’t even get a water without paying. The seats are uncomfortable. The staff was unfriendly and unhelpful. On the way back our flight from Cancun to Houston was an hour late. It took almost two hours to get through customs and recheck our bag, obviously our connecting flight to Vegas was long gone. We couldn’t have caught it even if our flight was on time because it would have taken too long to get through customs. Very poor planning on their part. The next available flight was not till 6 o’clock the following night so we were stuck in Houston. The meal vouchers they gave us didn’t even come close to covering meals for our family of four. No one explained anything to us about how it worked, no one ever apologized for the huge inconvenience it was to us, when we tried to talk to staff they were rude and unhelpful. It was our first time flying Spirit and definitely our last.…\n",
      "5\n",
      "Delay of 6 hr and no answer,  got ppl up and down the airplane twice didnt refund full money flight back also delayed\n"
     ]
    }
   ],
   "source": [
    "soup = BeautifulSoup(driver.page_source,'html.parser')\n",
    "soup_list = soup.findAll(\"q\", attrs={\"class\":\"IRsGHoPm\"})\n",
    "for i in range(5):\n",
    "    print(i+1, end=\"\\n\")\n",
    "    print(soup_list[i].text, end=\"\\n\")"
   ]
  }
 ],
 "metadata": {
  "kernelspec": {
   "display_name": "Python 3",
   "language": "python",
   "name": "python3"
  },
  "language_info": {
   "codemirror_mode": {
    "name": "ipython",
    "version": 3
   },
   "file_extension": ".py",
   "mimetype": "text/x-python",
   "name": "python",
   "nbconvert_exporter": "python",
   "pygments_lexer": "ipython3",
   "version": "3.8.5"
  }
 },
 "nbformat": 4,
 "nbformat_minor": 4
}
