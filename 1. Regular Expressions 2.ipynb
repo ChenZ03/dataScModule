{
 "cells": [
  {
   "cell_type": "markdown",
   "metadata": {},
   "source": [
    "# Regular Expressions 2"
   ]
  },
  {
   "cell_type": "markdown",
   "metadata": {},
   "source": [
    "### Extract Email using Regex"
   ]
  },
  {
   "cell_type": "markdown",
   "metadata": {},
   "source": [
    "<img src='./Images/Intro2.png'>"
   ]
  },
  {
   "cell_type": "code",
   "execution_count": 4,
   "metadata": {},
   "outputs": [
    {
     "name": "stdout",
     "output_type": "stream",
     "text": [
      "['cpo.selangor@rmp.gov.my', 'jpn.selangor@moe.gov.my', 'drlidnam@moh.gov.my', 'p.selangor@jpj.gov.my', 'pinsel@imi.gov.my', 'hairuddin@jpn.gov.my', 'adminshahalam@jpn.gov.my', 'norbaya@inform.gov.my', 'pensel@inform.gov.my', 'makhruzi@kbs.gov.my', 'romli@hasil.org.my', 'sel@sprm.gov.my', 'prn_selangor@moha.gov.my', 'lppknsg@lppkn.gov.my', 'ppn_selangor@dof.gov.my', 'ppnselangor@perpaduan.gov.my', 'kemas_selangor2@kemas.gov.my', 'hanafiah@kemas.gov.my', 'ghanisulaiman@audit.gov.my', 'pneg_sgr@anm.gov.my', 'kpgr@marine.gov.my', 'aki@marine.gov.my', 'wpkl@prison.gov.my', 'darussalam@prison.gov.my', 'zikril@kpdnhep.gov.my', 'otba@bomba.gov.my', 'ikmalrudin@spr.gov.my', 'selangor@wildlife.gov.my', 'rahimahmad@wildlife.gov.my', 'mazlan.cgso@1govuc.gov.my', 'zakarian@jmg.gov.my', 'jmgselwp@jmg.gov.my', 'anita.a@mohr.gov.my', 'zainurin@kkr.gov.my', 'szi@doe.gov.my', 'radin@kpkt.gov.my', 'khznani@met.gov.my', 'sarip.ismail@customs.gov.my', 'ahmadmudi@mohr.gov.my', 'selangor@skm.gov.my', 'mfauzi.ag@mohr.gov.my', 'info@jkkn.gov.my', 'ghazali@jkkn.gov.my', 'jpselangor@stats.gov.my', 'amri@stats.gov.my', 'selangor@mida.gov.my', 'aini@mida.gov.my', 'pengarah_selangor@adk.gov.my', 'jkkpsl@mohr.gov.my', 'jkkpsl@mohr.gov.my', 'ppwnselangor@jpw.gov.my']\n"
     ]
    }
   ],
   "source": [
    "import requests\n",
    "import re\n",
    "\n",
    "url='https://www.selangor.gov.my/index.php/pages/view/339'\n",
    " \n",
    "# get the data    \n",
    "data = requests.get(url, verify=True)\n",
    "\n",
    "\n",
    "emails = re.findall(r'([\\d\\w\\.]+@[\\d\\w\\.\\-]+\\.\\w+)', data.text)\n",
    "\n",
    "print(emails)"
   ]
  },
  {
   "cell_type": "markdown",
   "metadata": {},
   "source": [
    "### Extract Phone Number using Regex"
   ]
  },
  {
   "cell_type": "code",
   "execution_count": 9,
   "metadata": {},
   "outputs": [
    {
     "name": "stderr",
     "output_type": "stream",
     "text": [
      "D:\\Anaconda3\\envs\\python-dscourse\\lib\\site-packages\\urllib3\\connectionpool.py:981: InsecureRequestWarning: Unverified HTTPS request is being made to host 'www.selangor.gov.my'. Adding certificate verification is strongly advised. See: https://urllib3.readthedocs.io/en/latest/advanced-usage.html#ssl-warnings\n",
      "  warnings.warn(\n"
     ]
    },
    {
     "name": "stdout",
     "output_type": "stream",
     "text": [
      "['03-62864602', '03-61574498', '03-55146432', '03-55101477', '03-55213600', '03-55213700', '03-55186500', '03-55194540', '03-51237201', '03-51237202', '03-55132616', '03-55132613', '03-55669402', '03-55432202', '03-55106061', '03-55190653', '03-55138055', '03-55136755', '03-55192196', '03-55109089', '03-55192326', '03-55192231', '03-55103202', '03-55103500', '03-55197370', '03-55109094', '03-55116770', '03-55199013', '03-55106870', '03-55197825', '03-55138732', '03-55107397', '03-55101231', '03-55100575', '03-55190169', '03-55190690', '03-55107989', '03-55184617', '03-55195319', '03-55193044', '03-55193175', '03-55199533', '03-55147400', '03-55147406', '03-55195922', '03-55105049', '03-31695198', '03-31653540', '03-55190375', '03-55109828', '03-87348715', '03-87348725', '03-78483444', '03-78464444', '03-78475957', '03-55194272', '03-55100717', '03-55194996', '03-55447443', '03-55109834', '03-55519391', '03-55101830', '03-55218790', '03-55218791', '03-55447826', '03-55109705', '03-55101833', '03-55101918', '03-55193233', '03-55199059', '03-55120130', '03-55190097', '03-55194787', '03-55194788', '03-55110304', '03-55447312', '03-55109085', '03-78461441', '03-78464982', '03-31013122', '03-31013121', '03-56328800', '03-56361534', '03-55192821', '03-55218791', '03-55102252', '03-55107817', '03-55102791', '03-55102839', '03-55184260', '03-55135392', '03-79576034', '03-79576396', '03-55118891', '03-55118706', '03-33411031', '03-33411894', '03-55447000', '03-55447000']\n"
     ]
    }
   ],
   "source": [
    "import requests\n",
    "import re\n",
    "\n",
    "url='https://www.selangor.gov.my/index.php/pages/view/339'\n",
    "\n",
    "# get the data\n",
    "data = requests.get(url, verify=False)\n",
    "\n",
    "phones = re.findall(r'[0-9]{2}\\-[0-9]{8}', data.text)\n",
    "\n",
    "print(phones)"
   ]
  },
  {
   "cell_type": "markdown",
   "metadata": {},
   "source": [
    "### Exercises\n",
    "\n",
    "**Exercise 1**\n",
    "\n",
    "Extract the Emails and Phone numbers from this page using RegEx\n",
    "\n",
    "https://www.ksn.gov.my/mengenai-pejabat/direktori-pejabat\n"
   ]
  },
  {
   "cell_type": "markdown",
   "metadata": {},
   "source": [
    "**Exercise 2**\n",
    "\n",
    "Extract the Emails and Phone numbers from this page using RegEx\n",
    "\n",
    "https://www.jpn.gov.my/direktori-kakitangan/\n"
   ]
  },
  {
   "cell_type": "markdown",
   "metadata": {},
   "source": [
    "**Exercise 3**\n",
    "\n",
    "Extract the Emails and Phone Numbers from this page using RegEx\n",
    "\n",
    "https://www.kkmm.gov.my/index.php/direktori-a-hubungi-kami/direktori\n"
   ]
  },
  {
   "cell_type": "code",
   "execution_count": 10,
   "metadata": {},
   "outputs": [
    {
     "name": "stderr",
     "output_type": "stream",
     "text": [
      "D:\\Anaconda3\\envs\\python-dscourse\\lib\\site-packages\\urllib3\\connectionpool.py:981: InsecureRequestWarning: Unverified HTTPS request is being made to host 'www.ksn.gov.my'. Adding certificate verification is strongly advised. See: https://urllib3.readthedocs.io/en/latest/advanced-usage.html#ssl-warnings\n",
      "  warnings.warn(\n"
     ]
    },
    {
     "name": "stdout",
     "output_type": "stream",
     "text": [
      "[('+603-8872 7321', '-'), ('+603-8872 7329', '-'), ('+603-8872 7327', '-'), ('+603-8872 7223', '-'), ('+603-8872 7211', '-'), ('+603-8872 7200', '-'), ('+603-8872 7216', '-'), ('+603-8872 7224', '-'), ('+603-8872 7218', '-'), ('+603-8872 7321', '-'), ('+603-8872 7212', '-')]\n"
     ]
    }
   ],
   "source": [
    "import requests\n",
    "import re\n",
    "\n",
    "url='https://www.ksn.gov.my/mengenai-pejabat/direktori-pejabat'\n",
    " \n",
    "# get the data    \n",
    "data = requests.get(url, verify=False)\n",
    "\n",
    "\n",
    "phones = re.findall(r'(\\+[0-9]{3}(\\ |\\-)?[0-9]{4}\\ [0-9]{4})', data.text)\n",
    "\n",
    "print(phones)"
   ]
  },
  {
   "cell_type": "code",
   "execution_count": 5,
   "metadata": {},
   "outputs": [
    {
     "output_type": "stream",
     "name": "stderr",
     "text": [
      "C:\\Users\\WINDOWS 10\\anaconda3\\envs\\python-dscourse\\lib\\site-packages\\urllib3\\connectionpool.py:1013: InsecureRequestWarning: Unverified HTTPS request is being made to host 'www.ksn.gov.my'. Adding certificate verification is strongly advised. See: https://urllib3.readthedocs.io/en/latest/advanced-usage.html#ssl-warnings\n",
      "  warnings.warn(\n",
      "['+603-8872 7321', '+603-8872 7329', '+603-8872 7327', '+603-8872 7223', '+603-8872 7211', '+603-8872 7200', '+603-8872 7216', '+603-8872 7224', '+603-8872 7218', '+603-8872 7321', '+603-8872 7212']\n"
     ]
    }
   ],
   "source": [
    "import requests\n",
    "import re\n",
    "\n",
    "url='https://www.ksn.gov.my/mengenai-pejabat/direktori-pejabat'\n",
    " \n",
    "# get the data    \n",
    "data = requests.get(url, verify=False)\n",
    "\n",
    "\n",
    "phones = re.findall(r'(\\+[0-9]{3}\\-[0-9]{4}\\ [0-9]{4})', data.text)\n",
    "\n",
    "print(phones)"
   ]
  },
  {
   "cell_type": "code",
   "execution_count": 10,
   "metadata": {},
   "outputs": [
    {
     "output_type": "stream",
     "name": "stderr",
     "text": [
      "C:\\Users\\WINDOWS 10\\anaconda3\\envs\\python-dscourse\\lib\\site-packages\\urllib3\\connectionpool.py:1013: InsecureRequestWarning: Unverified HTTPS request is being made to host 'www.ksn.gov.my'. Adding certificate verification is strongly advised. See: https://urllib3.readthedocs.io/en/latest/advanced-usage.html#ssl-warnings\n",
      "  warnings.warn(\n",
      "['+603-8872 7321', '+603-8872 7329', '+603-8872 7327', '+603-8872 7223', '+603-8872 7211', '+603-8872 7200', '+603-8872 7216', '+603-8872 7224', '+603-8872 7218', '+603-8872 7321', '+603-8872 7212']\n"
     ]
    }
   ],
   "source": [
    "import requests\n",
    "import re\n",
    "\n",
    "url='https://www.ksn.gov.my/mengenai-pejabat/direktori-pejabat'\n",
    " \n",
    "# get the data    \n",
    "data = requests.get(url, verify=False)\n",
    "\n",
    "\n",
    "phones = re.findall(r'(\\+[0-9]{3}\\-[0-9]{4}\\ [0-9]{4})', data.text)\n",
    "\n",
    "print(phones)"
   ]
  },
  {
   "cell_type": "code",
   "execution_count": 16,
   "metadata": {},
   "outputs": [
    {
     "output_type": "stream",
     "name": "stderr",
     "text": [
      "C:\\Users\\WINDOWS 10\\anaconda3\\envs\\python-dscourse\\lib\\site-packages\\urllib3\\connectionpool.py:1013: InsecureRequestWarning: Unverified HTTPS request is being made to host 'www.jpn.gov.my'. Adding certificate verification is strongly advised. See: https://urllib3.readthedocs.io/en/latest/advanced-usage.html#ssl-warnings\n",
      "  warnings.warn(\n",
      "['03-8000 8000', '03-8880 8288']\n"
     ]
    }
   ],
   "source": [
    "# Answer to Exercise 2\n",
    "\n",
    "import requests\n",
    "import re\n",
    "\n",
    "user_agent = 'user-agent: Mozilla/5.0 (Windows NT 10.0; Win64; x64) AppleWebKit/537.36 (KHTML, like Gecko) Chrome/81.0.4044.92 Safari/537.36'\n",
    "\n",
    "headers={'User-Agent':user_agent}\n",
    "\n",
    "url='https://www.jpn.gov.my/my/hubungi-kami/direktori-kakitangan'\n",
    "\n",
    "# get the data    \n",
    "# disable SSL cert verification\n",
    "\n",
    "data = requests.get(url,headers=headers, verify=False)\n",
    "\n",
    "phones = re.findall(r'([0-9]{2}\\-[0-9]{4}\\ [0-9]{4})', data.text)\n",
    "\n",
    "print(phones)\n",
    "\n",
    "\n",
    "    "
   ]
  },
  {
   "cell_type": "code",
   "execution_count": 17,
   "metadata": {},
   "outputs": [
    {
     "output_type": "execute_result",
     "data": {
      "text/plain": [
       "t<li class=\"uk-parent\"><a class=\"\" href>Maklumat Korporat</a>\\n\\t<div class=\"uk-navbar-dropdown\"><div class=\"uk-navbar-dropdown-grid uk-child-width-1-1\" uk-grid><div><ul class=\"uk-nav uk-navbar-dropdown-nav\">\\n\\n\\t\\t<li><a href=\"/my/maklumat-korporat/perutusan-kppn\">Perutusan KPPN</a></li>\\n\\t\\t<li><a href=\"/my/maklumat-korporat/pengenalan\">Pengenalan</a></li>\\n\\t\\t<li><a href=\"/my/maklumat-korporat/sejarah\">Sejarah</a></li>\\n\\t\\t<li><a href=\"/my/maklumat-korporat/dokumen-pengenalan-diri\">Dokumen Pengenalan Diri</a></li>\\n\\t\\t<li><a href=\"/my/maklumat-korporat/dasar-agensi\">Dasar Agensi</a></li>\\n\\t\\t<li><a href=\"/my/maklumat-korporat/kod-etika\">Kod Etika</a></li>\\n\\t\\t<li><a href=\"/my/maklumat-korporat/polisi-anti-rasuah\">Polisi Anti Rasuah</a></li>\\n\\t\\t<li><a href=\"/my/maklumat-korporat/carta-organisasi-pengurusan-tertinggi-jpn\">Carta Organisasi Pengurusan Tertinggi JPN</a></li>\\n\\t\\t<li><a href=\"/my/maklumat-korporat/ketua-pegawai-maklumat-cio\">Ketua Pegawai Maklumat (CIO)</a></li></ul></div></div></div></li>\\n\\t<li class=\"uk-parent\"><a class=\"\" href>Perkhidmatan</a>\\n\\t<div class=\"uk-navbar-dropdown\"><div class=\"uk-navbar-dropdown-grid uk-child-width-1-1\" uk-grid><div><ul class=\"uk-nav uk-navbar-dropdown-nav\">\\n\\n\\t\\t<li><a href=\"/my/perkhidmatan/kelahiran\">Kelahiran</a></li>\\n\\t\\t<li><a href=\"/my/perkhidmatan/kad-pengenalan\">Kad Pengenalan</a></li>\\n\\t\\t<li><a href=\"/my/perkhidmatan/pengangkatan\">Pengangkatan</a></li>\\n\\t\\t<li class=\"uk-parent\"><a href=\"/my/perkhidmatan/perkahwinan\">Perkahwinan</a>\\n\\t\\t<ul class=\"uk-nav-sub\">\\n\\n\\t\\t\\t<li><a href=\"/my/perkhidmatan/perkahwinan/perceraian\">Perceraian</a></li></ul></li>\\n\\t\\t<li><a href=\"/my/perkhidmatan/kematian\">Kematian</a></li>\\n\\t\\t<li><a href=\"/my/perkhidmatan/warganegara\">Warganegara</a></li></ul></div></div></div></li>\\n\\t<li class=\"uk-parent\"><a class=\"\" href>Soalan Lazim</a>\\n\\t<div class=\"uk-navbar-dropdown\"><div class=\"uk-navbar-dropdown-grid uk-child-width-1-1\" uk-grid><div><ul class=\"uk-nav uk-navbar-dropdown-nav\">\\n\\n\\t\\t<li><a href=\"/my/soalan-lazim/soalan-lazim-kad-pengenalan\">Kad Pengenalan</a></li>\\n\\t\\t<li><a href=\"/my/soalan-lazim/soalan-lazim-kelahiran\">Kelahiran</a></li>\\n\\t\\t<li><a href=\"/my/soalan-lazim/soalan-lazim-perkahwinan-dan-perceraian\">Perkahwinan dan Perceraian</a></li>\\n\\t\\t<li><a href=\"/my/soalan-lazim/soalan-lazim-anak-angkat\">Anak Angkat</a></li>\\n\\t\\t<li><a href=\"/my/soalan-lazim/soalan-lazim-kematian\">Kematian</a></li>\\n\\t\\t<li><a href=\"/my/soalan-lazim/warganegara\">Warganegara</a></li>\\n\\t\\t<li><a href=\"/my/soalan-lazim/pejabat-perkhidmatan-pelanggan-pengurusan-aduan\">Pejabat Perkhidmatan Pelanggan (Pengurusan Aduan)</a></li></ul></div></div></div></li>\\n\\t<li class=\"uk-active uk-parent\"><a class=\"\" href>Hubungi Kami</a>\\n\\t<div class=\"uk-navbar-dropdown\"><div class=\"uk-navbar-dropdown-grid uk-child-width-1-1\" uk-grid><div><ul class=\"uk-nav uk-navbar-dropdown-nav\">\\n\\n\\t\\t<li class=\"uk-active\"><a href=\"/my/hubungi-kami/direktori-kakitangan\">Direktori Pegawai</a></li>\\n\\t\\t<li><a href=\"/my/hubungi-kami/direktori-cawangan\">Direktori Cawangan</a></li>\\n\\t\\t<li><a href=\"/my/hubungi-kami/saluran-aduan-integriti\">Saluran Aduan Integriti</a></li></ul></div></div></div></li>\\n\\t<li><a href=\"/my/data-terbuka\">Data Terbuka</a></li></ul>\\n\\n                        </div>\\n                        \\n                    </nav>\\n                </div>\\n\\n            </div>\\n\\n                </div>\\n        \\n    \\n\\n\\n</div>\\n            \\n            \\n\\n            \\n            <div id=\"system-message-container\" data-messages=\"[]\">\\n</div>\\n\\n            <!-- Builder #page -->\\n<div class=\"uk-section-default uk-section uk-section-xsmall uk-padding-remove-bottom\">\\n    \\n        \\n        \\n        \\n            \\n                                <div class=\"uk-container\">                \\n                    \\n                    <div class=\"tm-grid-expand uk-child-width-1-1 uk-grid-margin\" uk-grid>\\n<div class=\"uk-width-1-1@m\">\\n    \\n        \\n            \\n            \\n                \\n<h3 class=\"uk-h2 uk-heading-bullet\">        Direktori Pegawai    </h3><hr class=\"uk-margin-remove-bottom\">\\n            \\n        \\n    \\n</div>\\n</div>\\n                                </div>\\n                \\n            \\n        \\n    \\n</div>\\n\\n<div class=\"uk-section-default uk-section uk-section-small\">\\n    \\n        \\n        \\n        \\n            \\n                                <div class=\"uk-container\">                \\n                    \\n                    <div class=\"tm-grid-expand uk-child-width-1-1 uk-grid-margin\" uk-grid>\\n<div>\\n    \\n        \\n            \\n            \\n                \\n<div class=\"uk-margin-small uk-margin-remove-top uk-margin-remove-bottom uk-text-center\">\\n    <div class=\"uk-child-width-1-1 uk-child-width-1-2@s uk-child-width-1-3@m uk-child-width-1-2@l uk-child-width-1-2@xl uk-grid-small uk-grid-divider uk-grid-match\" uk-grid>        <div>\\n<div class=\"el-item uk-margin-auto uk-width-xlarge uk-panel uk-margin-remove-first-child\">\\n    \\n                        \\n                    \\n\\n        \\n                <h6 class=\"el-title uk-h5 uk-heading-divider uk-margin-small-top uk-margin-remove-bottom\">                        <a href=\"/my/hubungi-kami/direktori-kakitangan/pengurusan-atasan\">PENGURUSAN ATASAN</a>                    </h6>        \\n        \\n    \\n        \\n        \\n        \\n        \\n        \\n        \\n        \\n    \\n</div></div>\\n        <div>\\n<div class=\"el-item uk-margin-auto uk-width-xlarge uk-panel uk-margin-remove-first-child\">\\n    \\n                        \\n                    \\n\\n        \\n                <h6 class=\"el-title uk-h5 uk-heading-divider uk-margin-small-top uk-margin-remove-bottom\">                        <a href=\"/my/hubungi-kami/direktori-kakitangan/pengarah-negeri\">PENGARAH NEGERI</a>                    </h6>        \\n        \\n    \\n        \\n        \\n        \\n        \\n        \\n        \\n        \\n    \\n</div></div>\\n        <div>\\n<div class=\"el-item uk-margin-auto uk-width-xlarge uk-panel uk-margin-remove-first-child\">\\n    \\n                        \\n                    \\n\\n        \\n                <h6 class=\"el-title uk-h5 uk-heading-divider uk-margin-small-top uk-margin-remove-bottom\">                        <a href=\"/my/hubungi-kami/direktori-kakitangan/bahagian-pentadbiran\">BAHAGIAN PENTADBIRAN</a>                    </h6>        \\n        \\n    \\n        \\n        \\n        \\n        \\n        \\n        \\n        \\n    \\n</div></div>\\n        <div>\\n<div class=\"el-item uk-margin-auto uk-width-xlarge uk-panel uk-margin-remove-first-child\">\\n    \\n                        \\n                    \\n\\n        \\n                <h6 class=\"el-title uk-h5 uk-heading-divider uk-margin-small-top uk-margin-remove-bottom\">                        <a href=\"/my/hubungi-kami/direktori-kakitangan/bahagian-sumber-manusia\">BAHAGIAN SUMBER MANUSIA</a>                    </h6>        \\n        \\n    \\n        \\n        \\n        \\n        \\n        \\n        \\n        \\n    \\n</div></div>\\n        <div>\\n<div class=\"el-item uk-margin-auto uk-width-xlarge uk-panel uk-margin-remove-first-child\">\\n    \\n                        \\n                    \\n\\n        \\n                <h6 class=\"el-title uk-h5 uk-heading-divider uk-margin-small-top uk-margin-remove-bottom\">                        <a href=\"/my/hubungi-kami/direktori-kakitangan/bahagian-kp\">BAHAGIAN KAD PENGENALAN</a>                    </h6>        \\n        \\n    \\n        \\n        \\n        \\n        \\n        \\n        \\n        \\n    \\n</div></div>\\n        <div>\\n<div class=\"el-item uk-margin-auto uk-width-xlarge uk-panel uk-margin-remove-first-child\">\\n    \\n                        \\n                    \\n\\n        \\n                <h6 class=\"el-title uk-h5 uk-heading-divider uk-margin-small-top uk-margin-remove-bottom\">                        <a href=\"/my/hubungi-kami/direktori-kakitangan/pejabat-koordinasi-perolehan-dan-kontrak\">PEJABAT KOORDINASI PEROLEHAN DAN KONTRAK</a>                    </h6>        \\n        \\n    \\n        \\n        \\n        \\n        \\n        \\n        \\n        \\n    \\n</div></div>\\n        <div>\\n<div class=\"el-item uk-margin-auto uk-width-xlarge uk-panel uk-margin-remove-first-child\">\\n    \\n                        \\n                    \\n\\n        \\n                <h6 class=\"el-title uk-h5 uk-heading-divider uk-margin-small-top uk-margin-remove-bottom\">                        <a href=\"/my/hubungi-kami/direktori-kakitangan/bahagian-kelahiran-kematian-anak-angkat\">BAHAGIAN KELAHIRAN KEMATIAN & ANAK ANGKAT</a>                    </h6>        \\n        \\n    \\n        \\n        \\n        \\n        \\n        \\n        \\n        \\n    \\n</div></div>\\n        <div>\\n<div class=\"el-item uk-margin-auto uk-width-xlarge uk-panel uk-margin-remove-first-child\">\\n    \\n                        \\n                    \\n\\n        \\n                <h6 class=\"el-title uk-h5 uk-heading-divider uk-margin-small-top uk-margin-remove-bottom\">                        <a href=\"/my/hubungi-kami/direktori-kakitangan/bahagian-kewangan-pembangunan\">BAHAGIAN KEWANGAN DAN PEMBANGUNAN</a>                    </h6>        \\n        \\n    \\n        \\n        \\n        \\n        \\n        \\n        \\n        \\n    \\n</div></div>\\n        <div>\\n<div class=\"el-item uk-margin-auto uk-width-xlarge uk-panel uk-margin-remove-first-child\">\\n    \\n                        \\n                    \\n\\n        \\n                <h6 class=\"el-title uk-h5 uk-heading-divider uk-margin-small-top uk-margin-remove-bottom\">                        <a href=\"/my/hubungi-kami/direktori-kakitangan/bahagian-kewarganegaraan\">BAHAGIAN KEWARGANEGARAAN</a>                    </h6>        \\n        \\n    \\n        \\n        \\n        \\n        \\n        \\n        \\n        \\n    \\n</div></div>\\n        <div>\\n<div class=\"el-item uk-margin-auto uk-width-xlarge uk-panel uk-margin-remove-first-child\">\\n    \\n                        \\n                    \\n\\n        \\n                <h6 class=\"el-title uk-h5 uk-heading-divider uk-margin-small-top uk-margin-remove-bottom\">                        <a href=\"/my/hubungi-kami/direktori-kakitangan/bahagian-teknologi-maklumat\">BAHAGIAN TEKNOLOGI MAKLUMAT</a>                    </h6>        \\n        \\n    \\n        \\n        \\n        \\n        \\n        \\n        \\n        \\n    \\n</div></div>\\n        <div>\\n<div class=\"el-item uk-margin-auto uk-width-xlarge uk-panel uk-margin-remove-first-child\">\\n    \\n                        \\n                    \\n\\n        \\n                <h6 class=\"el-title uk-h5 uk-heading-divider uk-margin-small-top uk-margin-remove-bottom\">                        <a href=\"/my/hubungi-kami/direktori-kakitangan/bahagian-dasar-dan-pemodenan\">BAHAGIAN DASAR DAN PEMODENAN</a>                    </h6>        \\n        \\n    \\n        \\n        \\n        \\n        \\n        \\n        \\n        \\n    \\n</div></div>\\n        <div>\\n<div class=\"el-item uk-margin-auto uk-width-xlarge uk-panel uk-margin-remove-first-child\">\\n    \\n                        \\n                    \\n\\n        \\n                <h6 class=\"el-title uk-h5 uk-heading-divider uk-margin-small-top uk-margin-remove-bottom\">                        <a href=\"/my/hubungi-kami/direktori-kakitangan/bahagian-perkahwinan-perceraian\">BAHAGIAN PERKAHWINAN & PERCERAIAN</a>                    </h6>        \\n        \\n    \\n        \\n        \\n        \\n        \\n        \\n        \\n        \\n    \\n</div></div>\\n        <div>\\n<div class=\"el-item uk-margin-auto uk-width-xlarge uk-panel uk-margin-remove-first-child\">\\n    \\n                        \\n                    \\n\\n        \\n                <h6 class=\"el-title uk-h5 uk-heading-divider uk-margin-small-top uk-margin-remove-bottom\">                        <a href=\"/my/hubungi-kami/direktori-kakitangan/bahagian-siasatan-penguatkuasaan\">BAHAGIAN SIASATAN & PENGUATKUASAAN</a>                    </h6>        \\n        \\n    \\n        \\n        \\n        \\n        \\n        \\n        \\n        \\n    \\n</div></div>\\n        <div>\\n<div class=\"el-item uk-margin-auto uk-width-xlarge uk-panel uk-margin-remove-first-child\">\\n    \\n                        \\n                    \\n\\n        \\n                <h6 class=\"el-title uk-h5 uk-heading-divider uk-margin-small-top uk-margin-remove-bottom\">                        <a href=\"/my/hubungi-kami/direktori-kakitangan/unit-komunikasi-korporat\">UNIT KOMUNIKASI KORPORAT</a>                    </h6>        \\n        \\n    \\n        \\n        \\n        \\n        \\n        \\n        \\n        \\n    \\n</div></div>\\n        <div>\\n<div class=\"el-item uk-margin-auto uk-width-xlarge uk-panel uk-margin-remove-first-child\">\\n    \\n                        \\n                    \\n\\n        \\n                <h6 class=\"el-title uk-h5 uk-heading-divider uk-margin-small-top uk-margin-remove-bottom\">                        <a href=\"/my/hubungi-kami/direktori-kakitangan/pusat-pengurusan-rekod\">PUSAT PENGURUSAN REKOD</a>                    </h6>        \\n        \\n    \\n        \\n        \\n        \\n        \\n        \\n        \\n        \\n    \\n</div></div>\\n        <div>\\n<div class=\"el-item uk-margin-auto uk-width-xlarge uk-panel uk-margin-remove-first-child\">\\n    \\n                        \\n                    \\n\\n        \\n                <h6 class=\"el-title uk-h5 uk-heading-divider uk-margin-small-top uk-margin-remove-bottom\">                        <a href=\"/my/hubungi-kami/direktori-kakitangan/unit-integriti-dan-pematuhan\">UNIT INTEGRITI DAN PEMATUHAN</a>                    </h6>        \\n        \\n    \\n        \\n        \\n        \\n        \\n        \\n        \\n        \\n    \\n</div></div>\\n        <div>\\n<div class=\"el-item uk-margin-auto uk-width-xlarge uk-panel uk-margin-remove-first-child\">\\n    \\n                        \\n                    \\n\\n        \\n                <h6 class=\"el-title uk-h5 uk-heading-divider uk-margin-small-top uk-margin-remove-bottom\">                        <a href=\"/my/hubungi-kami/direktori-kakitangan/pejabat-penasihat-dan-undang-undang\">PEJABAT PENASIHAT  UNDANG-UNDANG</a>                    </h6>        \\n        \\n    \\n        \\n        \\n        \\n        \\n        \\n        \\n        \\n    \\n</div></div>\\n        </div>\\n\\n</div>\\n\\n            \\n        \\n    \\n</div>\\n</div>\\n                                </div>\\n                \\n            \\n        \\n    \\n</div>\\n\\n\\n            \\n            \\n\\n            <!-- Builder #footer -->\\n<div class=\"uk-section-secondary uk-section uk-section-xsmall uk-padding-remove-bottom\">\\n    \\n        \\n        \\n        \\n            \\n                                <div class=\"uk-container\">                \\n                    \\n                    <div class=\"tm-grid-expand uk-grid-margin\" uk-grid>\\n<div class=\"uk-width-1-2@s uk-width-1-5@m\">\\n    \\n        \\n            \\n            \\n                \\n<div class=\"uk-card uk-card-body uk-card-secondary\">\\n    \\n    \\n<ul class=\"uk-nav uk-nav-default\">\\n    \\n\\t<li><a href=\"/my/penafian\">Penafian</a></li>\\n\\t<li><a href=\"/my/notis-hakcipta\">Notis Hakcipta</a></li>\\n\\t<li><a href=\"/my/dasar-keselamatan\">Dasar Keselamatan</a></li>\\n\\t<li><a href=\"/my/dasar-privasi\">Dasar Privasi</a></li>\\n\\t<li><a href=\"/my/arkib\">Arkib</a></li>\\n\\t<li><a href=\"/my/peta-laman\">Peta Laman</a></li></ul>\\n\\n</div>\\n\\n            \\n        \\n    \\n</div>\\n\\n<div class=\"uk-width-1-2@s uk-width-1-5@m uk-visible@l\">\\n    \\n        \\n            \\n            \\n                \\n<h6 class=\"uk-h6 uk-visible@l uk-margin-remove-top uk-margin-remove-bottom\">        PENGIKTIRAFAN DAN PENSIJILAN    </h6>\\n<div class=\"uk-visible@l uk-margin-xlarge uk-margin-remove-top uk-width-medium uk-margin-auto\">\\n    <div class=\"uk-child-width-1-2 uk-child-width-1-2@s uk-child-width-1-2@m uk-child-width-1-2@l uk-child-width-1-2@xl uk-flex-center uk-flex-middle uk-grid-small uk-grid-match\" uk-grid>        <div>\\n<div class=\"el-item uk-margin-auto uk-width-small uk-panel uk-margin-remove-first-child\">\\n    \\n        \\n                    \\n\\n        \\n        \\n        \\n    \\n                <img class=\"el-image uk-margin-large-top\" alt data-src=\"/templates/yootheme/cache/CERT1-10e0f877.jpeg\" data-srcset=\"/templates/yootheme/cache/CERT1-10e0f877.jpeg 89w\" data-sizes=\"(min-width: 89px) 89px\" data-width=\"89\" data-height=\"60\" uk-img>        \\n        \\n        \\n        \\n        \\n        \\n        \\n    \\n</div></div>\\n        <div>\\n<div class=\"el-item uk-margin-auto uk-width-small uk-panel uk-margin-remove-first-child\">\\n    \\n        \\n                    \\n\\n        \\n        \\n        \\n    \\n                <img class=\"el-image uk-margin-large-top\" alt data-src=\"/templates/yootheme/cache/CERT2-ab34f664.jpeg\" data-srcset=\"/templates/yootheme/cache/CERT2-ab34f664.jpeg 89w\" data-sizes=\"(min-width: 89px) 89px\" data-width=\"89\" data-height=\"60\" uk-img>        \\n        \\n        \\n        \\n        \\n        \\n        \\n    \\n</div></div>\\n        <div>\\n<div class=\"el-item uk-margin-auto uk-width-small uk-panel uk-margin-remove-first-child\">\\n    \\n        \\n                    \\n\\n        \\n        \\n        \\n    \\n                <img class=\"el-image uk-margin-large-top\" alt data-src=\"/templates/yootheme/cache/CERT3-c278f395.jpeg\" data-srcset=\"/templates/yootheme/cache/CERT3-c278f395.jpeg 89w\" data-sizes=\"(min-width: 89px) 89px\" data-width=\"89\" data-height=\"60\" uk-img>        \\n        \\n        \\n        \\n        \\n        \\n        \\n    \\n</div></div>\\n        <div>\\n<div class=\"el-item uk-margin-auto uk-width-small uk-panel uk-margin-remove-first-child\">\\n    \\n        \\n                    \\n\\n        \\n        \\n        \\n    \\n                <img class=\"el-image uk-margin-large-top\" alt data-src=\"/templates/yootheme/cache/CERT4-07edec03.jpeg\" data-srcset=\"/templates/yootheme/cache/CERT4-07edec03.jpeg 89w\" data-sizes=\"(min-width: 89px) 89px\" data-width=\"89\" data-height=\"60\" uk-img>        \\n        \\n        \\n        \\n        \\n        \\n        \\n    \\n</div></div>\\n        <div>\\n<div class=\"el-item uk-margin-auto uk-width-small uk-panel uk-margin-remove-first-child\">\\n    \\n        \\n                    \\n\\n        \\n        \\n        \\n    \\n                <img class=\"el-image uk-margin-large-top\" alt data-src=\"/templates/yootheme/cache/CERT_5-2e3e0ce4.jpeg\" data-srcset=\"/templates/yootheme/cache/CERT_5-2e3e0ce4.jpeg 89w, /templates/yootheme/cache/CERT_5-a6268121.jpeg 178w\" data-sizes=\"(min-width: 89px) 89px\" data-width=\"89\" data-height=\"60\" uk-img>        \\n        \\n        \\n        \\n        \\n        \\n        \\n    \\n</div></div>\\n        </div>\\n\\n</div>\\n\\n            \\n        \\n    \\n</div>\\n\\n<div class=\"uk-width-1-1@s uk-width-3-5@m\">\\n    \\n        \\n            \\n            \\n                <div class=\"uk-panel uk-text-small uk-margin\"><p style=\"text-align: center;\"><span style=\"font-size: 10pt;\"><br />Ibu Pejabat Jabatan Pendaftaran Negara Putrajaya,\\xa0<br />No 20, Persiaran Perdana, Presint 2,<br /></span><span style=\"font-size: 10pt;\">Pusat Pentadbiran Kerajaan Persekutuan ,<br />62551 Wilayah Persekutuan Putrajaya.\\xa0</span><br /><span style=\"font-size: 10pt;\">Telefon: 03-8000 8000 | Faks: 03-8880 8288 | <br />Emel(@jpn.gov.my): pro</span></p></div><div class=\"uk-panel uk-margin uk-margin-remove-top uk-margin-remove-bottom\"><p style=\"text-align: center;\">(C) Hakcipta Terpelihara 2021 - Jabatan Pendaftaran Negara Malaysia</p></div>\\n<div class=\"uk-panel uk-margin-remove-top uk-margin-remove-bottom uk-text-center\">\\n    \\n    <dl class=\"stats-module\">\\n\\t<dt>Jumlah Capaian</dt>\\n\\t<dd>672076</dd>\\n</dl>\\n\\n</div>\\n\\n            \\n        \\n    \\n</div>\\n</div>\\n                                </div>\\n                \\n            \\n        \\n    \\n</div>\\n<style>#footer\\\\#0-0-0-0 .uk-subnav { display:inline-flex; } </style>\\n        </div>\\n\\n                </div>\\n        \\n        \\n\\n    </body>\\n</html>\\n'"
      ]
     },
     "metadata": {},
     "execution_count": 17
    }
   ],
   "source": [
    "data.text\n",
    "\n"
   ]
  },
  {
   "cell_type": "code",
   "execution_count": 18,
   "metadata": {},
   "outputs": [],
   "source": [
    "# Answer to Exercise 3\n",
    "\n",
    "import requests\n",
    "import re\n",
    "\n",
    "url='https://www.kkmm.gov.my/index.php/direktori-a-hubungi-kami/direktori'\n",
    " \n",
    "# get the data    \n",
    "data = requests.get(url)\n"
   ]
  },
  {
   "cell_type": "code",
   "execution_count": 14,
   "metadata": {},
   "outputs": [
    {
     "data": {
      "text/plain": [
       "\"<html><script lang=javascript>\\r\\ndocument.cookie = '_accessKey2=UNpVyFL2SpKqM8urlXBoqYe1xQdhO+I7'\\r\\nwindow.location.reload();\\r\\n</script></html>\\r\\n\""
      ]
     },
     "execution_count": 14,
     "metadata": {},
     "output_type": "execute_result"
    }
   ],
   "source": [
    "data.text"
   ]
  },
  {
   "cell_type": "markdown",
   "metadata": {},
   "source": [
    "Need to use Selenium because of the Javascript on the page."
   ]
  },
  {
   "cell_type": "markdown",
   "metadata": {},
   "source": [
    "### Discussion\n",
    "\n",
    "Is regex good for scraping non regular texts from Web pages?\n",
    "\n",
    "Eg. Look for all text between <li> and </li> \n",
    "\n",
    "can work? yes but how usable?\n",
    "\n",
    "Eg. Look for all names starting with Mr. and then extract the name. How?\n",
    "\n",
    "We need a better way to extract the meta data and elements about the web page. "
   ]
  },
  {
   "cell_type": "markdown",
   "metadata": {},
   "source": [
    "### r'\n",
    "\n",
    "https://docs.python.org/3/library/re.html\n",
    "\n",
    "<pre>\n",
    "Regular expressions use the backslash character ('\\') to indicate special forms or to allow special characters to be used without invoking their special meaning. This collides with Python’s usage of the same character for the same purpose in string literals; for example, to match a literal backslash, one might have to write '\\\\\\\\' as the pattern string, because the regular expression must be \\\\, and each backslash must be expressed as \\\\ inside a regular Python string literal. Also, please note that any invalid escape sequences in Python’s usage of the backslash in string literals now generate a DeprecationWarning and in the future this will become a SyntaxError. This behaviour will happen even if it is a valid escape sequence for a regular expression.\n",
    "\n",
    "The solution is to use Python’s raw string notation for regular expression patterns; backslashes are not handled in any special way in a string literal prefixed with 'r'. So r\"\\n\" is a two-character string containing '\\' and 'n', while \"\\n\" is a one-character string containing a newline. Usually patterns will be expressed in Python code using this raw string notation.\n",
    "</pre>\n",
    "\n",
    "\n",
    "**Note:**\n",
    "\n",
    "Alternative 3rd party regex implementation\n",
    "\n",
    "https://pypi.org/project/regex/\n",
    "\n",
    "Try it out own your own\n"
   ]
  },
  {
   "cell_type": "code",
   "execution_count": 11,
   "metadata": {},
   "outputs": [
    {
     "name": "stdout",
     "output_type": "stream",
     "text": [
      "this is \n",
      " a test\n"
     ]
    }
   ],
   "source": [
    "# Example\n",
    "\n",
    "teststring = 'this is \\n a test'\n",
    "\n",
    "print(teststring)\n"
   ]
  },
  {
   "cell_type": "code",
   "execution_count": 16,
   "metadata": {},
   "outputs": [
    {
     "name": "stdout",
     "output_type": "stream",
     "text": [
      "this is \\n a test\n"
     ]
    }
   ],
   "source": [
    "# Example escape character \\ is now a raw string not an escape char\n",
    "\n",
    "teststring = r'this is \\n a test'\n",
    "\n",
    "print(teststring)\n"
   ]
  },
  {
   "cell_type": "code",
   "execution_count": 20,
   "metadata": {},
   "outputs": [
    {
     "output_type": "execute_result",
     "data": {
      "text/plain": [
       "[]"
      ]
     },
     "metadata": {},
     "execution_count": 20
    }
   ],
   "source": [
    "# \\b Word boundary, allow to perform \"whole words only\" search\n",
    "\n",
    "import re\n",
    "1\n",
    "re.findall('\\b test\\b', 'test this is a test') # the backslash gets consumed by the python string interpreter\n"
   ]
  },
  {
   "cell_type": "code",
   "execution_count": 19,
   "metadata": {},
   "outputs": [
    {
     "data": {
      "text/plain": [
       "['test', 'test']"
      ]
     },
     "execution_count": 19,
     "metadata": {},
     "output_type": "execute_result"
    }
   ],
   "source": [
    "re.findall('\\\\btest\\\\b', 'test this is a test') # backslash is explicitly escaped and is passed through to re module\n"
   ]
  },
  {
   "cell_type": "code",
   "execution_count": 14,
   "metadata": {},
   "outputs": [
    {
     "data": {
      "text/plain": [
       "['test', 'test']"
      ]
     },
     "execution_count": 14,
     "metadata": {},
     "output_type": "execute_result"
    }
   ],
   "source": [
    "re.findall(r'\\btest\\b', 'test this is a test') # often this syntax is easier\n"
   ]
  },
  {
   "cell_type": "code",
   "execution_count": 13,
   "metadata": {},
   "outputs": [
    {
     "name": "stdout",
     "output_type": "stream",
     "text": [
      "['schema.org/QAPage']\n"
     ]
    }
   ],
   "source": [
    "# some example using regex to extract the URL\n",
    "\n",
    "import re\n",
    "\n",
    "x=\"\"\"<!DOCTYPE html>\n",
    "\n",
    "<html itemscope itemtype=\"http://schema.org/QAPage\">\n",
    "\n",
    "<head>\n",
    "\"\"\"\n",
    "\n",
    "matching = re.findall(r\"[a-zA-Z0-9\\-\\.]+\\.(?:com|org|net|mil|edu|COM|ORG|NET|MIL|EDU)+(?:[\\w\\-\\.,@?^=%&amp;:\\/~\\+#]*[\\w\\-\\@?^=%&amp;\\/~\\+#])?\",x)\n",
    "\n",
    "print(matching)"
   ]
  }
 ],
 "metadata": {
  "kernelspec": {
   "name": "python388jvsc74a57bd06dd4a680cfc926e4dc1aa6f371a302086ee2206a19d0617edc124d4d29d78632",
   "display_name": "Python 3.8.8 64-bit ('python-dscourse': conda)"
  },
  "language_info": {
   "codemirror_mode": {
    "name": "ipython",
    "version": 3
   },
   "file_extension": ".py",
   "mimetype": "text/x-python",
   "name": "python",
   "nbconvert_exporter": "python",
   "pygments_lexer": "ipython3",
   "version": "3.8.8"
  }
 },
 "nbformat": 4,
 "nbformat_minor": 4
}