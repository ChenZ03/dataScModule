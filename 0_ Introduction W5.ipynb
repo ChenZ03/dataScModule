{
 "cells": [
  {
   "cell_type": "markdown",
   "metadata": {},
   "source": [
    "# Introduction Week 5"
   ]
  },
  {
   "cell_type": "markdown",
   "metadata": {},
   "source": [
    "Here is the guide for this weekend in learning the following topics:\n",
    "\n",
    "1. Overview of Web Applications & Web Scraping\n",
    "2. Regular Expression\n",
    "3. BeautifulSoup\n",
    "4. Selenium\n",
    "\n",
    "The classes shall be conducted with\n",
    "1. Explanation\n",
    "2. Online Demo\n",
    "3. Q&A\n",
    "4. Exercises !!!"
   ]
  },
  {
   "cell_type": "markdown",
   "metadata": {},
   "source": [
    "## Tools - Python Libraries \n",
    "\n",
    "1. Requests\n",
    "2. Regex\n",
    "3. BeautifulSoup\n",
    "4. Selenium\n"
   ]
  },
  {
   "cell_type": "markdown",
   "metadata": {},
   "source": [
    "## Web Applications"
   ]
  },
  {
   "cell_type": "markdown",
   "metadata": {},
   "source": [
    "**What are Web Applications?**\n",
    "\n",
    "According to Wikipedia\n",
    "\n",
    "*'In computing, a web application or web app is a client–server computer program that the client (including the user interface and client-side logic) runs in a web browser. Common web applications include webmail, online retail sales, online banking, and online auctions.'*\n",
    "  \n",
    "  \n",
    "**Reference:** \n",
    "\n",
    "https://en.wikipedia.org/wiki/Web_application\n",
    "\n",
    "https://developer.mozilla.org/en-US/docs/Learn\n"
   ]
  },
  {
   "cell_type": "markdown",
   "metadata": {},
   "source": [
    "### Clients and servers\n",
    "\n",
    "Computers connected to the web are called **clients** and **servers**. A simplified diagram of how they interact might look like this:\n",
    "\n",
    "<p>\n",
    "    \n",
    "\n",
    "\n",
    "\n",
    "<img src=\"https://mdn.mozillademos.org/files/8973/Client-server.jpg\">\n",
    "\n",
    "<p>\n",
    "<p>\n",
    "    \n",
    "\n",
    "* Clients are the typical web user's internet-connected devices (for example, your computer connected to your Wi-Fi, or your phone connected to your mobile network) and web-accessing software available on those devices (usually a web browser like Firefox or Chrome).\n",
    "\n",
    "   \n",
    "* Servers are computers that store webpages, sites, or apps. When a client device wants to access a webpage, a copy of the webpage is downloaded from the server onto the client machine to be displayed in the user's web browser."
   ]
  },
  {
   "cell_type": "markdown",
   "metadata": {},
   "source": [
    "<img src=\"./Images/InternetTransactions.png\">"
   ]
  },
  {
   "cell_type": "markdown",
   "metadata": {},
   "source": [
    "### Anatomy of a Web Page\n",
    "\n",
    "HTML\n",
    "\n",
    "CSS\n",
    "\n",
    "Javascript\n",
    "\n",
    "\n",
    "Show some examples "
   ]
  },
  {
   "cell_type": "code",
   "execution_count": null,
   "metadata": {},
   "outputs": [],
   "source": [
    "webpage = '''\n",
    "<!DOCTYPE html>\n",
    "<html>\n",
    "  <head>\n",
    "    <title>This is a title</title>\n",
    "  </head>\n",
    "  <body>\n",
    "    <p>Hello world!</p>\n",
    "  </body>\n",
    "</html>\n",
    "'''"
   ]
  },
  {
   "cell_type": "markdown",
   "metadata": {},
   "source": [
    "## Web Scraping"
   ]
  },
  {
   "cell_type": "markdown",
   "metadata": {},
   "source": [
    "**Web Scraping** is a technique to extract the data from the web pages in an **automated way**.\n",
    "\n",
    "A web scraping **script** can load and extract the **data** from multiple pages.\n",
    "\n",
    "A web scraping script contains Python codes and required libraries to perform the task.\n",
    "\n",
    "The first library needed is **Requests**"
   ]
  },
  {
   "cell_type": "markdown",
   "metadata": {},
   "source": [
    "### Getting Started\n",
    "\n",
    "**Install the Request library**\n",
    "\n",
    "pip3 install request\n",
    "\n",
    "OR\n",
    "\n",
    "conda install -c conda-forge request\n",
    "\n",
    "Ref:\n",
    "\n",
    "https://anaconda.org/conda-forge/request\n"
   ]
  },
  {
   "cell_type": "markdown",
   "metadata": {},
   "source": [
    "### Requests\n",
    "\n",
    "\n",
    "**Requests** (handles HTTP sessions and makes HTTP requests).\n",
    "\n",
    "import requests\n"
   ]
  },
  {
   "cell_type": "code",
   "execution_count": null,
   "metadata": {},
   "outputs": [],
   "source": [
    "import requests\n",
    "\n",
    "url='https://www.thestar.com.my/news/nation/2020/03/23/covid-19-current-situation-in-malaysia-updated-daily'\n",
    "\n",
    "page = requests.get(url)\n",
    "\n",
    "page.status_code\n"
   ]
  },
  {
   "cell_type": "markdown",
   "metadata": {},
   "source": [
    "### Status code\n",
    "\n",
    "200 OK\n",
    "\n",
    "https://developer.mozilla.org/en-US/docs/Web/HTTP/Status\n"
   ]
  },
  {
   "cell_type": "code",
   "execution_count": null,
   "metadata": {},
   "outputs": [],
   "source": [
    "# print the returned page as string\n",
    "\n",
    "page.text"
   ]
  },
  {
   "cell_type": "code",
   "execution_count": null,
   "metadata": {},
   "outputs": [],
   "source": [
    "# print the returned page as bytes\n",
    "\n",
    "page.content"
   ]
  },
  {
   "cell_type": "code",
   "execution_count": null,
   "metadata": {},
   "outputs": [],
   "source": [
    "# print the returned page as bytes\n",
    "\n",
    "page.encoding"
   ]
  },
  {
   "cell_type": "markdown",
   "metadata": {},
   "source": [
    "### Compare\n",
    "\n",
    "Open your Web Browser and compare the Source Code shown there and here\n"
   ]
  },
  {
   "cell_type": "markdown",
   "metadata": {},
   "source": [
    "### Understanding the Web Page\n",
    "\n",
    "Where is the ?\n",
    "\n",
    "HTML\n",
    "\n",
    "CSS\n",
    "\n",
    "Javascript\n",
    "\n",
    "Show the Web Browser Developmers Tools"
   ]
  },
  {
   "cell_type": "markdown",
   "metadata": {},
   "source": [
    "### Reduce impact\n",
    "\n",
    "Do not query the webpage all the time\n",
    "\n",
    "Anti-bots / scrapers\n"
   ]
  },
  {
   "cell_type": "code",
   "execution_count": 7,
   "metadata": {},
   "outputs": [],
   "source": [
    "# How to save HTML locally\n",
    "import requests\n",
    "\n",
    "def save_html(html, path):\n",
    "    with open(path, 'wb') as f:\n",
    "        f.write(html)\n",
    "        \n",
    "url = 'https://www.google.com'\n",
    "\n",
    "r = requests.get(url)\n",
    "\n",
    "save_html(r.content, 'google_com')\n",
    "\n",
    "#print(r.content[:100])"
   ]
  },
  {
   "cell_type": "code",
   "execution_count": 8,
   "metadata": {},
   "outputs": [],
   "source": [
    "# How to open.read HTML from a local file\n",
    "\n",
    "def open_html(path):\n",
    "    with open(path, 'rb') as f:\n",
    "        return f.read()\n",
    "    \n",
    "    \n",
    "html = open_html('google_com')\n"
   ]
  },
  {
   "cell_type": "code",
   "execution_count": 9,
   "metadata": {},
   "outputs": [
    {
     "output_type": "execute_result",
     "data": {
      "text/plain": [
       "b'<!doctype html><html itemscope=\"\" itemtype=\"http://schema.org/WebPage\" lang=\"en-MY\"><head><meta content=\"text/html; charset=UTF-8\" http-equiv=\"Content-Type\"><meta content=\"/logos/doodles/2021/wear-a-mask-save-lives-apr-6-6753651837109262.2-law.gif\" itemprop=\"image\"><meta content=\"Masks are still important. Wear a mask and save lives.\" property=\"twitter:title\"><meta content=\"Masks are still important. Wear a mask and save lives. #GoogleDoodle\" property=\"twitter:description\"><meta content=\"Masks are still important. Wear a mask and save lives. #GoogleDoodle\" property=\"og:description\"><meta content=\"summary_large_image\" property=\"twitter:card\"><meta content=\"@GoogleDoodles\" property=\"twitter:site\"><meta content=\"https://www.google.com/logos/doodles/2021/wear-a-mask-save-lives-apr-6-6753651837109262-2xa.gif\" property=\"twitter:image\"><meta content=\"https://www.google.com/logos/doodles/2021/wear-a-mask-save-lives-apr-6-6753651837109262-2xa.gif\" property=\"og:image\"><meta content=\"1067\" property=\"og:image:width\"><meta content=\"400\" property=\"og:image:height\"><meta content=\"https://www.google.com/logos/doodles/2021/wear-a-mask-save-lives-apr-6-6753651837109262-2xa.gif\" property=\"og:url\"><meta content=\"video.other\" property=\"og:type\"><title>Google</title><script nonce=\"enWWWXROSAOnGm/OsVVKYg==\">(function(){window.google={kEI:\\'_MJrYPu7DYPe9QOVjpjQDw\\',kEXPI:\\'0,1302440,96,56873,954,5105,206,4804,925,1391,383,246,5,700,429,225,5250,1122516,1232,1196533,487,30,28,328957,51223,16115,17444,11240,9188,8384,4859,1361,283,9007,3029,4739,8000,4841,4020,978,13228,2054,920,873,4192,6430,14527,236,4285,2774,919,2277,8,2796,885,708,1279,2212,241,289,149,1103,840,517,1466,4,52,157,4101,109,3405,606,2023,2297,4269,330,1282,8789,3227,2845,7,12354,5096,7877,4928,108,3409,906,2,941,2614,2397,7468,3277,3,576,1014,1,820,2550,2074,149,5990,4050,1283,2652,4,1528,2304,1236,832,313,4081,577,1791,266,2626,460,1555,4067,9544,3011,1753,2658,4242,519,912,564,1120,30,5663,2466,5499,1591,714,638,7080,5759,2061,2715,665,2145,376,3288,2548,479,512,1057,906,1140,67,99,2276,696,8,906,3,3541,1,4174,6271,2726,1091,448,1814,38,245,38,874,60,3374,1940,618,1260,1194,2,1095,1306,136,1597,164,33,367,32,2859,710,77,1400,294,2,1394,115,1301,1390,1715,2,488,1922,184,463,2512,2749,1067,259,297,471,338,639,1293,1145,193,1870,2,61,618,166,87,168,493,57,293,2,597,240,1269,12,32,1335,677,286,546,52,677,309,513,508,129,700,386,266,184,1583,1240,481,3,371,537,661,203,201,189,374,225,2,2,2,1345,93,1474,5665718,12,3858,35,226,5997077,2799385,1323,882,444,1,2,80,1,1796,1,9,2,2551,1,748,141,795,563,1,4265,1,1,2,1331,3299,843,1,2608,155,17,13,72,338,10,19,46,5,39,97,39,8,6,4,16,4,47,38,8,82,29,3,2,2,2,2,2,2,2,2,2,2,2,2,6,2,2,4,2,2,2,11,1,10,2,34,34,6,4,27,18,92,23956275,149,4010124,268,244,26530,605,2,918,2,303,11\\',kBL:\\'mMEJ\\'};google.sn=\\'webhp\\';google.kHL=\\'en-MY\\';})();(function(){\\nvar f,h=[];function k(a){for(var b;a&&(!a.getAttribute||!(b=a.getAttribute(\"eid\")));)a=a.parentNode;return b||f}function l(a){for(var b=null;a&&(!a.getAttribute||!(b=a.getAttribute(\"leid\")));)a=a.parentNode;return b}\\nfunction m(a,b,c,d,g){var e=\"\";c||-1!=b.search(\"&ei=\")||(e=\"&ei=\"+k(d),-1==b.search(\"&lei=\")&&(d=l(d))&&(e+=\"&lei=\"+d));d=\"\";!c&&window._cshid&&-1==b.search(\"&cshid=\")&&\"slh\"!=a&&(d=\"&cshid=\"+window._cshid);c=c||\"/\"+(g||\"gen_204\")+\"?atyp=i&ct=\"+a+\"&cad=\"+b+e+\"&zx=\"+Date.now()+d;/^http:/i.test(c)&&\"https:\"==window.location.protocol&&(google.ml&&google.ml(Error(\"a\"),!1,{src:c,glmm:1}),c=\"\");return c};f=google.kEI;google.getEI=k;google.getLEI=l;google.ml=function(){return null};google.log=function(a,b,c,d,g){if(c=m(a,b,c,d,g)){a=new Image;var e=h.length;h[e]=a;a.onerror=a.onload=a.onabort=function(){delete h[e]};a.src=c}};google.logUrl=m;}).call(this);(function(){google.y={};google.sy=[];google.x=function(a,b){if(a)var c=a.id;else{do c=Math.random();while(google.y[c])}google.y[c]=[a,b];return!1};google.sx=function(a){google.sy.push(a)};google.lm=[];google.plm=function(a){google.lm.push.apply(google.lm,a)};google.lq=[];google.load=function(a,b,c){google.lq.push([[a],b,c])};google.loadAll=function(a,b){google.lq.push([a,b])};google.bx=!1;google.lx=function(){};}).call(this);google.f={};(function(){\\ndocument.documentElement.addEventListener(\"submit\",function(b){var a;if(a=b.target){var c=a.getAttribute(\"data-submitfalse\");a=\"1\"==c||\"q\"==c&&!a.elements.q.value?!0:!1}else a=!1;a&&(b.preventDefault(),b.stopPropagation())},!0);document.documentElement.addEventListener(\"click\",function(b){var a;a:{for(a=b.target;a&&a!=document.documentElement;a=a.parentElement)if(\"A\"==a.tagName){a=\"1\"==a.getAttribute(\"data-nohref\");break a}a=!1}a&&b.preventDefault()},!0);}).call(this);</script><style>#gbar,#guser{font-size:13px;padding-top:1px !important;}#gbar{height:22px}#guser{padding-bottom:7px !important;text-align:right}.gbh,.gbd{border-top:1px solid #c9d7f1;font-size:1px}.gbh{height:0;position:absolute;top:24px;width:100%}@media all{.gb1{height:22px;margin-right:.5em;vertical-align:top}#gbar{float:left}}a.gb1,a.gb4{text-decoration:underline !important}a.gb1,a.gb4{color:#00c !important}.gbi .gb4{color:#dd8e27 !important}.gbf .gb4{color:#900 !important}\\n</style><style>body,td,a,p,.h{font-family:arial,sans-serif}body{margin:0;overflow-y:scroll}#gog{padding:3px 8px 0}td{line-height:.8em}.gac_m td{line-height:17px}form{margin-bottom:20px}.h{color:#1558d6}em{font-weight:bold;font-style:normal}.lst{height:25px;width:496px}.gsfi,.lst{font:18px arial,sans-serif}.gsfs{font:17px arial,sans-serif}.ds{display:inline-box;display:inline-block;margin:3px 0 4px;margin-left:4px}input{font-family:inherit}body{background:#fff;color:#000}a{color:#4b11a8;text-decoration:none}a:hover,a:active{text-decoration:underline}.fl a{color:#1558d6}a:visited{color:#4b11a8}.sblc{padding-top:5px}.sblc a{display:block;margin:2px 0;margin-left:13px;font-size:11px}.lsbb{background:#f8f9fa;border:solid 1px;border-color:#dadce0 #70757a #70757a #dadce0;height:30px}.lsbb{display:block}#WqQANb a{display:inline-block;margin:0 12px}.lsb{background:url(/images/nav_logo229.png) 0 -261px repeat-x;border:none;color:#000;cursor:pointer;height:30px;margin:0;outline:0;font:15px arial,sans-serif;vertical-align:top}.lsb:active{background:#dadce0}.lst:focus{outline:none}</style><script nonce=\"enWWWXROSAOnGm/OsVVKYg==\"></script></head><body bgcolor=\"#fff\"><script nonce=\"enWWWXROSAOnGm/OsVVKYg==\">(function(){var src=\\'/images/nav_logo229.png\\';var iesg=false;document.body.onload = function(){window.n && window.n();if (document.images){new Image().src=src;}\\nif (!iesg){document.f&&document.f.q.focus();document.gbqf&&document.gbqf.q.focus();}\\n}\\n})();</script><div id=\"mngb\"><div id=gbar><nobr><b class=gb1>Search</b> <a class=gb1 href=\"https://www.google.com.my/imghp?hl=en&tab=wi\">Images</a> <a class=gb1 href=\"https://maps.google.com.my/maps?hl=en&tab=wl\">Maps</a> <a class=gb1 href=\"https://play.google.com/?hl=en&tab=w8\">Play</a> <a class=gb1 href=\"https://www.youtube.com/?gl=MY&tab=w1\">YouTube</a> <a class=gb1 href=\"https://news.google.com/?tab=wn\">News</a> <a class=gb1 href=\"https://mail.google.com/mail/?tab=wm\">Gmail</a> <a class=gb1 href=\"https://drive.google.com/?tab=wo\">Drive</a> <a class=gb1 style=\"text-decoration:none\" href=\"https://www.google.com.my/intl/en/about/products?tab=wh\"><u>More</u> &raquo;</a></nobr></div><div id=guser width=100%><nobr><span id=gbn class=gbi></span><span id=gbf class=gbf></span><span id=gbe></span><a href=\"http://www.google.com.my/history/optout?hl=en\" class=gb4>Web History</a> | <a  href=\"/preferences?hl=en\" class=gb4>Settings</a> | <a target=_top id=gb_70 href=\"https://accounts.google.com/ServiceLogin?hl=en&passive=true&continue=https://www.google.com/&ec=GAZAAQ\" class=gb4>Sign in</a></nobr></div><div class=gbh style=left:0></div><div class=gbh style=right:0></div></div><center><br clear=\"all\" id=\"lgpd\"><div id=\"lga\"><a href=\"/search?ie=UTF-8&amp;q=covid-19+prevention&amp;oi=ddle&amp;ct=183794008&amp;hl=en&amp;sa=X&amp;ved=0ahUKEwj7qfT_xOjvAhUDb30KHRUHBvoQPQgD\"><img alt=\"Masks are still important. Wear a mask and save lives.\" border=\"0\" height=\"200\" src=\"/logos/doodles/2021/wear-a-mask-save-lives-apr-6-6753651837109262.2-law.gif\" title=\"Masks are still important. Wear a mask and save lives.\" width=\"533\" id=\"hplogo\"><br></a><br></div><form action=\"/search\" name=\"f\"><table cellpadding=\"0\" cellspacing=\"0\"><tr valign=\"top\"><td width=\"25%\">&nbsp;</td><td align=\"center\" nowrap=\"\"><input name=\"ie\" value=\"ISO-8859-1\" type=\"hidden\"><input value=\"en-MY\" name=\"hl\" type=\"hidden\"><input name=\"source\" type=\"hidden\" value=\"hp\"><input name=\"biw\" type=\"hidden\"><input name=\"bih\" type=\"hidden\"><div class=\"ds\" style=\"height:32px;margin:4px 0\"><input class=\"lst\" style=\"margin:0;padding:5px 8px 0 6px;vertical-align:top;color:#000\" autocomplete=\"off\" value=\"\" title=\"Google Search\" maxlength=\"2048\" name=\"q\" size=\"57\"></div><br style=\"line-height:0\"><span class=\"ds\"><span class=\"lsbb\"><input class=\"lsb\" value=\"Google Search\" name=\"btnG\" type=\"submit\"></span></span><span class=\"ds\"><span class=\"lsbb\"><input class=\"lsb\" id=\"tsuid1\" value=\"I\\'m Feeling Lucky\" name=\"btnI\" type=\"submit\"><script nonce=\"enWWWXROSAOnGm/OsVVKYg==\">(function(){var id=\\'tsuid1\\';document.getElementById(id).onclick = function(){if (this.form.q.value){this.checked = 1;if (this.form.iflsig)this.form.iflsig.disabled = false;}\\nelse top.location=\\'/doodles/\\';};})();</script><input value=\"AINFCbYAAAAAYGvRDL-toAg2J69oja2dBRzISRH1FtlA\" name=\"iflsig\" type=\"hidden\"></span></span></td><td class=\"fl sblc\" align=\"left\" nowrap=\"\" width=\"25%\"><a href=\"/advanced_search?hl=en-MY&amp;authuser=0\">Advanced search</a></td></tr></table><input id=\"gbv\" name=\"gbv\" type=\"hidden\" value=\"1\"><script nonce=\"enWWWXROSAOnGm/OsVVKYg==\">(function(){var a,b=\"1\";if(document&&document.getElementById)if(\"undefined\"!=typeof XMLHttpRequest)b=\"2\";else if(\"undefined\"!=typeof ActiveXObject){var c,d,e=[\"MSXML2.XMLHTTP.6.0\",\"MSXML2.XMLHTTP.3.0\",\"MSXML2.XMLHTTP\",\"Microsoft.XMLHTTP\"];for(c=0;d=e[c++];)try{new ActiveXObject(d),b=\"2\"}catch(h){}}a=b;if(\"2\"==a&&-1==location.search.indexOf(\"&gbv=2\")){var f=google.gbvu,g=document.getElementById(\"gbv\");g&&(g.value=a);f&&window.setTimeout(function(){location.href=f},0)};}).call(this);</script></form><div id=\"gac_scont\"></div><div style=\"font-size:83%;min-height:3.5em\"><br><div id=\"gws-output-pages-elements-homepage_additional_languages__als\"><style>#gws-output-pages-elements-homepage_additional_languages__als{font-size:small;margin-bottom:24px}#SIvCob{display:inline-block;line-height:28px;}#SIvCob a{padding:0 3px;}.H6sW5{display:inline-block;margin:0 2px;white-space:nowrap}.z4hgWe{display:inline-block;margin:0 2px}</style><div id=\"SIvCob\">Google offered in:  <a href=\"https://www.google.com/setprefs?sig=0_yV_R0h1jC3_bRWf1BnRqrfxTaMM%3D&amp;hl=ms&amp;source=homepage&amp;sa=X&amp;ved=0ahUKEwj7qfT_xOjvAhUDb30KHRUHBvoQ2ZgBCAU\">Bahasa Melayu</a>  </div></div></div><span id=\"footer\"><div style=\"font-size:10pt\"><div style=\"margin:19px auto;text-align:center\" id=\"WqQANb\"><a href=\"/intl/en/ads/\">Advertising\\xa0Programs</a><a href=\"http://www.google.com.my/intl/en/services/\">Business Solutions</a><a href=\"/intl/en/about.html\">About Google</a></div></div><p style=\"font-size:8pt;color:#70757a\">&copy; 2021 - <a href=\"/intl/en/policies/privacy/\">Privacy</a> - <a href=\"/intl/en/policies/terms/\">Terms</a></p></span></center><script nonce=\"enWWWXROSAOnGm/OsVVKYg==\">(function(){window.google.cdo={height:0,width:0};(function(){var a=window.innerWidth,b=window.innerHeight;if(!a||!b){var c=window.document,d=\"CSS1Compat\"==c.compatMode?c.documentElement:c.body;a=d.clientWidth;b=d.clientHeight}a&&b&&(a!=google.cdo.width||b!=google.cdo.height)&&google.log(\"\",\"\",\"/client_204?&atyp=i&biw=\"+a+\"&bih=\"+b+\"&ei=\"+google.kEI);}).call(this);})();(function(){var u=\\'/xjs/_/js/k\\\\x3dxjs.hp.en.3nh5-axLNgg.O/m\\\\x3dsb_he,d/am\\\\x3dAHgCHA/d\\\\x3d1/rs\\\\x3dACT90oF_TxxEOe5hhrdXJlB1GCI4InA0BQ\\';\\nvar d=this||self,e=/^[\\\\w+/_-]+[=]{0,2}$/,f=null,g=function(a){return(a=a.querySelector&&a.querySelector(\"script[nonce]\"))&&(a=a.nonce||a.getAttribute(\"nonce\"))&&e.test(a)?a:\"\"},h=function(a){return a};var l;var n=function(a,b){this.g=b===m?a:\"\"};n.prototype.toString=function(){return this.g+\"\"};var m={};function p(){var a=u;google.lx=function(){q(a);google.lx=function(){}};google.bx||google.lx()}\\nfunction q(a){var b=document;var c=\"SCRIPT\";\"application/xhtml+xml\"===b.contentType&&(c=c.toLowerCase());c=b.createElement(c);if(void 0===l){b=null;var k=d.trustedTypes;if(k&&k.createPolicy){try{b=k.createPolicy(\"goog#html\",{createHTML:h,createScript:h,createScriptURL:h})}catch(r){d.console&&d.console.error(r.message)}l=b}else l=b}a=(b=l)?b.createScriptURL(a):a;a=new n(a,m);c.src=a instanceof n&&a.constructor===n?a.g:\"type_error:TrustedResourceUrl\";(a=c.ownerDocument&&c.ownerDocument.defaultView)&&\\na!=d?a=g(a.document):(null===f&&(f=g(d.document)),a=f);a&&c.setAttribute(\"nonce\",a);google.timers&&google.timers.load&&google.tick&&google.tick(\"load\",\"xjsls\");document.body.appendChild(c);google.psa=!0};setTimeout(function(){p()},0);})();(function(){window.google.xjsu=\\'/xjs/_/js/k\\\\x3dxjs.hp.en.3nh5-axLNgg.O/m\\\\x3dsb_he,d/am\\\\x3dAHgCHA/d\\\\x3d1/rs\\\\x3dACT90oF_TxxEOe5hhrdXJlB1GCI4InA0BQ\\';})();function _DumpException(e){throw e;}\\nfunction _F_installCss(c){}\\n(function(){google.jl={blt:\\'none\\',dw:false,em:[],emtn:0,ine:false,lls:\\'default\\',pdt:0,snet:true,uwp:true};})();(function(){var pmc=\\'{\\\\x22d\\\\x22:{},\\\\x22sb_he\\\\x22:{\\\\x22agen\\\\x22:true,\\\\x22cgen\\\\x22:true,\\\\x22client\\\\x22:\\\\x22heirloom-hp\\\\x22,\\\\x22dh\\\\x22:true,\\\\x22dhqt\\\\x22:true,\\\\x22ds\\\\x22:\\\\x22\\\\x22,\\\\x22ffql\\\\x22:\\\\x22en\\\\x22,\\\\x22fl\\\\x22:true,\\\\x22host\\\\x22:\\\\x22google.com\\\\x22,\\\\x22isbh\\\\x22:28,\\\\x22jsonp\\\\x22:true,\\\\x22msgs\\\\x22:{\\\\x22cibl\\\\x22:\\\\x22Clear Search\\\\x22,\\\\x22dym\\\\x22:\\\\x22Did you mean:\\\\x22,\\\\x22lcky\\\\x22:\\\\x22I\\\\\\\\u0026#39;m Feeling Lucky\\\\x22,\\\\x22lml\\\\x22:\\\\x22Learn more\\\\x22,\\\\x22oskt\\\\x22:\\\\x22Input tools\\\\x22,\\\\x22psrc\\\\x22:\\\\x22This search was removed from your \\\\\\\\u003Ca href\\\\x3d\\\\\\\\\\\\x22/history\\\\\\\\\\\\x22\\\\\\\\u003EWeb History\\\\\\\\u003C/a\\\\\\\\u003E\\\\x22,\\\\x22psrl\\\\x22:\\\\x22Remove\\\\x22,\\\\x22sbit\\\\x22:\\\\x22Search by image\\\\x22,\\\\x22srch\\\\x22:\\\\x22Google Search\\\\x22},\\\\x22nrft\\\\x22:false,\\\\x22ovr\\\\x22:{},\\\\x22pq\\\\x22:\\\\x22\\\\x22,\\\\x22refpd\\\\x22:true,\\\\x22rfs\\\\x22:[],\\\\x22sbas\\\\x22:\\\\x220 3px 8px 0 rgba(0,0,0,0.2),0 0 0 1px rgba(0,0,0,0.08)\\\\x22,\\\\x22sbpl\\\\x22:16,\\\\x22sbpr\\\\x22:16,\\\\x22scd\\\\x22:10,\\\\x22stok\\\\x22:\\\\x22oUalR8ReHN2mSjXd_kjhND8Sv8Q\\\\x22,\\\\x22uhde\\\\x22:false}}\\';google.pmc=JSON.parse(pmc);})();</script>        </body></html>'"
      ]
     },
     "metadata": {},
     "execution_count": 9
    }
   ],
   "source": [
    "html"
   ]
  },
  {
   "cell_type": "code",
   "execution_count": 10,
   "metadata": {},
   "outputs": [
    {
     "output_type": "display_data",
     "data": {
      "text/plain": "<IPython.core.display.HTML object>",
      "text/html": "b'<!doctype html><html itemscope=\"\" itemtype=\"http://schema.org/WebPage\" lang=\"en-MY\"><head><meta content=\"text/html; charset=UTF-8\" http-equiv=\"Content-Type\"><meta content=\"/logos/doodles/2021/wear-a-mask-save-lives-apr-6-6753651837109262.2-law.gif\" itemprop=\"image\"><meta content=\"Masks are still important. Wear a mask and save lives.\" property=\"twitter:title\"><meta content=\"Masks are still important. Wear a mask and save lives. #GoogleDoodle\" property=\"twitter:description\"><meta content=\"Masks are still important. Wear a mask and save lives. #GoogleDoodle\" property=\"og:description\"><meta content=\"summary_large_image\" property=\"twitter:card\"><meta content=\"@GoogleDoodles\" property=\"twitter:site\"><meta content=\"https://www.google.com/logos/doodles/2021/wear-a-mask-save-lives-apr-6-6753651837109262-2xa.gif\" property=\"twitter:image\"><meta content=\"https://www.google.com/logos/doodles/2021/wear-a-mask-save-lives-apr-6-6753651837109262-2xa.gif\" property=\"og:image\"><meta content=\"1067\" property=\"og:image:width\"><meta content=\"400\" property=\"og:image:height\"><meta content=\"https://www.google.com/logos/doodles/2021/wear-a-mask-save-lives-apr-6-6753651837109262-2xa.gif\" property=\"og:url\"><meta content=\"video.other\" property=\"og:type\"><title>Google</title><script nonce=\"enWWWXROSAOnGm/OsVVKYg==\">(function(){window.google={kEI:\\'_MJrYPu7DYPe9QOVjpjQDw\\',kEXPI:\\'0,1302440,96,56873,954,5105,206,4804,925,1391,383,246,5,700,429,225,5250,1122516,1232,1196533,487,30,28,328957,51223,16115,17444,11240,9188,8384,4859,1361,283,9007,3029,4739,8000,4841,4020,978,13228,2054,920,873,4192,6430,14527,236,4285,2774,919,2277,8,2796,885,708,1279,2212,241,289,149,1103,840,517,1466,4,52,157,4101,109,3405,606,2023,2297,4269,330,1282,8789,3227,2845,7,12354,5096,7877,4928,108,3409,906,2,941,2614,2397,7468,3277,3,576,1014,1,820,2550,2074,149,5990,4050,1283,2652,4,1528,2304,1236,832,313,4081,577,1791,266,2626,460,1555,4067,9544,3011,1753,2658,4242,519,912,564,1120,30,5663,2466,5499,1591,714,638,7080,5759,2061,2715,665,2145,376,3288,2548,479,512,1057,906,1140,67,99,2276,696,8,906,3,3541,1,4174,6271,2726,1091,448,1814,38,245,38,874,60,3374,1940,618,1260,1194,2,1095,1306,136,1597,164,33,367,32,2859,710,77,1400,294,2,1394,115,1301,1390,1715,2,488,1922,184,463,2512,2749,1067,259,297,471,338,639,1293,1145,193,1870,2,61,618,166,87,168,493,57,293,2,597,240,1269,12,32,1335,677,286,546,52,677,309,513,508,129,700,386,266,184,1583,1240,481,3,371,537,661,203,201,189,374,225,2,2,2,1345,93,1474,5665718,12,3858,35,226,5997077,2799385,1323,882,444,1,2,80,1,1796,1,9,2,2551,1,748,141,795,563,1,4265,1,1,2,1331,3299,843,1,2608,155,17,13,72,338,10,19,46,5,39,97,39,8,6,4,16,4,47,38,8,82,29,3,2,2,2,2,2,2,2,2,2,2,2,2,6,2,2,4,2,2,2,11,1,10,2,34,34,6,4,27,18,92,23956275,149,4010124,268,244,26530,605,2,918,2,303,11\\',kBL:\\'mMEJ\\'};google.sn=\\'webhp\\';google.kHL=\\'en-MY\\';})();(function(){\\nvar f,h=[];function k(a){for(var b;a&&(!a.getAttribute||!(b=a.getAttribute(\"eid\")));)a=a.parentNode;return b||f}function l(a){for(var b=null;a&&(!a.getAttribute||!(b=a.getAttribute(\"leid\")));)a=a.parentNode;return b}\\nfunction m(a,b,c,d,g){var e=\"\";c||-1!=b.search(\"&ei=\")||(e=\"&ei=\"+k(d),-1==b.search(\"&lei=\")&&(d=l(d))&&(e+=\"&lei=\"+d));d=\"\";!c&&window._cshid&&-1==b.search(\"&cshid=\")&&\"slh\"!=a&&(d=\"&cshid=\"+window._cshid);c=c||\"/\"+(g||\"gen_204\")+\"?atyp=i&ct=\"+a+\"&cad=\"+b+e+\"&zx=\"+Date.now()+d;/^http:/i.test(c)&&\"https:\"==window.location.protocol&&(google.ml&&google.ml(Error(\"a\"),!1,{src:c,glmm:1}),c=\"\");return c};f=google.kEI;google.getEI=k;google.getLEI=l;google.ml=function(){return null};google.log=function(a,b,c,d,g){if(c=m(a,b,c,d,g)){a=new Image;var e=h.length;h[e]=a;a.onerror=a.onload=a.onabort=function(){delete h[e]};a.src=c}};google.logUrl=m;}).call(this);(function(){google.y={};google.sy=[];google.x=function(a,b){if(a)var c=a.id;else{do c=Math.random();while(google.y[c])}google.y[c]=[a,b];return!1};google.sx=function(a){google.sy.push(a)};google.lm=[];google.plm=function(a){google.lm.push.apply(google.lm,a)};google.lq=[];google.load=function(a,b,c){google.lq.push([[a],b,c])};google.loadAll=function(a,b){google.lq.push([a,b])};google.bx=!1;google.lx=function(){};}).call(this);google.f={};(function(){\\ndocument.documentElement.addEventListener(\"submit\",function(b){var a;if(a=b.target){var c=a.getAttribute(\"data-submitfalse\");a=\"1\"==c||\"q\"==c&&!a.elements.q.value?!0:!1}else a=!1;a&&(b.preventDefault(),b.stopPropagation())},!0);document.documentElement.addEventListener(\"click\",function(b){var a;a:{for(a=b.target;a&&a!=document.documentElement;a=a.parentElement)if(\"A\"==a.tagName){a=\"1\"==a.getAttribute(\"data-nohref\");break a}a=!1}a&&b.preventDefault()},!0);}).call(this);</script><style>#gbar,#guser{font-size:13px;padding-top:1px !important;}#gbar{height:22px}#guser{padding-bottom:7px !important;text-align:right}.gbh,.gbd{border-top:1px solid #c9d7f1;font-size:1px}.gbh{height:0;position:absolute;top:24px;width:100%}@media all{.gb1{height:22px;margin-right:.5em;vertical-align:top}#gbar{float:left}}a.gb1,a.gb4{text-decoration:underline !important}a.gb1,a.gb4{color:#00c !important}.gbi .gb4{color:#dd8e27 !important}.gbf .gb4{color:#900 !important}\\n</style><style>body,td,a,p,.h{font-family:arial,sans-serif}body{margin:0;overflow-y:scroll}#gog{padding:3px 8px 0}td{line-height:.8em}.gac_m td{line-height:17px}form{margin-bottom:20px}.h{color:#1558d6}em{font-weight:bold;font-style:normal}.lst{height:25px;width:496px}.gsfi,.lst{font:18px arial,sans-serif}.gsfs{font:17px arial,sans-serif}.ds{display:inline-box;display:inline-block;margin:3px 0 4px;margin-left:4px}input{font-family:inherit}body{background:#fff;color:#000}a{color:#4b11a8;text-decoration:none}a:hover,a:active{text-decoration:underline}.fl a{color:#1558d6}a:visited{color:#4b11a8}.sblc{padding-top:5px}.sblc a{display:block;margin:2px 0;margin-left:13px;font-size:11px}.lsbb{background:#f8f9fa;border:solid 1px;border-color:#dadce0 #70757a #70757a #dadce0;height:30px}.lsbb{display:block}#WqQANb a{display:inline-block;margin:0 12px}.lsb{background:url(/images/nav_logo229.png) 0 -261px repeat-x;border:none;color:#000;cursor:pointer;height:30px;margin:0;outline:0;font:15px arial,sans-serif;vertical-align:top}.lsb:active{background:#dadce0}.lst:focus{outline:none}</style><script nonce=\"enWWWXROSAOnGm/OsVVKYg==\"></script></head><body bgcolor=\"#fff\"><script nonce=\"enWWWXROSAOnGm/OsVVKYg==\">(function(){var src=\\'/images/nav_logo229.png\\';var iesg=false;document.body.onload = function(){window.n && window.n();if (document.images){new Image().src=src;}\\nif (!iesg){document.f&&document.f.q.focus();document.gbqf&&document.gbqf.q.focus();}\\n}\\n})();</script><div id=\"mngb\"><div id=gbar><nobr><b class=gb1>Search</b> <a class=gb1 href=\"https://www.google.com.my/imghp?hl=en&tab=wi\">Images</a> <a class=gb1 href=\"https://maps.google.com.my/maps?hl=en&tab=wl\">Maps</a> <a class=gb1 href=\"https://play.google.com/?hl=en&tab=w8\">Play</a> <a class=gb1 href=\"https://www.youtube.com/?gl=MY&tab=w1\">YouTube</a> <a class=gb1 href=\"https://news.google.com/?tab=wn\">News</a> <a class=gb1 href=\"https://mail.google.com/mail/?tab=wm\">Gmail</a> <a class=gb1 href=\"https://drive.google.com/?tab=wo\">Drive</a> <a class=gb1 style=\"text-decoration:none\" href=\"https://www.google.com.my/intl/en/about/products?tab=wh\"><u>More</u> &raquo;</a></nobr></div><div id=guser width=100%><nobr><span id=gbn class=gbi></span><span id=gbf class=gbf></span><span id=gbe></span><a href=\"http://www.google.com.my/history/optout?hl=en\" class=gb4>Web History</a> | <a  href=\"/preferences?hl=en\" class=gb4>Settings</a> | <a target=_top id=gb_70 href=\"https://accounts.google.com/ServiceLogin?hl=en&passive=true&continue=https://www.google.com/&ec=GAZAAQ\" class=gb4>Sign in</a></nobr></div><div class=gbh style=left:0></div><div class=gbh style=right:0></div></div><center><br clear=\"all\" id=\"lgpd\"><div id=\"lga\"><a href=\"/search?ie=UTF-8&amp;q=covid-19+prevention&amp;oi=ddle&amp;ct=183794008&amp;hl=en&amp;sa=X&amp;ved=0ahUKEwj7qfT_xOjvAhUDb30KHRUHBvoQPQgD\"><img alt=\"Masks are still important. Wear a mask and save lives.\" border=\"0\" height=\"200\" src=\"/logos/doodles/2021/wear-a-mask-save-lives-apr-6-6753651837109262.2-law.gif\" title=\"Masks are still important. Wear a mask and save lives.\" width=\"533\" id=\"hplogo\"><br></a><br></div><form action=\"/search\" name=\"f\"><table cellpadding=\"0\" cellspacing=\"0\"><tr valign=\"top\"><td width=\"25%\">&nbsp;</td><td align=\"center\" nowrap=\"\"><input name=\"ie\" value=\"ISO-8859-1\" type=\"hidden\"><input value=\"en-MY\" name=\"hl\" type=\"hidden\"><input name=\"source\" type=\"hidden\" value=\"hp\"><input name=\"biw\" type=\"hidden\"><input name=\"bih\" type=\"hidden\"><div class=\"ds\" style=\"height:32px;margin:4px 0\"><input class=\"lst\" style=\"margin:0;padding:5px 8px 0 6px;vertical-align:top;color:#000\" autocomplete=\"off\" value=\"\" title=\"Google Search\" maxlength=\"2048\" name=\"q\" size=\"57\"></div><br style=\"line-height:0\"><span class=\"ds\"><span class=\"lsbb\"><input class=\"lsb\" value=\"Google Search\" name=\"btnG\" type=\"submit\"></span></span><span class=\"ds\"><span class=\"lsbb\"><input class=\"lsb\" id=\"tsuid1\" value=\"I\\'m Feeling Lucky\" name=\"btnI\" type=\"submit\"><script nonce=\"enWWWXROSAOnGm/OsVVKYg==\">(function(){var id=\\'tsuid1\\';document.getElementById(id).onclick = function(){if (this.form.q.value){this.checked = 1;if (this.form.iflsig)this.form.iflsig.disabled = false;}\\nelse top.location=\\'/doodles/\\';};})();</script><input value=\"AINFCbYAAAAAYGvRDL-toAg2J69oja2dBRzISRH1FtlA\" name=\"iflsig\" type=\"hidden\"></span></span></td><td class=\"fl sblc\" align=\"left\" nowrap=\"\" width=\"25%\"><a href=\"/advanced_search?hl=en-MY&amp;authuser=0\">Advanced search</a></td></tr></table><input id=\"gbv\" name=\"gbv\" type=\"hidden\" value=\"1\"><script nonce=\"enWWWXROSAOnGm/OsVVKYg==\">(function(){var a,b=\"1\";if(document&&document.getElementById)if(\"undefined\"!=typeof XMLHttpRequest)b=\"2\";else if(\"undefined\"!=typeof ActiveXObject){var c,d,e=[\"MSXML2.XMLHTTP.6.0\",\"MSXML2.XMLHTTP.3.0\",\"MSXML2.XMLHTTP\",\"Microsoft.XMLHTTP\"];for(c=0;d=e[c++];)try{new ActiveXObject(d),b=\"2\"}catch(h){}}a=b;if(\"2\"==a&&-1==location.search.indexOf(\"&gbv=2\")){var f=google.gbvu,g=document.getElementById(\"gbv\");g&&(g.value=a);f&&window.setTimeout(function(){location.href=f},0)};}).call(this);</script></form><div id=\"gac_scont\"></div><div style=\"font-size:83%;min-height:3.5em\"><br><div id=\"gws-output-pages-elements-homepage_additional_languages__als\"><style>#gws-output-pages-elements-homepage_additional_languages__als{font-size:small;margin-bottom:24px}#SIvCob{display:inline-block;line-height:28px;}#SIvCob a{padding:0 3px;}.H6sW5{display:inline-block;margin:0 2px;white-space:nowrap}.z4hgWe{display:inline-block;margin:0 2px}</style><div id=\"SIvCob\">Google offered in:  <a href=\"https://www.google.com/setprefs?sig=0_yV_R0h1jC3_bRWf1BnRqrfxTaMM%3D&amp;hl=ms&amp;source=homepage&amp;sa=X&amp;ved=0ahUKEwj7qfT_xOjvAhUDb30KHRUHBvoQ2ZgBCAU\">Bahasa Melayu</a>  </div></div></div><span id=\"footer\"><div style=\"font-size:10pt\"><div style=\"margin:19px auto;text-align:center\" id=\"WqQANb\"><a href=\"/intl/en/ads/\">Advertising\\xa0Programs</a><a href=\"http://www.google.com.my/intl/en/services/\">Business Solutions</a><a href=\"/intl/en/about.html\">About Google</a></div></div><p style=\"font-size:8pt;color:#70757a\">&copy; 2021 - <a href=\"/intl/en/policies/privacy/\">Privacy</a> - <a href=\"/intl/en/policies/terms/\">Terms</a></p></span></center><script nonce=\"enWWWXROSAOnGm/OsVVKYg==\">(function(){window.google.cdo={height:0,width:0};(function(){var a=window.innerWidth,b=window.innerHeight;if(!a||!b){var c=window.document,d=\"CSS1Compat\"==c.compatMode?c.documentElement:c.body;a=d.clientWidth;b=d.clientHeight}a&&b&&(a!=google.cdo.width||b!=google.cdo.height)&&google.log(\"\",\"\",\"/client_204?&atyp=i&biw=\"+a+\"&bih=\"+b+\"&ei=\"+google.kEI);}).call(this);})();(function(){var u=\\'/xjs/_/js/k\\\\x3dxjs.hp.en.3nh5-axLNgg.O/m\\\\x3dsb_he,d/am\\\\x3dAHgCHA/d\\\\x3d1/rs\\\\x3dACT90oF_TxxEOe5hhrdXJlB1GCI4InA0BQ\\';\\nvar d=this||self,e=/^[\\\\w+/_-]+[=]{0,2}$/,f=null,g=function(a){return(a=a.querySelector&&a.querySelector(\"script[nonce]\"))&&(a=a.nonce||a.getAttribute(\"nonce\"))&&e.test(a)?a:\"\"},h=function(a){return a};var l;var n=function(a,b){this.g=b===m?a:\"\"};n.prototype.toString=function(){return this.g+\"\"};var m={};function p(){var a=u;google.lx=function(){q(a);google.lx=function(){}};google.bx||google.lx()}\\nfunction q(a){var b=document;var c=\"SCRIPT\";\"application/xhtml+xml\"===b.contentType&&(c=c.toLowerCase());c=b.createElement(c);if(void 0===l){b=null;var k=d.trustedTypes;if(k&&k.createPolicy){try{b=k.createPolicy(\"goog#html\",{createHTML:h,createScript:h,createScriptURL:h})}catch(r){d.console&&d.console.error(r.message)}l=b}else l=b}a=(b=l)?b.createScriptURL(a):a;a=new n(a,m);c.src=a instanceof n&&a.constructor===n?a.g:\"type_error:TrustedResourceUrl\";(a=c.ownerDocument&&c.ownerDocument.defaultView)&&\\na!=d?a=g(a.document):(null===f&&(f=g(d.document)),a=f);a&&c.setAttribute(\"nonce\",a);google.timers&&google.timers.load&&google.tick&&google.tick(\"load\",\"xjsls\");document.body.appendChild(c);google.psa=!0};setTimeout(function(){p()},0);})();(function(){window.google.xjsu=\\'/xjs/_/js/k\\\\x3dxjs.hp.en.3nh5-axLNgg.O/m\\\\x3dsb_he,d/am\\\\x3dAHgCHA/d\\\\x3d1/rs\\\\x3dACT90oF_TxxEOe5hhrdXJlB1GCI4InA0BQ\\';})();function _DumpException(e){throw e;}\\nfunction _F_installCss(c){}\\n(function(){google.jl={blt:\\'none\\',dw:false,em:[],emtn:0,ine:false,lls:\\'default\\',pdt:0,snet:true,uwp:true};})();(function(){var pmc=\\'{\\\\x22d\\\\x22:{},\\\\x22sb_he\\\\x22:{\\\\x22agen\\\\x22:true,\\\\x22cgen\\\\x22:true,\\\\x22client\\\\x22:\\\\x22heirloom-hp\\\\x22,\\\\x22dh\\\\x22:true,\\\\x22dhqt\\\\x22:true,\\\\x22ds\\\\x22:\\\\x22\\\\x22,\\\\x22ffql\\\\x22:\\\\x22en\\\\x22,\\\\x22fl\\\\x22:true,\\\\x22host\\\\x22:\\\\x22google.com\\\\x22,\\\\x22isbh\\\\x22:28,\\\\x22jsonp\\\\x22:true,\\\\x22msgs\\\\x22:{\\\\x22cibl\\\\x22:\\\\x22Clear Search\\\\x22,\\\\x22dym\\\\x22:\\\\x22Did you mean:\\\\x22,\\\\x22lcky\\\\x22:\\\\x22I\\\\\\\\u0026#39;m Feeling Lucky\\\\x22,\\\\x22lml\\\\x22:\\\\x22Learn more\\\\x22,\\\\x22oskt\\\\x22:\\\\x22Input tools\\\\x22,\\\\x22psrc\\\\x22:\\\\x22This search was removed from your \\\\\\\\u003Ca href\\\\x3d\\\\\\\\\\\\x22/history\\\\\\\\\\\\x22\\\\\\\\u003EWeb History\\\\\\\\u003C/a\\\\\\\\u003E\\\\x22,\\\\x22psrl\\\\x22:\\\\x22Remove\\\\x22,\\\\x22sbit\\\\x22:\\\\x22Search by image\\\\x22,\\\\x22srch\\\\x22:\\\\x22Google Search\\\\x22},\\\\x22nrft\\\\x22:false,\\\\x22ovr\\\\x22:{},\\\\x22pq\\\\x22:\\\\x22\\\\x22,\\\\x22refpd\\\\x22:true,\\\\x22rfs\\\\x22:[],\\\\x22sbas\\\\x22:\\\\x220 3px 8px 0 rgba(0,0,0,0.2),0 0 0 1px rgba(0,0,0,0.08)\\\\x22,\\\\x22sbpl\\\\x22:16,\\\\x22sbpr\\\\x22:16,\\\\x22scd\\\\x22:10,\\\\x22stok\\\\x22:\\\\x22oUalR8ReHN2mSjXd_kjhND8Sv8Q\\\\x22,\\\\x22uhde\\\\x22:false}}\\';google.pmc=JSON.parse(pmc);})();</script>        </body></html>'"
     },
     "metadata": {}
    }
   ],
   "source": [
    "# for ipython notebook display\n",
    "from IPython.core.display import display, HTML\n",
    "\n",
    "display(HTML(str(html)))"
   ]
  },
  {
   "cell_type": "markdown",
   "metadata": {},
   "source": [
    "### How to be a good scrapers/bots\n",
    "\n",
    "Look for robots.txt at the root of the domain.\n",
    "\n",
    "Website owner explicitly states what bots are allowed to do on their site\n",
    "\n"
   ]
  },
  {
   "cell_type": "code",
   "execution_count": 11,
   "metadata": {},
   "outputs": [
    {
     "output_type": "stream",
     "name": "stdout",
     "text": [
      "b'User-agent: *\\nDisallow: /search\\nAllow: /search/about\\nAllow: /search/static\\nAllow: /search/howsearchworks\\nDisallow: /sdch\\nDisallow: /groups\\nDisallow: /index.html?\\nDisallow: /?\\nAllow: /?hl=\\nDisallow: /?hl=*&\\nAllow: /?hl=*&gws_rd=ssl$\\nDisallow: /?hl=*&*&gws_rd=ssl\\nAllow: /?gws_rd=ssl$\\nAllow: /?pt1=true$\\nDisallow: /imgres\\nDisallow: /u/\\nDisallow: /preferences\\nDisallow: /setprefs\\nDisallow: /default\\nDisallow: /m?\\nDisallow: /m/\\nAllow:    /m/finance\\nDisallow: /wml?\\nDisallow: /wml/?\\nDisallow: /wml/search?\\nDisallow: /xhtml?\\nDisallow: /xhtml/?\\nDisallow: /xhtml/search?\\nDisallow: /xml?\\nDisallow: /imode?\\nDisallow: /imode/?\\nDisallow: /imode/search?\\nDisallow: /jsky?\\nDisallow: /jsky/?\\nDisallow: /jsky/search?\\nDisallow: /pda?\\nDisallow: /pda/?\\nDisallow: /pda/search?\\nDisallow: /sprint_xhtml\\nDisallow: /sprint_wml\\nDisallow: /pqa\\nDisallow: /palm\\nDisallow: /gwt/\\nDisallow: /purchases\\nDisallow: /local?\\nDisallow: /local_url\\nDisallow: /shihui?\\nDisallow: /shihui/\\nDisallow: /products?\\nDisallow: /product_\\nDisallow: /products_\\nDisallow: /products;\\nDisallow: /print\\nDisallow: /books/\\nDisallow: /bkshp?*q=*\\nDisallow: /books?*q=*\\nDisallow: /books?*output=*\\nDisallow: /books?*pg=*\\nDisallow: /books?*jtp=*\\nDisallow: /books?*jscmd=*\\nDisallow: /books?*buy=*\\nDisallow: /books?*zoom=*\\nAllow: /books?*q=related:*\\nAllow: /books?*q=editions:*\\nAllow: /books?*q=subject:*\\nAllow: /books/about\\nAllow: /booksrightsholders\\nAllow: /books?*zoom=1*\\nAllow: /books?*zoom=5*\\nAllow: /books/content?*zoom=1*\\nAllow: /books/content?*zoom=5*\\nDisallow: /ebooks/\\nDisallow: /ebooks?*q=*\\nDisallow: /ebooks?*output=*\\nDisallow: /ebooks?*pg=*\\nDisallow: /ebooks?*jscmd=*\\nDisallow: /ebooks?*buy=*\\nDisallow: /ebooks?*zoom=*\\nAllow: /ebooks?*q=related:*\\nAllow: /ebooks?*q=editions:*\\nAllow: /ebooks?*q=subject:*\\nAllow: /ebooks?*zoom=1*\\nAllow: /ebooks?*zoom=5*\\nDisallow: /patents?\\nDisallow: /patents/download/\\nDisallow: /patents/pdf/\\nDisallow: /patents/related/\\nDisallow: /scholar\\nDisallow: /citations?\\nAllow: /citations?user=\\nDisallow: /citations?*cstart=\\nAllow: /citations?view_op=new_profile\\nAllow: /citations?view_op=top_venues\\nAllow: /scholar_share\\nDisallow: /s?\\nAllow: /maps?*output=classic*\\nAllow: /maps?*file=\\nAllow: /maps/d/\\nDisallow: /maps?\\nDisallow: /mapstt?\\nDisallow: /mapslt?\\nDisallow: /maps/stk/\\nDisallow: /maps/br?\\nDisallow: /mapabcpoi?\\nDisallow: /maphp?\\nDisallow: /mapprint?\\nDisallow: /maps/api/js/\\nAllow: /maps/api/js\\nDisallow: /maps/api/place/js/\\nDisallow: /maps/api/staticmap\\nDisallow: /maps/api/streetview\\nDisallow: /maps/_/sw/manifest.json\\nDisallow: /mld?\\nDisallow: /staticmap?\\nDisallow: /maps/preview\\nDisallow: /maps/place\\nDisallow: /maps/timeline/\\nDisallow: /help/maps/streetview/partners/welcome/\\nDisallow: /help/maps/indoormaps/partners/\\nDisallow: /lochp?\\nDisallow: /center\\nDisallow: /ie?\\nDisallow: /blogsearch/\\nDisallow: /blogsearch_feeds\\nDisallow: /advanced_blog_search\\nDisallow: /uds/\\nDisallow: /chart?\\nDisallow: /transit?\\nAllow:    /calendar$\\nAllow:    /calendar/about/\\nDisallow: /calendar/\\nDisallow: /cl2/feeds/\\nDisallow: /cl2/ical/\\nDisallow: /coop/directory\\nDisallow: /coop/manage\\nDisallow: /trends?\\nDisallow: /trends/music?\\nDisallow: /trends/hottrends?\\nDisallow: /trends/viz?\\nDisallow: /trends/embed.js?\\nDisallow: /trends/fetchComponent?\\nDisallow: /trends/beta\\nDisallow: /trends/topics\\nDisallow: /musica\\nDisallow: /musicad\\nDisallow: /musicas\\nDisallow: /musicl\\nDisallow: /musics\\nDisallow: /musicsearch\\nDisallow: /musicsp\\nDisallow: /musiclp\\nDisallow: /urchin_test/\\nDisallow: /movies?\\nDisallow: /wapsearch?\\nAllow: /safebrowsing/diagnostic\\nAllow: /safebrowsing/report_badware/\\nAllow: /safebrowsing/report_error/\\nAllow: /safebrowsing/report_phish/\\nDisallow: /reviews/search?\\nDisallow: /orkut/albums\\nDisallow: /cbk\\nDisallow: /recharge/dashboard/car\\nDisallow: /recharge/dashboard/static/\\nDisallow: /profiles/me\\nAllow: /profiles\\nDisallow: /s2/profiles/me\\nAllow: /s2/profiles\\nAllow: /s2/oz\\nAllow: /s2/photos\\nAllow: /s2/search/social\\nAllow: /s2/static\\nDisallow: /s2\\nDisallow: /transconsole/portal/\\nDisallow: /gcc/\\nDisallow: /aclk\\nDisallow: /cse?\\nDisallow: /cse/home\\nDisallow: /cse/panel\\nDisallow: /cse/manage\\nDisallow: /tbproxy/\\nDisallow: /imesync/\\nDisallow: /shenghuo/search?\\nDisallow: /support/forum/search?\\nDisallow: /reviews/polls/\\nDisallow: /hosted/images/\\nDisallow: /ppob/?\\nDisallow: /ppob?\\nDisallow: /accounts/ClientLogin\\nDisallow: /accounts/ClientAuth\\nDisallow: /accounts/o8\\nAllow: /accounts/o8/id\\nDisallow: /topicsearch?q=\\nDisallow: /xfx7/\\nDisallow: /squared/api\\nDisallow: /squared/search\\nDisallow: /squared/table\\nDisallow: /qnasearch?\\nDisallow: /app/updates\\nDisallow: /sidewiki/entry/\\nDisallow: /quality_form?\\nDisallow: /labs/popgadget/search\\nDisallow: /buzz/post\\nDisallow: /compressiontest/\\nDisallow: /analytics/feeds/\\nDisallow: /analytics/partners/comments/\\nDisallow: /analytics/portal/\\nDisallow: /analytics/uploads/\\nAllow: /alerts/manage\\nAllow: /alerts/remove\\nDisallow: /alerts/\\nAllow: /alerts/$\\nDisallow: /ads/search?\\nDisallow: /ads/plan/action_plan?\\nDisallow: /ads/plan/api/\\nDisallow: /ads/hotels/partners\\nDisallow: /phone/compare/?\\nDisallow: /travel/clk\\nDisallow: /travel/hotelier/terms/\\nDisallow: /hotelfinder/rpc\\nDisallow: /hotels/rpc\\nDisallow: /commercesearch/services/\\nDisallow: /evaluation/\\nDisallow: /chrome/browser/mobile/tour\\nDisallow: /compare/*/apply*\\nDisallow: /forms/perks/\\nDisallow: /shopping/suppliers/search\\nDisallow: /ct/\\nDisallow: /edu/cs4hs/\\nDisallow: /trustedstores/s/\\nDisallow: /trustedstores/tm2\\nDisallow: /trustedstores/verify\\nDisallow: /adwords/proposal\\nDisallow: /shopping?*\\nDisallow: /shopping/product/\\nDisallow: /shopping/seller\\nDisallow: /shopping/ratings/account/metrics\\nDisallow: /shopping/ratings/merchant/immersivedetails\\nDisallow: /shopping/reviewer\\nDisallow: /about/careers/applications/\\nDisallow: /landing/signout.html\\nDisallow: /webmasters/sitemaps/ping?\\nDisallow: /ping?\\nDisallow: /gallery/\\nDisallow: /landing/now/ontap/\\nAllow: /searchhistory/\\nAllow: /maps/reserve\\nAllow: /maps/reserve/partners\\nDisallow: /maps/reserve/api/\\nDisallow: /maps/reserve/search\\nDisallow: /maps/reserve/bookings\\nDisallow: /maps/reserve/settings\\nDisallow: /maps/reserve/manage\\nDisallow: /maps/reserve/payment\\nDisallow: /maps/reserve/receipt\\nDisallow: /maps/reserve/sellersignup\\nDisallow: /maps/reserve/payments\\nDisallow: /maps/reserve/feedback\\nDisallow: /maps/reserve/terms\\nDisallow: /maps/reserve/m/\\nDisallow: /maps/reserve/b/\\nDisallow: /maps/reserve/partner-dashboard\\nDisallow: /about/views/\\nDisallow: /intl/*/about/views/\\nDisallow: /local/dining/\\nDisallow: /local/place/products/\\nDisallow: /local/place/reviews/\\nDisallow: /local/place/rap/\\nDisallow: /local/tab/\\nDisallow: /localservices/*\\nAllow: /finance\\nAllow: /js/\\nDisallow: /nonprofits/account/\\n\\n# AdsBot\\nUser-agent: AdsBot-Google\\nDisallow: /maps/api/js/\\nAllow: /maps/api/js\\nDisallow: /maps/api/place/js/\\nDisallow: /maps/api/staticmap\\nDisallow: /maps/api/streetview\\n\\n# Certain social media sites are whitelisted to allow crawlers to access page markup when links to google.com/imgres* are shared. To learn more, please contact images-robots-whitelist@google.com.\\nUser-agent: Twitterbot\\nAllow: /imgres\\n\\nUser-agent: facebookexternalhit\\nAllow: /imgres\\n\\nSitemap: https://www.google.com/sitemap.xml\\n'\n"
     ]
    }
   ],
   "source": [
    "import requests\n",
    "\n",
    "url = 'https://www.google.com/robots.txt'\n",
    " \n",
    "user_agent = 'user-agent: Mozilla/5.0 (Windows NT 10.0; Win64; x64) AppleWebKit/537.36 (KHTML, like Gecko) Chrome/81.0.4044.92 Safari/537.36'\n",
    "\n",
    "headers={'User-Agent':user_agent}\n",
    "\n",
    "r = requests.get(url, headers=headers)\n",
    "\n",
    "print(r.content)"
   ]
  },
  {
   "cell_type": "code",
   "execution_count": 12,
   "metadata": {},
   "outputs": [
    {
     "output_type": "execute_result",
     "data": {
      "text/plain": [
       "'User-agent: *\\nDisallow: /search\\nAllow: /search/about\\nAllow: /search/static\\nAllow: /search/howsearchworks\\nDisallow: /sdch\\nDisallow: /groups\\nDisallow: /index.html?\\nDisallow: /?\\nAllow: /?hl=\\nDisallow: /?hl=*&\\nAllow: /?hl=*&gws_rd=ssl$\\nDisallow: /?hl=*&*&gws_rd=ssl\\nAllow: /?gws_rd=ssl$\\nAllow: /?pt1=true$\\nDisallow: /imgres\\nDisallow: /u/\\nDisallow: /preferences\\nDisallow: /setprefs\\nDisallow: /default\\nDisallow: /m?\\nDisallow: /m/\\nAllow:    /m/finance\\nDisallow: /wml?\\nDisallow: /wml/?\\nDisallow: /wml/search?\\nDisallow: /xhtml?\\nDisallow: /xhtml/?\\nDisallow: /xhtml/search?\\nDisallow: /xml?\\nDisallow: /imode?\\nDisallow: /imode/?\\nDisallow: /imode/search?\\nDisallow: /jsky?\\nDisallow: /jsky/?\\nDisallow: /jsky/search?\\nDisallow: /pda?\\nDisallow: /pda/?\\nDisallow: /pda/search?\\nDisallow: /sprint_xhtml\\nDisallow: /sprint_wml\\nDisallow: /pqa\\nDisallow: /palm\\nDisallow: /gwt/\\nDisallow: /purchases\\nDisallow: /local?\\nDisallow: /local_url\\nDisallow: /shihui?\\nDisallow: /shihui/\\nDisallow: /products?\\nDisallow: /product_\\nDisallow: /products_\\nDisallow: /products;\\nDisallow: /print\\nDisallow: /books/\\nDisallow: /bkshp?*q=*\\nDisallow: /books?*q=*\\nDisallow: /books?*output=*\\nDisallow: /books?*pg=*\\nDisallow: /books?*jtp=*\\nDisallow: /books?*jscmd=*\\nDisallow: /books?*buy=*\\nDisallow: /books?*zoom=*\\nAllow: /books?*q=related:*\\nAllow: /books?*q=editions:*\\nAllow: /books?*q=subject:*\\nAllow: /books/about\\nAllow: /booksrightsholders\\nAllow: /books?*zoom=1*\\nAllow: /books?*zoom=5*\\nAllow: /books/content?*zoom=1*\\nAllow: /books/content?*zoom=5*\\nDisallow: /ebooks/\\nDisallow: /ebooks?*q=*\\nDisallow: /ebooks?*output=*\\nDisallow: /ebooks?*pg=*\\nDisallow: /ebooks?*jscmd=*\\nDisallow: /ebooks?*buy=*\\nDisallow: /ebooks?*zoom=*\\nAllow: /ebooks?*q=related:*\\nAllow: /ebooks?*q=editions:*\\nAllow: /ebooks?*q=subject:*\\nAllow: /ebooks?*zoom=1*\\nAllow: /ebooks?*zoom=5*\\nDisallow: /patents?\\nDisallow: /patents/download/\\nDisallow: /patents/pdf/\\nDisallow: /patents/related/\\nDisallow: /scholar\\nDisallow: /citations?\\nAllow: /citations?user=\\nDisallow: /citations?*cstart=\\nAllow: /citations?view_op=new_profile\\nAllow: /citations?view_op=top_venues\\nAllow: /scholar_share\\nDisallow: /s?\\nAllow: /maps?*output=classic*\\nAllow: /maps?*file=\\nAllow: /maps/d/\\nDisallow: /maps?\\nDisallow: /mapstt?\\nDisallow: /mapslt?\\nDisallow: /maps/stk/\\nDisallow: /maps/br?\\nDisallow: /mapabcpoi?\\nDisallow: /maphp?\\nDisallow: /mapprint?\\nDisallow: /maps/api/js/\\nAllow: /maps/api/js\\nDisallow: /maps/api/place/js/\\nDisallow: /maps/api/staticmap\\nDisallow: /maps/api/streetview\\nDisallow: /maps/_/sw/manifest.json\\nDisallow: /mld?\\nDisallow: /staticmap?\\nDisallow: /maps/preview\\nDisallow: /maps/place\\nDisallow: /maps/timeline/\\nDisallow: /help/maps/streetview/partners/welcome/\\nDisallow: /help/maps/indoormaps/partners/\\nDisallow: /lochp?\\nDisallow: /center\\nDisallow: /ie?\\nDisallow: /blogsearch/\\nDisallow: /blogsearch_feeds\\nDisallow: /advanced_blog_search\\nDisallow: /uds/\\nDisallow: /chart?\\nDisallow: /transit?\\nAllow:    /calendar$\\nAllow:    /calendar/about/\\nDisallow: /calendar/\\nDisallow: /cl2/feeds/\\nDisallow: /cl2/ical/\\nDisallow: /coop/directory\\nDisallow: /coop/manage\\nDisallow: /trends?\\nDisallow: /trends/music?\\nDisallow: /trends/hottrends?\\nDisallow: /trends/viz?\\nDisallow: /trends/embed.js?\\nDisallow: /trends/fetchComponent?\\nDisallow: /trends/beta\\nDisallow: /trends/topics\\nDisallow: /musica\\nDisallow: /musicad\\nDisallow: /musicas\\nDisallow: /musicl\\nDisallow: /musics\\nDisallow: /musicsearch\\nDisallow: /musicsp\\nDisallow: /musiclp\\nDisallow: /urchin_test/\\nDisallow: /movies?\\nDisallow: /wapsearch?\\nAllow: /safebrowsing/diagnostic\\nAllow: /safebrowsing/report_badware/\\nAllow: /safebrowsing/report_error/\\nAllow: /safebrowsing/report_phish/\\nDisallow: /reviews/search?\\nDisallow: /orkut/albums\\nDisallow: /cbk\\nDisallow: /recharge/dashboard/car\\nDisallow: /recharge/dashboard/static/\\nDisallow: /profiles/me\\nAllow: /profiles\\nDisallow: /s2/profiles/me\\nAllow: /s2/profiles\\nAllow: /s2/oz\\nAllow: /s2/photos\\nAllow: /s2/search/social\\nAllow: /s2/static\\nDisallow: /s2\\nDisallow: /transconsole/portal/\\nDisallow: /gcc/\\nDisallow: /aclk\\nDisallow: /cse?\\nDisallow: /cse/home\\nDisallow: /cse/panel\\nDisallow: /cse/manage\\nDisallow: /tbproxy/\\nDisallow: /imesync/\\nDisallow: /shenghuo/search?\\nDisallow: /support/forum/search?\\nDisallow: /reviews/polls/\\nDisallow: /hosted/images/\\nDisallow: /ppob/?\\nDisallow: /ppob?\\nDisallow: /accounts/ClientLogin\\nDisallow: /accounts/ClientAuth\\nDisallow: /accounts/o8\\nAllow: /accounts/o8/id\\nDisallow: /topicsearch?q=\\nDisallow: /xfx7/\\nDisallow: /squared/api\\nDisallow: /squared/search\\nDisallow: /squared/table\\nDisallow: /qnasearch?\\nDisallow: /app/updates\\nDisallow: /sidewiki/entry/\\nDisallow: /quality_form?\\nDisallow: /labs/popgadget/search\\nDisallow: /buzz/post\\nDisallow: /compressiontest/\\nDisallow: /analytics/feeds/\\nDisallow: /analytics/partners/comments/\\nDisallow: /analytics/portal/\\nDisallow: /analytics/uploads/\\nAllow: /alerts/manage\\nAllow: /alerts/remove\\nDisallow: /alerts/\\nAllow: /alerts/$\\nDisallow: /ads/search?\\nDisallow: /ads/plan/action_plan?\\nDisallow: /ads/plan/api/\\nDisallow: /ads/hotels/partners\\nDisallow: /phone/compare/?\\nDisallow: /travel/clk\\nDisallow: /travel/hotelier/terms/\\nDisallow: /hotelfinder/rpc\\nDisallow: /hotels/rpc\\nDisallow: /commercesearch/services/\\nDisallow: /evaluation/\\nDisallow: /chrome/browser/mobile/tour\\nDisallow: /compare/*/apply*\\nDisallow: /forms/perks/\\nDisallow: /shopping/suppliers/search\\nDisallow: /ct/\\nDisallow: /edu/cs4hs/\\nDisallow: /trustedstores/s/\\nDisallow: /trustedstores/tm2\\nDisallow: /trustedstores/verify\\nDisallow: /adwords/proposal\\nDisallow: /shopping?*\\nDisallow: /shopping/product/\\nDisallow: /shopping/seller\\nDisallow: /shopping/ratings/account/metrics\\nDisallow: /shopping/ratings/merchant/immersivedetails\\nDisallow: /shopping/reviewer\\nDisallow: /about/careers/applications/\\nDisallow: /landing/signout.html\\nDisallow: /webmasters/sitemaps/ping?\\nDisallow: /ping?\\nDisallow: /gallery/\\nDisallow: /landing/now/ontap/\\nAllow: /searchhistory/\\nAllow: /maps/reserve\\nAllow: /maps/reserve/partners\\nDisallow: /maps/reserve/api/\\nDisallow: /maps/reserve/search\\nDisallow: /maps/reserve/bookings\\nDisallow: /maps/reserve/settings\\nDisallow: /maps/reserve/manage\\nDisallow: /maps/reserve/payment\\nDisallow: /maps/reserve/receipt\\nDisallow: /maps/reserve/sellersignup\\nDisallow: /maps/reserve/payments\\nDisallow: /maps/reserve/feedback\\nDisallow: /maps/reserve/terms\\nDisallow: /maps/reserve/m/\\nDisallow: /maps/reserve/b/\\nDisallow: /maps/reserve/partner-dashboard\\nDisallow: /about/views/\\nDisallow: /intl/*/about/views/\\nDisallow: /local/dining/\\nDisallow: /local/place/products/\\nDisallow: /local/place/reviews/\\nDisallow: /local/place/rap/\\nDisallow: /local/tab/\\nDisallow: /localservices/*\\nAllow: /finance\\nAllow: /js/\\nDisallow: /nonprofits/account/\\n\\n# AdsBot\\nUser-agent: AdsBot-Google\\nDisallow: /maps/api/js/\\nAllow: /maps/api/js\\nDisallow: /maps/api/place/js/\\nDisallow: /maps/api/staticmap\\nDisallow: /maps/api/streetview\\n\\n# Certain social media sites are whitelisted to allow crawlers to access page markup when links to google.com/imgres* are shared. To learn more, please contact images-robots-whitelist@google.com.\\nUser-agent: Twitterbot\\nAllow: /imgres\\n\\nUser-agent: facebookexternalhit\\nAllow: /imgres\\n\\nSitemap: https://www.google.com/sitemap.xml\\n'"
      ]
     },
     "metadata": {},
     "execution_count": 12
    }
   ],
   "source": [
    "# Change to Byte to String\n",
    "str(r.content,'utf-8')"
   ]
  },
  {
   "cell_type": "code",
   "execution_count": 13,
   "metadata": {},
   "outputs": [
    {
     "output_type": "stream",
     "name": "stdout",
     "text": [
      "User-agent: *\nDisallow: /search\nAllow: /search/about\nAllow: /search/static\nAllow: /search/howsearchworks\nDisallow: /sdch\nDisallow: /groups\nDisallow: /index.html?\nDisallow: /?\nAllow: /?hl=\nDisallow: /?hl=*&\nAllow: /?hl=*&gws_rd=ssl$\nDisallow: /?hl=*&*&gws_rd=ssl\nAllow: /?gws_rd=ssl$\nAllow: /?pt1=true$\nDisallow: /imgres\nDisallow: /u/\nDisallow: /preferences\nDisallow: /setprefs\nDisallow: /default\nDisallow: /m?\nDisallow: /m/\nAllow:    /m/finance\nDisallow: /wml?\nDisallow: /wml/?\nDisallow: /wml/search?\nDisallow: /xhtml?\nDisallow: /xhtml/?\nDisallow: /xhtml/search?\nDisallow: /xml?\nDisallow: /imode?\nDisallow: /imode/?\nDisallow: /imode/search?\nDisallow: /jsky?\nDisallow: /jsky/?\nDisallow: /jsky/search?\nDisallow: /pda?\nDisallow: /pda/?\nDisallow: /pda/search?\nDisallow: /sprint_xhtml\nDisallow: /sprint_wml\nDisallow: /pqa\nDisallow: /palm\nDisallow: /gwt/\nDisallow: /purchases\nDisallow: /local?\nDisallow: /local_url\nDisallow: /shihui?\nDisallow: /shihui/\nDisallow: /products?\nDisallow: /product_\nDisallow: /products_\nDisallow: /products;\nDisallow: /print\nDisallow: /books/\nDisallow: /bkshp?*q=*\nDisallow: /books?*q=*\nDisallow: /books?*output=*\nDisallow: /books?*pg=*\nDisallow: /books?*jtp=*\nDisallow: /books?*jscmd=*\nDisallow: /books?*buy=*\nDisallow: /books?*zoom=*\nAllow: /books?*q=related:*\nAllow: /books?*q=editions:*\nAllow: /books?*q=subject:*\nAllow: /books/about\nAllow: /booksrightsholders\nAllow: /books?*zoom=1*\nAllow: /books?*zoom=5*\nAllow: /books/content?*zoom=1*\nAllow: /books/content?*zoom=5*\nDisallow: /ebooks/\nDisallow: /ebooks?*q=*\nDisallow: /ebooks?*output=*\nDisallow: /ebooks?*pg=*\nDisallow: /ebooks?*jscmd=*\nDisallow: /ebooks?*buy=*\nDisallow: /ebooks?*zoom=*\nAllow: /ebooks?*q=related:*\nAllow: /ebooks?*q=editions:*\nAllow: /ebooks?*q=subject:*\nAllow: /ebooks?*zoom=1*\nAllow: /ebooks?*zoom=5*\nDisallow: /patents?\nDisallow: /patents/download/\nDisallow: /patents/pdf/\nDisallow: /patents/related/\nDisallow: /scholar\nDisallow: /citations?\nAllow: /citations?user=\nDisallow: /citations?*cstart=\nAllow: /citations?view_op=new_profile\nAllow: /citations?view_op=top_venues\nAllow: /scholar_share\nDisallow: /s?\nAllow: /maps?*output=classic*\nAllow: /maps?*file=\nAllow: /maps/d/\nDisallow: /maps?\nDisallow: /mapstt?\nDisallow: /mapslt?\nDisallow: /maps/stk/\nDisallow: /maps/br?\nDisallow: /mapabcpoi?\nDisallow: /maphp?\nDisallow: /mapprint?\nDisallow: /maps/api/js/\nAllow: /maps/api/js\nDisallow: /maps/api/place/js/\nDisallow: /maps/api/staticmap\nDisallow: /maps/api/streetview\nDisallow: /maps/_/sw/manifest.json\nDisallow: /mld?\nDisallow: /staticmap?\nDisallow: /maps/preview\nDisallow: /maps/place\nDisallow: /maps/timeline/\nDisallow: /help/maps/streetview/partners/welcome/\nDisallow: /help/maps/indoormaps/partners/\nDisallow: /lochp?\nDisallow: /center\nDisallow: /ie?\nDisallow: /blogsearch/\nDisallow: /blogsearch_feeds\nDisallow: /advanced_blog_search\nDisallow: /uds/\nDisallow: /chart?\nDisallow: /transit?\nAllow:    /calendar$\nAllow:    /calendar/about/\nDisallow: /calendar/\nDisallow: /cl2/feeds/\nDisallow: /cl2/ical/\nDisallow: /coop/directory\nDisallow: /coop/manage\nDisallow: /trends?\nDisallow: /trends/music?\nDisallow: /trends/hottrends?\nDisallow: /trends/viz?\nDisallow: /trends/embed.js?\nDisallow: /trends/fetchComponent?\nDisallow: /trends/beta\nDisallow: /trends/topics\nDisallow: /musica\nDisallow: /musicad\nDisallow: /musicas\nDisallow: /musicl\nDisallow: /musics\nDisallow: /musicsearch\nDisallow: /musicsp\nDisallow: /musiclp\nDisallow: /urchin_test/\nDisallow: /movies?\nDisallow: /wapsearch?\nAllow: /safebrowsing/diagnostic\nAllow: /safebrowsing/report_badware/\nAllow: /safebrowsing/report_error/\nAllow: /safebrowsing/report_phish/\nDisallow: /reviews/search?\nDisallow: /orkut/albums\nDisallow: /cbk\nDisallow: /recharge/dashboard/car\nDisallow: /recharge/dashboard/static/\nDisallow: /profiles/me\nAllow: /profiles\nDisallow: /s2/profiles/me\nAllow: /s2/profiles\nAllow: /s2/oz\nAllow: /s2/photos\nAllow: /s2/search/social\nAllow: /s2/static\nDisallow: /s2\nDisallow: /transconsole/portal/\nDisallow: /gcc/\nDisallow: /aclk\nDisallow: /cse?\nDisallow: /cse/home\nDisallow: /cse/panel\nDisallow: /cse/manage\nDisallow: /tbproxy/\nDisallow: /imesync/\nDisallow: /shenghuo/search?\nDisallow: /support/forum/search?\nDisallow: /reviews/polls/\nDisallow: /hosted/images/\nDisallow: /ppob/?\nDisallow: /ppob?\nDisallow: /accounts/ClientLogin\nDisallow: /accounts/ClientAuth\nDisallow: /accounts/o8\nAllow: /accounts/o8/id\nDisallow: /topicsearch?q=\nDisallow: /xfx7/\nDisallow: /squared/api\nDisallow: /squared/search\nDisallow: /squared/table\nDisallow: /qnasearch?\nDisallow: /app/updates\nDisallow: /sidewiki/entry/\nDisallow: /quality_form?\nDisallow: /labs/popgadget/search\nDisallow: /buzz/post\nDisallow: /compressiontest/\nDisallow: /analytics/feeds/\nDisallow: /analytics/partners/comments/\nDisallow: /analytics/portal/\nDisallow: /analytics/uploads/\nAllow: /alerts/manage\nAllow: /alerts/remove\nDisallow: /alerts/\nAllow: /alerts/$\nDisallow: /ads/search?\nDisallow: /ads/plan/action_plan?\nDisallow: /ads/plan/api/\nDisallow: /ads/hotels/partners\nDisallow: /phone/compare/?\nDisallow: /travel/clk\nDisallow: /travel/hotelier/terms/\nDisallow: /hotelfinder/rpc\nDisallow: /hotels/rpc\nDisallow: /commercesearch/services/\nDisallow: /evaluation/\nDisallow: /chrome/browser/mobile/tour\nDisallow: /compare/*/apply*\nDisallow: /forms/perks/\nDisallow: /shopping/suppliers/search\nDisallow: /ct/\nDisallow: /edu/cs4hs/\nDisallow: /trustedstores/s/\nDisallow: /trustedstores/tm2\nDisallow: /trustedstores/verify\nDisallow: /adwords/proposal\nDisallow: /shopping?*\nDisallow: /shopping/product/\nDisallow: /shopping/seller\nDisallow: /shopping/ratings/account/metrics\nDisallow: /shopping/ratings/merchant/immersivedetails\nDisallow: /shopping/reviewer\nDisallow: /about/careers/applications/\nDisallow: /landing/signout.html\nDisallow: /webmasters/sitemaps/ping?\nDisallow: /ping?\nDisallow: /gallery/\nDisallow: /landing/now/ontap/\nAllow: /searchhistory/\nAllow: /maps/reserve\nAllow: /maps/reserve/partners\nDisallow: /maps/reserve/api/\nDisallow: /maps/reserve/search\nDisallow: /maps/reserve/bookings\nDisallow: /maps/reserve/settings\nDisallow: /maps/reserve/manage\nDisallow: /maps/reserve/payment\nDisallow: /maps/reserve/receipt\nDisallow: /maps/reserve/sellersignup\nDisallow: /maps/reserve/payments\nDisallow: /maps/reserve/feedback\nDisallow: /maps/reserve/terms\nDisallow: /maps/reserve/m/\nDisallow: /maps/reserve/b/\nDisallow: /maps/reserve/partner-dashboard\nDisallow: /about/views/\nDisallow: /intl/*/about/views/\nDisallow: /local/dining/\nDisallow: /local/place/products/\nDisallow: /local/place/reviews/\nDisallow: /local/place/rap/\nDisallow: /local/tab/\nDisallow: /localservices/*\nAllow: /finance\nAllow: /js/\nDisallow: /nonprofits/account/\n\n# AdsBot\nUser-agent: AdsBot-Google\nDisallow: /maps/api/js/\nAllow: /maps/api/js\nDisallow: /maps/api/place/js/\nDisallow: /maps/api/staticmap\nDisallow: /maps/api/streetview\n\n# Certain social media sites are whitelisted to allow crawlers to access page markup when links to google.com/imgres* are shared. To learn more, please contact images-robots-whitelist@google.com.\nUser-agent: Twitterbot\nAllow: /imgres\n\nUser-agent: facebookexternalhit\nAllow: /imgres\n\nSitemap: https://www.google.com/sitemap.xml\n\n"
     ]
    }
   ],
   "source": [
    "# Print the newline\n",
    "\n",
    "print(str(r.content,'utf-8'))\n"
   ]
  },
  {
   "cell_type": "code",
   "execution_count": 14,
   "metadata": {},
   "outputs": [
    {
     "output_type": "stream",
     "name": "stdout",
     "text": [
      "User-agent: *\nDisallow: /search\nAllow: /search/about\nAllow: /search/static\nAllow: /search/howsearchworks\nDisallow: /sdch\nDisallow: /groups\nDisallow: /index.html?\nDisallow: /?\nAllow: /?hl=\nDisallow: /?hl=*&\nAllow: /?hl=*&gws_rd=ssl$\nDisallow: /?hl=*&*&gws_rd=ssl\nAllow: /?gws_rd=ssl$\nAllow: /?pt1=true$\nDisallow: /imgres\nDisallow: /u/\nDisallow: /preferences\nDisallow: /setprefs\nDisallow: /default\nDisallow: /m?\nDisallow: /m/\nAllow:    /m/finance\nDisallow: /wml?\nDisallow: /wml/?\nDisallow: /wml/search?\nDisallow: /xhtml?\nDisallow: /xhtml/?\nDisallow: /xhtml/search?\nDisallow: /xml?\nDisallow: /imode?\nDisallow: /imode/?\nDisallow: /imode/search?\nDisallow: /jsky?\nDisallow: /jsky/?\nDisallow: /jsky/search?\nDisallow: /pda?\nDisallow: /pda/?\nDisallow: /pda/search?\nDisallow: /sprint_xhtml\nDisallow: /sprint_wml\nDisallow: /pqa\nDisallow: /palm\nDisallow: /gwt/\nDisallow: /purchases\nDisallow: /local?\nDisallow: /local_url\nDisallow: /shihui?\nDisallow: /shihui/\nDisallow: /products?\nDisallow: /product_\nDisallow: /products_\nDisallow: /products;\nDisallow: /print\nDisallow: /books/\nDisallow: /bkshp?*q=*\nDisallow: /books?*q=*\nDisallow: /books?*output=*\nDisallow: /books?*pg=*\nDisallow: /books?*jtp=*\nDisallow: /books?*jscmd=*\nDisallow: /books?*buy=*\nDisallow: /books?*zoom=*\nAllow: /books?*q=related:*\nAllow: /books?*q=editions:*\nAllow: /books?*q=subject:*\nAllow: /books/about\nAllow: /booksrightsholders\nAllow: /books?*zoom=1*\nAllow: /books?*zoom=5*\nAllow: /books/content?*zoom=1*\nAllow: /books/content?*zoom=5*\nDisallow: /ebooks/\nDisallow: /ebooks?*q=*\nDisallow: /ebooks?*output=*\nDisallow: /ebooks?*pg=*\nDisallow: /ebooks?*jscmd=*\nDisallow: /ebooks?*buy=*\nDisallow: /ebooks?*zoom=*\nAllow: /ebooks?*q=related:*\nAllow: /ebooks?*q=editions:*\nAllow: /ebooks?*q=subject:*\nAllow: /ebooks?*zoom=1*\nAllow: /ebooks?*zoom=5*\nDisallow: /patents?\nDisallow: /patents/download/\nDisallow: /patents/pdf/\nDisallow: /patents/related/\nDisallow: /scholar\nDisallow: /citations?\nAllow: /citations?user=\nDisallow: /citations?*cstart=\nAllow: /citations?view_op=new_profile\nAllow: /citations?view_op=top_venues\nAllow: /scholar_share\nDisallow: /s?\nAllow: /maps?*output=classic*\nAllow: /maps?*file=\nAllow: /maps/d/\nDisallow: /maps?\nDisallow: /mapstt?\nDisallow: /mapslt?\nDisallow: /maps/stk/\nDisallow: /maps/br?\nDisallow: /mapabcpoi?\nDisallow: /maphp?\nDisallow: /mapprint?\nDisallow: /maps/api/js/\nAllow: /maps/api/js\nDisallow: /maps/api/place/js/\nDisallow: /maps/api/staticmap\nDisallow: /maps/api/streetview\nDisallow: /maps/_/sw/manifest.json\nDisallow: /mld?\nDisallow: /staticmap?\nDisallow: /maps/preview\nDisallow: /maps/place\nDisallow: /maps/timeline/\nDisallow: /help/maps/streetview/partners/welcome/\nDisallow: /help/maps/indoormaps/partners/\nDisallow: /lochp?\nDisallow: /center\nDisallow: /ie?\nDisallow: /blogsearch/\nDisallow: /blogsearch_feeds\nDisallow: /advanced_blog_search\nDisallow: /uds/\nDisallow: /chart?\nDisallow: /transit?\nAllow:    /calendar$\nAllow:    /calendar/about/\nDisallow: /calendar/\nDisallow: /cl2/feeds/\nDisallow: /cl2/ical/\nDisallow: /coop/directory\nDisallow: /coop/manage\nDisallow: /trends?\nDisallow: /trends/music?\nDisallow: /trends/hottrends?\nDisallow: /trends/viz?\nDisallow: /trends/embed.js?\nDisallow: /trends/fetchComponent?\nDisallow: /trends/beta\nDisallow: /trends/topics\nDisallow: /musica\nDisallow: /musicad\nDisallow: /musicas\nDisallow: /musicl\nDisallow: /musics\nDisallow: /musicsearch\nDisallow: /musicsp\nDisallow: /musiclp\nDisallow: /urchin_test/\nDisallow: /movies?\nDisallow: /wapsearch?\nAllow: /safebrowsing/diagnostic\nAllow: /safebrowsing/report_badware/\nAllow: /safebrowsing/report_error/\nAllow: /safebrowsing/report_phish/\nDisallow: /reviews/search?\nDisallow: /orkut/albums\nDisallow: /cbk\nDisallow: /recharge/dashboard/car\nDisallow: /recharge/dashboard/static/\nDisallow: /profiles/me\nAllow: /profiles\nDisallow: /s2/profiles/me\nAllow: /s2/profiles\nAllow: /s2/oz\nAllow: /s2/photos\nAllow: /s2/search/social\nAllow: /s2/static\nDisallow: /s2\nDisallow: /transconsole/portal/\nDisallow: /gcc/\nDisallow: /aclk\nDisallow: /cse?\nDisallow: /cse/home\nDisallow: /cse/panel\nDisallow: /cse/manage\nDisallow: /tbproxy/\nDisallow: /imesync/\nDisallow: /shenghuo/search?\nDisallow: /support/forum/search?\nDisallow: /reviews/polls/\nDisallow: /hosted/images/\nDisallow: /ppob/?\nDisallow: /ppob?\nDisallow: /accounts/ClientLogin\nDisallow: /accounts/ClientAuth\nDisallow: /accounts/o8\nAllow: /accounts/o8/id\nDisallow: /topicsearch?q=\nDisallow: /xfx7/\nDisallow: /squared/api\nDisallow: /squared/search\nDisallow: /squared/table\nDisallow: /qnasearch?\nDisallow: /app/updates\nDisallow: /sidewiki/entry/\nDisallow: /quality_form?\nDisallow: /labs/popgadget/search\nDisallow: /buzz/post\nDisallow: /compressiontest/\nDisallow: /analytics/feeds/\nDisallow: /analytics/partners/comments/\nDisallow: /analytics/portal/\nDisallow: /analytics/uploads/\nAllow: /alerts/manage\nAllow: /alerts/remove\nDisallow: /alerts/\nAllow: /alerts/$\nDisallow: /ads/search?\nDisallow: /ads/plan/action_plan?\nDisallow: /ads/plan/api/\nDisallow: /ads/hotels/partners\nDisallow: /phone/compare/?\nDisallow: /travel/clk\nDisallow: /travel/hotelier/terms/\nDisallow: /hotelfinder/rpc\nDisallow: /hotels/rpc\nDisallow: /commercesearch/services/\nDisallow: /evaluation/\nDisallow: /chrome/browser/mobile/tour\nDisallow: /compare/*/apply*\nDisallow: /forms/perks/\nDisallow: /shopping/suppliers/search\nDisallow: /ct/\nDisallow: /edu/cs4hs/\nDisallow: /trustedstores/s/\nDisallow: /trustedstores/tm2\nDisallow: /trustedstores/verify\nDisallow: /adwords/proposal\nDisallow: /shopping?*\nDisallow: /shopping/product/\nDisallow: /shopping/seller\nDisallow: /shopping/ratings/account/metrics\nDisallow: /shopping/ratings/merchant/immersivedetails\nDisallow: /shopping/reviewer\nDisallow: /about/careers/applications/\nDisallow: /landing/signout.html\nDisallow: /webmasters/sitemaps/ping?\nDisallow: /ping?\nDisallow: /gallery/\nDisallow: /landing/now/ontap/\nAllow: /searchhistory/\nAllow: /maps/reserve\nAllow: /maps/reserve/partners\nDisallow: /maps/reserve/api/\nDisallow: /maps/reserve/search\nDisallow: /maps/reserve/bookings\nDisallow: /maps/reserve/settings\nDisallow: /maps/reserve/manage\nDisallow: /maps/reserve/payment\nDisallow: /maps/reserve/receipt\nDisallow: /maps/reserve/sellersignup\nDisallow: /maps/reserve/payments\nDisallow: /maps/reserve/feedback\nDisallow: /maps/reserve/terms\nDisallow: /maps/reserve/m/\nDisallow: /maps/reserve/b/\nDisallow: /maps/reserve/partner-dashboard\nDisallow: /about/views/\nDisallow: /intl/*/about/views/\nDisallow: /local/dining/\nDisallow: /local/place/products/\nDisallow: /local/place/reviews/\nDisallow: /local/place/rap/\nDisallow: /local/tab/\nDisallow: /localservices/*\nAllow: /finance\nAllow: /js/\nDisallow: /nonprofits/account/\n\n# AdsBot\nUser-agent: AdsBot-Google\nDisallow: /maps/api/js/\nAllow: /maps/api/js\nDisallow: /maps/api/place/js/\nDisallow: /maps/api/staticmap\nDisallow: /maps/api/streetview\n\n# Certain social media sites are whitelisted to allow crawlers to access page markup when links to google.com/imgres* are shared. To learn more, please contact images-robots-whitelist@google.com.\nUser-agent: Twitterbot\nAllow: /imgres\n\nUser-agent: facebookexternalhit\nAllow: /imgres\n\nSitemap: https://www.google.com/sitemap.xml\n\n"
     ]
    }
   ],
   "source": [
    "import requests\n",
    "\n",
    "url = 'https://www.google.com/robots.txt'\n",
    " \n",
    "user_agent = 'user-agent: Mozilla/5.0 (Windows NT 10.0; Win64; x64) AppleWebKit/537.36 (KHTML, like Gecko) Chrome/81.0.4044.92 Safari/537.36'\n",
    "\n",
    "headers={'User-Agent':user_agent}\n",
    "\n",
    "r = requests.get(url, headers=headers)\n",
    "\n",
    "print(r.text)"
   ]
  },
  {
   "cell_type": "markdown",
   "metadata": {},
   "source": [
    "**Using r.text**\n",
    "\n",
    "Requests makes educated guesses about the encoding of the response based on the HTTP headers.\n",
    "\n",
    "The text encoding guessed by Requests is used when you access r.text. \n",
    "\n",
    "You can find out what encoding Requests is using, and change it, using the r.encoding property:\n"
   ]
  }
 ],
 "metadata": {
  "kernelspec": {
   "name": "python388jvsc74a57bd06dd4a680cfc926e4dc1aa6f371a302086ee2206a19d0617edc124d4d29d78632",
   "display_name": "Python 3.8.8 64-bit ('python-dscourse': conda)"
  },
  "language_info": {
   "codemirror_mode": {
    "name": "ipython",
    "version": 3
   },
   "file_extension": ".py",
   "mimetype": "text/x-python",
   "name": "python",
   "nbconvert_exporter": "python",
   "pygments_lexer": "ipython3",
   "version": "3.8.8"
  }
 },
 "nbformat": 4,
 "nbformat_minor": 4
}