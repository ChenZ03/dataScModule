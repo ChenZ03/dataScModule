{
 "cells": [
  {
   "cell_type": "markdown",
   "metadata": {},
   "source": [
    "# Poisson Distribution\n",
    "\n",
    "A Poisson Distribution gives the probability of an event happening based on an average occurrence of that event over a period of time or a large volume.\n",
    "\n",
    "<img src=\"https://upload.wikimedia.org/wikipedia/commons/thumb/1/16/Poisson_pmf.svg/1920px-Poisson_pmf.svg.png\" width=400>\n",
    "\n",
    "The formula for a poisson distribution is:\n",
    "\n",
    "$$P(X;λ)=\\frac{e^{−λ}λ^X}{X!}$$\n",
    "\n",
    "- **lambda** is the mean occurrence of that event.\n",
    "- **$e$** is a constant = 2.7183."
   ]
  },
  {
   "cell_type": "code",
   "execution_count": 5,
   "metadata": {},
   "outputs": [],
   "source": [
    "from scipy.stats import poisson as poi\n",
    "from scipy.stats import binom as bi\n",
    "import numpy as np\n",
    "import matplotlib.pyplot as plt\n",
    "import pandas as pd"
   ]
  },
  {
   "cell_type": "markdown",
   "metadata": {},
   "source": [
    "## Question 1\n",
    "\n",
    "Suppose a baseball player has a p=.300 batting average. What is the probability of:\n",
    "\n",
    "- P(X<=150) hits in n=500 at bats\n",
    "- P(X=150)\n",
    "- P(X>150)"
   ]
  },
  {
   "cell_type": "code",
   "execution_count": 4,
   "metadata": {},
   "outputs": [
    {
     "name": "stdout",
     "output_type": "stream",
     "text": [
      "0.5216971797074769\n",
      "0.03255540945683085\n",
      "0.47830282029252313\n"
     ]
    }
   ],
   "source": [
    "u = 500 *0.3\n",
    "#- P(X<=150) hits in n=500 at bats\n",
    "print(poi.cdf(150,u))\n",
    "#- P(X=150)\n",
    "print(poi.pmf(150,u))\n",
    "# - P(X>150)\n",
    "print(poi.sf(150,u))"
   ]
  },
  {
   "cell_type": "markdown",
   "metadata": {},
   "source": [
    "## Question 2\n",
    "\n",
    "What is the probability of making 2 to 4 sales in a week if the average sales rate is 3 per week?"
   ]
  },
  {
   "cell_type": "code",
   "execution_count": 5,
   "metadata": {},
   "outputs": [
    {
     "data": {
      "text/plain": [
       "0.4480836153107755"
      ]
     },
     "execution_count": 5,
     "metadata": {},
     "output_type": "execute_result"
    }
   ],
   "source": [
    "sum(poi.pmf(np.arange(2,4),3))"
   ]
  },
  {
   "cell_type": "markdown",
   "metadata": {},
   "source": [
    "## Question 3\n",
    "\n",
    "Patients arrive at hospital accident and emergency department at random at a rate of 6 per hour\n",
    "\n",
    "Find the probability that during any 90 minute period, the number of patients arriving at the hopistal accident and emergency department is:\n",
    "\n",
    "- exactly 7\n",
    "- at least 10"
   ]
  },
  {
   "cell_type": "code",
   "execution_count": 6,
   "metadata": {},
   "outputs": [
    {
     "name": "stdout",
     "output_type": "stream",
     "text": [
      "0.1171161244529091\n",
      "0.2940116796594882\n"
     ]
    }
   ],
   "source": [
    "# 6 per hour -> 9 per 90 mins\n",
    "# - exactly 7\n",
    "print(poi.pmf(7,9))\n",
    "# - at least 10\n",
    "print(poi.sf(10,9))"
   ]
  },
  {
   "cell_type": "markdown",
   "metadata": {},
   "source": [
    "## Question 4\n",
    "\n",
    "What is the distribution of successes from a sample of n = 50 when the probability of success is p = 0.03 for both binomial and poisson distributions. Plot the barplot to visualize."
   ]
  },
  {
   "cell_type": "code",
   "execution_count": 11,
   "metadata": {},
   "outputs": [
    {
     "data": {
      "text/plain": [
       "<AxesSubplot:title={'center':'Poisson and Binomial Distribution'}, xlabel='Event(x)', ylabel='Density'>"
      ]
     },
     "execution_count": 11,
     "metadata": {},
     "output_type": "execute_result"
    },
    {
     "data": {
      "image/png": "[encoded data removed]",
      "text/plain": [
       "<Figure size 432x288 with 1 Axes>"
      ]
     },
     "metadata": {
      "needs_background": "light"
     },
     "output_type": "display_data"
    }
   ],
   "source": [
    "b = []\n",
    "p = []\n",
    "u = 50*0.03\n",
    "for i in range(10):\n",
    "    b.append(bi.pmf(i,50,0.03))\n",
    "    p.append(poi.pmf(i,u))\n",
    "\n",
    "data = {\"Binomial\" : b, \"Poisson\" : p}\n",
    "df = pd.DataFrame(data)\n",
    "df.index += 1\n",
    "df.plot(kind='bar', xlabel='Event(x)', ylabel='Density', title='Poisson and Binomial Distribution')"
   ]
  },
  {
   "cell_type": "markdown",
   "metadata": {},
   "source": [
    "## Question 5\n",
    "\n",
    "Suppose the probability that a drug produces a certain side effect is p = 0.1% and n = 1,000 patients in a clinical trial receive the drug. What is the probability 0 people experience the side effect?"
   ]
  },
  {
   "cell_type": "code",
   "execution_count": 13,
   "metadata": {},
   "outputs": [
    {
     "data": {
      "text/plain": [
       "4.5399929762484854e-05"
      ]
     },
     "execution_count": 13,
     "metadata": {},
     "output_type": "execute_result"
    }
   ],
   "source": [
    "n = 1000\n",
    "p = 0.01\n",
    "u = n*p\n",
    "poi.pmf(0,u)"
   ]
  },
  {
   "cell_type": "markdown",
   "metadata": {},
   "source": [
    "## Question 6\n",
    "\n",
    "If there are twelve cars crossing a bridge per minute on average, find the probability of having eighteen or more cars crossing the bridge in a particular minute."
   ]
  },
  {
   "cell_type": "code",
   "execution_count": 14,
   "metadata": {},
   "outputs": [
    {
     "data": {
      "text/plain": [
       "0.037416489663391915"
      ]
     },
     "execution_count": 14,
     "metadata": {},
     "output_type": "execute_result"
    }
   ],
   "source": [
    "poi.sf(18,12)"
   ]
  },
  {
   "cell_type": "markdown",
   "metadata": {},
   "source": [
    "## Question 7\n",
    "\n",
    "If a bird flies overhead at an average rate of 1 every 4 hours, what is the probability that at least one bird will fly overhead in the next hour?"
   ]
  },
  {
   "cell_type": "code",
   "execution_count": 15,
   "metadata": {},
   "outputs": [
    {
     "data": {
      "text/plain": [
       "0.026499021160743912"
      ]
     },
     "execution_count": 15,
     "metadata": {},
     "output_type": "execute_result"
    }
   ],
   "source": [
    "u = 0.25\n",
    "poi.sf(1,u)"
   ]
  },
  {
   "cell_type": "markdown",
   "metadata": {},
   "source": [
    "\n",
    "\n",
    "## Question 8\n",
    "\n",
    "A New York Times article in 2012 found that on average 24 horses die on US racetracks each week and from 2009 to 2012 and the US logged 5.2 incidents per 1,000 starts. Calculate the probability of getting 30 or more fatalities in one week."
   ]
  },
  {
   "cell_type": "code",
   "execution_count": 16,
   "metadata": {},
   "outputs": [
    {
     "data": {
      "text/plain": [
       "0.09584840177948464"
      ]
     },
     "execution_count": 16,
     "metadata": {},
     "output_type": "execute_result"
    }
   ],
   "source": [
    "poi.sf(30,24)"
   ]
  },
  {
   "cell_type": "markdown",
   "metadata": {},
   "source": [
    "## Question 9\n",
    "\n",
    "Continuing from Question 8, calculate the probability that between 0 and 40 horses will die in a week. Plot a scatter plot to visualize it."
   ]
  },
  {
   "cell_type": "code",
   "execution_count": 17,
   "metadata": {},
   "outputs": [
    {
     "data": {
      "text/plain": [
       "<matplotlib.collections.PathCollection at 0x20c65016a30>"
      ]
     },
     "execution_count": 17,
     "metadata": {},
     "output_type": "execute_result"
    },
    {
     "data": {
      "image/png": "[encoded data removed]",
      "text/plain": [
       "<Figure size 432x288 with 1 Axes>"
      ]
     },
     "metadata": {
      "needs_background": "light"
     },
     "output_type": "display_data"
    }
   ],
   "source": [
    "n = [n for n in range(40)]\n",
    "d = []\n",
    "for i in range(40):\n",
    "    d.append(poi.pmf(i,24))\n",
    "\n",
    "fig, axes = plt.subplots()\n",
    "axes.scatter(n, d)"
   ]
  },
  {
   "cell_type": "markdown",
   "metadata": {},
   "source": [
    "## Question 10\n",
    "\n",
    "Based on probability of that 30 or more horses will die in one week, calculate the total number of times in a year that 30 or more horses will die in a year."
   ]
  },
  {
   "cell_type": "code",
   "execution_count": 18,
   "metadata": {},
   "outputs": [
    {
     "data": {
      "text/plain": [
       "4.984116892533201"
      ]
     },
     "execution_count": 18,
     "metadata": {},
     "output_type": "execute_result"
    }
   ],
   "source": [
    "poi.sf(30,24) * 52"
   ]
  }
 ],
 "metadata": {
  "kernelspec": {
   "display_name": "Python 3",
   "language": "python",
   "name": "python3"
  },
  "language_info": {
   "codemirror_mode": {
    "name": "ipython",
    "version": 3
   },
   "file_extension": ".py",
   "mimetype": "text/x-python",
   "name": "python",
   "nbconvert_exporter": "python",
   "pygments_lexer": "ipython3",
   "version": "3.8.5"
  }
 },
 "nbformat": 4,
 "nbformat_minor": 4
}
