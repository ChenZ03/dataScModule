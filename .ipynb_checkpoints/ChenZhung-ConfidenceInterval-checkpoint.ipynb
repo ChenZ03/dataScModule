{
 "cells": [
  {
   "cell_type": "code",
   "execution_count": 7,
   "id": "8cee8021",
   "metadata": {},
   "outputs": [],
   "source": [
    "from scipy.stats import t\n",
    "from scipy.stats import norm\n",
    "import numpy as np\n",
    "import math"
   ]
  },
  {
   "cell_type": "code",
   "execution_count": 2,
   "id": "d86b39b8",
   "metadata": {},
   "outputs": [
    {
     "data": {
      "text/plain": [
       "1.6448536269514722"
      ]
     },
     "execution_count": 2,
     "metadata": {},
     "output_type": "execute_result"
    }
   ],
   "source": [
    "norm.ppf(0.95)"
   ]
  },
  {
   "cell_type": "code",
   "execution_count": 3,
   "id": "82972d8a",
   "metadata": {},
   "outputs": [
    {
     "data": {
      "text/plain": [
       "array([4.35119975, 4.88880025])"
      ]
     },
     "execution_count": 3,
     "metadata": {},
     "output_type": "execute_result"
    }
   ],
   "source": [
    "4.62+np.array([-1,+1])*norm.ppf(0.975)*0.92/np.sqrt(45)"
   ]
  },
  {
   "cell_type": "markdown",
   "id": "301e332b",
   "metadata": {},
   "source": [
    "EXAMPLE 3\n"
   ]
  },
  {
   "cell_type": "code",
   "execution_count": 4,
   "id": "24583685",
   "metadata": {},
   "outputs": [
    {
     "data": {
      "text/plain": [
       "array([-0.02936908,  0.02936908])"
      ]
     },
     "execution_count": 4,
     "metadata": {},
     "output_type": "execute_result"
    }
   ],
   "source": [
    "p=540/659\n",
    "np.array([-1,+1])*norm.ppf(0.975)*np.sqrt(p*(1-p)/659)"
   ]
  },
  {
   "cell_type": "markdown",
   "id": "37f12d55",
   "metadata": {},
   "source": [
    "LAST EXAMPLE\n"
   ]
  },
  {
   "cell_type": "code",
   "execution_count": 8,
   "id": "ecd44fa6",
   "metadata": {},
   "outputs": [
    {
     "data": {
      "text/plain": [
       "array([-0.01036051,  1.81036051])"
      ]
     },
     "execution_count": 8,
     "metadata": {},
     "output_type": "execute_result"
    }
   ],
   "source": [
    "sp = ((12-1)*(1.2**2) + (15-1)*(1.5**2)) / (12+15-2)\n",
    "CI = (13.8-12.9) + np.array([-1,+1]) * t.ppf(0.95,25)*math.sqrt(sp)*math.sqrt(1/12 + 1/15)\n",
    "CI"
   ]
  }
 ],
 "metadata": {
  "kernelspec": {
   "display_name": "Python 3",
   "language": "python",
   "name": "python3"
  },
  "language_info": {
   "codemirror_mode": {
    "name": "ipython",
    "version": 3
   },
   "file_extension": ".py",
   "mimetype": "text/x-python",
   "name": "python",
   "nbconvert_exporter": "python",
   "pygments_lexer": "ipython3",
   "version": "3.8.8"
  }
 },
 "nbformat": 4,
 "nbformat_minor": 5
}
