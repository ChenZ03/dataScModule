{
 "cells": [
  {
   "cell_type": "markdown",
   "metadata": {
    "colab_type": "text",
    "id": "9wuMj5US3swp"
   },
   "source": [
    "# Module P10 - Sample Data Analysis and Exploration"
   ]
  },
  {
   "cell_type": "markdown",
   "metadata": {
    "colab_type": "text",
    "id": "WirzYoCi3sws"
   },
   "source": [
    "In this module, you will try your hand at performing some data analysis on some data. Before that, you should also try to prepare the data as well as you can by doing some data cleaning and preparation. And finally, your analysis can be better captured in the form of some data visualizations.\n",
    "\n",
    "First, let's import all the necessary packages."
   ]
  },
  {
   "cell_type": "code",
   "execution_count": 1,
   "metadata": {
    "colab": {},
    "colab_type": "code",
    "id": "QIyF6Wj_3swu"
   },
   "outputs": [],
   "source": [
    "import numpy as np\n",
    "import pandas as pd\n",
    "import matplotlib\n",
    "import matplotlib.pyplot as plt\n",
    "\n",
    "# This line configures matplotlib to show figures embedded in the Jupyter notebook, \n",
    "# instead of opening a new window for each figure.\n",
    "%matplotlib inline"
   ]
  },
  {
   "cell_type": "markdown",
   "metadata": {
    "colab_type": "text",
    "id": "oRvTEFTq3sw0"
   },
   "source": [
    "The data that we are going to use contains some sample sales data, and it is taken from [Kaggle](https://www.kaggle.com/kyanyoga/sample-sales-data). It's not a very big dataset, having only ~2,800 rows of data."
   ]
  },
  {
   "cell_type": "code",
   "execution_count": 3,
   "metadata": {
    "colab": {},
    "colab_type": "code",
    "id": "Cdo3KS7e3sw4",
    "scrolled": true
   },
   "outputs": [
    {
     "data": {
      "text/html": [
       "<div>\n",
       "<style scoped>\n",
       "    .dataframe tbody tr th:only-of-type {\n",
       "        vertical-align: middle;\n",
       "    }\n",
       "\n",
       "    .dataframe tbody tr th {\n",
       "        vertical-align: top;\n",
       "    }\n",
       "\n",
       "    .dataframe thead th {\n",
       "        text-align: right;\n",
       "    }\n",
       "</style>\n",
       "<table border=\"1\" class=\"dataframe\">\n",
       "  <thead>\n",
       "    <tr style=\"text-align: right;\">\n",
       "      <th></th>\n",
       "      <th>ORDERNUMBER</th>\n",
       "      <th>QUANTITYORDERED</th>\n",
       "      <th>PRICEEACH</th>\n",
       "      <th>ORDERLINENUMBER</th>\n",
       "      <th>SALES</th>\n",
       "      <th>ORDERDATE</th>\n",
       "      <th>STATUS</th>\n",
       "      <th>QTR_ID</th>\n",
       "      <th>MONTH_ID</th>\n",
       "      <th>YEAR_ID</th>\n",
       "      <th>...</th>\n",
       "      <th>ADDRESSLINE1</th>\n",
       "      <th>ADDRESSLINE2</th>\n",
       "      <th>CITY</th>\n",
       "      <th>STATE</th>\n",
       "      <th>POSTALCODE</th>\n",
       "      <th>COUNTRY</th>\n",
       "      <th>TERRITORY</th>\n",
       "      <th>CONTACTLASTNAME</th>\n",
       "      <th>CONTACTFIRSTNAME</th>\n",
       "      <th>DEALSIZE</th>\n",
       "    </tr>\n",
       "  </thead>\n",
       "  <tbody>\n",
       "    <tr>\n",
       "      <th>0</th>\n",
       "      <td>10107</td>\n",
       "      <td>30</td>\n",
       "      <td>95.70</td>\n",
       "      <td>2</td>\n",
       "      <td>2871.00</td>\n",
       "      <td>2/24/2003 0:00</td>\n",
       "      <td>Shipped</td>\n",
       "      <td>1</td>\n",
       "      <td>2</td>\n",
       "      <td>2003</td>\n",
       "      <td>...</td>\n",
       "      <td>897 Long Airport Avenue</td>\n",
       "      <td>NaN</td>\n",
       "      <td>NYC</td>\n",
       "      <td>NY</td>\n",
       "      <td>10022</td>\n",
       "      <td>USA</td>\n",
       "      <td>NaN</td>\n",
       "      <td>Yu</td>\n",
       "      <td>Kwai</td>\n",
       "      <td>Small</td>\n",
       "    </tr>\n",
       "    <tr>\n",
       "      <th>1</th>\n",
       "      <td>10121</td>\n",
       "      <td>34</td>\n",
       "      <td>81.35</td>\n",
       "      <td>5</td>\n",
       "      <td>2765.90</td>\n",
       "      <td>5/7/2003 0:00</td>\n",
       "      <td>Shipped</td>\n",
       "      <td>2</td>\n",
       "      <td>5</td>\n",
       "      <td>2003</td>\n",
       "      <td>...</td>\n",
       "      <td>59 rue de l'Abbaye</td>\n",
       "      <td>NaN</td>\n",
       "      <td>Reims</td>\n",
       "      <td>NaN</td>\n",
       "      <td>51100</td>\n",
       "      <td>France</td>\n",
       "      <td>EMEA</td>\n",
       "      <td>Henriot</td>\n",
       "      <td>Paul</td>\n",
       "      <td>Small</td>\n",
       "    </tr>\n",
       "    <tr>\n",
       "      <th>2</th>\n",
       "      <td>10134</td>\n",
       "      <td>41</td>\n",
       "      <td>94.74</td>\n",
       "      <td>2</td>\n",
       "      <td>3884.34</td>\n",
       "      <td>7/1/2003 0:00</td>\n",
       "      <td>Shipped</td>\n",
       "      <td>3</td>\n",
       "      <td>7</td>\n",
       "      <td>2003</td>\n",
       "      <td>...</td>\n",
       "      <td>27 rue du Colonel Pierre Avia</td>\n",
       "      <td>NaN</td>\n",
       "      <td>Paris</td>\n",
       "      <td>NaN</td>\n",
       "      <td>75508</td>\n",
       "      <td>France</td>\n",
       "      <td>EMEA</td>\n",
       "      <td>Da Cunha</td>\n",
       "      <td>Daniel</td>\n",
       "      <td>Medium</td>\n",
       "    </tr>\n",
       "    <tr>\n",
       "      <th>3</th>\n",
       "      <td>10145</td>\n",
       "      <td>45</td>\n",
       "      <td>83.26</td>\n",
       "      <td>6</td>\n",
       "      <td>3746.70</td>\n",
       "      <td>8/25/2003 0:00</td>\n",
       "      <td>Shipped</td>\n",
       "      <td>3</td>\n",
       "      <td>8</td>\n",
       "      <td>2003</td>\n",
       "      <td>...</td>\n",
       "      <td>78934 Hillside Dr.</td>\n",
       "      <td>NaN</td>\n",
       "      <td>Pasadena</td>\n",
       "      <td>CA</td>\n",
       "      <td>90003</td>\n",
       "      <td>USA</td>\n",
       "      <td>NaN</td>\n",
       "      <td>Young</td>\n",
       "      <td>Julie</td>\n",
       "      <td>Medium</td>\n",
       "    </tr>\n",
       "    <tr>\n",
       "      <th>4</th>\n",
       "      <td>10159</td>\n",
       "      <td>49</td>\n",
       "      <td>100.00</td>\n",
       "      <td>14</td>\n",
       "      <td>5205.27</td>\n",
       "      <td>10/10/2003 0:00</td>\n",
       "      <td>Shipped</td>\n",
       "      <td>4</td>\n",
       "      <td>10</td>\n",
       "      <td>2003</td>\n",
       "      <td>...</td>\n",
       "      <td>7734 Strong St.</td>\n",
       "      <td>NaN</td>\n",
       "      <td>San Francisco</td>\n",
       "      <td>CA</td>\n",
       "      <td>NaN</td>\n",
       "      <td>USA</td>\n",
       "      <td>NaN</td>\n",
       "      <td>Brown</td>\n",
       "      <td>Julie</td>\n",
       "      <td>Medium</td>\n",
       "    </tr>\n",
       "    <tr>\n",
       "      <th>5</th>\n",
       "      <td>10168</td>\n",
       "      <td>36</td>\n",
       "      <td>96.66</td>\n",
       "      <td>1</td>\n",
       "      <td>3479.76</td>\n",
       "      <td>10/28/2003 0:00</td>\n",
       "      <td>Shipped</td>\n",
       "      <td>4</td>\n",
       "      <td>10</td>\n",
       "      <td>2003</td>\n",
       "      <td>...</td>\n",
       "      <td>9408 Furth Circle</td>\n",
       "      <td>NaN</td>\n",
       "      <td>Burlingame</td>\n",
       "      <td>CA</td>\n",
       "      <td>94217</td>\n",
       "      <td>USA</td>\n",
       "      <td>NaN</td>\n",
       "      <td>Hirano</td>\n",
       "      <td>Juri</td>\n",
       "      <td>Medium</td>\n",
       "    </tr>\n",
       "    <tr>\n",
       "      <th>6</th>\n",
       "      <td>10180</td>\n",
       "      <td>29</td>\n",
       "      <td>86.13</td>\n",
       "      <td>9</td>\n",
       "      <td>2497.77</td>\n",
       "      <td>11/11/2003 0:00</td>\n",
       "      <td>Shipped</td>\n",
       "      <td>4</td>\n",
       "      <td>11</td>\n",
       "      <td>2003</td>\n",
       "      <td>...</td>\n",
       "      <td>184, chausse de Tournai</td>\n",
       "      <td>NaN</td>\n",
       "      <td>Lille</td>\n",
       "      <td>NaN</td>\n",
       "      <td>59000</td>\n",
       "      <td>France</td>\n",
       "      <td>EMEA</td>\n",
       "      <td>Rance</td>\n",
       "      <td>Martine</td>\n",
       "      <td>Small</td>\n",
       "    </tr>\n",
       "    <tr>\n",
       "      <th>7</th>\n",
       "      <td>10188</td>\n",
       "      <td>48</td>\n",
       "      <td>100.00</td>\n",
       "      <td>1</td>\n",
       "      <td>5512.32</td>\n",
       "      <td>11/18/2003 0:00</td>\n",
       "      <td>Shipped</td>\n",
       "      <td>4</td>\n",
       "      <td>11</td>\n",
       "      <td>2003</td>\n",
       "      <td>...</td>\n",
       "      <td>Drammen 121, PR 744 Sentrum</td>\n",
       "      <td>NaN</td>\n",
       "      <td>Bergen</td>\n",
       "      <td>NaN</td>\n",
       "      <td>N 5804</td>\n",
       "      <td>Norway</td>\n",
       "      <td>EMEA</td>\n",
       "      <td>Oeztan</td>\n",
       "      <td>Veysel</td>\n",
       "      <td>Medium</td>\n",
       "    </tr>\n",
       "    <tr>\n",
       "      <th>8</th>\n",
       "      <td>10201</td>\n",
       "      <td>22</td>\n",
       "      <td>98.57</td>\n",
       "      <td>2</td>\n",
       "      <td>2168.54</td>\n",
       "      <td>12/1/2003 0:00</td>\n",
       "      <td>Shipped</td>\n",
       "      <td>4</td>\n",
       "      <td>12</td>\n",
       "      <td>2003</td>\n",
       "      <td>...</td>\n",
       "      <td>5557 North Pendale Street</td>\n",
       "      <td>NaN</td>\n",
       "      <td>San Francisco</td>\n",
       "      <td>CA</td>\n",
       "      <td>NaN</td>\n",
       "      <td>USA</td>\n",
       "      <td>NaN</td>\n",
       "      <td>Murphy</td>\n",
       "      <td>Julie</td>\n",
       "      <td>Small</td>\n",
       "    </tr>\n",
       "    <tr>\n",
       "      <th>9</th>\n",
       "      <td>10211</td>\n",
       "      <td>41</td>\n",
       "      <td>100.00</td>\n",
       "      <td>14</td>\n",
       "      <td>4708.44</td>\n",
       "      <td>1/15/2004 0:00</td>\n",
       "      <td>Shipped</td>\n",
       "      <td>1</td>\n",
       "      <td>1</td>\n",
       "      <td>2004</td>\n",
       "      <td>...</td>\n",
       "      <td>25, rue Lauriston</td>\n",
       "      <td>NaN</td>\n",
       "      <td>Paris</td>\n",
       "      <td>NaN</td>\n",
       "      <td>75016</td>\n",
       "      <td>France</td>\n",
       "      <td>EMEA</td>\n",
       "      <td>Perrier</td>\n",
       "      <td>Dominique</td>\n",
       "      <td>Medium</td>\n",
       "    </tr>\n",
       "  </tbody>\n",
       "</table>\n",
       "<p>10 rows × 25 columns</p>\n",
       "</div>"
      ],
      "text/plain": [
       "   ORDERNUMBER  QUANTITYORDERED  PRICEEACH  ORDERLINENUMBER    SALES  \\\n",
       "0        10107               30      95.70                2  2871.00   \n",
       "1        10121               34      81.35                5  2765.90   \n",
       "2        10134               41      94.74                2  3884.34   \n",
       "3        10145               45      83.26                6  3746.70   \n",
       "4        10159               49     100.00               14  5205.27   \n",
       "5        10168               36      96.66                1  3479.76   \n",
       "6        10180               29      86.13                9  2497.77   \n",
       "7        10188               48     100.00                1  5512.32   \n",
       "8        10201               22      98.57                2  2168.54   \n",
       "9        10211               41     100.00               14  4708.44   \n",
       "\n",
       "         ORDERDATE   STATUS  QTR_ID  MONTH_ID  YEAR_ID  ...  \\\n",
       "0   2/24/2003 0:00  Shipped       1         2     2003  ...   \n",
       "1    5/7/2003 0:00  Shipped       2         5     2003  ...   \n",
       "2    7/1/2003 0:00  Shipped       3         7     2003  ...   \n",
       "3   8/25/2003 0:00  Shipped       3         8     2003  ...   \n",
       "4  10/10/2003 0:00  Shipped       4        10     2003  ...   \n",
       "5  10/28/2003 0:00  Shipped       4        10     2003  ...   \n",
       "6  11/11/2003 0:00  Shipped       4        11     2003  ...   \n",
       "7  11/18/2003 0:00  Shipped       4        11     2003  ...   \n",
       "8   12/1/2003 0:00  Shipped       4        12     2003  ...   \n",
       "9   1/15/2004 0:00  Shipped       1         1     2004  ...   \n",
       "\n",
       "                    ADDRESSLINE1  ADDRESSLINE2           CITY STATE  \\\n",
       "0        897 Long Airport Avenue           NaN            NYC    NY   \n",
       "1             59 rue de l'Abbaye           NaN          Reims   NaN   \n",
       "2  27 rue du Colonel Pierre Avia           NaN          Paris   NaN   \n",
       "3             78934 Hillside Dr.           NaN       Pasadena    CA   \n",
       "4                7734 Strong St.           NaN  San Francisco    CA   \n",
       "5              9408 Furth Circle           NaN     Burlingame    CA   \n",
       "6        184, chausse de Tournai           NaN          Lille   NaN   \n",
       "7    Drammen 121, PR 744 Sentrum           NaN         Bergen   NaN   \n",
       "8      5557 North Pendale Street           NaN  San Francisco    CA   \n",
       "9              25, rue Lauriston           NaN          Paris   NaN   \n",
       "\n",
       "  POSTALCODE COUNTRY TERRITORY CONTACTLASTNAME CONTACTFIRSTNAME DEALSIZE  \n",
       "0      10022     USA       NaN              Yu             Kwai    Small  \n",
       "1      51100  France      EMEA         Henriot             Paul    Small  \n",
       "2      75508  France      EMEA        Da Cunha           Daniel   Medium  \n",
       "3      90003     USA       NaN           Young            Julie   Medium  \n",
       "4        NaN     USA       NaN           Brown            Julie   Medium  \n",
       "5      94217     USA       NaN          Hirano             Juri   Medium  \n",
       "6      59000  France      EMEA           Rance          Martine    Small  \n",
       "7     N 5804  Norway      EMEA          Oeztan           Veysel   Medium  \n",
       "8        NaN     USA       NaN          Murphy            Julie    Small  \n",
       "9      75016  France      EMEA         Perrier        Dominique   Medium  \n",
       "\n",
       "[10 rows x 25 columns]"
      ]
     },
     "execution_count": 3,
     "metadata": {},
     "output_type": "execute_result"
    }
   ],
   "source": [
    "df = pd.read_csv(\"sales_data_sample.csv\", encoding='windows-1252')\n",
    "df.head(10)"
   ]
  },
  {
   "cell_type": "code",
   "execution_count": 4,
   "metadata": {
    "colab": {},
    "colab_type": "code",
    "id": "jY9Nuh1t3sxA"
   },
   "outputs": [
    {
     "name": "stdout",
     "output_type": "stream",
     "text": [
      "<class 'pandas.core.frame.DataFrame'>\n",
      "RangeIndex: 2823 entries, 0 to 2822\n",
      "Data columns (total 25 columns):\n",
      " #   Column            Non-Null Count  Dtype  \n",
      "---  ------            --------------  -----  \n",
      " 0   ORDERNUMBER       2823 non-null   int64  \n",
      " 1   QUANTITYORDERED   2823 non-null   int64  \n",
      " 2   PRICEEACH         2823 non-null   float64\n",
      " 3   ORDERLINENUMBER   2823 non-null   int64  \n",
      " 4   SALES             2823 non-null   float64\n",
      " 5   ORDERDATE         2823 non-null   object \n",
      " 6   STATUS            2823 non-null   object \n",
      " 7   QTR_ID            2823 non-null   int64  \n",
      " 8   MONTH_ID          2823 non-null   int64  \n",
      " 9   YEAR_ID           2823 non-null   int64  \n",
      " 10  PRODUCTLINE       2823 non-null   object \n",
      " 11  MSRP              2823 non-null   int64  \n",
      " 12  PRODUCTCODE       2823 non-null   object \n",
      " 13  CUSTOMERNAME      2823 non-null   object \n",
      " 14  PHONE             2823 non-null   object \n",
      " 15  ADDRESSLINE1      2823 non-null   object \n",
      " 16  ADDRESSLINE2      302 non-null    object \n",
      " 17  CITY              2823 non-null   object \n",
      " 18  STATE             1337 non-null   object \n",
      " 19  POSTALCODE        2747 non-null   object \n",
      " 20  COUNTRY           2823 non-null   object \n",
      " 21  TERRITORY         1749 non-null   object \n",
      " 22  CONTACTLASTNAME   2823 non-null   object \n",
      " 23  CONTACTFIRSTNAME  2823 non-null   object \n",
      " 24  DEALSIZE          2823 non-null   object \n",
      "dtypes: float64(2), int64(7), object(16)\n",
      "memory usage: 551.5+ KB\n"
     ]
    }
   ],
   "source": [
    "df.info()"
   ]
  },
  {
   "cell_type": "markdown",
   "metadata": {
    "colab_type": "text",
    "id": "e9G5LuhX3sxL"
   },
   "source": [
    "Here are some questions that you would be interested to uncover when you perform an exploratory data analysis (or 'EDA' in short) on some sample data. \n",
    "\n",
    "1. Identify **where** customers are coming from.\n",
    "\n",
    "2. Find out their **yearly retail performance** (in terms of total revenue).\n",
    "\n",
    "3. What **product categories** are the most and least popular?\n",
    "\n",
    "4. Who are their **most valuable customers** (basically we define this as those who purchased the most from them) ?\n",
    "\n",
    "Feel free to refine these questions in more detailed (if you wish), or define other interesting questions that you want to find out from this data.\n",
    "\n",
    "There are some interesting \"catches\" to consider as well. For example, the 'Status' for most entries are mostly \"Shipped\", but there are other statuses, i.e. \"In Process\", \"Disputed\", \"Cancelled\", etc. It is up to you to define which of these entries (based on their statuses) that should be considered in your analysis and which should be left out.\n",
    "\n",
    "\n",
    "*Note: You can do your prototyping here (and transfer relevant lines of code to your source file later), or directly work on the source file using Spyder.*"
   ]
  },
  {
   "cell_type": "code",
   "execution_count": 8,
   "metadata": {
    "colab": {},
    "colab_type": "code",
    "id": "yrCB6lU83sxM"
   },
   "outputs": [
    {
     "data": {
      "text/plain": [
       "array(['Shipped', 'Resolved'], dtype=object)"
      ]
     },
     "execution_count": 8,
     "metadata": {},
     "output_type": "execute_result"
    }
   ],
   "source": [
    "#Cleaning\n",
    "df[df['STATUS']!= 'Shipped']\n",
    "df['STATUS'].unique()\n",
    "df.drop(df[(df['STATUS']!='Shipped') & (df['STATUS']!= 'Resolved')].index,inplace=True)\n",
    "df[\"STATUS\"].unique()"
   ]
  },
  {
   "cell_type": "code",
   "execution_count": 9,
   "metadata": {},
   "outputs": [
    {
     "name": "stdout",
     "output_type": "stream",
     "text": [
      "<class 'pandas.core.frame.DataFrame'>\n",
      "Int64Index: 2664 entries, 0 to 2821\n",
      "Data columns (total 25 columns):\n",
      " #   Column            Non-Null Count  Dtype  \n",
      "---  ------            --------------  -----  \n",
      " 0   ORDERNUMBER       2664 non-null   int64  \n",
      " 1   QUANTITYORDERED   2664 non-null   int64  \n",
      " 2   PRICEEACH         2664 non-null   float64\n",
      " 3   ORDERLINENUMBER   2664 non-null   int64  \n",
      " 4   SALES             2664 non-null   float64\n",
      " 5   ORDERDATE         2664 non-null   object \n",
      " 6   STATUS            2664 non-null   object \n",
      " 7   QTR_ID            2664 non-null   int64  \n",
      " 8   MONTH_ID          2664 non-null   int64  \n",
      " 9   YEAR_ID           2664 non-null   int64  \n",
      " 10  PRODUCTLINE       2664 non-null   object \n",
      " 11  MSRP              2664 non-null   int64  \n",
      " 12  PRODUCTCODE       2664 non-null   object \n",
      " 13  CUSTOMERNAME      2664 non-null   object \n",
      " 14  PHONE             2664 non-null   object \n",
      " 15  ADDRESSLINE1      2664 non-null   object \n",
      " 16  ADDRESSLINE2      289 non-null    object \n",
      " 17  CITY              2664 non-null   object \n",
      " 18  STATE             1263 non-null   object \n",
      " 19  POSTALCODE        2588 non-null   object \n",
      " 20  COUNTRY           2664 non-null   object \n",
      " 21  TERRITORY         1646 non-null   object \n",
      " 22  CONTACTLASTNAME   2664 non-null   object \n",
      " 23  CONTACTFIRSTNAME  2664 non-null   object \n",
      " 24  DEALSIZE          2664 non-null   object \n",
      "dtypes: float64(2), int64(7), object(16)\n",
      "memory usage: 541.1+ KB\n",
      "<class 'pandas.core.frame.DataFrame'>\n",
      "Int64Index: 2664 entries, 0 to 2821\n",
      "Data columns (total 20 columns):\n",
      " #   Column            Non-Null Count  Dtype         \n",
      "---  ------            --------------  -----         \n",
      " 0   ORDERNUMBER       2664 non-null   int64         \n",
      " 1   QUANTITYORDERED   2664 non-null   int64         \n",
      " 2   PRICEEACH         2664 non-null   float64       \n",
      " 3   ORDERLINENUMBER   2664 non-null   int64         \n",
      " 4   SALES             2664 non-null   float64       \n",
      " 5   ORDERDATE         2664 non-null   datetime64[ns]\n",
      " 6   STATUS            2664 non-null   object        \n",
      " 7   QTR_ID            2664 non-null   int64         \n",
      " 8   MONTH_ID          2664 non-null   int64         \n",
      " 9   YEAR_ID           2664 non-null   int64         \n",
      " 10  PRODUCTLINE       2664 non-null   object        \n",
      " 11  MSRP              2664 non-null   int64         \n",
      " 12  PRODUCTCODE       2664 non-null   object        \n",
      " 13  CUSTOMERNAME      2664 non-null   object        \n",
      " 14  CITY              2664 non-null   object        \n",
      " 15  COUNTRY           2664 non-null   object        \n",
      " 16  TERRITORY         1646 non-null   object        \n",
      " 17  CONTACTLASTNAME   2664 non-null   object        \n",
      " 18  CONTACTFIRSTNAME  2664 non-null   object        \n",
      " 19  DEALSIZE          2664 non-null   object        \n",
      "dtypes: datetime64[ns](1), float64(2), int64(7), object(10)\n",
      "memory usage: 437.1+ KB\n"
     ]
    }
   ],
   "source": [
    "df.info()\n",
    "df['ORDERDATE'] = pd.to_datetime(df['ORDERDATE'])\n",
    "to_drop = ['PHONE', 'ADDRESSLINE1', 'ADDRESSLINE2', 'STATE', 'POSTALCODE']\n",
    "df = df.drop(to_drop,axis=1)\n",
    "df.info()"
   ]
  },
  {
   "cell_type": "code",
   "execution_count": 10,
   "metadata": {},
   "outputs": [
    {
     "data": {
      "text/plain": [
       "ORDERNUMBER            0\n",
       "QUANTITYORDERED        0\n",
       "PRICEEACH              0\n",
       "ORDERLINENUMBER        0\n",
       "SALES                  0\n",
       "ORDERDATE              0\n",
       "STATUS                 0\n",
       "QTR_ID                 0\n",
       "MONTH_ID               0\n",
       "YEAR_ID                0\n",
       "PRODUCTLINE            0\n",
       "MSRP                   0\n",
       "PRODUCTCODE            0\n",
       "CUSTOMERNAME           0\n",
       "CITY                   0\n",
       "COUNTRY                0\n",
       "TERRITORY           1018\n",
       "CONTACTLASTNAME        0\n",
       "CONTACTFIRSTNAME       0\n",
       "DEALSIZE               0\n",
       "dtype: int64"
      ]
     },
     "execution_count": 10,
     "metadata": {},
     "output_type": "execute_result"
    }
   ],
   "source": [
    "df.isnull().sum()"
   ]
  },
  {
   "cell_type": "code",
   "execution_count": 13,
   "metadata": {},
   "outputs": [
    {
     "data": {
      "text/plain": [
       "Shipped     2617\n",
       "Resolved      47\n",
       "Name: STATUS, dtype: int64"
      ]
     },
     "execution_count": 13,
     "metadata": {},
     "output_type": "execute_result"
    }
   ],
   "source": [
    "df[\"STATUS\"].value_counts()"
   ]
  },
  {
   "cell_type": "code",
   "execution_count": 15,
   "metadata": {
    "scrolled": true
   },
   "outputs": [
    {
     "data": {
      "text/plain": [
       "USA            35\n",
       "France         12\n",
       "Spain           5\n",
       "UK              5\n",
       "Australia       5\n",
       "Finland         3\n",
       "Italy           3\n",
       "Canada          3\n",
       "Norway          3\n",
       "Germany         3\n",
       "Austria         2\n",
       "Singapore       2\n",
       "Denmark         2\n",
       "Belgium         2\n",
       "Sweden          2\n",
       "Japan           2\n",
       "Ireland         1\n",
       "Switzerland     1\n",
       "Philippines     1\n",
       "Name: COUNTRY, dtype: int64"
      ]
     },
     "execution_count": 15,
     "metadata": {},
     "output_type": "execute_result"
    }
   ],
   "source": [
    "filtered_data = df[[\"COUNTRY\",\"CUSTOMERNAME\"]].drop_duplicates()\n",
    "filtered = filtered_data['COUNTRY'].value_counts()\n",
    "filtered"
   ]
  },
  {
   "cell_type": "code",
   "execution_count": 22,
   "metadata": {},
   "outputs": [
    {
     "data": {
      "image/png": "[encoded data removed]",
      "text/plain": [
       "<Figure size 432x288 with 1 Axes>"
      ]
     },
     "metadata": {
      "needs_background": "light"
     },
     "output_type": "display_data"
    }
   ],
   "source": [
    "plt.figure()\n",
    "filtered.head(5).plot.barh()\n",
    "plt.ylabel('Country')\n",
    "plt.xlabel('Count')\n",
    "plt.title('Not including returning customer')\n",
    "plt.show()"
   ]
  },
  {
   "cell_type": "code",
   "execution_count": 26,
   "metadata": {},
   "outputs": [
    {
     "data": {
      "image/png": "[encoded data removed]",
      "text/plain": [
       "<Figure size 432x288 with 1 Axes>"
      ]
     },
     "metadata": {
      "needs_background": "light"
     },
     "output_type": "display_data"
    }
   ],
   "source": [
    "plt.figure\n",
    "ori = df['COUNTRY'].value_counts()\n",
    "ori.head(5).plot.barh()\n",
    "plt.ylabel('Country')\n",
    "plt.xlabel('Count')\n",
    "plt.title('Including returning customer')\n",
    "plt.show()"
   ]
  },
  {
   "cell_type": "code",
   "execution_count": 19,
   "metadata": {},
   "outputs": [
    {
     "name": "stdout",
     "output_type": "stream",
     "text": [
      "YEAR_ID  MONTH_ID\n",
      "2003     1            129753.60\n",
      "         2            140836.19\n",
      "         3            174504.90\n",
      "         4            201609.55\n",
      "         5            192673.11\n",
      "         6            168082.56\n",
      "         7            187731.88\n",
      "         8            197809.30\n",
      "         9            263973.36\n",
      "         10           519580.05\n",
      "         11          1029837.66\n",
      "         12           261876.46\n",
      "2004     1            316577.42\n",
      "         2            311419.53\n",
      "         3            205733.73\n",
      "         4            206148.12\n",
      "         5            228080.73\n",
      "         6            186255.32\n",
      "         7            327144.09\n",
      "         8            461501.27\n",
      "         9            320750.91\n",
      "         10           552924.25\n",
      "         11          1062787.80\n",
      "         12           372802.66\n",
      "2005     1            339543.42\n",
      "         2            358186.18\n",
      "         3            374262.76\n",
      "         4            131218.33\n",
      "         5            218614.22\n",
      "Name: SALES, dtype: float64\n",
      "YEAR_ID\n",
      "2003    3468268.62\n",
      "2004    4552125.83\n",
      "2005    1421824.91\n",
      "Name: SALES, dtype: float64\n"
     ]
    }
   ],
   "source": [
    "print(df.groupby(['YEAR_ID', 'MONTH_ID'])['SALES'].sum())\n",
    "print(df.groupby(['YEAR_ID'])['SALES'].sum())"
   ]
  },
  {
   "cell_type": "code",
   "execution_count": 21,
   "metadata": {},
   "outputs": [
    {
     "name": "stdout",
     "output_type": "stream",
     "text": [
      "COMPARING BY YEAR BUT 2005 HAS INCOMPLETE DATA FOR THE YEAR\n"
     ]
    },
    {
     "data": {
      "image/png": "[encoded data removed]",
      "text/plain": [
       "<Figure size 432x288 with 1 Axes>"
      ]
     },
     "metadata": {
      "needs_background": "light"
     },
     "output_type": "display_data"
    }
   ],
   "source": [
    "print('COMPARING BY YEAR BUT 2005 HAS INCOMPLETE DATA FOR THE YEAR')\n",
    "fig, ax = plt.subplots()\n",
    "sales_df = df.groupby(['YEAR_ID'])['SALES'].sum()\n",
    "ax = sales_df.plot.bar()\n",
    "ax.ticklabel_format(useOffset=False,style='plain',axis='y')\n",
    "plt.show()"
   ]
  },
  {
   "cell_type": "code",
   "execution_count": 23,
   "metadata": {},
   "outputs": [
    {
     "name": "stdout",
     "output_type": "stream",
     "text": [
      "COMPARING BY MONTH FOR EACH YEAR\n"
     ]
    },
    {
     "data": {
      "image/png": "[encoded data removed]",
      "text/plain": [
       "<Figure size 432x288 with 1 Axes>"
      ]
     },
     "metadata": {
      "needs_background": "light"
     },
     "output_type": "display_data"
    }
   ],
   "source": [
    "print(\"COMPARING BY MONTH FOR EACH YEAR\")\n",
    "fig,ax = plt.subplots()\n",
    "sales_df = df.groupby(['MONTH_ID', 'YEAR_ID'])['SALES'].sum()\n",
    "ax = sales_df.plot.bar()\n",
    "ax.ticklabel_format(useOffset=False,style='plain',axis='y')\n",
    "plt.show()"
   ]
  },
  {
   "cell_type": "code",
   "execution_count": 27,
   "metadata": {},
   "outputs": [
    {
     "data": {
      "text/plain": [
       "Classic Cars        922\n",
       "Vintage Cars        567\n",
       "Motorcycles         324\n",
       "Trucks and Buses    286\n",
       "Planes              283\n",
       "Ships               207\n",
       "Trains               75\n",
       "Name: PRODUCTLINE, dtype: int64"
      ]
     },
     "execution_count": 27,
     "metadata": {},
     "output_type": "execute_result"
    }
   ],
   "source": [
    "df['PRODUCTLINE'].value_counts()"
   ]
  },
  {
   "cell_type": "code",
   "execution_count": 30,
   "metadata": {},
   "outputs": [
    {
     "data": {
      "image/png": "[encoded data removed]",
      "text/plain": [
       "<Figure size 432x288 with 1 Axes>"
      ]
     },
     "metadata": {
      "needs_background": "light"
     },
     "output_type": "display_data"
    },
    {
     "name": "stdout",
     "output_type": "stream",
     "text": [
      "MOST POPULAR PRODUCT :  Classic Cars    922\n",
      "Name: PRODUCTLINE, dtype: int64\n",
      "LEAST POPULAR PRODUCT :  Trains    75\n",
      "Name: PRODUCTLINE, dtype: int64\n"
     ]
    }
   ],
   "source": [
    "plt.figure()\n",
    "CountStatus = pd.value_counts(df['PRODUCTLINE'].values,sort=True)\n",
    "CountStatus.plot.barh()\n",
    "plt.xlabel('Number of Orders')\n",
    "plt.ylabel('Product')\n",
    "plt.title('Product category Popularity')\n",
    "plt.show()\n",
    "\n",
    "print('MOST POPULAR PRODUCT : ', df['PRODUCTLINE'].value_counts().head(1) )\n",
    "print('LEAST POPULAR PRODUCT : ', df['PRODUCTLINE'].value_counts().tail(1))"
   ]
  },
  {
   "cell_type": "code",
   "execution_count": 31,
   "metadata": {},
   "outputs": [
    {
     "data": {
      "image/png": "[encoded data removed]",
      "text/plain": [
       "<Figure size 432x288 with 1 Axes>"
      ]
     },
     "metadata": {
      "needs_background": "light"
     },
     "output_type": "display_data"
    }
   ],
   "source": [
    "df[df['CUSTOMERNAME']=='Euro Shopping Channel']['SALES'].sum()\n",
    "df.groupby(['CUSTOMERNAME'])['SALES'].sum()\n",
    "\n",
    "fig, ax = plt.subplots()\n",
    "sales_df = df.groupby(['CUSTOMERNAME'])['SALES'].sum()\n",
    "sales_df = sales_df.sort_values(ascending=True).tail(5)\n",
    "ax = sales_df.plot.barh()\n",
    "ax.set_ylabel('Customer')\n",
    "ax.set_xlabel('Revenue earned')\n",
    "ax.set_title('Most Valuable Customer')\n",
    "ax.ticklabel_format(useOffset=False,style='plain',axis='x')\n",
    "plt.tight_layout()\n",
    "plt.show()"
   ]
  }
 ],
 "metadata": {
  "colab": {
   "name": "P09 - Sample Data Analysis and Exploration.ipynb",
   "provenance": []
  },
  "kernelspec": {
   "display_name": "Python 3",
   "language": "python",
   "name": "python3"
  },
  "language_info": {
   "codemirror_mode": {
    "name": "ipython",
    "version": 3
   },
   "file_extension": ".py",
   "mimetype": "text/x-python",
   "name": "python",
   "nbconvert_exporter": "python",
   "pygments_lexer": "ipython3",
   "version": "3.8.8"
  }
 },
 "nbformat": 4,
 "nbformat_minor": 1
}
