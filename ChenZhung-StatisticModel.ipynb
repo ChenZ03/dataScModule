{
 "cells": [
  {
   "cell_type": "code",
   "execution_count": 3,
   "id": "1f17207d",
   "metadata": {},
   "outputs": [],
   "source": [
    "from scipy.stats import norm"
   ]
  },
  {
   "cell_type": "markdown",
   "id": "15140788",
   "metadata": {},
   "source": [
    "**Q1** Greater than 0.5%\n"
   ]
  },
  {
   "cell_type": "code",
   "execution_count": 9,
   "id": "8451de42",
   "metadata": {},
   "outputs": [
    {
     "name": "stdout",
     "output_type": "stream",
     "text": [
      "0.4160704771189542\n"
     ]
    }
   ],
   "source": [
    "print(1-norm.cdf(0.5,0.11,1.84))\n",
    "#print(norm.sf(0.5,0.11,1.84))"
   ]
  },
  {
   "cell_type": "markdown",
   "id": "4d108f2c",
   "metadata": {},
   "source": [
    "**Q2** loss greater than 2%"
   ]
  },
  {
   "cell_type": "code",
   "execution_count": 14,
   "id": "2db0baab",
   "metadata": {},
   "outputs": [
    {
     "name": "stdout",
     "output_type": "stream",
     "text": [
      "0.1257447264513341\n"
     ]
    }
   ],
   "source": [
    "print(norm.cdf(-2,0.11,1.84))\n"
   ]
  },
  {
   "cell_type": "markdown",
   "id": "a9f26113",
   "metadata": {},
   "source": [
    "**Q3** return between 0% and 1%"
   ]
  },
  {
   "cell_type": "code",
   "execution_count": 4,
   "id": "6c7d473b",
   "metadata": {
    "scrolled": true
   },
   "outputs": [
    {
     "name": "stdout",
     "output_type": "stream",
     "text": [
      "0.2095346718285067\n"
     ]
    }
   ],
   "source": [
    "print(norm.cdf(1,0.11,1.84) - norm.cdf(0,0.11,1.84))"
   ]
  },
  {
   "cell_type": "markdown",
   "id": "389a6e2c",
   "metadata": {},
   "source": [
    "**Q4** return OR loss greater than 3%"
   ]
  },
  {
   "cell_type": "code",
   "execution_count": 7,
   "id": "96cac802",
   "metadata": {},
   "outputs": [
    {
     "name": "stdout",
     "output_type": "stream",
     "text": [
      "0.10362491813629537\n"
     ]
    }
   ],
   "source": [
    "print(norm.sf(3,0.11,1.84)+norm.cdf(-3,0.11,1.84))"
   ]
  },
  {
   "cell_type": "markdown",
   "id": "2a214c99",
   "metadata": {},
   "source": [
    "With a normal random variable with mean 22 and variance 25, find put \n",
    "the following probabilities:\n",
    "• Lies between 16.2 and 27.5\n",
    "• Is greater than 29\n",
    "• Is less than 17\n",
    "• Is less than 15 or greater than 25"
   ]
  },
  {
   "cell_type": "code",
   "execution_count": 18,
   "id": "33679a0b",
   "metadata": {},
   "outputs": [
    {
     "name": "stdout",
     "output_type": "stream",
     "text": [
      "0.7413095360022739\n"
     ]
    }
   ],
   "source": [
    "#Lies between 16.2 and 27.5\n",
    "print(norm.cdf(27.5,22,5)-norm.cdf(16.2,22,5))"
   ]
  },
  {
   "cell_type": "code",
   "execution_count": 19,
   "id": "575e3ba0",
   "metadata": {},
   "outputs": [
    {
     "name": "stdout",
     "output_type": "stream",
     "text": [
      "0.08075665923377107\n"
     ]
    }
   ],
   "source": [
    "#Is greater than 29\n",
    "print(norm.sf(29,22,5))"
   ]
  },
  {
   "cell_type": "code",
   "execution_count": 20,
   "id": "2bff7946",
   "metadata": {},
   "outputs": [
    {
     "name": "stdout",
     "output_type": "stream",
     "text": [
      "0.15865525393145707\n"
     ]
    }
   ],
   "source": [
    "#Is less than 17\n",
    "print(norm.cdf(17,22,5))"
   ]
  },
  {
   "cell_type": "code",
   "execution_count": 21,
   "id": "3409cd9a",
   "metadata": {},
   "outputs": [
    {
     "name": "stdout",
     "output_type": "stream",
     "text": [
      "0.35500977698384467\n"
     ]
    }
   ],
   "source": [
    "#Is less than 15 or greater than 25\n",
    "print(norm.cdf(15,22,5)+norm.sf(25,22,5))"
   ]
  },
  {
   "cell_type": "markdown",
   "id": "c6544081",
   "metadata": {},
   "source": [
    "Assume that the test scores of a college entrance exam fits a normal \n",
    "distribution. Furthermore, the mean test score is 72, and the standard \n",
    "deviation is 15.2 What is the percentage of students scoring 84 or more \n",
    "in the exam"
   ]
  },
  {
   "cell_type": "code",
   "execution_count": 5,
   "id": "397886a5",
   "metadata": {},
   "outputs": [
    {
     "name": "stdout",
     "output_type": "stream",
     "text": [
      "23.41363639172479%\n"
     ]
    }
   ],
   "source": [
    "a = norm.sf(84,72,15.2)+norm.pdf(84,72,15.2)\n",
    "print(str(a*100) + \"%\")"
   ]
  }
 ],
 "metadata": {
  "kernelspec": {
   "display_name": "Python 3",
   "language": "python",
   "name": "python3"
  },
  "language_info": {
   "codemirror_mode": {
    "name": "ipython",
    "version": 3
   },
   "file_extension": ".py",
   "mimetype": "text/x-python",
   "name": "python",
   "nbconvert_exporter": "python",
   "pygments_lexer": "ipython3",
   "version": "3.8.8"
  }
 },
 "nbformat": 4,
 "nbformat_minor": 5
}
